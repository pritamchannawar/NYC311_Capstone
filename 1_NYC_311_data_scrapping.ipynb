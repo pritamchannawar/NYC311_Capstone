{
 "cells": [
  {
   "cell_type": "markdown",
   "id": "08508c27-ea83-4eba-af32-a5bcaed42a9d",
   "metadata": {
    "tags": []
   },
   "source": [
    "# Introduction"
   ]
  },
  {
   "cell_type": "markdown",
   "id": "82a89674-b42e-49a4-a09b-f7019f59691e",
   "metadata": {},
   "source": [
    "The objective of this project is to investigate recent trends in NYC 311 call data and develop a neural network capable of categorizing the responding agency for each call. By gaining insights into the content, timing, frequency, and geographical distribution of 311 call issues, government agencies and local policymakers can better address the needs of NYC residents. This project aims to enhance this understanding through exploratory data analysis and visualizations of public 311 data. Additionally, the modeling phase, which focuses on agency classification, aims to demonstrate the feasibility of a tool that can seamlessly connect residents with the right government services."
   ]
  },
  {
   "cell_type": "markdown",
   "id": "8a8b9fa3-5fb2-41e6-8f84-61c63ed4a4d2",
   "metadata": {
    "tags": []
   },
   "source": [
    "# Data Sources"
   ]
  },
  {
   "cell_type": "markdown",
   "id": "4deaeb47-c53e-4087-81e3-5a00fde3c9d5",
   "metadata": {},
   "source": [
    "The data used in this project was obtained from these sources:\n",
    "\n",
    "NYC Open Data's 311 Service Requests from 2010 to Present: \n",
    "This dataset contains information about the time, location, complaint type, and status of more than 24 million 311 service requests made in New York City within the past decade. This project uses a subset of the data from 2020 that was accessed with the Socrata Open Data (SODA) API. (https://data.cityofnewyork.us/Social-Services/311-Service-Requests-from-2010-to-Present/erm2-nwe9)"
   ]
  },
  {
   "cell_type": "markdown",
   "id": "6a795dda-6904-4a68-9049-cd064f9eaa43",
   "metadata": {
    "tags": []
   },
   "source": [
    "# Obtaining the 311 Data"
   ]
  },
  {
   "cell_type": "markdown",
   "id": "ffa63c5e-184d-4365-85c4-2d7e488a629f",
   "metadata": {},
   "source": [
    "The API Documentation for this dataset contains further information about how to obtain filtered versions of the data. Below, we simply request the 1500000 most recent 311 calls. The line client.timeout = 1000 prevents the Socrata connection from timing out after its default setting of 10 seconds."
   ]
  },
  {
   "cell_type": "code",
   "execution_count": 1,
   "id": "e89879b0-8984-48e4-b45d-1988a4c32677",
   "metadata": {
    "tags": []
   },
   "outputs": [
    {
     "name": "stderr",
     "output_type": "stream",
     "text": [
      "WARNING:root:Requests made without an app_token will be subject to strict throttling limits.\n"
     ]
    }
   ],
   "source": [
    "import pandas as pd\n",
    "from sodapy import Socrata\n",
    "\n",
    "client = Socrata(\"data.cityofnewyork.us\", None)\n",
    "client.timeout = 1000\n",
    "results = client.get(\"erm2-nwe9\", limit=1500000)\n",
    "\n",
    "# Convert to pandas DataFrame\n",
    "df = pd.DataFrame.from_records(results)"
   ]
  },
  {
   "cell_type": "markdown",
   "id": "e020a371-ef5d-4b55-abff-64d2a06cfc87",
   "metadata": {
    "tags": []
   },
   "source": [
    "# Preprocessing Data"
   ]
  },
  {
   "cell_type": "markdown",
   "id": "d788737e-c6c9-4a68-95fa-cd343ec1ffa0",
   "metadata": {
    "tags": []
   },
   "source": [
    "## Dealing with Missing and Superfluous Data\n",
    "Let's check the column data types and identify columns with missing values."
   ]
  },
  {
   "cell_type": "code",
   "execution_count": 2,
   "id": "3569ec05-0595-482c-ac9a-094c7b2734da",
   "metadata": {},
   "outputs": [
    {
     "data": {
      "text/plain": [
       "(1500000, 47)"
      ]
     },
     "execution_count": 2,
     "metadata": {},
     "output_type": "execute_result"
    }
   ],
   "source": [
    "df.shape"
   ]
  },
  {
   "cell_type": "code",
   "execution_count": 3,
   "id": "8a0b9a7e-7635-4748-87c6-3e8f34cd2078",
   "metadata": {
    "tags": []
   },
   "outputs": [
    {
     "name": "stdout",
     "output_type": "stream",
     "text": [
      "<class 'pandas.core.frame.DataFrame'>\n",
      "RangeIndex: 1500000 entries, 0 to 1499999\n",
      "Data columns (total 47 columns):\n",
      " #   Column                          Non-Null Count    Dtype \n",
      "---  ------                          --------------    ----- \n",
      " 0   unique_key                      1500000 non-null  object\n",
      " 1   created_date                    1500000 non-null  object\n",
      " 2   agency                          1500000 non-null  object\n",
      " 3   agency_name                     1500000 non-null  object\n",
      " 4   complaint_type                  1500000 non-null  object\n",
      " 5   descriptor                      1477839 non-null  object\n",
      " 6   location_type                   1328443 non-null  object\n",
      " 7   incident_zip                    1479825 non-null  object\n",
      " 8   incident_address                1445100 non-null  object\n",
      " 9   street_name                     1445066 non-null  object\n",
      " 10  cross_street_1                  1071059 non-null  object\n",
      " 11  cross_street_2                  1071512 non-null  object\n",
      " 12  address_type                    1491366 non-null  object\n",
      " 13  city                            1419422 non-null  object\n",
      " 14  status                          1500000 non-null  object\n",
      " 15  resolution_description          1432427 non-null  object\n",
      " 16  resolution_action_updated_date  1451054 non-null  object\n",
      " 17  community_board                 1500000 non-null  object\n",
      " 18  bbl                             1325854 non-null  object\n",
      " 19  borough                         1500000 non-null  object\n",
      " 20  x_coordinate_state_plane        1479337 non-null  object\n",
      " 21  y_coordinate_state_plane        1479893 non-null  object\n",
      " 22  open_data_channel_type          1500000 non-null  object\n",
      " 23  park_facility_name              1500000 non-null  object\n",
      " 24  park_borough                    1500000 non-null  object\n",
      " 25  latitude                        1479275 non-null  object\n",
      " 26  longitude                       1479275 non-null  object\n",
      " 27  location                        1479275 non-null  object\n",
      " 28  :@computed_region_efsh_h5xi     1473959 non-null  object\n",
      " 29  :@computed_region_f5dn_yrer     1478986 non-null  object\n",
      " 30  :@computed_region_yeji_bk3q     1478983 non-null  object\n",
      " 31  :@computed_region_92fq_4b7q     1478986 non-null  object\n",
      " 32  :@computed_region_sbqj_enih     1478986 non-null  object\n",
      " 33  :@computed_region_7mpf_4k6g     1478992 non-null  object\n",
      " 34  facility_type                   92811 non-null    object\n",
      " 35  intersection_street_1           1008783 non-null  object\n",
      " 36  intersection_street_2           1009565 non-null  object\n",
      " 37  landmark                        903013 non-null   object\n",
      " 38  vehicle_type                    11644 non-null    object\n",
      " 39  bridge_highway_name             12285 non-null    object\n",
      " 40  road_ramp                       3213 non-null     object\n",
      " 41  bridge_highway_segment          12288 non-null    object\n",
      " 42  closed_date                     1353722 non-null  object\n",
      " 43  bridge_highway_direction        6248 non-null     object\n",
      " 44  taxi_pick_up_location           16047 non-null    object\n",
      " 45  due_date                        7557 non-null     object\n",
      " 46  taxi_company_borough            830 non-null      object\n",
      "dtypes: object(47)\n",
      "memory usage: 537.9+ MB\n"
     ]
    }
   ],
   "source": [
    "#check columns and it's datatypes\n",
    "df.info()"
   ]
  },
  {
   "cell_type": "code",
   "execution_count": 4,
   "id": "75ad2d34-bc65-4986-805b-1f4073beb404",
   "metadata": {
    "tags": []
   },
   "outputs": [
    {
     "data": {
      "text/plain": [
       "unique_key                              0\n",
       "created_date                            0\n",
       "agency                                  0\n",
       "agency_name                             0\n",
       "complaint_type                          0\n",
       "descriptor                          22161\n",
       "location_type                      171557\n",
       "incident_zip                        20175\n",
       "incident_address                    54900\n",
       "street_name                         54934\n",
       "cross_street_1                     428941\n",
       "cross_street_2                     428488\n",
       "address_type                         8634\n",
       "city                                80578\n",
       "status                                  0\n",
       "resolution_description              67573\n",
       "resolution_action_updated_date      48946\n",
       "community_board                         0\n",
       "bbl                                174146\n",
       "borough                                 0\n",
       "x_coordinate_state_plane            20663\n",
       "y_coordinate_state_plane            20107\n",
       "open_data_channel_type                  0\n",
       "park_facility_name                      0\n",
       "park_borough                            0\n",
       "latitude                            20725\n",
       "longitude                           20725\n",
       "location                            20725\n",
       ":@computed_region_efsh_h5xi         26041\n",
       ":@computed_region_f5dn_yrer         21014\n",
       ":@computed_region_yeji_bk3q         21017\n",
       ":@computed_region_92fq_4b7q         21014\n",
       ":@computed_region_sbqj_enih         21014\n",
       ":@computed_region_7mpf_4k6g         21008\n",
       "facility_type                     1407189\n",
       "intersection_street_1              491217\n",
       "intersection_street_2              490435\n",
       "landmark                           596987\n",
       "vehicle_type                      1488356\n",
       "bridge_highway_name               1487715\n",
       "road_ramp                         1496787\n",
       "bridge_highway_segment            1487712\n",
       "closed_date                        146278\n",
       "bridge_highway_direction          1493752\n",
       "taxi_pick_up_location             1483953\n",
       "due_date                          1492443\n",
       "taxi_company_borough              1499170\n",
       "dtype: int64"
      ]
     },
     "execution_count": 4,
     "metadata": {},
     "output_type": "execute_result"
    }
   ],
   "source": [
    "#check for null values\n",
    "df.isnull().sum()"
   ]
  },
  {
   "cell_type": "code",
   "execution_count": 5,
   "id": "62b88e1a-2015-485e-b269-040c4cd54a74",
   "metadata": {
    "tags": []
   },
   "outputs": [],
   "source": [
    "#eliminate rows without lat/long and location type data\n",
    "df = df[df.latitude.notnull()]\n",
    "df = df[df.longitude.notnull()]\n",
    "df = df[df.descriptor.notnull()]"
   ]
  },
  {
   "cell_type": "code",
   "execution_count": 6,
   "id": "6ce795b7-de84-4d0d-a7fc-3626539033b2",
   "metadata": {
    "tags": []
   },
   "outputs": [],
   "source": [
    "#Including only necessary columns\n",
    "df = df[['unique_key','created_date', 'complaint_type', 'agency', 'community_board', \n",
    "         'latitude', 'longitude', 'descriptor', 'closed_date','city','borough',\n",
    "         'incident_zip','incident_address' ,'status','street_name','address_type','resolution_description']]"
   ]
  },
  {
   "cell_type": "markdown",
   "id": "aee4ea88-fbfe-4a86-8cdd-5d12b9ed8173",
   "metadata": {
    "tags": []
   },
   "source": [
    "### Descriptions of Remaining Columns\n",
    "The descriptions for every column are available on the dataset's NYCOpenData profile. The descriptions for the columns included in this analysis have been pasted below.\n",
    "* Unique Key: Unique identifier of a Service Request (SR) in the open data set\n",
    "* Created Date: Date service request(SR) was created\n",
    "* Complaint Type: This is the first level of a hierarchy identifying the topic of the incident or condition. Complaint Type may have a corresponding Descriptor (below) or may stand alone.\n",
    "* Agency: Acronym of responding City Government Agency\n",
    "* Community Board: Provided by geovalidation.\n",
    "* Latitude: Geo based Lat of the incident location\n",
    "* Longitude: eo based Long of the incident location\n",
    "* Descriptor: This is associated to the Complaint Type, and provides further detail on the incident or condition. Descriptor values are dependent on the Complaint Type, and are not always required in SR.\n",
    "* Borough: Provided by the submitter and confirmed by geovalidation.\n",
    "* Closed Date: Date SR was closed by responding agency\n",
    "* City: City of the incident location provided by geovalidation.\n",
    "* Incident Zip: Incident location zip code, provided by geo validation.\n",
    "* Incident Address: House number of incident address provided by submitter.\n",
    "* Status: Status of SR submitted\n",
    "* Street Name: Street name of incident address provided by the submitter\n",
    "* Address Type: Type of incident location information available.\n",
    "* Resolution Description: Describes the last action taken on the SR by the responding agency. May describe next or future steps."
   ]
  },
  {
   "cell_type": "code",
   "execution_count": 7,
   "id": "a2e99c95-e315-4427-b36b-f0b3dfd48e7d",
   "metadata": {
    "tags": []
   },
   "outputs": [],
   "source": [
    "#convert date column to datetime \n",
    "df['created_date'] = pd.to_datetime(df['created_date'], \n",
    "                                    format='%Y-%m-%dT%H:%M:%S.%f')"
   ]
  },
  {
   "cell_type": "code",
   "execution_count": 8,
   "id": "71980fb3-b24a-43e0-a6f4-2b4c37124bdd",
   "metadata": {
    "tags": []
   },
   "outputs": [],
   "source": [
    "#convert date column to datetime \n",
    "df['closed_date'] = pd.to_datetime(df['closed_date'], \n",
    "                                    format='%Y-%m-%dT%H:%M:%S.%f')"
   ]
  },
  {
   "cell_type": "markdown",
   "id": "7fbb0504-13ae-477e-8b50-2a1ac424c3b2",
   "metadata": {},
   "source": [
    "Using the datetime format, we can now create new columns with the day, month, day of week, and hour of each call. This will allow us to explore the independent relationship of each variable to other characteristics of the calls."
   ]
  },
  {
   "cell_type": "code",
   "execution_count": 9,
   "id": "589b0963-b583-47db-bf1d-e440e00ac9af",
   "metadata": {
    "tags": []
   },
   "outputs": [],
   "source": [
    "df['day'] = [str(i.date()) for i in df.created_date]\n",
    "df['month'] = [int(i.month) for i in df.created_date]\n",
    "df['day_of_week'] = [int(i.weekday()) for i in df.created_date]\n",
    "df['hour'] = [int(i.hour) for i in df.created_date]\n",
    "df['year'] = [int(i.year) for i in df.created_date]"
   ]
  },
  {
   "cell_type": "code",
   "execution_count": 10,
   "id": "5fcb3179-bc7c-4b12-bcaa-f1c4dd331489",
   "metadata": {
    "tags": []
   },
   "outputs": [
    {
     "data": {
      "text/plain": [
       "Index(['unique_key', 'created_date', 'complaint_type', 'agency',\n",
       "       'community_board', 'latitude', 'longitude', 'descriptor', 'closed_date',\n",
       "       'city', 'borough', 'incident_zip', 'incident_address', 'status',\n",
       "       'street_name', 'address_type', 'resolution_description', 'day', 'month',\n",
       "       'day_of_week', 'hour', 'year'],\n",
       "      dtype='object')"
      ]
     },
     "execution_count": 10,
     "metadata": {},
     "output_type": "execute_result"
    }
   ],
   "source": [
    "df.columns"
   ]
  },
  {
   "cell_type": "code",
   "execution_count": 11,
   "id": "1fb13dd0-b953-4ab9-9782-2eab06500969",
   "metadata": {
    "tags": []
   },
   "outputs": [
    {
     "data": {
      "text/html": [
       "<div>\n",
       "<style scoped>\n",
       "    .dataframe tbody tr th:only-of-type {\n",
       "        vertical-align: middle;\n",
       "    }\n",
       "\n",
       "    .dataframe tbody tr th {\n",
       "        vertical-align: top;\n",
       "    }\n",
       "\n",
       "    .dataframe thead th {\n",
       "        text-align: right;\n",
       "    }\n",
       "</style>\n",
       "<table border=\"1\" class=\"dataframe\">\n",
       "  <thead>\n",
       "    <tr style=\"text-align: right;\">\n",
       "      <th></th>\n",
       "      <th>month</th>\n",
       "      <th>day_of_week</th>\n",
       "      <th>hour</th>\n",
       "      <th>year</th>\n",
       "    </tr>\n",
       "  </thead>\n",
       "  <tbody>\n",
       "    <tr>\n",
       "      <th>count</th>\n",
       "      <td>1.457258e+06</td>\n",
       "      <td>1.457258e+06</td>\n",
       "      <td>1.457258e+06</td>\n",
       "      <td>1457258.0</td>\n",
       "    </tr>\n",
       "    <tr>\n",
       "      <th>mean</th>\n",
       "      <td>9.402193e+00</td>\n",
       "      <td>2.859345e+00</td>\n",
       "      <td>1.307019e+01</td>\n",
       "      <td>2023.0</td>\n",
       "    </tr>\n",
       "    <tr>\n",
       "      <th>std</th>\n",
       "      <td>1.548507e+00</td>\n",
       "      <td>1.970384e+00</td>\n",
       "      <td>6.096539e+00</td>\n",
       "      <td>0.0</td>\n",
       "    </tr>\n",
       "    <tr>\n",
       "      <th>min</th>\n",
       "      <td>7.000000e+00</td>\n",
       "      <td>0.000000e+00</td>\n",
       "      <td>0.000000e+00</td>\n",
       "      <td>2023.0</td>\n",
       "    </tr>\n",
       "    <tr>\n",
       "      <th>25%</th>\n",
       "      <td>8.000000e+00</td>\n",
       "      <td>1.000000e+00</td>\n",
       "      <td>9.000000e+00</td>\n",
       "      <td>2023.0</td>\n",
       "    </tr>\n",
       "    <tr>\n",
       "      <th>50%</th>\n",
       "      <td>9.000000e+00</td>\n",
       "      <td>3.000000e+00</td>\n",
       "      <td>1.300000e+01</td>\n",
       "      <td>2023.0</td>\n",
       "    </tr>\n",
       "    <tr>\n",
       "      <th>75%</th>\n",
       "      <td>1.100000e+01</td>\n",
       "      <td>4.000000e+00</td>\n",
       "      <td>1.800000e+01</td>\n",
       "      <td>2023.0</td>\n",
       "    </tr>\n",
       "    <tr>\n",
       "      <th>max</th>\n",
       "      <td>1.200000e+01</td>\n",
       "      <td>6.000000e+00</td>\n",
       "      <td>2.300000e+01</td>\n",
       "      <td>2023.0</td>\n",
       "    </tr>\n",
       "  </tbody>\n",
       "</table>\n",
       "</div>"
      ],
      "text/plain": [
       "              month   day_of_week          hour       year\n",
       "count  1.457258e+06  1.457258e+06  1.457258e+06  1457258.0\n",
       "mean   9.402193e+00  2.859345e+00  1.307019e+01     2023.0\n",
       "std    1.548507e+00  1.970384e+00  6.096539e+00        0.0\n",
       "min    7.000000e+00  0.000000e+00  0.000000e+00     2023.0\n",
       "25%    8.000000e+00  1.000000e+00  9.000000e+00     2023.0\n",
       "50%    9.000000e+00  3.000000e+00  1.300000e+01     2023.0\n",
       "75%    1.100000e+01  4.000000e+00  1.800000e+01     2023.0\n",
       "max    1.200000e+01  6.000000e+00  2.300000e+01     2023.0"
      ]
     },
     "execution_count": 11,
     "metadata": {},
     "output_type": "execute_result"
    }
   ],
   "source": [
    "df.describe()"
   ]
  },
  {
   "cell_type": "code",
   "execution_count": 12,
   "id": "3bfb9966-7a7f-4d9d-9dd7-62388193fa37",
   "metadata": {
    "tags": []
   },
   "outputs": [],
   "source": [
    "#to Categorize the incident time of the day lets create a function \n",
    "time_slots = {\n",
    "    'Earlymorning': (0, 6),\n",
    "    'Morning': (7, 11),\n",
    "    'Afternoon': (12, 16),\n",
    "    'Evening': (17, 21),\n",
    "    'Night': (22, 23)\n",
    "}\n",
    "\n",
    "# Function to categorize timestamps into slots\n",
    "def categorize_timestamp(timestamp):\n",
    "    hour = timestamp.hour\n",
    "    for slot, (start_hour, end_hour) in time_slots.items():\n",
    "        if start_hour <= hour <= end_hour:\n",
    "            return slot\n",
    "    return 'unknown'  # If the timestamp doesn't fit into any slot\n"
   ]
  },
  {
   "cell_type": "code",
   "execution_count": 13,
   "id": "980e28d5-da45-4bf8-bd93-278e64bb5910",
   "metadata": {
    "tags": []
   },
   "outputs": [],
   "source": [
    "#apply categorize_timestamp on created date to get time_of_day\n",
    "df['time_of_day'] = df['created_date'].apply(categorize_timestamp)"
   ]
  },
  {
   "cell_type": "code",
   "execution_count": 14,
   "id": "8ccb12c8-eec7-4eda-a9f1-e4eb28a4b9ad",
   "metadata": {
    "tags": []
   },
   "outputs": [
    {
     "data": {
      "text/html": [
       "<div>\n",
       "<style scoped>\n",
       "    .dataframe tbody tr th:only-of-type {\n",
       "        vertical-align: middle;\n",
       "    }\n",
       "\n",
       "    .dataframe tbody tr th {\n",
       "        vertical-align: top;\n",
       "    }\n",
       "\n",
       "    .dataframe thead th {\n",
       "        text-align: right;\n",
       "    }\n",
       "</style>\n",
       "<table border=\"1\" class=\"dataframe\">\n",
       "  <thead>\n",
       "    <tr style=\"text-align: right;\">\n",
       "      <th></th>\n",
       "      <th>unique_key</th>\n",
       "      <th>created_date</th>\n",
       "      <th>complaint_type</th>\n",
       "      <th>agency</th>\n",
       "      <th>community_board</th>\n",
       "      <th>latitude</th>\n",
       "      <th>longitude</th>\n",
       "      <th>descriptor</th>\n",
       "      <th>closed_date</th>\n",
       "      <th>city</th>\n",
       "      <th>...</th>\n",
       "      <th>status</th>\n",
       "      <th>street_name</th>\n",
       "      <th>address_type</th>\n",
       "      <th>resolution_description</th>\n",
       "      <th>day</th>\n",
       "      <th>month</th>\n",
       "      <th>day_of_week</th>\n",
       "      <th>hour</th>\n",
       "      <th>year</th>\n",
       "      <th>time_of_day</th>\n",
       "    </tr>\n",
       "  </thead>\n",
       "  <tbody>\n",
       "    <tr>\n",
       "      <th>0</th>\n",
       "      <td>59753376</td>\n",
       "      <td>2023-12-16 12:00:00</td>\n",
       "      <td>Derelict Vehicles</td>\n",
       "      <td>DSNY</td>\n",
       "      <td>07 BRONX</td>\n",
       "      <td>40.87258237734268</td>\n",
       "      <td>-73.87671883675628</td>\n",
       "      <td>Derelict Vehicles</td>\n",
       "      <td>NaT</td>\n",
       "      <td>BRONX</td>\n",
       "      <td>...</td>\n",
       "      <td>Open</td>\n",
       "      <td>DECATUR AVENUE</td>\n",
       "      <td>ADDRESS</td>\n",
       "      <td>If the abandoned vehicle meets the criteria to...</td>\n",
       "      <td>2023-12-16</td>\n",
       "      <td>12</td>\n",
       "      <td>5</td>\n",
       "      <td>12</td>\n",
       "      <td>2023</td>\n",
       "      <td>Afternoon</td>\n",
       "    </tr>\n",
       "    <tr>\n",
       "      <th>1</th>\n",
       "      <td>59753375</td>\n",
       "      <td>2023-12-16 12:00:00</td>\n",
       "      <td>Derelict Vehicles</td>\n",
       "      <td>DSNY</td>\n",
       "      <td>10 BRONX</td>\n",
       "      <td>40.84077130162347</td>\n",
       "      <td>-73.85115751944943</td>\n",
       "      <td>Derelict Vehicles</td>\n",
       "      <td>NaT</td>\n",
       "      <td>BRONX</td>\n",
       "      <td>...</td>\n",
       "      <td>Open</td>\n",
       "      <td>BUCK STREET</td>\n",
       "      <td>ADDRESS</td>\n",
       "      <td>If the abandoned vehicle meets the criteria to...</td>\n",
       "      <td>2023-12-16</td>\n",
       "      <td>12</td>\n",
       "      <td>5</td>\n",
       "      <td>12</td>\n",
       "      <td>2023</td>\n",
       "      <td>Afternoon</td>\n",
       "    </tr>\n",
       "    <tr>\n",
       "      <th>2</th>\n",
       "      <td>59754726</td>\n",
       "      <td>2023-12-16 12:00:00</td>\n",
       "      <td>Derelict Vehicles</td>\n",
       "      <td>DSNY</td>\n",
       "      <td>10 BRONX</td>\n",
       "      <td>40.84077130162347</td>\n",
       "      <td>-73.85115751944943</td>\n",
       "      <td>Derelict Vehicles</td>\n",
       "      <td>NaT</td>\n",
       "      <td>BRONX</td>\n",
       "      <td>...</td>\n",
       "      <td>Open</td>\n",
       "      <td>BUCK STREET</td>\n",
       "      <td>ADDRESS</td>\n",
       "      <td>If the abandoned vehicle meets the criteria to...</td>\n",
       "      <td>2023-12-16</td>\n",
       "      <td>12</td>\n",
       "      <td>5</td>\n",
       "      <td>12</td>\n",
       "      <td>2023</td>\n",
       "      <td>Afternoon</td>\n",
       "    </tr>\n",
       "    <tr>\n",
       "      <th>3</th>\n",
       "      <td>59753377</td>\n",
       "      <td>2023-12-16 12:00:00</td>\n",
       "      <td>Derelict Vehicles</td>\n",
       "      <td>DSNY</td>\n",
       "      <td>12 QUEENS</td>\n",
       "      <td>40.687698072630916</td>\n",
       "      <td>-73.77855037697357</td>\n",
       "      <td>Derelict Vehicles</td>\n",
       "      <td>NaT</td>\n",
       "      <td>JAMAICA</td>\n",
       "      <td>...</td>\n",
       "      <td>Open</td>\n",
       "      <td>116 AVENUE</td>\n",
       "      <td>ADDRESS</td>\n",
       "      <td>If the abandoned vehicle meets the criteria to...</td>\n",
       "      <td>2023-12-16</td>\n",
       "      <td>12</td>\n",
       "      <td>5</td>\n",
       "      <td>12</td>\n",
       "      <td>2023</td>\n",
       "      <td>Afternoon</td>\n",
       "    </tr>\n",
       "    <tr>\n",
       "      <th>4</th>\n",
       "      <td>59749200</td>\n",
       "      <td>2023-12-16 12:00:00</td>\n",
       "      <td>Derelict Vehicles</td>\n",
       "      <td>DSNY</td>\n",
       "      <td>10 MANHATTAN</td>\n",
       "      <td>40.825981342318265</td>\n",
       "      <td>-73.94089757369808</td>\n",
       "      <td>Derelict Vehicles</td>\n",
       "      <td>NaT</td>\n",
       "      <td>NEW YORK</td>\n",
       "      <td>...</td>\n",
       "      <td>Open</td>\n",
       "      <td>BRADHURST AVENUE</td>\n",
       "      <td>ADDRESS</td>\n",
       "      <td>If the abandoned vehicle meets the criteria to...</td>\n",
       "      <td>2023-12-16</td>\n",
       "      <td>12</td>\n",
       "      <td>5</td>\n",
       "      <td>12</td>\n",
       "      <td>2023</td>\n",
       "      <td>Afternoon</td>\n",
       "    </tr>\n",
       "  </tbody>\n",
       "</table>\n",
       "<p>5 rows × 23 columns</p>\n",
       "</div>"
      ],
      "text/plain": [
       "  unique_key        created_date     complaint_type agency community_board  \\\n",
       "0   59753376 2023-12-16 12:00:00  Derelict Vehicles   DSNY        07 BRONX   \n",
       "1   59753375 2023-12-16 12:00:00  Derelict Vehicles   DSNY        10 BRONX   \n",
       "2   59754726 2023-12-16 12:00:00  Derelict Vehicles   DSNY        10 BRONX   \n",
       "3   59753377 2023-12-16 12:00:00  Derelict Vehicles   DSNY       12 QUEENS   \n",
       "4   59749200 2023-12-16 12:00:00  Derelict Vehicles   DSNY    10 MANHATTAN   \n",
       "\n",
       "             latitude           longitude         descriptor closed_date  \\\n",
       "0   40.87258237734268  -73.87671883675628  Derelict Vehicles         NaT   \n",
       "1   40.84077130162347  -73.85115751944943  Derelict Vehicles         NaT   \n",
       "2   40.84077130162347  -73.85115751944943  Derelict Vehicles         NaT   \n",
       "3  40.687698072630916  -73.77855037697357  Derelict Vehicles         NaT   \n",
       "4  40.825981342318265  -73.94089757369808  Derelict Vehicles         NaT   \n",
       "\n",
       "       city  ... status       street_name address_type  \\\n",
       "0     BRONX  ...   Open    DECATUR AVENUE      ADDRESS   \n",
       "1     BRONX  ...   Open       BUCK STREET      ADDRESS   \n",
       "2     BRONX  ...   Open       BUCK STREET      ADDRESS   \n",
       "3   JAMAICA  ...   Open        116 AVENUE      ADDRESS   \n",
       "4  NEW YORK  ...   Open  BRADHURST AVENUE      ADDRESS   \n",
       "\n",
       "                              resolution_description         day month  \\\n",
       "0  If the abandoned vehicle meets the criteria to...  2023-12-16    12   \n",
       "1  If the abandoned vehicle meets the criteria to...  2023-12-16    12   \n",
       "2  If the abandoned vehicle meets the criteria to...  2023-12-16    12   \n",
       "3  If the abandoned vehicle meets the criteria to...  2023-12-16    12   \n",
       "4  If the abandoned vehicle meets the criteria to...  2023-12-16    12   \n",
       "\n",
       "  day_of_week hour  year  time_of_day  \n",
       "0           5   12  2023    Afternoon  \n",
       "1           5   12  2023    Afternoon  \n",
       "2           5   12  2023    Afternoon  \n",
       "3           5   12  2023    Afternoon  \n",
       "4           5   12  2023    Afternoon  \n",
       "\n",
       "[5 rows x 23 columns]"
      ]
     },
     "execution_count": 14,
     "metadata": {},
     "output_type": "execute_result"
    }
   ],
   "source": [
    "#check the column\n",
    "df.head()"
   ]
  },
  {
   "cell_type": "code",
   "execution_count": 15,
   "id": "3127212b-8bf7-4d7d-a340-4a7973b4e1a5",
   "metadata": {
    "tags": []
   },
   "outputs": [
    {
     "data": {
      "text/plain": [
       "unique_key                     0\n",
       "created_date                   0\n",
       "complaint_type                 0\n",
       "agency                         0\n",
       "community_board                0\n",
       "latitude                       0\n",
       "longitude                      0\n",
       "descriptor                     0\n",
       "closed_date               126238\n",
       "city                       59483\n",
       "borough                        0\n",
       "incident_zip                5308\n",
       "incident_address           41172\n",
       "status                         0\n",
       "street_name                41201\n",
       "address_type                5200\n",
       "resolution_description     66714\n",
       "day                            0\n",
       "month                          0\n",
       "day_of_week                    0\n",
       "hour                           0\n",
       "year                           0\n",
       "time_of_day                    0\n",
       "dtype: int64"
      ]
     },
     "execution_count": 15,
     "metadata": {},
     "output_type": "execute_result"
    }
   ],
   "source": [
    "#ckeck for null values\n",
    "df.isnull().sum()"
   ]
  },
  {
   "cell_type": "code",
   "execution_count": 16,
   "id": "b8f158d4-0a53-4ca7-8fa1-457fd106b510",
   "metadata": {
    "tags": []
   },
   "outputs": [],
   "source": [
    "#drop rows with null values\n",
    "df = df.dropna()"
   ]
  },
  {
   "cell_type": "code",
   "execution_count": 17,
   "id": "3182be29-87de-498a-b2b3-d2d9570324f2",
   "metadata": {
    "tags": []
   },
   "outputs": [
    {
     "data": {
      "text/plain": [
       "unique_key                0\n",
       "created_date              0\n",
       "complaint_type            0\n",
       "agency                    0\n",
       "community_board           0\n",
       "latitude                  0\n",
       "longitude                 0\n",
       "descriptor                0\n",
       "closed_date               0\n",
       "city                      0\n",
       "borough                   0\n",
       "incident_zip              0\n",
       "incident_address          0\n",
       "status                    0\n",
       "street_name               0\n",
       "address_type              0\n",
       "resolution_description    0\n",
       "day                       0\n",
       "month                     0\n",
       "day_of_week               0\n",
       "hour                      0\n",
       "year                      0\n",
       "time_of_day               0\n",
       "dtype: int64"
      ]
     },
     "execution_count": 17,
     "metadata": {},
     "output_type": "execute_result"
    }
   ],
   "source": [
    "df.isnull().sum()"
   ]
  },
  {
   "cell_type": "code",
   "execution_count": 18,
   "id": "fecdfdf9-ce07-4216-998d-e2af5dc187cb",
   "metadata": {
    "tags": []
   },
   "outputs": [
    {
     "name": "stdout",
     "output_type": "stream",
     "text": [
      "<class 'pandas.core.frame.DataFrame'>\n",
      "Int64Index: 1223546 entries, 46 to 1499999\n",
      "Data columns (total 23 columns):\n",
      " #   Column                  Non-Null Count    Dtype         \n",
      "---  ------                  --------------    -----         \n",
      " 0   unique_key              1223546 non-null  object        \n",
      " 1   created_date            1223546 non-null  datetime64[ns]\n",
      " 2   complaint_type          1223546 non-null  object        \n",
      " 3   agency                  1223546 non-null  object        \n",
      " 4   community_board         1223546 non-null  object        \n",
      " 5   latitude                1223546 non-null  object        \n",
      " 6   longitude               1223546 non-null  object        \n",
      " 7   descriptor              1223546 non-null  object        \n",
      " 8   closed_date             1223546 non-null  datetime64[ns]\n",
      " 9   city                    1223546 non-null  object        \n",
      " 10  borough                 1223546 non-null  object        \n",
      " 11  incident_zip            1223546 non-null  object        \n",
      " 12  incident_address        1223546 non-null  object        \n",
      " 13  status                  1223546 non-null  object        \n",
      " 14  street_name             1223546 non-null  object        \n",
      " 15  address_type            1223546 non-null  object        \n",
      " 16  resolution_description  1223546 non-null  object        \n",
      " 17  day                     1223546 non-null  object        \n",
      " 18  month                   1223546 non-null  int64         \n",
      " 19  day_of_week             1223546 non-null  int64         \n",
      " 20  hour                    1223546 non-null  int64         \n",
      " 21  year                    1223546 non-null  int64         \n",
      " 22  time_of_day             1223546 non-null  object        \n",
      "dtypes: datetime64[ns](2), int64(4), object(17)\n",
      "memory usage: 224.0+ MB\n"
     ]
    }
   ],
   "source": [
    "df.info()"
   ]
  },
  {
   "cell_type": "code",
   "execution_count": 19,
   "id": "cd570da6-be46-41b3-b159-4a72b78c6f03",
   "metadata": {
    "tags": []
   },
   "outputs": [],
   "source": [
    "#chege datatype of columns 'unique_key','incident_zip' to integer \n",
    "columns_to_convert_to_int = ['unique_key', 'incident_zip']\n",
    "df[columns_to_convert_to_int] = df[columns_to_convert_to_int].astype(int)"
   ]
  },
  {
   "cell_type": "markdown",
   "id": "09e686d2-2dbd-455b-b71a-c3f699b34a87",
   "metadata": {},
   "source": [
    "Calculate total hours took to solve the request"
   ]
  },
  {
   "cell_type": "code",
   "execution_count": 20,
   "id": "b1fba210-e1bb-4a10-b895-a7c4b90cdfb3",
   "metadata": {
    "tags": []
   },
   "outputs": [],
   "source": [
    "df['total_hours'] = (df['closed_date'] - df['created_date']).dt.total_seconds() / 3600"
   ]
  },
  {
   "cell_type": "code",
   "execution_count": 21,
   "id": "17618f83-e483-408c-b686-54a946ea1bf6",
   "metadata": {
    "tags": []
   },
   "outputs": [
    {
     "data": {
      "text/plain": [
       "46    0.100000\n",
       "50    0.017222\n",
       "63    0.013889\n",
       "68    0.257500\n",
       "70    0.196111\n",
       "Name: total_hours, dtype: float64"
      ]
     },
     "execution_count": 21,
     "metadata": {},
     "output_type": "execute_result"
    }
   ],
   "source": [
    "df['total_hours'].head(5)"
   ]
  },
  {
   "cell_type": "markdown",
   "id": "35e06f99-5db7-42ab-b7d6-3df68f4e82c4",
   "metadata": {},
   "source": [
    "The values in the 'agengy' column also have inconsistent formatting: all but one have abbreviated names."
   ]
  },
  {
   "cell_type": "code",
   "execution_count": 22,
   "id": "5e25cb34-817a-4fb1-8868-df1d4dd35e12",
   "metadata": {
    "tags": []
   },
   "outputs": [
    {
     "data": {
      "text/plain": [
       "array(['NYPD', 'DSNY', 'DHS', 'DEP', 'DPR', 'HPD', 'DOB', 'DOT', 'TLC',\n",
       "       'DCWP', 'DOHMH', 'DOE', 'EDC'], dtype=object)"
      ]
     },
     "execution_count": 22,
     "metadata": {},
     "output_type": "execute_result"
    }
   ],
   "source": [
    "df['agency'].unique()"
   ]
  },
  {
   "cell_type": "markdown",
   "id": "0b9483e7-284f-4a24-bda8-2f73cc9e3d4b",
   "metadata": {},
   "source": [
    "We'll convert the ''DEPARTMENT OF CONSUMER AND WORKER PROTECTION'value to its abbreviated name, DCWP:"
   ]
  },
  {
   "cell_type": "code",
   "execution_count": 23,
   "id": "193e12f2-4480-4fab-a79c-d607f7cf95e3",
   "metadata": {
    "tags": []
   },
   "outputs": [],
   "source": [
    "def update_DCWP(agency):\n",
    "\n",
    "  \"\"\"Takes in an agency name and converts to abbreviated form, if the agency is\n",
    "     the DEPARTMENT OF CONSUMER AND WORKER PROTECTION.\"\"\"\n",
    "\n",
    "  if agency == 'DEPARTMENT OF CONSUMER AND WORKER PROTECTION':\n",
    "      return \"DCWP\"\n",
    "  else:\n",
    "      return agency\n",
    "    \n",
    "df.agency = df.agency.map(lambda agency: update_DCWP(agency))\n",
    "     "
   ]
  },
  {
   "cell_type": "code",
   "execution_count": 24,
   "id": "5537b872-fb53-42e7-bd4f-79a285c9b44e",
   "metadata": {
    "tags": []
   },
   "outputs": [
    {
     "data": {
      "text/plain": [
       "array(['NYPD', 'DSNY', 'DHS', 'DEP', 'DPR', 'HPD', 'DOB', 'DOT', 'TLC',\n",
       "       'DCWP', 'DOHMH', 'DOE', 'EDC'], dtype=object)"
      ]
     },
     "execution_count": 24,
     "metadata": {},
     "output_type": "execute_result"
    }
   ],
   "source": [
    "#check if changes are reflected\n",
    "df['agency'].unique()"
   ]
  },
  {
   "cell_type": "code",
   "execution_count": 25,
   "id": "1ae5e2ca-d9c1-488b-9952-42075de0843a",
   "metadata": {
    "tags": []
   },
   "outputs": [
    {
     "name": "stdout",
     "output_type": "stream",
     "text": [
      "<class 'pandas.core.frame.DataFrame'>\n",
      "Int64Index: 1223546 entries, 46 to 1499999\n",
      "Data columns (total 24 columns):\n",
      " #   Column                  Non-Null Count    Dtype         \n",
      "---  ------                  --------------    -----         \n",
      " 0   unique_key              1223546 non-null  int64         \n",
      " 1   created_date            1223546 non-null  datetime64[ns]\n",
      " 2   complaint_type          1223546 non-null  object        \n",
      " 3   agency                  1223546 non-null  object        \n",
      " 4   community_board         1223546 non-null  object        \n",
      " 5   latitude                1223546 non-null  object        \n",
      " 6   longitude               1223546 non-null  object        \n",
      " 7   descriptor              1223546 non-null  object        \n",
      " 8   closed_date             1223546 non-null  datetime64[ns]\n",
      " 9   city                    1223546 non-null  object        \n",
      " 10  borough                 1223546 non-null  object        \n",
      " 11  incident_zip            1223546 non-null  int64         \n",
      " 12  incident_address        1223546 non-null  object        \n",
      " 13  status                  1223546 non-null  object        \n",
      " 14  street_name             1223546 non-null  object        \n",
      " 15  address_type            1223546 non-null  object        \n",
      " 16  resolution_description  1223546 non-null  object        \n",
      " 17  day                     1223546 non-null  object        \n",
      " 18  month                   1223546 non-null  int64         \n",
      " 19  day_of_week             1223546 non-null  int64         \n",
      " 20  hour                    1223546 non-null  int64         \n",
      " 21  year                    1223546 non-null  int64         \n",
      " 22  time_of_day             1223546 non-null  object        \n",
      " 23  total_hours             1223546 non-null  float64       \n",
      "dtypes: datetime64[ns](2), float64(1), int64(6), object(15)\n",
      "memory usage: 233.4+ MB\n"
     ]
    }
   ],
   "source": [
    "df.info()"
   ]
  },
  {
   "cell_type": "code",
   "execution_count": 26,
   "id": "87f4d9e8-9497-4687-9583-abfa04ea20c8",
   "metadata": {
    "tags": []
   },
   "outputs": [
    {
     "data": {
      "text/plain": [
       "(1223546, 24)"
      ]
     },
     "execution_count": 26,
     "metadata": {},
     "output_type": "execute_result"
    }
   ],
   "source": [
    "df.shape"
   ]
  },
  {
   "cell_type": "code",
   "execution_count": 27,
   "id": "3536a176-82fe-4d38-a5c1-af770b79dcaf",
   "metadata": {
    "tags": []
   },
   "outputs": [
    {
     "data": {
      "text/plain": [
       "Timestamp('2023-07-09 19:07:08')"
      ]
     },
     "execution_count": 27,
     "metadata": {},
     "output_type": "execute_result"
    }
   ],
   "source": [
    "#The (NYC 311) dataset contains complaints logged since what date?\n",
    "df['created_date'].min()"
   ]
  },
  {
   "cell_type": "code",
   "execution_count": 28,
   "id": "a1501fb2-7313-48aa-b587-87d1f9e1b356",
   "metadata": {
    "tags": []
   },
   "outputs": [
    {
     "data": {
      "text/plain": [
       "Timestamp('2023-12-16 00:56:44')"
      ]
     },
     "execution_count": 28,
     "metadata": {},
     "output_type": "execute_result"
    }
   ],
   "source": [
    "#The (NYC 311) dataset contains complaints logged till what date?\n",
    "df['created_date'].max()"
   ]
  },
  {
   "cell_type": "markdown",
   "id": "4db25253-0480-434b-8d66-aab58e6634f5",
   "metadata": {
    "tags": []
   },
   "source": [
    "## Reformatting Values for Consistency\n",
    "If we look at unique values in the 'complaint type' column, we'll see that some values are in title case while others are in upper case."
   ]
  },
  {
   "cell_type": "code",
   "execution_count": 29,
   "id": "254269a3-9da5-422d-859d-e093c2184caa",
   "metadata": {},
   "outputs": [
    {
     "data": {
      "text/plain": [
       "array(['Noise - Residential', 'Noise - Commercial',\n",
       "       'Noise - Street/Sidewalk', 'Illegal Parking', 'Blocked Driveway',\n",
       "       'Noise - Vehicle', 'Encampment', 'Vendor Enforcement',\n",
       "       'Abandoned Vehicle', 'Homeless Person Assistance', 'Traffic',\n",
       "       'Graffiti', 'Non-Emergency Police Matter', 'Water System',\n",
       "       'Drinking', 'Animal-Abuse', 'Animal in a Park',\n",
       "       'Bike/Roller/Skate Chronic', 'Illegal Fireworks', 'Sewer',\n",
       "       'Urinating in Public', 'HEAT/HOT WATER', 'Noise - Park',\n",
       "       'Elevator', 'Drug Activity', 'General Construction/Plumbing',\n",
       "       'Emergency Response Team (ERT)', 'Building/Use',\n",
       "       'Special Projects Inspection Team (SPIT)', 'Real Time Enforcement',\n",
       "       'Electrical', 'Plumbing', 'Noise - House of Worship',\n",
       "       'BEST/Site Safety', 'Panhandling',\n",
       "       'Investigations and Discipline (IAD)', 'Dirty Condition',\n",
       "       'PLUMBING', 'Violation of Park Rules',\n",
       "       'Residential Disposal Complaint', 'Obstruction', 'DOOR/WINDOW',\n",
       "       'APPLIANCE', 'PAINT/PLASTER', 'Root/Sewer/Sidewalk Condition',\n",
       "       'SAFETY', 'Street Condition', 'WATER LEAK',\n",
       "       'Street Sweeping Complaint', 'Illegal Dumping',\n",
       "       'Derelict Vehicles', 'UNSANITARY CONDITION', 'Damaged Tree',\n",
       "       'Litter Basket Complaint', 'GENERAL', 'FLOORING/STAIRS',\n",
       "       'Missed Collection', 'Boilers', 'Street Light Condition',\n",
       "       'Sanitation Worker or Vehicle Complaint', 'Lost Property',\n",
       "       'ELECTRIC', 'Street Sign - Damaged', 'Sidewalk Condition',\n",
       "       'Air Quality', 'Noise', 'Seasonal Collection',\n",
       "       'Street Sign - Dangling', 'Found Property', 'Water Quality',\n",
       "       'Maintenance or Facility', 'Consumer Complaint',\n",
       "       'Overgrown Tree/Branches', 'Dead Animal', 'Illegal Tree Damage',\n",
       "       'Dead/Dying Tree', 'AHV Inspection Unit', 'Scaffold Safety',\n",
       "       'Bus Stop Shelter Complaint', 'Outdoor Dining',\n",
       "       'Indoor Air Quality', 'Water Conservation',\n",
       "       'Street Sign - Missing', 'Litter Basket Request',\n",
       "       'Commercial Disposal Complaint', 'Curb Condition', 'Rodent',\n",
       "       'Snow or Ice', 'Lot Condition', 'Food Poisoning', 'Abandoned Bike',\n",
       "       'School Maintenance', 'Hazardous Materials', 'Dumpster Complaint',\n",
       "       'Special Operations', 'ELEVATOR', 'Illegal Posting',\n",
       "       'Wood Pile Remaining', 'Broken Parking Meter',\n",
       "       'Unsanitary Animal Pvt Property', 'Unsanitary Pigeon Condition',\n",
       "       'Incorrect Data', 'New Tree Request', 'Disorderly Youth',\n",
       "       'Industrial Waste', 'Asbestos', 'Mold', 'Bike Rack Condition',\n",
       "       'Uprooted Stump', 'Drinking Water', 'Indoor Sewage',\n",
       "       'Illegal Animal Kept as Pet', 'OUTSIDE BUILDING',\n",
       "       'Posting Advertisement', 'Unleashed Dog',\n",
       "       'Institution Disposal Complaint', 'Recycling Basket Complaint',\n",
       "       'Squeegee', 'Dept of Investigations', 'Borough Office',\n",
       "       'Bus Stop Shelter Placement', 'Cranes and Derricks',\n",
       "       'Retailer Complaint', 'Taxi Compliment',\n",
       "       'Traffic Signal Condition', 'Radioactive Material',\n",
       "       'Beach/Pool/Sauna Complaint', 'E-Scooter', 'Illegal Animal Sold',\n",
       "       'For Hire Vehicle Complaint', 'Taxi Complaint',\n",
       "       'DEP Street Condition', 'Building Marshals office',\n",
       "       'Animal Facility - No Permit', 'Plant',\n",
       "       'Special Natural Area District (SNAD)', 'Pet Shop',\n",
       "       'Unlicensed Dog', 'Building Drinking Water Tank', 'Public Toilet',\n",
       "       'Lead', 'Oil or Gas Spill', 'Lifeguard', 'Standing Water',\n",
       "       'Mosquitoes', 'Building Condition', 'Unsanitary Animal Facility',\n",
       "       'Poison Ivy', 'Electronics Waste Appointment',\n",
       "       'Transfer Station Complaint', 'Noise - Helicopter',\n",
       "       'DSNY Internal', 'Taxi Licensee Complaint',\n",
       "       'Dispatched Taxi Complaint', 'DEP Sidewalk Condition',\n",
       "       'FHV Licensee Complaint', 'Quality of Life', 'Cooling Tower'],\n",
       "      dtype=object)"
      ]
     },
     "execution_count": 29,
     "metadata": {},
     "output_type": "execute_result"
    }
   ],
   "source": [
    "df.complaint_type.unique()"
   ]
  },
  {
   "cell_type": "markdown",
   "id": "a706fe25-48a0-4666-81e7-4dbdab344de4",
   "metadata": {},
   "source": [
    "Below, all of the values in the column are converted to title case."
   ]
  },
  {
   "cell_type": "code",
   "execution_count": 30,
   "id": "2c973bec-f06a-4f47-8728-367e0336b3d2",
   "metadata": {
    "tags": []
   },
   "outputs": [],
   "source": [
    "df.complaint_type = df.complaint_type.str.title()"
   ]
  },
  {
   "cell_type": "markdown",
   "id": "30c0e249-307e-4fc5-970f-262c90992c23",
   "metadata": {},
   "source": [
    "Among noise-related complaints, only one does not specify the noise source:"
   ]
  },
  {
   "cell_type": "code",
   "execution_count": 31,
   "id": "cf8cfa06-5953-4ec4-9fe9-29d9eaa51b3b",
   "metadata": {
    "tags": []
   },
   "outputs": [
    {
     "data": {
      "text/plain": [
       "['Noise - Residential',\n",
       " 'Noise - Commercial',\n",
       " 'Noise - Street/Sidewalk',\n",
       " 'Noise - Vehicle',\n",
       " 'Noise - Park',\n",
       " 'Noise - House Of Worship',\n",
       " 'Noise',\n",
       " 'Noise - Helicopter']"
      ]
     },
     "execution_count": 31,
     "metadata": {},
     "output_type": "execute_result"
    }
   ],
   "source": [
    "noise_columns = []\n",
    "\n",
    "for i in df.complaint_type:\n",
    "   if i.startswith('Noise') and i not in noise_columns:\n",
    "     noise_columns.append(i)\n",
    "noise_columns"
   ]
  },
  {
   "cell_type": "markdown",
   "id": "e70a703d-eabc-484d-9c29-c6fa740b1455",
   "metadata": {},
   "source": [
    "We'll convert the generic 'Noise' value to 'Noise - Unspecified' so that its formatting matches that of similar complaint types."
   ]
  },
  {
   "cell_type": "code",
   "execution_count": 32,
   "id": "9831430d-b99c-49d2-b4ab-6e4f09c2cbdc",
   "metadata": {
    "tags": []
   },
   "outputs": [],
   "source": [
    "#Label unspecified noise complaints as 'Noise - Unspecified'\n",
    "\n",
    "def update_noise(complaint):\n",
    "\n",
    "  \"\"\"Takes in an complaint name and updates it, if it is an unspecified noise complaint.\"\"\"\n",
    "\n",
    "  if complaint == 'Noise':\n",
    "    \n",
    "    return \"Noise - Unspecified\"\n",
    "\n",
    "  else:\n",
    "\n",
    "    return complaint\n",
    "    \n",
    "df.complaint_type = df.complaint_type.map(\n",
    "    lambda complaint: update_noise(complaint))"
   ]
  },
  {
   "cell_type": "markdown",
   "id": "ff166872-861d-4233-92a1-9217baac002e",
   "metadata": {},
   "source": [
    "The calls are currently ordered in the dataframe from most-least recent. For data visualization purposes, we'll reindex the calls so that the linear, left-to-right presentation of time on an x-axis runs from least-most recent."
   ]
  },
  {
   "cell_type": "code",
   "execution_count": 33,
   "id": "b27b938d-cc48-43da-ae33-4a8c296947b2",
   "metadata": {},
   "outputs": [],
   "source": [
    "#reorder df from least-most recent calls\n",
    "df = df.reindex(index=df.index[::-1])     "
   ]
  },
  {
   "cell_type": "markdown",
   "id": "172c6e23-2d88-44d8-8c94-49a801378a46",
   "metadata": {},
   "source": [
    "To numerically encode the descriptor column in the modeling phase, we'll first need to exclude all values that aren't letters. Below, an empty space is substituted for all numbers and non-letter symbols."
   ]
  },
  {
   "cell_type": "code",
   "execution_count": 34,
   "id": "c9af564c-d22f-4158-a7df-9440548d943e",
   "metadata": {},
   "outputs": [],
   "source": [
    "import re\n",
    "num_pattern = r'[-()0-9]'\n",
    "df.descriptor = df.descriptor.map(lambda x: re.sub(num_pattern, '', x).lower())\n",
    "df.descriptor = df.descriptor.map(lambda x: re.sub('/', ' ', x))"
   ]
  },
  {
   "cell_type": "code",
   "execution_count": 35,
   "id": "b513c047-a13b-4796-9d17-a2a1c3de3451",
   "metadata": {},
   "outputs": [
    {
     "data": {
      "text/plain": [
       "array(['hitting phone cable lines', 'sign', 'banging pounding',\n",
       "       'construction debris', 'blocked hydrant',\n",
       "       'catch basin clogged flooding use comments sc',\n",
       "       'sewer backup use comments sa', 'chronic dumping',\n",
       "       'posted parking sign violation', 'loud music party', 'trash',\n",
       "       'loud talking', 'with license plate',\n",
       "       'double parked blocking traffic',\n",
       "       'noise: construction before after hours nm', 'neglected',\n",
       "       'double parked blocking vehicle', 'engine idling',\n",
       "       'paper license plates', 'cavein'], dtype=object)"
      ]
     },
     "execution_count": 35,
     "metadata": {},
     "output_type": "execute_result"
    }
   ],
   "source": [
    "#preview sample of unique descriptors with non-letters removed\n",
    "df.descriptor.unique()[0:20]"
   ]
  },
  {
   "cell_type": "code",
   "execution_count": 36,
   "id": "76e42cf1-4416-4c90-8807-3b478e8d9b3f",
   "metadata": {
    "tags": []
   },
   "outputs": [],
   "source": [
    "# convert a numeric month column to a text month column \n",
    "month_names = [\n",
    "        'January', 'February', 'March', 'April',\n",
    "        'May', 'June', 'July', 'August',\n",
    "        'September', 'October', 'November', 'December'\n",
    "    ]\n",
    "df['month'] = df['month'].apply(lambda x: month_names[x - 1] if 1 <= x <= 12 else 'Invalid Month')"
   ]
  },
  {
   "cell_type": "markdown",
   "id": "69a7fc92-e7fd-4336-b009-a2614631c1cc",
   "metadata": {
    "jp-MarkdownHeadingCollapsed": true,
    "tags": []
   },
   "source": [
    "# Exporting the Data"
   ]
  },
  {
   "cell_type": "code",
   "execution_count": 37,
   "id": "4f3e0017-a455-44a9-8c78-0e05afec6c07",
   "metadata": {
    "tags": []
   },
   "outputs": [],
   "source": [
    "df.to_csv('nyc_311_initial_new.csv', header=True)"
   ]
  },
  {
   "cell_type": "code",
   "execution_count": null,
   "id": "0fa457e4-6964-49ff-9fb6-f41bd97154b3",
   "metadata": {},
   "outputs": [],
   "source": []
  }
 ],
 "metadata": {
  "kernelspec": {
   "display_name": "Python 3 (ipykernel)",
   "language": "python",
   "name": "python3"
  },
  "language_info": {
   "codemirror_mode": {
    "name": "ipython",
    "version": 3
   },
   "file_extension": ".py",
   "mimetype": "text/x-python",
   "name": "python",
   "nbconvert_exporter": "python",
   "pygments_lexer": "ipython3",
   "version": "3.11.4"
  }
 },
 "nbformat": 4,
 "nbformat_minor": 5
}
