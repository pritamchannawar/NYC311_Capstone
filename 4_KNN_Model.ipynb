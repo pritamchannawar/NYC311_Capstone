{
  "nbformat": 4,
  "nbformat_minor": 0,
  "metadata": {
    "accelerator": "GPU",
    "colab": {
      "provenance": [],
      "collapsed_sections": [
        "8taQeJ4zZwZu"
      ],
      "gpuType": "V100"
    },
    "kernelspec": {
      "display_name": "Python 3",
      "name": "python3"
    }
  },
  "cells": [
    {
      "cell_type": "markdown",
      "metadata": {
        "id": "BuPIppTCJQoQ"
      },
      "source": [
        "# KNN Model"
      ]
    },
    {
      "cell_type": "markdown",
      "metadata": {
        "id": "zalxhpvEJQld"
      },
      "source": [
        "The aim of this section is to train a neural network that can accurately classify the agency that responded to a 311 call. In the exploratory analysis section, we saw that none of the community districts' numeric indicators were highly correlated with any of the dummy-encoded agency categories. Intuitively, one may expect the call's descriptor to be the best predictor of the responding agency, but given that the descriptors consist of natural language data, they will need to undergo additional preprocessig before being fed into a model."
      ]
    },
    {
      "cell_type": "code",
      "metadata": {
        "id": "GoZ-JIQ3cb2u"
      },
      "source": [
        "from tensorflow.random import set_seed\n",
        "set_seed(9)\n",
        "import numpy as np\n",
        "np.random.seed(999)"
      ],
      "execution_count": 1,
      "outputs": []
    },
    {
      "cell_type": "markdown",
      "metadata": {
        "id": "EQ2JuRRPUfI6"
      },
      "source": [
        "# Loading Dependencies"
      ]
    },
    {
      "cell_type": "code",
      "metadata": {
        "id": "muoTtQYo0uhz",
        "colab": {
          "base_uri": "https://localhost:8080/"
        },
        "outputId": "7c31594b-ac00-434e-c23c-ae9d6dbf38fb"
      },
      "source": [
        "!pip install -U -q PyDrive\n",
        "from pydrive.auth import GoogleAuth\n",
        "from pydrive.drive import GoogleDrive\n",
        "from google.colab import auth\n",
        "from oauth2client.client import GoogleCredentials\n",
        "from sklearn.model_selection import train_test_split\n",
        "from sklearn.metrics import confusion_matrix\n",
        "\n",
        "\n",
        "import matplotlib.pyplot as plt\n",
        "import pandas as pd\n",
        "import numpy as np\n",
        "import seaborn as sns\n",
        "import random\n",
        "import re\n",
        "\n",
        "from sklearn import preprocessing\n",
        "import tensorflow as tf\n",
        "from tensorflow import keras\n",
        "from tensorflow.keras import layers\n",
        "\n",
        "from keras.preprocessing.text import Tokenizer\n",
        "from keras.preprocessing.sequence import pad_sequences\n",
        "from keras import models\n",
        "from keras import layers\n",
        "from keras import optimizers\n",
        "from keras.utils import to_categorical\n",
        "from keras.models import Sequential\n",
        "from tensorflow.keras.layers import Embedding, LSTM, Dense, Activation, Dropout"
      ],
      "execution_count": 2,
      "outputs": [
        {
          "output_type": "stream",
          "name": "stderr",
          "text": [
            "WARNING:root:pydrive is deprecated and no longer maintained. We recommend that you migrate your projects to pydrive2, the maintained fork of pydrive\n"
          ]
        }
      ]
    },
    {
      "cell_type": "markdown",
      "metadata": {
        "id": "8taQeJ4zZwZu"
      },
      "source": [
        "# Importing the Data"
      ]
    },
    {
      "cell_type": "code",
      "source": [
        "from google.colab import drive\n",
        "drive.mount('/content/drive')"
      ],
      "metadata": {
        "colab": {
          "base_uri": "https://localhost:8080/"
        },
        "id": "tAqW0cgItTdu",
        "outputId": "cc3909c8-825f-4826-b55a-0cc9cb7e35f1"
      },
      "execution_count": 3,
      "outputs": [
        {
          "output_type": "stream",
          "name": "stdout",
          "text": [
            "Mounted at /content/drive\n"
          ]
        }
      ]
    },
    {
      "cell_type": "code",
      "metadata": {
        "id": "WZHghdba0oB5"
      },
      "source": [
        "path = '/content/drive/MyDrive/Colab Notebooks/nyc_311_after2.csv' #change path to match your Google Drive file location\n",
        "df = pd.read_csv(path, index_col=0)"
      ],
      "execution_count": 4,
      "outputs": []
    },
    {
      "cell_type": "markdown",
      "metadata": {
        "id": "q395NFX9yEMQ"
      },
      "source": [
        "# Assessing Model Performance"
      ]
    },
    {
      "cell_type": "markdown",
      "metadata": {
        "id": "9LUNQFdHyb4p"
      },
      "source": [
        "With perfectly balanced classes, a model's accuracy is acceptable if it exceeds the expected accuracy rate of simply picking a random class. With heavily imbalanced classes, however, a model's accuracy can instead be compared to that of picking the majority class. Below is the expected accuracy rate if we were to predict that all calls in a sample were responded to by the NYPD."
      ]
    },
    {
      "cell_type": "code",
      "metadata": {
        "colab": {
          "base_uri": "https://localhost:8080/"
        },
        "id": "DNrao_hK2sFG",
        "outputId": "1a4f0ee9-b757-4849-c694-80e3334e74ed"
      },
      "source": [
        "#divide count of NYPD calls by total calls and round to 2 decimal places\n",
        "round(len(df[df.agency =='NYPD'])/len(df) * 100, 2)"
      ],
      "execution_count": 5,
      "outputs": [
        {
          "output_type": "execute_result",
          "data": {
            "text/plain": [
              "51.37"
            ]
          },
          "metadata": {},
          "execution_count": 5
        }
      ]
    },
    {
      "cell_type": "markdown",
      "metadata": {
        "id": "1TpY--8t3X-b"
      },
      "source": [
        "While the aim will be to maximize model accuracy, any classifier that is at least 53% accurate will out-perform the simple assignment of all calls to the NYPD."
      ]
    },
    {
      "cell_type": "markdown",
      "metadata": {
        "id": "W9fRwJwwMgbA"
      },
      "source": [
        "# Sampling the Data\n",
        "The dataset currently consists of more than one million rows:"
      ]
    },
    {
      "cell_type": "code",
      "metadata": {
        "colab": {
          "base_uri": "https://localhost:8080/"
        },
        "id": "mMMJh58Y8dIA",
        "outputId": "4dee538d-ea3a-4cf8-c08f-767de6da2637"
      },
      "source": [
        "len(df)"
      ],
      "execution_count": 6,
      "outputs": [
        {
          "output_type": "execute_result",
          "data": {
            "text/plain": [
              "1232353"
            ]
          },
          "metadata": {},
          "execution_count": 6
        }
      ]
    },
    {
      "cell_type": "markdown",
      "metadata": {
        "id": "JMUcv--x8aaY"
      },
      "source": [
        "Retrieving the training data from a representative sample, rather than the entire dataset, will save time in the training process and ideally not result in a significant decline in accuracy.\n",
        "\n",
        "In training classification models, we'll want to ensure that complaint descriptors from every agency category are represented. This way, the model will also be able to recognize encoded descriptors that correspond to agencies that rarely receive calls. However, training a model on samples of equal length from each agency may lead to confusion when it is presented with new, imbalanced data. We'll oversample the minority classes, but ensure that the largest samples are those agencies that receive the most calls. This will allow the diversity of descriptors associated with each agency to be captured in the samples. Below, we create and print a dictionary with the class weights."
      ]
    },
    {
      "cell_type": "code",
      "metadata": {
        "colab": {
          "base_uri": "https://localhost:8080/"
        },
        "id": "m2JjrNL748aM",
        "outputId": "ea6895a3-f06e-4f46-8f86-98f9b07981ed"
      },
      "source": [
        "#create dictionary to store weights\n",
        "weights_dict = {}\n",
        "\n",
        "#loop through agency: value count pairs\n",
        "for agency, count in list(zip(df.agency.value_counts().index,\n",
        "                              df.agency.value_counts().values)):\n",
        "#calculate weights and update dictionary\n",
        "  weight = count/len(df)\n",
        "  weights_dict[agency] = weight\n",
        "weights_dict"
      ],
      "execution_count": 7,
      "outputs": [
        {
          "output_type": "execute_result",
          "data": {
            "text/plain": [
              "{'NYPD': 0.5137172547151668,\n",
              " 'HPD': 0.1777826645449802,\n",
              " 'DSNY': 0.11169121185244812,\n",
              " 'DEP': 0.055114889970649644,\n",
              " 'DOB': 0.03865937762962398,\n",
              " 'DPR': 0.030511549856250604,\n",
              " 'DOT': 0.028581907943584346,\n",
              " 'DOHMH': 0.02128773168077653,\n",
              " 'EDC': 0.008392075971738617,\n",
              " 'TLC': 0.006116753884641819,\n",
              " 'DCWP': 0.004473555872383968,\n",
              " 'DHS': 0.0033302146381759125,\n",
              " 'DOE': 0.00033999998377088383,\n",
              " 'OTI': 8.114558085223958e-07}"
            ]
          },
          "metadata": {},
          "execution_count": 7
        }
      ]
    },
    {
      "cell_type": "code",
      "metadata": {
        "colab": {
          "base_uri": "https://localhost:8080/"
        },
        "id": "uPPBjrs5LGG6",
        "outputId": "ee72d68e-adce-4b71-d301-409f67f62462"
      },
      "source": [
        "df.agency.value_counts()"
      ],
      "execution_count": 8,
      "outputs": [
        {
          "output_type": "execute_result",
          "data": {
            "text/plain": [
              "NYPD     633081\n",
              "HPD      219091\n",
              "DSNY     137643\n",
              "DEP       67921\n",
              "DOB       47642\n",
              "DPR       37601\n",
              "DOT       35223\n",
              "DOHMH     26234\n",
              "EDC       10342\n",
              "TLC        7538\n",
              "DCWP       5513\n",
              "DHS        4104\n",
              "DOE         419\n",
              "OTI           1\n",
              "Name: agency, dtype: int64"
            ]
          },
          "metadata": {},
          "execution_count": 8
        }
      ]
    },
    {
      "cell_type": "markdown",
      "metadata": {
        "id": "gh_WXYsAPfWm"
      },
      "source": [
        "Next, we'll create a new dictionary with guidelines for the number of samples to be drawn from each class. The class weights are multiplied by a term that results in the largest sample, NYPD, consisting of around 60k calls."
      ]
    },
    {
      "cell_type": "code",
      "metadata": {
        "id": "Eei-2kEy9iCS"
      },
      "source": [
        "n_samples_dict = {}\n",
        "\n",
        "#loop through agency: weight pairs\n",
        "for agency, weight in zip(weights_dict.keys(), weights_dict.values()):\n",
        "\n",
        "#multiply each weight by 15**4.3 and update the dictionary\n",
        "  n_samples = int(15**4.3 * weight)\n",
        "  n_samples_dict[agency] = n_samples"
      ],
      "execution_count": 9,
      "outputs": []
    },
    {
      "cell_type": "code",
      "metadata": {
        "colab": {
          "base_uri": "https://localhost:8080/"
        },
        "id": "qE__5eWsBH0c",
        "outputId": "88f33d9d-8a9a-4b53-a5a0-467eade9e22f"
      },
      "source": [
        "n_samples_dict"
      ],
      "execution_count": 10,
      "outputs": [
        {
          "output_type": "execute_result",
          "data": {
            "text/plain": [
              "{'NYPD': 58602,\n",
              " 'HPD': 20280,\n",
              " 'DSNY': 12741,\n",
              " 'DEP': 6287,\n",
              " 'DOB': 4410,\n",
              " 'DPR': 3480,\n",
              " 'DOT': 3260,\n",
              " 'DOHMH': 2428,\n",
              " 'EDC': 957,\n",
              " 'TLC': 697,\n",
              " 'DCWP': 510,\n",
              " 'DHS': 379,\n",
              " 'DOE': 38,\n",
              " 'OTI': 0}"
            ]
          },
          "metadata": {},
          "execution_count": 10
        }
      ]
    },
    {
      "cell_type": "markdown",
      "metadata": {
        "id": "1g8WnjUsRmw2"
      },
      "source": [
        "The below function returns weighted samples of an agency that's passed in."
      ]
    },
    {
      "cell_type": "code",
      "metadata": {
        "id": "geHzoyWv52OZ"
      },
      "source": [
        "def get_weighted_sample(agency):\n",
        "\n",
        "  \"\"\"Takes in an agency name as a string, and creates a subset with all rows\n",
        "     with a match in the agency column. Returns a weighted sample of call data\n",
        "     associated with that agency, based on the values in n_samples_dict.\"\"\"\n",
        "\n",
        "  agency_subset = df[df.agency == agency]\n",
        "\n",
        "  n_samples = n_samples_dict[agency]\n",
        "\n",
        "  weighted_sample = agency_subset.sample(n=n_samples, random_state=9)\n",
        "\n",
        "  return weighted_sample"
      ],
      "execution_count": 11,
      "outputs": []
    },
    {
      "cell_type": "markdown",
      "metadata": {
        "id": "__2PdUBESxkK"
      },
      "source": [
        "The function is applied below to each unique agency to create a dataframe of samples, and the dataframe is appended to the list 'samples.' These are concatenated in 'weighted_df' and the index is reset."
      ]
    },
    {
      "cell_type": "code",
      "metadata": {
        "id": "uR6-bbBC-MiY"
      },
      "source": [
        "samples = []\n",
        "\n",
        "for agency in df.agency.unique():\n",
        "  samples.append(get_weighted_sample(agency))"
      ],
      "execution_count": 12,
      "outputs": []
    },
    {
      "cell_type": "code",
      "metadata": {
        "id": "ny-Ss-YVFcCJ"
      },
      "source": [
        "weighted_df = pd.concat(samples)\n",
        "weighted_df.reset_index(inplace=True)"
      ],
      "execution_count": 13,
      "outputs": []
    },
    {
      "cell_type": "code",
      "metadata": {
        "colab": {
          "base_uri": "https://localhost:8080/",
          "height": 669
        },
        "id": "-OP7tnoiFbSk",
        "outputId": "a4016fd6-f042-41ac-b3ce-23bb7c3d5579"
      },
      "source": [
        "weighted_df"
      ],
      "execution_count": 14,
      "outputs": [
        {
          "output_type": "execute_result",
          "data": {
            "text/plain": [
              "          index  unique_key         created_date      complaint_type agency  \\\n",
              "0       1493028    57715186  2023-05-26 09:11:01  Sidewalk Condition    DOT   \n",
              "1        998911    58244989  2023-07-19 22:47:22      Outdoor Dining    DOT   \n",
              "2        297636    59007220  2023-10-03 17:59:49    Street Condition    DOT   \n",
              "3        566437    58718322  2023-09-05 08:43:38  Sidewalk Condition    DOT   \n",
              "4        532104    58750622  2023-09-08 17:06:14  Sidewalk Condition    DOT   \n",
              "...         ...         ...                  ...                 ...    ...   \n",
              "114064  1147474    58099044  2023-07-04 09:31:55  Noise - Helicopter    EDC   \n",
              "114065   996803    58255665  2023-07-20 08:46:52  Noise - Helicopter    EDC   \n",
              "114066  1192629    58036651  2023-06-29 00:02:27  Noise - Helicopter    EDC   \n",
              "114067   777265    58493949  2023-08-12 22:21:47  Noise - Helicopter    EDC   \n",
              "114068  1345999    57880751  2023-06-12 08:06:42  Noise - Helicopter    EDC   \n",
              "\n",
              "       community_board   latitude  longitude              descriptor  \\\n",
              "0         02 MANHATTAN  40.733200 -74.000599   blocked  construction   \n",
              "1         08 MANHATTAN  40.764047 -73.970576     street zone blocked   \n",
              "2            01 QUEENS  40.772892 -73.925420  plate condition  noisy   \n",
              "3             09 BRONX  40.829727 -73.877521         broken sidewalk   \n",
              "4         10 MANHATTAN  40.808394 -73.954929      sidewalk violation   \n",
              "...                ...        ...        ...                     ...   \n",
              "114064     08 BROOKLYN  40.672162 -73.964289                   other   \n",
              "114065    07 MANHATTAN  40.798139 -73.968245                   other   \n",
              "114066    07 MANHATTAN  40.777824 -73.975718                   other   \n",
              "114067     06 BROOKLYN  40.682065 -73.994999                   other   \n",
              "114068    06 MANHATTAN  40.749738 -73.969911                   other   \n",
              "\n",
              "                closed_date  ... address_type  \\\n",
              "0       2023-05-26 12:12:43  ...      ADDRESS   \n",
              "1       2023-07-20 09:04:10  ...      ADDRESS   \n",
              "2       2023-10-03 22:55:17  ...      ADDRESS   \n",
              "3       2023-09-14 13:41:46  ...      ADDRESS   \n",
              "4       2023-09-14 12:24:30  ...      ADDRESS   \n",
              "...                     ...  ...          ...   \n",
              "114064  2023-09-18 10:02:23  ...      ADDRESS   \n",
              "114065  2023-09-18 10:10:41  ...      ADDRESS   \n",
              "114066  2023-09-19 10:28:51  ...      ADDRESS   \n",
              "114067  2023-09-19 10:06:08  ...      ADDRESS   \n",
              "114068  2023-06-28 11:08:07  ...      ADDRESS   \n",
              "\n",
              "                                   resolution_description         day  \\\n",
              "0       The Department of Transportation inspected the...  2023-05-26   \n",
              "1       The Department of Transportation inspected thi...  2023-07-19   \n",
              "2       This request required re-assignment to a new D...  2023-10-03   \n",
              "3       The Department of Transportation will inspect ...  2023-09-05   \n",
              "4       The Department of Transportation inspected the...  2023-09-08   \n",
              "...                                                   ...         ...   \n",
              "114064  The New York City Economic Development Corpora...  2023-07-04   \n",
              "114065  The New York City Economic Development Corpora...  2023-07-20   \n",
              "114066  The New York City Economic Development Corpora...  2023-06-29   \n",
              "114067  The New York City Economic Development Corpora...  2023-08-12   \n",
              "114068  The New York City Economic Development Corpora...  2023-06-12   \n",
              "\n",
              "            month day_of_week hour  year   time_of_day  total_hours  \\\n",
              "0             May           4    9  2023       Morning     3.028333   \n",
              "1            July           2   22  2023         Night    10.280000   \n",
              "2         October           1   17  2023       Evening     4.924444   \n",
              "3       September           1    8  2023       Morning   220.968889   \n",
              "4       September           4   17  2023       Evening   139.304444   \n",
              "...           ...         ...  ...   ...           ...          ...   \n",
              "114064       July           1    9  2023       Morning  1824.507778   \n",
              "114065       July           3    8  2023       Morning  1441.396944   \n",
              "114066       June           3    0  2023  Earlymorning  1978.440000   \n",
              "114067     August           5   22  2023         Night   899.739167   \n",
              "114068       June           0    8  2023       Morning   387.023611   \n",
              "\n",
              "              date  \n",
              "0       2023-05-26  \n",
              "1       2023-07-19  \n",
              "2       2023-10-03  \n",
              "3       2023-09-05  \n",
              "4       2023-09-08  \n",
              "...            ...  \n",
              "114064  2023-07-04  \n",
              "114065  2023-07-20  \n",
              "114066  2023-06-29  \n",
              "114067  2023-08-12  \n",
              "114068  2023-06-12  \n",
              "\n",
              "[114069 rows x 26 columns]"
            ],
            "text/html": [
              "\n",
              "  <div id=\"df-fb1198ab-d292-4926-af94-dbe2cf76588c\" class=\"colab-df-container\">\n",
              "    <div>\n",
              "<style scoped>\n",
              "    .dataframe tbody tr th:only-of-type {\n",
              "        vertical-align: middle;\n",
              "    }\n",
              "\n",
              "    .dataframe tbody tr th {\n",
              "        vertical-align: top;\n",
              "    }\n",
              "\n",
              "    .dataframe thead th {\n",
              "        text-align: right;\n",
              "    }\n",
              "</style>\n",
              "<table border=\"1\" class=\"dataframe\">\n",
              "  <thead>\n",
              "    <tr style=\"text-align: right;\">\n",
              "      <th></th>\n",
              "      <th>index</th>\n",
              "      <th>unique_key</th>\n",
              "      <th>created_date</th>\n",
              "      <th>complaint_type</th>\n",
              "      <th>agency</th>\n",
              "      <th>community_board</th>\n",
              "      <th>latitude</th>\n",
              "      <th>longitude</th>\n",
              "      <th>descriptor</th>\n",
              "      <th>closed_date</th>\n",
              "      <th>...</th>\n",
              "      <th>address_type</th>\n",
              "      <th>resolution_description</th>\n",
              "      <th>day</th>\n",
              "      <th>month</th>\n",
              "      <th>day_of_week</th>\n",
              "      <th>hour</th>\n",
              "      <th>year</th>\n",
              "      <th>time_of_day</th>\n",
              "      <th>total_hours</th>\n",
              "      <th>date</th>\n",
              "    </tr>\n",
              "  </thead>\n",
              "  <tbody>\n",
              "    <tr>\n",
              "      <th>0</th>\n",
              "      <td>1493028</td>\n",
              "      <td>57715186</td>\n",
              "      <td>2023-05-26 09:11:01</td>\n",
              "      <td>Sidewalk Condition</td>\n",
              "      <td>DOT</td>\n",
              "      <td>02 MANHATTAN</td>\n",
              "      <td>40.733200</td>\n",
              "      <td>-74.000599</td>\n",
              "      <td>blocked  construction</td>\n",
              "      <td>2023-05-26 12:12:43</td>\n",
              "      <td>...</td>\n",
              "      <td>ADDRESS</td>\n",
              "      <td>The Department of Transportation inspected the...</td>\n",
              "      <td>2023-05-26</td>\n",
              "      <td>May</td>\n",
              "      <td>4</td>\n",
              "      <td>9</td>\n",
              "      <td>2023</td>\n",
              "      <td>Morning</td>\n",
              "      <td>3.028333</td>\n",
              "      <td>2023-05-26</td>\n",
              "    </tr>\n",
              "    <tr>\n",
              "      <th>1</th>\n",
              "      <td>998911</td>\n",
              "      <td>58244989</td>\n",
              "      <td>2023-07-19 22:47:22</td>\n",
              "      <td>Outdoor Dining</td>\n",
              "      <td>DOT</td>\n",
              "      <td>08 MANHATTAN</td>\n",
              "      <td>40.764047</td>\n",
              "      <td>-73.970576</td>\n",
              "      <td>street zone blocked</td>\n",
              "      <td>2023-07-20 09:04:10</td>\n",
              "      <td>...</td>\n",
              "      <td>ADDRESS</td>\n",
              "      <td>The Department of Transportation inspected thi...</td>\n",
              "      <td>2023-07-19</td>\n",
              "      <td>July</td>\n",
              "      <td>2</td>\n",
              "      <td>22</td>\n",
              "      <td>2023</td>\n",
              "      <td>Night</td>\n",
              "      <td>10.280000</td>\n",
              "      <td>2023-07-19</td>\n",
              "    </tr>\n",
              "    <tr>\n",
              "      <th>2</th>\n",
              "      <td>297636</td>\n",
              "      <td>59007220</td>\n",
              "      <td>2023-10-03 17:59:49</td>\n",
              "      <td>Street Condition</td>\n",
              "      <td>DOT</td>\n",
              "      <td>01 QUEENS</td>\n",
              "      <td>40.772892</td>\n",
              "      <td>-73.925420</td>\n",
              "      <td>plate condition  noisy</td>\n",
              "      <td>2023-10-03 22:55:17</td>\n",
              "      <td>...</td>\n",
              "      <td>ADDRESS</td>\n",
              "      <td>This request required re-assignment to a new D...</td>\n",
              "      <td>2023-10-03</td>\n",
              "      <td>October</td>\n",
              "      <td>1</td>\n",
              "      <td>17</td>\n",
              "      <td>2023</td>\n",
              "      <td>Evening</td>\n",
              "      <td>4.924444</td>\n",
              "      <td>2023-10-03</td>\n",
              "    </tr>\n",
              "    <tr>\n",
              "      <th>3</th>\n",
              "      <td>566437</td>\n",
              "      <td>58718322</td>\n",
              "      <td>2023-09-05 08:43:38</td>\n",
              "      <td>Sidewalk Condition</td>\n",
              "      <td>DOT</td>\n",
              "      <td>09 BRONX</td>\n",
              "      <td>40.829727</td>\n",
              "      <td>-73.877521</td>\n",
              "      <td>broken sidewalk</td>\n",
              "      <td>2023-09-14 13:41:46</td>\n",
              "      <td>...</td>\n",
              "      <td>ADDRESS</td>\n",
              "      <td>The Department of Transportation will inspect ...</td>\n",
              "      <td>2023-09-05</td>\n",
              "      <td>September</td>\n",
              "      <td>1</td>\n",
              "      <td>8</td>\n",
              "      <td>2023</td>\n",
              "      <td>Morning</td>\n",
              "      <td>220.968889</td>\n",
              "      <td>2023-09-05</td>\n",
              "    </tr>\n",
              "    <tr>\n",
              "      <th>4</th>\n",
              "      <td>532104</td>\n",
              "      <td>58750622</td>\n",
              "      <td>2023-09-08 17:06:14</td>\n",
              "      <td>Sidewalk Condition</td>\n",
              "      <td>DOT</td>\n",
              "      <td>10 MANHATTAN</td>\n",
              "      <td>40.808394</td>\n",
              "      <td>-73.954929</td>\n",
              "      <td>sidewalk violation</td>\n",
              "      <td>2023-09-14 12:24:30</td>\n",
              "      <td>...</td>\n",
              "      <td>ADDRESS</td>\n",
              "      <td>The Department of Transportation inspected the...</td>\n",
              "      <td>2023-09-08</td>\n",
              "      <td>September</td>\n",
              "      <td>4</td>\n",
              "      <td>17</td>\n",
              "      <td>2023</td>\n",
              "      <td>Evening</td>\n",
              "      <td>139.304444</td>\n",
              "      <td>2023-09-08</td>\n",
              "    </tr>\n",
              "    <tr>\n",
              "      <th>...</th>\n",
              "      <td>...</td>\n",
              "      <td>...</td>\n",
              "      <td>...</td>\n",
              "      <td>...</td>\n",
              "      <td>...</td>\n",
              "      <td>...</td>\n",
              "      <td>...</td>\n",
              "      <td>...</td>\n",
              "      <td>...</td>\n",
              "      <td>...</td>\n",
              "      <td>...</td>\n",
              "      <td>...</td>\n",
              "      <td>...</td>\n",
              "      <td>...</td>\n",
              "      <td>...</td>\n",
              "      <td>...</td>\n",
              "      <td>...</td>\n",
              "      <td>...</td>\n",
              "      <td>...</td>\n",
              "      <td>...</td>\n",
              "      <td>...</td>\n",
              "    </tr>\n",
              "    <tr>\n",
              "      <th>114064</th>\n",
              "      <td>1147474</td>\n",
              "      <td>58099044</td>\n",
              "      <td>2023-07-04 09:31:55</td>\n",
              "      <td>Noise - Helicopter</td>\n",
              "      <td>EDC</td>\n",
              "      <td>08 BROOKLYN</td>\n",
              "      <td>40.672162</td>\n",
              "      <td>-73.964289</td>\n",
              "      <td>other</td>\n",
              "      <td>2023-09-18 10:02:23</td>\n",
              "      <td>...</td>\n",
              "      <td>ADDRESS</td>\n",
              "      <td>The New York City Economic Development Corpora...</td>\n",
              "      <td>2023-07-04</td>\n",
              "      <td>July</td>\n",
              "      <td>1</td>\n",
              "      <td>9</td>\n",
              "      <td>2023</td>\n",
              "      <td>Morning</td>\n",
              "      <td>1824.507778</td>\n",
              "      <td>2023-07-04</td>\n",
              "    </tr>\n",
              "    <tr>\n",
              "      <th>114065</th>\n",
              "      <td>996803</td>\n",
              "      <td>58255665</td>\n",
              "      <td>2023-07-20 08:46:52</td>\n",
              "      <td>Noise - Helicopter</td>\n",
              "      <td>EDC</td>\n",
              "      <td>07 MANHATTAN</td>\n",
              "      <td>40.798139</td>\n",
              "      <td>-73.968245</td>\n",
              "      <td>other</td>\n",
              "      <td>2023-09-18 10:10:41</td>\n",
              "      <td>...</td>\n",
              "      <td>ADDRESS</td>\n",
              "      <td>The New York City Economic Development Corpora...</td>\n",
              "      <td>2023-07-20</td>\n",
              "      <td>July</td>\n",
              "      <td>3</td>\n",
              "      <td>8</td>\n",
              "      <td>2023</td>\n",
              "      <td>Morning</td>\n",
              "      <td>1441.396944</td>\n",
              "      <td>2023-07-20</td>\n",
              "    </tr>\n",
              "    <tr>\n",
              "      <th>114066</th>\n",
              "      <td>1192629</td>\n",
              "      <td>58036651</td>\n",
              "      <td>2023-06-29 00:02:27</td>\n",
              "      <td>Noise - Helicopter</td>\n",
              "      <td>EDC</td>\n",
              "      <td>07 MANHATTAN</td>\n",
              "      <td>40.777824</td>\n",
              "      <td>-73.975718</td>\n",
              "      <td>other</td>\n",
              "      <td>2023-09-19 10:28:51</td>\n",
              "      <td>...</td>\n",
              "      <td>ADDRESS</td>\n",
              "      <td>The New York City Economic Development Corpora...</td>\n",
              "      <td>2023-06-29</td>\n",
              "      <td>June</td>\n",
              "      <td>3</td>\n",
              "      <td>0</td>\n",
              "      <td>2023</td>\n",
              "      <td>Earlymorning</td>\n",
              "      <td>1978.440000</td>\n",
              "      <td>2023-06-29</td>\n",
              "    </tr>\n",
              "    <tr>\n",
              "      <th>114067</th>\n",
              "      <td>777265</td>\n",
              "      <td>58493949</td>\n",
              "      <td>2023-08-12 22:21:47</td>\n",
              "      <td>Noise - Helicopter</td>\n",
              "      <td>EDC</td>\n",
              "      <td>06 BROOKLYN</td>\n",
              "      <td>40.682065</td>\n",
              "      <td>-73.994999</td>\n",
              "      <td>other</td>\n",
              "      <td>2023-09-19 10:06:08</td>\n",
              "      <td>...</td>\n",
              "      <td>ADDRESS</td>\n",
              "      <td>The New York City Economic Development Corpora...</td>\n",
              "      <td>2023-08-12</td>\n",
              "      <td>August</td>\n",
              "      <td>5</td>\n",
              "      <td>22</td>\n",
              "      <td>2023</td>\n",
              "      <td>Night</td>\n",
              "      <td>899.739167</td>\n",
              "      <td>2023-08-12</td>\n",
              "    </tr>\n",
              "    <tr>\n",
              "      <th>114068</th>\n",
              "      <td>1345999</td>\n",
              "      <td>57880751</td>\n",
              "      <td>2023-06-12 08:06:42</td>\n",
              "      <td>Noise - Helicopter</td>\n",
              "      <td>EDC</td>\n",
              "      <td>06 MANHATTAN</td>\n",
              "      <td>40.749738</td>\n",
              "      <td>-73.969911</td>\n",
              "      <td>other</td>\n",
              "      <td>2023-06-28 11:08:07</td>\n",
              "      <td>...</td>\n",
              "      <td>ADDRESS</td>\n",
              "      <td>The New York City Economic Development Corpora...</td>\n",
              "      <td>2023-06-12</td>\n",
              "      <td>June</td>\n",
              "      <td>0</td>\n",
              "      <td>8</td>\n",
              "      <td>2023</td>\n",
              "      <td>Morning</td>\n",
              "      <td>387.023611</td>\n",
              "      <td>2023-06-12</td>\n",
              "    </tr>\n",
              "  </tbody>\n",
              "</table>\n",
              "<p>114069 rows × 26 columns</p>\n",
              "</div>\n",
              "    <div class=\"colab-df-buttons\">\n",
              "\n",
              "  <div class=\"colab-df-container\">\n",
              "    <button class=\"colab-df-convert\" onclick=\"convertToInteractive('df-fb1198ab-d292-4926-af94-dbe2cf76588c')\"\n",
              "            title=\"Convert this dataframe to an interactive table.\"\n",
              "            style=\"display:none;\">\n",
              "\n",
              "  <svg xmlns=\"http://www.w3.org/2000/svg\" height=\"24px\" viewBox=\"0 -960 960 960\">\n",
              "    <path d=\"M120-120v-720h720v720H120Zm60-500h600v-160H180v160Zm220 220h160v-160H400v160Zm0 220h160v-160H400v160ZM180-400h160v-160H180v160Zm440 0h160v-160H620v160ZM180-180h160v-160H180v160Zm440 0h160v-160H620v160Z\"/>\n",
              "  </svg>\n",
              "    </button>\n",
              "\n",
              "  <style>\n",
              "    .colab-df-container {\n",
              "      display:flex;\n",
              "      gap: 12px;\n",
              "    }\n",
              "\n",
              "    .colab-df-convert {\n",
              "      background-color: #E8F0FE;\n",
              "      border: none;\n",
              "      border-radius: 50%;\n",
              "      cursor: pointer;\n",
              "      display: none;\n",
              "      fill: #1967D2;\n",
              "      height: 32px;\n",
              "      padding: 0 0 0 0;\n",
              "      width: 32px;\n",
              "    }\n",
              "\n",
              "    .colab-df-convert:hover {\n",
              "      background-color: #E2EBFA;\n",
              "      box-shadow: 0px 1px 2px rgba(60, 64, 67, 0.3), 0px 1px 3px 1px rgba(60, 64, 67, 0.15);\n",
              "      fill: #174EA6;\n",
              "    }\n",
              "\n",
              "    .colab-df-buttons div {\n",
              "      margin-bottom: 4px;\n",
              "    }\n",
              "\n",
              "    [theme=dark] .colab-df-convert {\n",
              "      background-color: #3B4455;\n",
              "      fill: #D2E3FC;\n",
              "    }\n",
              "\n",
              "    [theme=dark] .colab-df-convert:hover {\n",
              "      background-color: #434B5C;\n",
              "      box-shadow: 0px 1px 3px 1px rgba(0, 0, 0, 0.15);\n",
              "      filter: drop-shadow(0px 1px 2px rgba(0, 0, 0, 0.3));\n",
              "      fill: #FFFFFF;\n",
              "    }\n",
              "  </style>\n",
              "\n",
              "    <script>\n",
              "      const buttonEl =\n",
              "        document.querySelector('#df-fb1198ab-d292-4926-af94-dbe2cf76588c button.colab-df-convert');\n",
              "      buttonEl.style.display =\n",
              "        google.colab.kernel.accessAllowed ? 'block' : 'none';\n",
              "\n",
              "      async function convertToInteractive(key) {\n",
              "        const element = document.querySelector('#df-fb1198ab-d292-4926-af94-dbe2cf76588c');\n",
              "        const dataTable =\n",
              "          await google.colab.kernel.invokeFunction('convertToInteractive',\n",
              "                                                    [key], {});\n",
              "        if (!dataTable) return;\n",
              "\n",
              "        const docLinkHtml = 'Like what you see? Visit the ' +\n",
              "          '<a target=\"_blank\" href=https://colab.research.google.com/notebooks/data_table.ipynb>data table notebook</a>'\n",
              "          + ' to learn more about interactive tables.';\n",
              "        element.innerHTML = '';\n",
              "        dataTable['output_type'] = 'display_data';\n",
              "        await google.colab.output.renderOutput(dataTable, element);\n",
              "        const docLink = document.createElement('div');\n",
              "        docLink.innerHTML = docLinkHtml;\n",
              "        element.appendChild(docLink);\n",
              "      }\n",
              "    </script>\n",
              "  </div>\n",
              "\n",
              "\n",
              "<div id=\"df-60d74ad9-11c3-4888-91a1-b6af4618843f\">\n",
              "  <button class=\"colab-df-quickchart\" onclick=\"quickchart('df-60d74ad9-11c3-4888-91a1-b6af4618843f')\"\n",
              "            title=\"Suggest charts\"\n",
              "            style=\"display:none;\">\n",
              "\n",
              "<svg xmlns=\"http://www.w3.org/2000/svg\" height=\"24px\"viewBox=\"0 0 24 24\"\n",
              "     width=\"24px\">\n",
              "    <g>\n",
              "        <path d=\"M19 3H5c-1.1 0-2 .9-2 2v14c0 1.1.9 2 2 2h14c1.1 0 2-.9 2-2V5c0-1.1-.9-2-2-2zM9 17H7v-7h2v7zm4 0h-2V7h2v10zm4 0h-2v-4h2v4z\"/>\n",
              "    </g>\n",
              "</svg>\n",
              "  </button>\n",
              "\n",
              "<style>\n",
              "  .colab-df-quickchart {\n",
              "      --bg-color: #E8F0FE;\n",
              "      --fill-color: #1967D2;\n",
              "      --hover-bg-color: #E2EBFA;\n",
              "      --hover-fill-color: #174EA6;\n",
              "      --disabled-fill-color: #AAA;\n",
              "      --disabled-bg-color: #DDD;\n",
              "  }\n",
              "\n",
              "  [theme=dark] .colab-df-quickchart {\n",
              "      --bg-color: #3B4455;\n",
              "      --fill-color: #D2E3FC;\n",
              "      --hover-bg-color: #434B5C;\n",
              "      --hover-fill-color: #FFFFFF;\n",
              "      --disabled-bg-color: #3B4455;\n",
              "      --disabled-fill-color: #666;\n",
              "  }\n",
              "\n",
              "  .colab-df-quickchart {\n",
              "    background-color: var(--bg-color);\n",
              "    border: none;\n",
              "    border-radius: 50%;\n",
              "    cursor: pointer;\n",
              "    display: none;\n",
              "    fill: var(--fill-color);\n",
              "    height: 32px;\n",
              "    padding: 0;\n",
              "    width: 32px;\n",
              "  }\n",
              "\n",
              "  .colab-df-quickchart:hover {\n",
              "    background-color: var(--hover-bg-color);\n",
              "    box-shadow: 0 1px 2px rgba(60, 64, 67, 0.3), 0 1px 3px 1px rgba(60, 64, 67, 0.15);\n",
              "    fill: var(--button-hover-fill-color);\n",
              "  }\n",
              "\n",
              "  .colab-df-quickchart-complete:disabled,\n",
              "  .colab-df-quickchart-complete:disabled:hover {\n",
              "    background-color: var(--disabled-bg-color);\n",
              "    fill: var(--disabled-fill-color);\n",
              "    box-shadow: none;\n",
              "  }\n",
              "\n",
              "  .colab-df-spinner {\n",
              "    border: 2px solid var(--fill-color);\n",
              "    border-color: transparent;\n",
              "    border-bottom-color: var(--fill-color);\n",
              "    animation:\n",
              "      spin 1s steps(1) infinite;\n",
              "  }\n",
              "\n",
              "  @keyframes spin {\n",
              "    0% {\n",
              "      border-color: transparent;\n",
              "      border-bottom-color: var(--fill-color);\n",
              "      border-left-color: var(--fill-color);\n",
              "    }\n",
              "    20% {\n",
              "      border-color: transparent;\n",
              "      border-left-color: var(--fill-color);\n",
              "      border-top-color: var(--fill-color);\n",
              "    }\n",
              "    30% {\n",
              "      border-color: transparent;\n",
              "      border-left-color: var(--fill-color);\n",
              "      border-top-color: var(--fill-color);\n",
              "      border-right-color: var(--fill-color);\n",
              "    }\n",
              "    40% {\n",
              "      border-color: transparent;\n",
              "      border-right-color: var(--fill-color);\n",
              "      border-top-color: var(--fill-color);\n",
              "    }\n",
              "    60% {\n",
              "      border-color: transparent;\n",
              "      border-right-color: var(--fill-color);\n",
              "    }\n",
              "    80% {\n",
              "      border-color: transparent;\n",
              "      border-right-color: var(--fill-color);\n",
              "      border-bottom-color: var(--fill-color);\n",
              "    }\n",
              "    90% {\n",
              "      border-color: transparent;\n",
              "      border-bottom-color: var(--fill-color);\n",
              "    }\n",
              "  }\n",
              "</style>\n",
              "\n",
              "  <script>\n",
              "    async function quickchart(key) {\n",
              "      const quickchartButtonEl =\n",
              "        document.querySelector('#' + key + ' button');\n",
              "      quickchartButtonEl.disabled = true;  // To prevent multiple clicks.\n",
              "      quickchartButtonEl.classList.add('colab-df-spinner');\n",
              "      try {\n",
              "        const charts = await google.colab.kernel.invokeFunction(\n",
              "            'suggestCharts', [key], {});\n",
              "      } catch (error) {\n",
              "        console.error('Error during call to suggestCharts:', error);\n",
              "      }\n",
              "      quickchartButtonEl.classList.remove('colab-df-spinner');\n",
              "      quickchartButtonEl.classList.add('colab-df-quickchart-complete');\n",
              "    }\n",
              "    (() => {\n",
              "      let quickchartButtonEl =\n",
              "        document.querySelector('#df-60d74ad9-11c3-4888-91a1-b6af4618843f button');\n",
              "      quickchartButtonEl.style.display =\n",
              "        google.colab.kernel.accessAllowed ? 'block' : 'none';\n",
              "    })();\n",
              "  </script>\n",
              "</div>\n",
              "\n",
              "  <div id=\"id_ef10360e-2fd9-4ce2-8c79-7132c1e93c1d\">\n",
              "    <style>\n",
              "      .colab-df-generate {\n",
              "        background-color: #E8F0FE;\n",
              "        border: none;\n",
              "        border-radius: 50%;\n",
              "        cursor: pointer;\n",
              "        display: none;\n",
              "        fill: #1967D2;\n",
              "        height: 32px;\n",
              "        padding: 0 0 0 0;\n",
              "        width: 32px;\n",
              "      }\n",
              "\n",
              "      .colab-df-generate:hover {\n",
              "        background-color: #E2EBFA;\n",
              "        box-shadow: 0px 1px 2px rgba(60, 64, 67, 0.3), 0px 1px 3px 1px rgba(60, 64, 67, 0.15);\n",
              "        fill: #174EA6;\n",
              "      }\n",
              "\n",
              "      [theme=dark] .colab-df-generate {\n",
              "        background-color: #3B4455;\n",
              "        fill: #D2E3FC;\n",
              "      }\n",
              "\n",
              "      [theme=dark] .colab-df-generate:hover {\n",
              "        background-color: #434B5C;\n",
              "        box-shadow: 0px 1px 3px 1px rgba(0, 0, 0, 0.15);\n",
              "        filter: drop-shadow(0px 1px 2px rgba(0, 0, 0, 0.3));\n",
              "        fill: #FFFFFF;\n",
              "      }\n",
              "    </style>\n",
              "    <button class=\"colab-df-generate\" onclick=\"generateWithVariable('weighted_df')\"\n",
              "            title=\"Generate code using this dataframe.\"\n",
              "            style=\"display:none;\">\n",
              "\n",
              "  <svg xmlns=\"http://www.w3.org/2000/svg\" height=\"24px\"viewBox=\"0 0 24 24\"\n",
              "       width=\"24px\">\n",
              "    <path d=\"M7,19H8.4L18.45,9,17,7.55,7,17.6ZM5,21V16.75L18.45,3.32a2,2,0,0,1,2.83,0l1.4,1.43a1.91,1.91,0,0,1,.58,1.4,1.91,1.91,0,0,1-.58,1.4L9.25,21ZM18.45,9,17,7.55Zm-12,3A5.31,5.31,0,0,0,4.9,8.1,5.31,5.31,0,0,0,1,6.5,5.31,5.31,0,0,0,4.9,4.9,5.31,5.31,0,0,0,6.5,1,5.31,5.31,0,0,0,8.1,4.9,5.31,5.31,0,0,0,12,6.5,5.46,5.46,0,0,0,6.5,12Z\"/>\n",
              "  </svg>\n",
              "    </button>\n",
              "    <script>\n",
              "      (() => {\n",
              "      const buttonEl =\n",
              "        document.querySelector('#id_ef10360e-2fd9-4ce2-8c79-7132c1e93c1d button.colab-df-generate');\n",
              "      buttonEl.style.display =\n",
              "        google.colab.kernel.accessAllowed ? 'block' : 'none';\n",
              "\n",
              "      buttonEl.onclick = () => {\n",
              "        google.colab.notebook.generateWithVariable('weighted_df');\n",
              "      }\n",
              "      })();\n",
              "    </script>\n",
              "  </div>\n",
              "\n",
              "    </div>\n",
              "  </div>\n"
            ]
          },
          "metadata": {},
          "execution_count": 14
        }
      ]
    },
    {
      "cell_type": "markdown",
      "metadata": {
        "id": "VJ-R1hGCuT4P"
      },
      "source": [
        "In order for the model to be tested on new data, it should have exposure to every unique descriptor in the dataset. The below code creates a list of every item in the original dataframe's unique descriptors that is not found in the sample dataframe."
      ]
    },
    {
      "cell_type": "code",
      "metadata": {
        "colab": {
          "base_uri": "https://localhost:8080/"
        },
        "id": "LCKQkzBWcAJy",
        "outputId": "262fdba9-3931-4f1b-f0db-d046bef8c9fa"
      },
      "source": [
        "descriptors_not_in_sample = []\n",
        "\n",
        "#update above list with descriptors that aren't in the sample\n",
        "for i in df.descriptor.unique():\n",
        "  if i not in weighted_df.descriptor.unique():\n",
        "    descriptors_not_in_sample.append(i)\n",
        "\n",
        "len(descriptors_not_in_sample)"
      ],
      "execution_count": 15,
      "outputs": [
        {
          "output_type": "execute_result",
          "data": {
            "text/plain": [
              "132"
            ]
          },
          "metadata": {},
          "execution_count": 15
        }
      ]
    },
    {
      "cell_type": "markdown",
      "metadata": {
        "id": "Iim78erDu8if"
      },
      "source": [
        "The list above captures many of the less common descriptors that were not captured in the sample data, including most descriptors associated with minority agencies. Below, we create a dataframe with all calls that match these descriptors and concatenate them with the weighted sample dataframe."
      ]
    },
    {
      "cell_type": "code",
      "metadata": {
        "id": "zdZUiYEveDap"
      },
      "source": [
        "descriptors_not_in_sample_df = df[df.descriptor.isin(descriptors_not_in_sample)]"
      ],
      "execution_count": 16,
      "outputs": []
    },
    {
      "cell_type": "code",
      "metadata": {
        "id": "XTy5NgSAezLu"
      },
      "source": [
        "weighted_df = pd.concat([weighted_df,\n",
        "                         descriptors_not_in_sample_df])\n",
        "weighted_df.reset_index(inplace=True)"
      ],
      "execution_count": 17,
      "outputs": []
    },
    {
      "cell_type": "code",
      "metadata": {
        "colab": {
          "base_uri": "https://localhost:8080/"
        },
        "id": "Ka9F8jA5b1xJ",
        "outputId": "1eecb707-5310-4e74-b3f6-8ec10672f3af"
      },
      "source": [
        "#confirm that the number of unique descriptors is the same for both dataframes\n",
        "len(weighted_df.descriptor.unique()) == len(df.descriptor.unique())"
      ],
      "execution_count": 18,
      "outputs": [
        {
          "output_type": "execute_result",
          "data": {
            "text/plain": [
              "True"
            ]
          },
          "metadata": {},
          "execution_count": 18
        }
      ]
    },
    {
      "cell_type": "markdown",
      "metadata": {
        "id": "7G-L7vYfTWXO"
      },
      "source": [
        "The classes remain imbalanced, but no agency is represented by only a handful of samples, as would have been the case with simple random sampling:"
      ]
    },
    {
      "cell_type": "code",
      "metadata": {
        "colab": {
          "base_uri": "https://localhost:8080/"
        },
        "id": "iJ_kfxRaDU69",
        "outputId": "a456849d-bb62-4414-9301-9c87d94bc9b5"
      },
      "source": [
        "weighted_df.agency.value_counts()"
      ],
      "execution_count": 19,
      "outputs": [
        {
          "output_type": "execute_result",
          "data": {
            "text/plain": [
              "NYPD     58609\n",
              "HPD      20280\n",
              "DSNY     12775\n",
              "DEP       6349\n",
              "DOB       4445\n",
              "DPR       3497\n",
              "DOT       3424\n",
              "DOHMH     2472\n",
              "EDC        957\n",
              "TLC        716\n",
              "DCWP       630\n",
              "DHS        390\n",
              "DOE         47\n",
              "OTI          1\n",
              "Name: agency, dtype: int64"
            ]
          },
          "metadata": {},
          "execution_count": 19
        }
      ]
    },
    {
      "cell_type": "markdown",
      "metadata": {
        "id": "0Xxzm3adUPw4"
      },
      "source": [
        "# Keras Neural Network"
      ]
    },
    {
      "cell_type": "markdown",
      "metadata": {
        "id": "mEdxA7s6wc6X"
      },
      "source": [
        "## Preparing the Training and Test Data"
      ]
    },
    {
      "cell_type": "markdown",
      "metadata": {
        "id": "rQ45Wmxxwhg0"
      },
      "source": [
        "Using the dataframe of weighted samples, we assign 'X' to the descriptor column and 'y' to the agency column."
      ]
    },
    {
      "cell_type": "code",
      "metadata": {
        "id": "XuDY4PxXbCXy"
      },
      "source": [
        "X = weighted_df.descriptor\n",
        "y = weighted_df.agency"
      ],
      "execution_count": 20,
      "outputs": []
    },
    {
      "cell_type": "markdown",
      "metadata": {
        "id": "vWtSr0A5w3qD"
      },
      "source": [
        " The `texts_to_matrix()` method converts the list of texts to a NumPy matrix. Specifying the mode \"binary\" means that only the presence or absence of each item in the tokenizer's vocabulary will be accounted for in the matrix."
      ]
    },
    {
      "cell_type": "code",
      "metadata": {
        "id": "0q7gzxcYgyQ2"
      },
      "source": [
        "descriptors = X\n",
        "tokenizer = Tokenizer()\n",
        "\n",
        "tokenizer.fit_on_texts(descriptors)\n",
        "descriptor_onehot = tokenizer.texts_to_matrix(descriptors, mode='binary')\n",
        "word_index = tokenizer.word_index"
      ],
      "execution_count": 21,
      "outputs": []
    },
    {
      "cell_type": "markdown",
      "metadata": {
        "id": "yQMyujM_-goW"
      },
      "source": [
        "The word index is a dictionary that contains words in the tokenizer's vocabulary as keys, and integers that correspond to the keys' frequency rank as values. The first ten items of the dictionary are printed below, and we can see that the most frequent words have the lowest values. The highest value in the dictionary is 1035."
      ]
    },
    {
      "cell_type": "code",
      "metadata": {
        "colab": {
          "base_uri": "https://localhost:8080/"
        },
        "id": "tqSVnoIz3KfY",
        "outputId": "e2bfc8b2-7bac-4026-8208-71e375123c77"
      },
      "source": [
        "print(list(word_index.items())[0:10])\n",
        "print('Max:', max(word_index.values()))"
      ],
      "execution_count": 22,
      "outputs": [
        {
          "output_type": "stream",
          "name": "stdout",
          "text": [
            "[('loud', 1), ('music', 2), ('party', 3), ('blocked', 4), ('access', 5), ('hydrant', 6), ('parking', 7), ('no', 8), ('violation', 9), ('sign', 10)]\n",
            "Max: 1035\n"
          ]
        }
      ]
    },
    {
      "cell_type": "markdown",
      "metadata": {
        "id": "58-ghEfZB5Hn"
      },
      "source": [
        "The content and shape of the one-hot encoded descriptors are displayed below."
      ]
    },
    {
      "cell_type": "code",
      "metadata": {
        "colab": {
          "base_uri": "https://localhost:8080/",
          "height": 160
        },
        "id": "W1L7LoTr3fA8",
        "outputId": "ab712c80-f05d-4336-9843-2efa1aed3676"
      },
      "source": [
        "display(descriptor_onehot)\n",
        "\n",
        "print('Shape:', descriptor_onehot.shape)"
      ],
      "execution_count": 23,
      "outputs": [
        {
          "output_type": "display_data",
          "data": {
            "text/plain": [
              "array([[0., 0., 0., ..., 0., 0., 0.],\n",
              "       [0., 0., 0., ..., 0., 0., 0.],\n",
              "       [0., 0., 0., ..., 0., 0., 0.],\n",
              "       ...,\n",
              "       [0., 0., 0., ..., 0., 0., 0.],\n",
              "       [0., 0., 0., ..., 0., 0., 0.],\n",
              "       [0., 0., 0., ..., 0., 0., 0.]])"
            ]
          },
          "metadata": {}
        },
        {
          "output_type": "stream",
          "name": "stdout",
          "text": [
            "Shape: (114592, 1036)\n"
          ]
        }
      ]
    },
    {
      "cell_type": "markdown",
      "metadata": {
        "id": "NWO_IAYWC4Mc"
      },
      "source": [
        "The number of rows is the same as the number of rows in X, and correspond to an individual call:"
      ]
    },
    {
      "cell_type": "code",
      "metadata": {
        "colab": {
          "base_uri": "https://localhost:8080/"
        },
        "id": "1zOwlHkJCtrZ",
        "outputId": "b169b741-fc4b-4a7c-d09f-7a6cd9425339"
      },
      "source": [
        "X.shape"
      ],
      "execution_count": 24,
      "outputs": [
        {
          "output_type": "execute_result",
          "data": {
            "text/plain": [
              "(114592,)"
            ]
          },
          "metadata": {},
          "execution_count": 24
        }
      ]
    },
    {
      "cell_type": "markdown",
      "metadata": {
        "id": "KEr1U7bzDknt"
      },
      "source": [
        "Each column corresponds to one of 1,110 words in the tokenizer's vocabulary. If the word for a column is present in a given call's descriptor, its value at the call's corresponding row will be '1.' Otherwise, it will be '0.'"
      ]
    },
    {
      "cell_type": "markdown",
      "metadata": {
        "id": "EIw59i2XFJ12"
      },
      "source": [
        "The label encoder used below assigns a unique integer to each of the categories in the agency column. The keras.utils.to_categorica method \"converts a class vector (integers) to binary class matrix.\""
      ]
    },
    {
      "cell_type": "code",
      "metadata": {
        "id": "cJGOuSOohgMX"
      },
      "source": [
        "agency = y\n",
        "\n",
        "le = preprocessing.LabelEncoder()\n",
        "le.fit(agency)\n",
        "agency_cat = le.transform(agency)\n",
        "agency_onehot = to_categorical(agency_cat)"
      ],
      "execution_count": 25,
      "outputs": []
    },
    {
      "cell_type": "markdown",
      "metadata": {
        "id": "BitB8V1fKuFb"
      },
      "source": [
        "Let's examine the content and shape of the encoded agency data:"
      ]
    },
    {
      "cell_type": "code",
      "metadata": {
        "colab": {
          "base_uri": "https://localhost:8080/",
          "height": 160
        },
        "id": "XGhGFhjcKYHQ",
        "outputId": "e2d82f3b-6463-4230-82f5-4bb8ee95e07a"
      },
      "source": [
        "display(agency_onehot)\n",
        "print('Shape:', agency_onehot.shape)"
      ],
      "execution_count": 26,
      "outputs": [
        {
          "output_type": "display_data",
          "data": {
            "text/plain": [
              "array([[0., 0., 0., ..., 0., 0., 0.],\n",
              "       [0., 0., 0., ..., 0., 0., 0.],\n",
              "       [0., 0., 0., ..., 0., 0., 0.],\n",
              "       ...,\n",
              "       [0., 0., 1., ..., 0., 0., 0.],\n",
              "       [0., 0., 1., ..., 0., 0., 0.],\n",
              "       [0., 0., 1., ..., 0., 0., 0.]], dtype=float32)"
            ]
          },
          "metadata": {}
        },
        {
          "output_type": "stream",
          "name": "stdout",
          "text": [
            "Shape: (114592, 14)\n"
          ]
        }
      ]
    },
    {
      "cell_type": "markdown",
      "metadata": {
        "id": "fe7mqmR7QA6y"
      },
      "source": [
        "Each row corresponds to a call, and each column corresponds to an agency. The value in a given cell indicates whether the agency in its column either responded ('1'), or did not respond ('0'), to the call in its row.\n",
        "\n",
        "Now that both X and y have been encoded, we'll create a random split of training and test data."
      ]
    },
    {
      "cell_type": "code",
      "metadata": {
        "id": "w17CTxizTvsS"
      },
      "source": [
        "test, train, label_test, label_train = train_test_split(descriptor_onehot, agency_onehot, test_size=.1, random_state=6)"
      ],
      "execution_count": 27,
      "outputs": []
    },
    {
      "cell_type": "markdown",
      "metadata": {
        "id": "fcydqkeWxrQt"
      },
      "source": [
        "## Baseline Model"
      ]
    },
    {
      "cell_type": "markdown",
      "metadata": {
        "id": "fQ7LdKjaI-kH"
      },
      "source": [
        "We'll start with a baseline model before writing a function to assess how different parameters affect the model's performance. For all of the models, we'll use the \"categorical crossentropy\" loss function, which is appropriate for multiclass classification. Accuracy will also be the performance metric used for each model, but our interpretation of the accuracy should be informed by the large number of classes and significant class imbalance."
      ]
    },
    {
      "cell_type": "code",
      "metadata": {
        "id": "xkP7CC257B1v"
      },
      "source": [
        "model1 = models.Sequential()\n",
        "\n",
        "model1.add(layers.Dense(50, activation='relu', input_shape=(test.shape[1],)))\n",
        "model1.add(layers.Dense(25, activation='relu'))\n",
        "model1.add(layers.Dense(14, activation='softmax'))\n",
        "\n",
        "\n",
        "opt = tf.keras.optimizers.SGD(learning_rate=0.001)\n",
        "model1.compile(optimizer=opt,\n",
        "              loss='categorical_crossentropy',\n",
        "              metrics=['acc'])"
      ],
      "execution_count": 28,
      "outputs": []
    },
    {
      "cell_type": "markdown",
      "metadata": {
        "id": "889WTz47R5_A"
      },
      "source": [
        "To avoid overfitting the model to the training data, we'll add the `validation_split` parameter, and an early stopping callback that monitors validation loss, to our fit function."
      ]
    },
    {
      "cell_type": "code",
      "metadata": {
        "colab": {
          "base_uri": "https://localhost:8080/"
        },
        "id": "cRgLsdFd7enu",
        "outputId": "e243caca-3923-4ad9-b302-3b1469475549"
      },
      "source": [
        "es = keras.callbacks.EarlyStopping(monitor='val_loss', patience=5)\n",
        "\n",
        "history = model1.fit(train,\n",
        "                    label_train,\n",
        "                    validation_split=0.20,\n",
        "                    epochs=62,\n",
        "                    batch_size=32,\n",
        "                    callbacks=[es])"
      ],
      "execution_count": 29,
      "outputs": [
        {
          "output_type": "stream",
          "name": "stdout",
          "text": [
            "Epoch 1/62\n",
            "287/287 [==============================] - 5s 8ms/step - loss: 2.5964 - acc: 0.3174 - val_loss: 2.5531 - val_acc: 0.5092\n",
            "Epoch 2/62\n",
            "287/287 [==============================] - 1s 5ms/step - loss: 2.5113 - acc: 0.5168 - val_loss: 2.4682 - val_acc: 0.5113\n",
            "Epoch 3/62\n",
            "287/287 [==============================] - 1s 5ms/step - loss: 2.4136 - acc: 0.5170 - val_loss: 2.3623 - val_acc: 0.5113\n",
            "Epoch 4/62\n",
            "287/287 [==============================] - 1s 5ms/step - loss: 2.3078 - acc: 0.5170 - val_loss: 2.2571 - val_acc: 0.5113\n",
            "Epoch 5/62\n",
            "287/287 [==============================] - 1s 5ms/step - loss: 2.2022 - acc: 0.5170 - val_loss: 2.1512 - val_acc: 0.5113\n",
            "Epoch 6/62\n",
            "287/287 [==============================] - 1s 5ms/step - loss: 2.0948 - acc: 0.5170 - val_loss: 2.0429 - val_acc: 0.5113\n",
            "Epoch 7/62\n",
            "287/287 [==============================] - 1s 4ms/step - loss: 1.9874 - acc: 0.5170 - val_loss: 1.9381 - val_acc: 0.5113\n",
            "Epoch 8/62\n",
            "287/287 [==============================] - 2s 5ms/step - loss: 1.8879 - acc: 0.5170 - val_loss: 1.8454 - val_acc: 0.5113\n",
            "Epoch 9/62\n",
            "287/287 [==============================] - 2s 7ms/step - loss: 1.8035 - acc: 0.5170 - val_loss: 1.7702 - val_acc: 0.5113\n",
            "Epoch 10/62\n",
            "287/287 [==============================] - 2s 7ms/step - loss: 1.7378 - acc: 0.5170 - val_loss: 1.7135 - val_acc: 0.5113\n",
            "Epoch 11/62\n",
            "287/287 [==============================] - 2s 6ms/step - loss: 1.6884 - acc: 0.5170 - val_loss: 1.6696 - val_acc: 0.5113\n",
            "Epoch 12/62\n",
            "287/287 [==============================] - 1s 5ms/step - loss: 1.6487 - acc: 0.5170 - val_loss: 1.6326 - val_acc: 0.5113\n",
            "Epoch 13/62\n",
            "287/287 [==============================] - 1s 5ms/step - loss: 1.6147 - acc: 0.5170 - val_loss: 1.6003 - val_acc: 0.5113\n",
            "Epoch 14/62\n",
            "287/287 [==============================] - 1s 5ms/step - loss: 1.5851 - acc: 0.5170 - val_loss: 1.5719 - val_acc: 0.5113\n",
            "Epoch 15/62\n",
            "287/287 [==============================] - 1s 5ms/step - loss: 1.5584 - acc: 0.5170 - val_loss: 1.5456 - val_acc: 0.5113\n",
            "Epoch 16/62\n",
            "287/287 [==============================] - 1s 5ms/step - loss: 1.5335 - acc: 0.5170 - val_loss: 1.5212 - val_acc: 0.5113\n",
            "Epoch 17/62\n",
            "287/287 [==============================] - 1s 5ms/step - loss: 1.5103 - acc: 0.5170 - val_loss: 1.4982 - val_acc: 0.5113\n",
            "Epoch 18/62\n",
            "287/287 [==============================] - 2s 5ms/step - loss: 1.4882 - acc: 0.5170 - val_loss: 1.4764 - val_acc: 0.5113\n",
            "Epoch 19/62\n",
            "287/287 [==============================] - 2s 7ms/step - loss: 1.4670 - acc: 0.5170 - val_loss: 1.4555 - val_acc: 0.5113\n",
            "Epoch 20/62\n",
            "287/287 [==============================] - 2s 7ms/step - loss: 1.4466 - acc: 0.5170 - val_loss: 1.4354 - val_acc: 0.5113\n",
            "Epoch 21/62\n",
            "287/287 [==============================] - 2s 6ms/step - loss: 1.4267 - acc: 0.5170 - val_loss: 1.4159 - val_acc: 0.5113\n",
            "Epoch 22/62\n",
            "287/287 [==============================] - 1s 5ms/step - loss: 1.4073 - acc: 0.5170 - val_loss: 1.3967 - val_acc: 0.5113\n",
            "Epoch 23/62\n",
            "287/287 [==============================] - 1s 5ms/step - loss: 1.3880 - acc: 0.5170 - val_loss: 1.3778 - val_acc: 0.5113\n",
            "Epoch 24/62\n",
            "287/287 [==============================] - 1s 5ms/step - loss: 1.3688 - acc: 0.5170 - val_loss: 1.3588 - val_acc: 0.5113\n",
            "Epoch 25/62\n",
            "287/287 [==============================] - 1s 5ms/step - loss: 1.3494 - acc: 0.5170 - val_loss: 1.3398 - val_acc: 0.5113\n",
            "Epoch 26/62\n",
            "287/287 [==============================] - 1s 5ms/step - loss: 1.3299 - acc: 0.5170 - val_loss: 1.3205 - val_acc: 0.5113\n",
            "Epoch 27/62\n",
            "287/287 [==============================] - 1s 5ms/step - loss: 1.3102 - acc: 0.5312 - val_loss: 1.3010 - val_acc: 0.5323\n",
            "Epoch 28/62\n",
            "287/287 [==============================] - 1s 5ms/step - loss: 1.2906 - acc: 0.5362 - val_loss: 1.2820 - val_acc: 0.5323\n",
            "Epoch 29/62\n",
            "287/287 [==============================] - 2s 6ms/step - loss: 1.2714 - acc: 0.5373 - val_loss: 1.2632 - val_acc: 0.5336\n",
            "Epoch 30/62\n",
            "287/287 [==============================] - 2s 6ms/step - loss: 1.2525 - acc: 0.5388 - val_loss: 1.2448 - val_acc: 0.5419\n",
            "Epoch 31/62\n",
            "287/287 [==============================] - 2s 5ms/step - loss: 1.2340 - acc: 0.5481 - val_loss: 1.2271 - val_acc: 0.5476\n",
            "Epoch 32/62\n",
            "287/287 [==============================] - 1s 4ms/step - loss: 1.2163 - acc: 0.5657 - val_loss: 1.2099 - val_acc: 0.5816\n",
            "Epoch 33/62\n",
            "287/287 [==============================] - 1s 4ms/step - loss: 1.1990 - acc: 0.5874 - val_loss: 1.1932 - val_acc: 0.5908\n",
            "Epoch 34/62\n",
            "287/287 [==============================] - 1s 4ms/step - loss: 1.1823 - acc: 0.5945 - val_loss: 1.1770 - val_acc: 0.6003\n",
            "Epoch 35/62\n",
            "287/287 [==============================] - 1s 4ms/step - loss: 1.1662 - acc: 0.6206 - val_loss: 1.1615 - val_acc: 0.6536\n",
            "Epoch 36/62\n",
            "287/287 [==============================] - 1s 4ms/step - loss: 1.1507 - acc: 0.6432 - val_loss: 1.1466 - val_acc: 0.6575\n",
            "Epoch 37/62\n",
            "287/287 [==============================] - 1s 4ms/step - loss: 1.1358 - acc: 0.6488 - val_loss: 1.1322 - val_acc: 0.6684\n",
            "Epoch 38/62\n",
            "287/287 [==============================] - 1s 4ms/step - loss: 1.1215 - acc: 0.6568 - val_loss: 1.1187 - val_acc: 0.6837\n",
            "Epoch 39/62\n",
            "287/287 [==============================] - 1s 4ms/step - loss: 1.1079 - acc: 0.6678 - val_loss: 1.1058 - val_acc: 0.6832\n",
            "Epoch 40/62\n",
            "287/287 [==============================] - 1s 5ms/step - loss: 1.0950 - acc: 0.6700 - val_loss: 1.0936 - val_acc: 0.6837\n",
            "Epoch 41/62\n",
            "287/287 [==============================] - 2s 6ms/step - loss: 1.0826 - acc: 0.6741 - val_loss: 1.0818 - val_acc: 0.6902\n",
            "Epoch 42/62\n",
            "287/287 [==============================] - 2s 6ms/step - loss: 1.0708 - acc: 0.6739 - val_loss: 1.0704 - val_acc: 0.6898\n",
            "Epoch 43/62\n",
            "287/287 [==============================] - 2s 5ms/step - loss: 1.0594 - acc: 0.6734 - val_loss: 1.0597 - val_acc: 0.6898\n",
            "Epoch 44/62\n",
            "287/287 [==============================] - 1s 5ms/step - loss: 1.0486 - acc: 0.6743 - val_loss: 1.0493 - val_acc: 0.6981\n",
            "Epoch 45/62\n",
            "287/287 [==============================] - 1s 4ms/step - loss: 1.0382 - acc: 0.6783 - val_loss: 1.0394 - val_acc: 0.6981\n",
            "Epoch 46/62\n",
            "287/287 [==============================] - 1s 4ms/step - loss: 1.0282 - acc: 0.6783 - val_loss: 1.0300 - val_acc: 0.6981\n",
            "Epoch 47/62\n",
            "287/287 [==============================] - 1s 5ms/step - loss: 1.0187 - acc: 0.6783 - val_loss: 1.0209 - val_acc: 0.6981\n",
            "Epoch 48/62\n",
            "287/287 [==============================] - 1s 5ms/step - loss: 1.0096 - acc: 0.6774 - val_loss: 1.0122 - val_acc: 0.6972\n",
            "Epoch 49/62\n",
            "287/287 [==============================] - 1s 5ms/step - loss: 1.0008 - acc: 0.6771 - val_loss: 1.0038 - val_acc: 0.6972\n",
            "Epoch 50/62\n",
            "287/287 [==============================] - 1s 5ms/step - loss: 0.9924 - acc: 0.6771 - val_loss: 0.9958 - val_acc: 0.6981\n",
            "Epoch 51/62\n",
            "287/287 [==============================] - 2s 6ms/step - loss: 0.9844 - acc: 0.6774 - val_loss: 0.9881 - val_acc: 0.6981\n",
            "Epoch 52/62\n",
            "287/287 [==============================] - 3s 12ms/step - loss: 0.9766 - acc: 0.6771 - val_loss: 0.9807 - val_acc: 0.6981\n",
            "Epoch 53/62\n",
            "287/287 [==============================] - 2s 6ms/step - loss: 0.9691 - acc: 0.6844 - val_loss: 0.9735 - val_acc: 0.7142\n",
            "Epoch 54/62\n",
            "287/287 [==============================] - 1s 5ms/step - loss: 0.9618 - acc: 0.6988 - val_loss: 0.9665 - val_acc: 0.7142\n",
            "Epoch 55/62\n",
            "287/287 [==============================] - 1s 5ms/step - loss: 0.9548 - acc: 0.6988 - val_loss: 0.9598 - val_acc: 0.7142\n",
            "Epoch 56/62\n",
            "287/287 [==============================] - 1s 5ms/step - loss: 0.9480 - acc: 0.6990 - val_loss: 0.9534 - val_acc: 0.7151\n",
            "Epoch 57/62\n",
            "287/287 [==============================] - 1s 5ms/step - loss: 0.9414 - acc: 0.7012 - val_loss: 0.9470 - val_acc: 0.7173\n",
            "Epoch 58/62\n",
            "287/287 [==============================] - 1s 4ms/step - loss: 0.9349 - acc: 0.7039 - val_loss: 0.9409 - val_acc: 0.7182\n",
            "Epoch 59/62\n",
            "287/287 [==============================] - 1s 5ms/step - loss: 0.9286 - acc: 0.7057 - val_loss: 0.9348 - val_acc: 0.7182\n",
            "Epoch 60/62\n",
            "287/287 [==============================] - 1s 5ms/step - loss: 0.9225 - acc: 0.7057 - val_loss: 0.9288 - val_acc: 0.7182\n",
            "Epoch 61/62\n",
            "287/287 [==============================] - 2s 7ms/step - loss: 0.9164 - acc: 0.7058 - val_loss: 0.9229 - val_acc: 0.7203\n",
            "Epoch 62/62\n",
            "287/287 [==============================] - 2s 7ms/step - loss: 0.9104 - acc: 0.7062 - val_loss: 0.9171 - val_acc: 0.7203\n"
          ]
        }
      ]
    },
    {
      "cell_type": "markdown",
      "metadata": {
        "id": "HXCkp3-l0FRD"
      },
      "source": [
        "Let's look at the model's loss and accuracy score."
      ]
    },
    {
      "cell_type": "code",
      "metadata": {
        "colab": {
          "base_uri": "https://localhost:8080/"
        },
        "id": "Fpz0BAQqKNf9",
        "outputId": "9373c3e9-4968-4651-add0-e73fbd79abe2"
      },
      "source": [
        "results = model1.evaluate(test, label_test, batch_size=32)"
      ],
      "execution_count": 30,
      "outputs": [
        {
          "output_type": "stream",
          "name": "stdout",
          "text": [
            "3223/3223 [==============================] - 11s 3ms/step - loss: 0.9302 - acc: 0.7046\n"
          ]
        }
      ]
    },
    {
      "cell_type": "markdown",
      "metadata": {
        "id": "KRKe8u-B0Nu5"
      },
      "source": [
        "The function below plots the model's loss and accuracy curves, which will provide a better visual sense of how the values for these metrics changed as the number of epochs increased."
      ]
    },
    {
      "cell_type": "code",
      "source": [
        "import plotly.graph_objects as go\n",
        "\n",
        "def plot_loss_acc(history):\n",
        "    \"\"\"\n",
        "    Takes in a Keras history object and returns a figure displaying the\n",
        "    model's loss and accuracy curves using Plotly.\n",
        "    \"\"\"\n",
        "\n",
        "    fig = go.Figure()\n",
        "\n",
        "    # Plot accuracy\n",
        "    fig.add_trace(go.Scatter(x=list(range(1, len(history.history['acc']) + 1)),\n",
        "                             y=history.history['acc'],\n",
        "                             mode='lines',\n",
        "                             name='Train Accuracy',\n",
        "                             line=dict(color='#D8A7B1', width=3)))  # Change color to orange\n",
        "\n",
        "    fig.add_trace(go.Scatter(x=list(range(1, len(history.history['val_acc']) + 1)),\n",
        "                             y=history.history['val_acc'],\n",
        "                             mode='lines',\n",
        "                             name='Validation Accuracy',\n",
        "                             line=dict(color='#05234C', width=3)))  # Change color to blue\n",
        "\n",
        "    # Plot loss\n",
        "    fig.add_trace(go.Scatter(x=list(range(1, len(history.history['loss']) + 1)),\n",
        "                             y=history.history['loss'],\n",
        "                             mode='lines',\n",
        "                             name='Train Loss',\n",
        "                             line=dict(color='#D8A7B1', width=3, dash='dash')))  # Change color to orange\n",
        "\n",
        "    fig.add_trace(go.Scatter(x=list(range(1, len(history.history['val_loss']) + 1)),\n",
        "                             y=history.history['val_loss'],\n",
        "                             mode='lines',\n",
        "                             name='Validation Loss',\n",
        "                             line=dict(color='#05234C', width=3, dash='dash')))  # Change color to blue\n",
        "\n",
        "    # Layout settings\n",
        "    fig.update_layout(\n",
        "        title='Model Training Metrics',\n",
        "        xaxis=dict(title='Number of epochs'),\n",
        "        yaxis=dict(title='Metric Value'),\n",
        "        legend=dict(x=0.75, y=0.9),\n",
        "        template='plotly_white',  # Set background to white\n",
        "    )\n",
        "\n",
        "    # Show the figure\n",
        "    fig.show()"
      ],
      "metadata": {
        "id": "10fixrmSq6AV"
      },
      "execution_count": 31,
      "outputs": []
    },
    {
      "cell_type": "code",
      "source": [
        "# Example usage\n",
        "plot_loss_acc(history)"
      ],
      "metadata": {
        "colab": {
          "base_uri": "https://localhost:8080/",
          "height": 542
        },
        "id": "-U_WFi17rSzA",
        "outputId": "fbf6ee6b-a445-4f3f-c13d-84cf738b3e8a"
      },
      "execution_count": 32,
      "outputs": [
        {
          "output_type": "display_data",
          "data": {
            "text/html": [
              "<html>\n",
              "<head><meta charset=\"utf-8\" /></head>\n",
              "<body>\n",
              "    <div>            <script src=\"https://cdnjs.cloudflare.com/ajax/libs/mathjax/2.7.5/MathJax.js?config=TeX-AMS-MML_SVG\"></script><script type=\"text/javascript\">if (window.MathJax && window.MathJax.Hub && window.MathJax.Hub.Config) {window.MathJax.Hub.Config({SVG: {font: \"STIX-Web\"}});}</script>                <script type=\"text/javascript\">window.PlotlyConfig = {MathJaxConfig: 'local'};</script>\n",
              "        <script charset=\"utf-8\" src=\"https://cdn.plot.ly/plotly-2.24.1.min.js\"></script>                <div id=\"d89b676b-a1f6-47b9-b9d4-66a68e605300\" class=\"plotly-graph-div\" style=\"height:525px; width:100%;\"></div>            <script type=\"text/javascript\">                                    window.PLOTLYENV=window.PLOTLYENV || {};                                    if (document.getElementById(\"d89b676b-a1f6-47b9-b9d4-66a68e605300\")) {                    Plotly.newPlot(                        \"d89b676b-a1f6-47b9-b9d4-66a68e605300\",                        [{\"line\":{\"color\":\"#D8A7B1\",\"width\":3},\"mode\":\"lines\",\"name\":\"Train Accuracy\",\"x\":[1,2,3,4,5,6,7,8,9,10,11,12,13,14,15,16,17,18,19,20,21,22,23,24,25,26,27,28,29,30,31,32,33,34,35,36,37,38,39,40,41,42,43,44,45,46,47,48,49,50,51,52,53,54,55,56,57,58,59,60,61,62],\"y\":[0.31740838289260864,0.5167975425720215,0.5170156955718994,0.5170156955718994,0.5170156955718994,0.5170156955718994,0.5170156955718994,0.5170156955718994,0.5170156955718994,0.5170156955718994,0.5170156955718994,0.5170156955718994,0.5170156955718994,0.5170156955718994,0.5170156955718994,0.5170156955718994,0.5170156955718994,0.5170156955718994,0.5170156955718994,0.5170156955718994,0.5170156955718994,0.5170156955718994,0.5170156955718994,0.5170156955718994,0.5170156955718994,0.5170156955718994,0.5311954617500305,0.5362129211425781,0.5373036861419678,0.5388306975364685,0.548102080821991,0.5656631588935852,0.5873690843582153,0.5944589972496033,0.6206369996070862,0.643215537071228,0.6487783789634705,0.6568499207496643,0.6677573919296265,0.6700479984283447,0.6740837693214417,0.6738656163215637,0.6734293103218079,0.6743019223213196,0.6783376932144165,0.6783376932144165,0.6783376932144165,0.6773560047149658,0.6771378517150879,0.6771378517150879,0.6773560047149658,0.6771378517150879,0.6844459176063538,0.698843777179718,0.698843777179718,0.698952853679657,0.7012434601783752,0.7038612365722656,0.705715537071228,0.705715537071228,0.705824613571167,0.7061518430709839],\"type\":\"scatter\"},{\"line\":{\"color\":\"#05234C\",\"width\":3},\"mode\":\"lines\",\"name\":\"Validation Accuracy\",\"x\":[1,2,3,4,5,6,7,8,9,10,11,12,13,14,15,16,17,18,19,20,21,22,23,24,25,26,27,28,29,30,31,32,33,34,35,36,37,38,39,40,41,42,43,44,45,46,47,48,49,50,51,52,53,54,55,56,57,58,59,60,61,62],\"y\":[0.5091623067855835,0.511343777179718,0.511343777179718,0.511343777179718,0.511343777179718,0.511343777179718,0.511343777179718,0.511343777179718,0.511343777179718,0.511343777179718,0.511343777179718,0.511343777179718,0.511343777179718,0.511343777179718,0.511343777179718,0.511343777179718,0.511343777179718,0.511343777179718,0.511343777179718,0.511343777179718,0.511343777179718,0.511343777179718,0.511343777179718,0.511343777179718,0.511343777179718,0.511343777179718,0.5322862267494202,0.5322862267494202,0.533595085144043,0.5418848395347595,0.5475566983222961,0.5815881490707397,0.5907504558563232,0.6003490686416626,0.6535776853561401,0.6575043797492981,0.6684118509292603,0.683682382106781,0.6832460761070251,0.683682382106781,0.6902268528938293,0.6897905468940735,0.6897905468940735,0.69808030128479,0.69808030128479,0.69808030128479,0.69808030128479,0.6972076892852783,0.6972076892852783,0.69808030128479,0.69808030128479,0.69808030128479,0.7142233848571777,0.7142233848571777,0.7142233848571777,0.7150959968566895,0.717277467250824,0.7181500792503357,0.7181500792503357,0.7181500792503357,0.720331609249115,0.720331609249115],\"type\":\"scatter\"},{\"line\":{\"color\":\"#D8A7B1\",\"dash\":\"dash\",\"width\":3},\"mode\":\"lines\",\"name\":\"Train Loss\",\"x\":[1,2,3,4,5,6,7,8,9,10,11,12,13,14,15,16,17,18,19,20,21,22,23,24,25,26,27,28,29,30,31,32,33,34,35,36,37,38,39,40,41,42,43,44,45,46,47,48,49,50,51,52,53,54,55,56,57,58,59,60,61,62],\"y\":[2.596372127532959,2.5113039016723633,2.4136085510253906,2.3078453540802,2.2022480964660645,2.09483003616333,1.9874361753463745,1.8878785371780396,1.80354642868042,1.7378207445144653,1.6884340047836304,1.6486576795578003,1.6146628856658936,1.5850971937179565,1.5584101676940918,1.5335379838943481,1.5102964639663696,1.488213300704956,1.4670294523239136,1.4465665817260742,1.4267178773880005,1.4072813987731934,1.3879649639129639,1.3687520027160645,1.349403738975525,1.3299205303192139,1.3101861476898193,1.290617823600769,1.2714152336120605,1.2525019645690918,1.2340208292007446,1.2162933349609375,1.1990478038787842,1.182308554649353,1.166217565536499,1.1507036685943604,1.1357697248458862,1.121474027633667,1.1078897714614868,1.0949583053588867,1.0826038122177124,1.0707690715789795,1.059430480003357,1.0485717058181763,1.0381839275360107,1.0282164812088013,1.0186822414398193,1.0095773935317993,1.000838279724121,0.9924471974372864,0.9843695759773254,0.9765917062759399,0.9690840244293213,0.9618175625801086,0.9548013806343079,0.9480142593383789,0.9414117932319641,0.9349477291107178,0.9286360740661621,0.9224568009376526,0.9163574576377869,0.9103751182556152],\"type\":\"scatter\"},{\"line\":{\"color\":\"#05234C\",\"dash\":\"dash\",\"width\":3},\"mode\":\"lines\",\"name\":\"Validation Loss\",\"x\":[1,2,3,4,5,6,7,8,9,10,11,12,13,14,15,16,17,18,19,20,21,22,23,24,25,26,27,28,29,30,31,32,33,34,35,36,37,38,39,40,41,42,43,44,45,46,47,48,49,50,51,52,53,54,55,56,57,58,59,60,61,62],\"y\":[2.553142547607422,2.4682154655456543,2.3623456954956055,2.2571229934692383,2.15118145942688,2.0429201126098633,1.9381119012832642,1.8453654050827026,1.7702081203460693,1.7135083675384521,1.66963791847229,1.6325538158416748,1.600327968597412,1.5718828439712524,1.5456151962280273,1.521209716796875,1.4982211589813232,1.4764108657836914,1.4554640054702759,1.4353511333465576,1.4158505201339722,1.3966834545135498,1.3777680397033691,1.3587861061096191,1.3397655487060547,1.3205490112304688,1.3009876012802124,1.2819693088531494,1.2632282972335815,1.2448420524597168,1.2270805835723877,1.2098983526229858,1.1931710243225098,1.1770106554031372,1.1614890098571777,1.146551489830017,1.132247805595398,1.118664026260376,1.1057692766189575,1.0935651063919067,1.0817880630493164,1.0704262256622314,1.0596739053726196,1.0492970943450928,1.0393803119659424,1.0299674272537231,1.020914912223816,1.0122047662734985,1.0038337707519531,0.9958463311195374,0.9881353378295898,0.9806838035583496,0.9734798669815063,0.9665220379829407,0.9598410129547119,0.953355610370636,0.9470045566558838,0.9408515095710754,0.9347554445266724,0.9288017153739929,0.9228518009185791,0.9171054363250732],\"type\":\"scatter\"}],                        {\"template\":{\"data\":{\"barpolar\":[{\"marker\":{\"line\":{\"color\":\"white\",\"width\":0.5},\"pattern\":{\"fillmode\":\"overlay\",\"size\":10,\"solidity\":0.2}},\"type\":\"barpolar\"}],\"bar\":[{\"error_x\":{\"color\":\"#2a3f5f\"},\"error_y\":{\"color\":\"#2a3f5f\"},\"marker\":{\"line\":{\"color\":\"white\",\"width\":0.5},\"pattern\":{\"fillmode\":\"overlay\",\"size\":10,\"solidity\":0.2}},\"type\":\"bar\"}],\"carpet\":[{\"aaxis\":{\"endlinecolor\":\"#2a3f5f\",\"gridcolor\":\"#C8D4E3\",\"linecolor\":\"#C8D4E3\",\"minorgridcolor\":\"#C8D4E3\",\"startlinecolor\":\"#2a3f5f\"},\"baxis\":{\"endlinecolor\":\"#2a3f5f\",\"gridcolor\":\"#C8D4E3\",\"linecolor\":\"#C8D4E3\",\"minorgridcolor\":\"#C8D4E3\",\"startlinecolor\":\"#2a3f5f\"},\"type\":\"carpet\"}],\"choropleth\":[{\"colorbar\":{\"outlinewidth\":0,\"ticks\":\"\"},\"type\":\"choropleth\"}],\"contourcarpet\":[{\"colorbar\":{\"outlinewidth\":0,\"ticks\":\"\"},\"type\":\"contourcarpet\"}],\"contour\":[{\"colorbar\":{\"outlinewidth\":0,\"ticks\":\"\"},\"colorscale\":[[0.0,\"#0d0887\"],[0.1111111111111111,\"#46039f\"],[0.2222222222222222,\"#7201a8\"],[0.3333333333333333,\"#9c179e\"],[0.4444444444444444,\"#bd3786\"],[0.5555555555555556,\"#d8576b\"],[0.6666666666666666,\"#ed7953\"],[0.7777777777777778,\"#fb9f3a\"],[0.8888888888888888,\"#fdca26\"],[1.0,\"#f0f921\"]],\"type\":\"contour\"}],\"heatmapgl\":[{\"colorbar\":{\"outlinewidth\":0,\"ticks\":\"\"},\"colorscale\":[[0.0,\"#0d0887\"],[0.1111111111111111,\"#46039f\"],[0.2222222222222222,\"#7201a8\"],[0.3333333333333333,\"#9c179e\"],[0.4444444444444444,\"#bd3786\"],[0.5555555555555556,\"#d8576b\"],[0.6666666666666666,\"#ed7953\"],[0.7777777777777778,\"#fb9f3a\"],[0.8888888888888888,\"#fdca26\"],[1.0,\"#f0f921\"]],\"type\":\"heatmapgl\"}],\"heatmap\":[{\"colorbar\":{\"outlinewidth\":0,\"ticks\":\"\"},\"colorscale\":[[0.0,\"#0d0887\"],[0.1111111111111111,\"#46039f\"],[0.2222222222222222,\"#7201a8\"],[0.3333333333333333,\"#9c179e\"],[0.4444444444444444,\"#bd3786\"],[0.5555555555555556,\"#d8576b\"],[0.6666666666666666,\"#ed7953\"],[0.7777777777777778,\"#fb9f3a\"],[0.8888888888888888,\"#fdca26\"],[1.0,\"#f0f921\"]],\"type\":\"heatmap\"}],\"histogram2dcontour\":[{\"colorbar\":{\"outlinewidth\":0,\"ticks\":\"\"},\"colorscale\":[[0.0,\"#0d0887\"],[0.1111111111111111,\"#46039f\"],[0.2222222222222222,\"#7201a8\"],[0.3333333333333333,\"#9c179e\"],[0.4444444444444444,\"#bd3786\"],[0.5555555555555556,\"#d8576b\"],[0.6666666666666666,\"#ed7953\"],[0.7777777777777778,\"#fb9f3a\"],[0.8888888888888888,\"#fdca26\"],[1.0,\"#f0f921\"]],\"type\":\"histogram2dcontour\"}],\"histogram2d\":[{\"colorbar\":{\"outlinewidth\":0,\"ticks\":\"\"},\"colorscale\":[[0.0,\"#0d0887\"],[0.1111111111111111,\"#46039f\"],[0.2222222222222222,\"#7201a8\"],[0.3333333333333333,\"#9c179e\"],[0.4444444444444444,\"#bd3786\"],[0.5555555555555556,\"#d8576b\"],[0.6666666666666666,\"#ed7953\"],[0.7777777777777778,\"#fb9f3a\"],[0.8888888888888888,\"#fdca26\"],[1.0,\"#f0f921\"]],\"type\":\"histogram2d\"}],\"histogram\":[{\"marker\":{\"pattern\":{\"fillmode\":\"overlay\",\"size\":10,\"solidity\":0.2}},\"type\":\"histogram\"}],\"mesh3d\":[{\"colorbar\":{\"outlinewidth\":0,\"ticks\":\"\"},\"type\":\"mesh3d\"}],\"parcoords\":[{\"line\":{\"colorbar\":{\"outlinewidth\":0,\"ticks\":\"\"}},\"type\":\"parcoords\"}],\"pie\":[{\"automargin\":true,\"type\":\"pie\"}],\"scatter3d\":[{\"line\":{\"colorbar\":{\"outlinewidth\":0,\"ticks\":\"\"}},\"marker\":{\"colorbar\":{\"outlinewidth\":0,\"ticks\":\"\"}},\"type\":\"scatter3d\"}],\"scattercarpet\":[{\"marker\":{\"colorbar\":{\"outlinewidth\":0,\"ticks\":\"\"}},\"type\":\"scattercarpet\"}],\"scattergeo\":[{\"marker\":{\"colorbar\":{\"outlinewidth\":0,\"ticks\":\"\"}},\"type\":\"scattergeo\"}],\"scattergl\":[{\"marker\":{\"colorbar\":{\"outlinewidth\":0,\"ticks\":\"\"}},\"type\":\"scattergl\"}],\"scattermapbox\":[{\"marker\":{\"colorbar\":{\"outlinewidth\":0,\"ticks\":\"\"}},\"type\":\"scattermapbox\"}],\"scatterpolargl\":[{\"marker\":{\"colorbar\":{\"outlinewidth\":0,\"ticks\":\"\"}},\"type\":\"scatterpolargl\"}],\"scatterpolar\":[{\"marker\":{\"colorbar\":{\"outlinewidth\":0,\"ticks\":\"\"}},\"type\":\"scatterpolar\"}],\"scatter\":[{\"fillpattern\":{\"fillmode\":\"overlay\",\"size\":10,\"solidity\":0.2},\"type\":\"scatter\"}],\"scatterternary\":[{\"marker\":{\"colorbar\":{\"outlinewidth\":0,\"ticks\":\"\"}},\"type\":\"scatterternary\"}],\"surface\":[{\"colorbar\":{\"outlinewidth\":0,\"ticks\":\"\"},\"colorscale\":[[0.0,\"#0d0887\"],[0.1111111111111111,\"#46039f\"],[0.2222222222222222,\"#7201a8\"],[0.3333333333333333,\"#9c179e\"],[0.4444444444444444,\"#bd3786\"],[0.5555555555555556,\"#d8576b\"],[0.6666666666666666,\"#ed7953\"],[0.7777777777777778,\"#fb9f3a\"],[0.8888888888888888,\"#fdca26\"],[1.0,\"#f0f921\"]],\"type\":\"surface\"}],\"table\":[{\"cells\":{\"fill\":{\"color\":\"#EBF0F8\"},\"line\":{\"color\":\"white\"}},\"header\":{\"fill\":{\"color\":\"#C8D4E3\"},\"line\":{\"color\":\"white\"}},\"type\":\"table\"}]},\"layout\":{\"annotationdefaults\":{\"arrowcolor\":\"#2a3f5f\",\"arrowhead\":0,\"arrowwidth\":1},\"autotypenumbers\":\"strict\",\"coloraxis\":{\"colorbar\":{\"outlinewidth\":0,\"ticks\":\"\"}},\"colorscale\":{\"diverging\":[[0,\"#8e0152\"],[0.1,\"#c51b7d\"],[0.2,\"#de77ae\"],[0.3,\"#f1b6da\"],[0.4,\"#fde0ef\"],[0.5,\"#f7f7f7\"],[0.6,\"#e6f5d0\"],[0.7,\"#b8e186\"],[0.8,\"#7fbc41\"],[0.9,\"#4d9221\"],[1,\"#276419\"]],\"sequential\":[[0.0,\"#0d0887\"],[0.1111111111111111,\"#46039f\"],[0.2222222222222222,\"#7201a8\"],[0.3333333333333333,\"#9c179e\"],[0.4444444444444444,\"#bd3786\"],[0.5555555555555556,\"#d8576b\"],[0.6666666666666666,\"#ed7953\"],[0.7777777777777778,\"#fb9f3a\"],[0.8888888888888888,\"#fdca26\"],[1.0,\"#f0f921\"]],\"sequentialminus\":[[0.0,\"#0d0887\"],[0.1111111111111111,\"#46039f\"],[0.2222222222222222,\"#7201a8\"],[0.3333333333333333,\"#9c179e\"],[0.4444444444444444,\"#bd3786\"],[0.5555555555555556,\"#d8576b\"],[0.6666666666666666,\"#ed7953\"],[0.7777777777777778,\"#fb9f3a\"],[0.8888888888888888,\"#fdca26\"],[1.0,\"#f0f921\"]]},\"colorway\":[\"#636efa\",\"#EF553B\",\"#00cc96\",\"#ab63fa\",\"#FFA15A\",\"#19d3f3\",\"#FF6692\",\"#B6E880\",\"#FF97FF\",\"#FECB52\"],\"font\":{\"color\":\"#2a3f5f\"},\"geo\":{\"bgcolor\":\"white\",\"lakecolor\":\"white\",\"landcolor\":\"white\",\"showlakes\":true,\"showland\":true,\"subunitcolor\":\"#C8D4E3\"},\"hoverlabel\":{\"align\":\"left\"},\"hovermode\":\"closest\",\"mapbox\":{\"style\":\"light\"},\"paper_bgcolor\":\"white\",\"plot_bgcolor\":\"white\",\"polar\":{\"angularaxis\":{\"gridcolor\":\"#EBF0F8\",\"linecolor\":\"#EBF0F8\",\"ticks\":\"\"},\"bgcolor\":\"white\",\"radialaxis\":{\"gridcolor\":\"#EBF0F8\",\"linecolor\":\"#EBF0F8\",\"ticks\":\"\"}},\"scene\":{\"xaxis\":{\"backgroundcolor\":\"white\",\"gridcolor\":\"#DFE8F3\",\"gridwidth\":2,\"linecolor\":\"#EBF0F8\",\"showbackground\":true,\"ticks\":\"\",\"zerolinecolor\":\"#EBF0F8\"},\"yaxis\":{\"backgroundcolor\":\"white\",\"gridcolor\":\"#DFE8F3\",\"gridwidth\":2,\"linecolor\":\"#EBF0F8\",\"showbackground\":true,\"ticks\":\"\",\"zerolinecolor\":\"#EBF0F8\"},\"zaxis\":{\"backgroundcolor\":\"white\",\"gridcolor\":\"#DFE8F3\",\"gridwidth\":2,\"linecolor\":\"#EBF0F8\",\"showbackground\":true,\"ticks\":\"\",\"zerolinecolor\":\"#EBF0F8\"}},\"shapedefaults\":{\"line\":{\"color\":\"#2a3f5f\"}},\"ternary\":{\"aaxis\":{\"gridcolor\":\"#DFE8F3\",\"linecolor\":\"#A2B1C6\",\"ticks\":\"\"},\"baxis\":{\"gridcolor\":\"#DFE8F3\",\"linecolor\":\"#A2B1C6\",\"ticks\":\"\"},\"bgcolor\":\"white\",\"caxis\":{\"gridcolor\":\"#DFE8F3\",\"linecolor\":\"#A2B1C6\",\"ticks\":\"\"}},\"title\":{\"x\":0.05},\"xaxis\":{\"automargin\":true,\"gridcolor\":\"#EBF0F8\",\"linecolor\":\"#EBF0F8\",\"ticks\":\"\",\"title\":{\"standoff\":15},\"zerolinecolor\":\"#EBF0F8\",\"zerolinewidth\":2},\"yaxis\":{\"automargin\":true,\"gridcolor\":\"#EBF0F8\",\"linecolor\":\"#EBF0F8\",\"ticks\":\"\",\"title\":{\"standoff\":15},\"zerolinecolor\":\"#EBF0F8\",\"zerolinewidth\":2}}},\"legend\":{\"x\":0.75,\"y\":0.9},\"title\":{\"text\":\"Model Training Metrics\"},\"xaxis\":{\"title\":{\"text\":\"Number of epochs\"}},\"yaxis\":{\"title\":{\"text\":\"Metric Value\"}}},                        {\"responsive\": true}                    ).then(function(){\n",
              "                            \n",
              "var gd = document.getElementById('d89b676b-a1f6-47b9-b9d4-66a68e605300');\n",
              "var x = new MutationObserver(function (mutations, observer) {{\n",
              "        var display = window.getComputedStyle(gd).display;\n",
              "        if (!display || display === 'none') {{\n",
              "            console.log([gd, 'removed!']);\n",
              "            Plotly.purge(gd);\n",
              "            observer.disconnect();\n",
              "        }}\n",
              "}});\n",
              "\n",
              "// Listen for the removal of the full notebook cells\n",
              "var notebookContainer = gd.closest('#notebook-container');\n",
              "if (notebookContainer) {{\n",
              "    x.observe(notebookContainer, {childList: true});\n",
              "}}\n",
              "\n",
              "// Listen for the clearing of the current output cell\n",
              "var outputEl = gd.closest('.output');\n",
              "if (outputEl) {{\n",
              "    x.observe(outputEl, {childList: true});\n",
              "}}\n",
              "\n",
              "                        })                };                            </script>        </div>\n",
              "</body>\n",
              "</html>"
            ]
          },
          "metadata": {}
        }
      ]
    },
    {
      "cell_type": "markdown",
      "metadata": {
        "id": "n4iIKXNU0qcn"
      },
      "source": [
        "The accuracy score improves steadily after 30 epochs, while the loss steadily drops. We'll also create a random subset of the data that has not been resampled to evaluate the model's performance, and apply the same preprocessing steps as above."
      ]
    },
    {
      "cell_type": "code",
      "metadata": {
        "id": "ywhDpnurahU8"
      },
      "source": [
        "random_df = df.sample(len(weighted_df), random_state=6)"
      ],
      "execution_count": 33,
      "outputs": []
    },
    {
      "cell_type": "code",
      "metadata": {
        "colab": {
          "base_uri": "https://localhost:8080/"
        },
        "id": "yuQ8NFhstPu8",
        "outputId": "e5acc3b4-4bc0-4476-8e62-d30f3e659d80"
      },
      "source": [
        "descriptors_not_in_sample = []\n",
        "\n",
        "for i in df.descriptor.unique():\n",
        "  if i not in random_df.descriptor.unique():\n",
        "    descriptors_not_in_sample.append(i)\n",
        "\n",
        "descriptors_not_in_sample"
      ],
      "execution_count": 34,
      "outputs": [
        {
          "output_type": "execute_result",
          "data": {
            "text/plain": [
              "['controller cabinet',\n",
              " 'dogs or cats not sold',\n",
              " 'basement',\n",
              " 'catering establishment',\n",
              " 'unauthorized climbing',\n",
              " 'veh signal head',\n",
              " 'lamppost base door cover missing',\n",
              " 'animal odor',\n",
              " 'pet store',\n",
              " 'outlet cover',\n",
              " 'tires',\n",
              " 'use of newly seeded lawn',\n",
              " 'detour',\n",
              " 'plumbing problem',\n",
              " 'inadequate support shoring',\n",
              " 'driver report  passenger',\n",
              " 'process server',\n",
              " 'appliances',\n",
              " 'cellar door defective',\n",
              " 'home heating oil company',\n",
              " 'flooded',\n",
              " 'door to door sales',\n",
              " 'parking card stuck in meter',\n",
              " 'led pedestrian unit',\n",
              " 'overexposure during treatment',\n",
              " 'domestic worker employment agency',\n",
              " 'enclosure cap',\n",
              " 'mandate not enforced',\n",
              " 'fountain  under  gallons',\n",
              " 'boiler',\n",
              " 'jewelry store',\n",
              " 'cloudy or milky, other use comments qbz',\n",
              " 'immigration services provider',\n",
              " 'loft building',\n",
              " 'in post base',\n",
              " 'material stored improperly',\n",
              " 'bird bath',\n",
              " 'street con game',\n",
              " 'gasoline spill iaa',\n",
              " 'horsedrawn cab',\n",
              " 'relocation of parking meter',\n",
              " 'auction house or auctioneer',\n",
              " 'booting company',\n",
              " 'oil, grease in water qd',\n",
              " 'leaky roof',\n",
              " 'sign  in danger of falling',\n",
              " 'bikes in buildings',\n",
              " 'new automatic public toilet request',\n",
              " 'office supply or stationery store',\n",
              " 'graffiti dirty condition',\n",
              " 'damaged door',\n",
              " 'sign missing or defective',\n",
              " 'ticket seller',\n",
              " 'broken water fountain',\n",
              " 'dead end signal',\n",
              " 'traffic signal light',\n",
              " 'forprofit college or university',\n",
              " 'coinoperated ride',\n",
              " 'bracket arm broken',\n",
              " 'technician unlicensed',\n",
              " 'underground',\n",
              " 'poison ivy',\n",
              " 'unsafe worksite',\n",
              " 'wholesale food market',\n",
              " 'push button',\n",
              " 'bail bond agent',\n",
              " 'microwave',\n",
              " 'pawnbroker',\n",
              " 'removing flowers plants',\n",
              " 'foreign attachment on lamppost',\n",
              " 'damaged or vandalized',\n",
              " 'glassware hanging',\n",
              " 'ped multiple lamps',\n",
              " 'dry cleaning vapors perc',\n",
              " 'scrap metal processor',\n",
              " 'wireless',\n",
              " 'flood light lamp cycling',\n",
              " 'containers set out too early',\n",
              " 'fire alarm lamp cycling',\n",
              " 'roof gutters',\n",
              " 'inattentive',\n",
              " 'rain garden planting girgp',\n",
              " 'social distancing',\n",
              " 'absent',\n",
              " 'temporary',\n",
              " 'controller flasher',\n",
              " 'no idling',\n",
              " 'waterwayfloatables ihc',\n",
              " 'water meter stolen missing  other clo',\n",
              " 'facility general',\n",
              " 'broken defective',\n",
              " 'air: odor fumes, dry cleaners ad',\n",
              " 'glassware broken',\n",
              " 'fire globe missing',\n",
              " 'used gun dealer',\n",
              " 'curb violation',\n",
              " 'musical instrument',\n",
              " 'damaged toilet sink',\n",
              " 'glassware missing',\n",
              " 'odor',\n",
              " 'roadway',\n",
              " 'time clock maladjusted',\n",
              " 'wood pole wires exposed',\n",
              " 'beach pool sauna unpermitted',\n",
              " 'licensee complaint',\n",
              " 'wood pole leaning',\n",
              " 'arcade',\n",
              " 'veh signal visor',\n",
              " 'pedestrian signal',\n",
              " 'illegal conversion no access follow  up',\n",
              " 'plants noise related problems pn',\n",
              " 'lighting electrical',\n",
              " 'scale dealer or repairer',\n",
              " 'honorary',\n",
              " 'workplace   or less staff',\n",
              " 'oil spill into basin sewer  small iabs',\n",
              " 'lack of supplies',\n",
              " 'bracket arm bent',\n",
              " 'led lense',\n",
              " 'unauthorized film shoot',\n",
              " 'remove hydrant locking device wc',\n",
              " 'warning signal',\n",
              " 'local law   compliance inspections  active',\n",
              " 'other request for enforcement',\n",
              " 'smoking signs  \"no smoking\" signs not observed on construction site',\n",
              " 'movie theater',\n",
              " 'sunken pavement',\n",
              " 'depression',\n",
              " 'printing services',\n",
              " 'base door',\n",
              " 'defective manhole cover',\n",
              " 'iguana',\n",
              " 'flood light lamp missing',\n",
              " 'speed board sign',\n",
              " 'vehicle signal',\n",
              " 'highway flooding sh',\n",
              " 'foam',\n",
              " 'snow tracking',\n",
              " 'ped lamp',\n",
              " 'plastic straws',\n",
              " 'on messenger',\n",
              " 'flood light lamp dim',\n",
              " 'gaming cafe',\n",
              " 'user unlicensed']"
            ]
          },
          "metadata": {},
          "execution_count": 34
        }
      ]
    },
    {
      "cell_type": "code",
      "metadata": {
        "id": "N5YdojXCtiNf"
      },
      "source": [
        "descriptors_not_in_sample_df = df[df.descriptor.isin(descriptors_not_in_sample)]\n",
        "random_df = pd.concat([random_df, descriptors_not_in_sample_df])\n",
        "random_df.reset_index(inplace=True)"
      ],
      "execution_count": 35,
      "outputs": []
    },
    {
      "cell_type": "code",
      "metadata": {
        "id": "yH94tmTEPgUm"
      },
      "source": [
        "random_X = random_df.descriptor\n",
        "random_y = random_df.agency"
      ],
      "execution_count": 36,
      "outputs": []
    },
    {
      "cell_type": "code",
      "metadata": {
        "id": "-mOrsN1TQRPr"
      },
      "source": [
        "r_descriptors = random_X\n",
        "tokenizer = Tokenizer()\n",
        "\n",
        "tokenizer.fit_on_texts(r_descriptors)\n",
        "r_descriptor_onehot = tokenizer.texts_to_matrix(r_descriptors, mode='binary')\n",
        "word_index = tokenizer.word_index"
      ],
      "execution_count": 37,
      "outputs": []
    },
    {
      "cell_type": "code",
      "metadata": {
        "id": "Q5Ve_W4NQX97"
      },
      "source": [
        "r_agency = random_y\n",
        "\n",
        "le = preprocessing.LabelEncoder()\n",
        "le.fit(r_agency)\n",
        "r_agency_cat = le.transform(r_agency)\n",
        "r_agency_onehot = to_categorical(r_agency_cat)"
      ],
      "execution_count": 38,
      "outputs": []
    },
    {
      "cell_type": "code",
      "metadata": {
        "id": "c9MwlTriRHt1"
      },
      "source": [
        "test_index = random.sample(range(1,10000), 1500)\n",
        "\n",
        "r_test = r_descriptor_onehot[test_index]\n",
        "r_label_test = r_agency_onehot[test_index]"
      ],
      "execution_count": 39,
      "outputs": []
    },
    {
      "cell_type": "code",
      "metadata": {
        "colab": {
          "base_uri": "https://localhost:8080/"
        },
        "id": "md8FyuC0RVLw",
        "outputId": "f24deb4e-f428-4f74-aceb-e53c718488c5"
      },
      "source": [
        "random_results = model1.evaluate(r_descriptor_onehot, r_agency_onehot, batch_size=32)"
      ],
      "execution_count": 40,
      "outputs": [
        {
          "output_type": "stream",
          "name": "stdout",
          "text": [
            "3605/3605 [==============================] - 11s 3ms/step - loss: 1.0939 - acc: 0.6685\n"
          ]
        }
      ]
    },
    {
      "cell_type": "markdown",
      "metadata": {
        "id": "COFR7H471iEo"
      },
      "source": [
        "The model had 68.7% accuracy on the random sample. This score can be improved by testing different parameters in the model."
      ]
    },
    {
      "cell_type": "markdown",
      "metadata": {
        "id": "9TZA4Zl9x2EZ"
      },
      "source": [
        "## Parameter Tuning"
      ]
    },
    {
      "cell_type": "markdown",
      "metadata": {
        "id": "qpprv5Nh74uC"
      },
      "source": [
        "The function below allows us to create a model and plot its learning history, given the data and a dictionary of parameters."
      ]
    },
    {
      "cell_type": "code",
      "metadata": {
        "id": "t1XAcgaVhHSI"
      },
      "source": [
        "def create_model(X_train, y_train, X_test, y_test, params):\n",
        "\n",
        "    \"\"\"Takes in training and test data and a dictionary with activation\n",
        "       functions for each of 3 layers, an optimizer, a loss function,\n",
        "       number of epochs and batch size. Plots the model's accuracy and loss\n",
        "       curves for the training and validation data, and prints the accuracy\n",
        "       score for the random sample data. Returns the history and the model.\"\"\"\n",
        "\n",
        "    model = models.Sequential()\n",
        "    model.add(layers.Dense(50, activation=params['activation 1'],\n",
        "                           input_shape=(test.shape[1],)))\n",
        "    model.add(layers.Dense(25, activation=params['activation 2']))\n",
        "    model.add(layers.Dense(14, activation=params['activation 3']))\n",
        "\n",
        "    opt = params['opt']\n",
        "    model.compile(optimizer=opt,\n",
        "              loss=params['loss'],\n",
        "              metrics=['acc'])\n",
        "\n",
        "    es = keras.callbacks.EarlyStopping(monitor='val_loss', patience=5)\n",
        "    history = model.fit(X_train,\n",
        "                    y_train,\n",
        "                    epochs=params['epochs'],\n",
        "                    batch_size=params['batch_size'],\n",
        "                    validation_split=0.20)\n",
        "\n",
        "    print(model.summary)\n",
        "\n",
        "    print('Test Accuracy:')\n",
        "    model.evaluate(X_test, y_test, batch_size=params['batch_size'])\n",
        "\n",
        "    print('Random Sample Accuracy:')\n",
        "    model.evaluate(r_test, r_label_test, batch_size=params['batch_size'])\n",
        "\n",
        "    plot_loss_acc(history)\n",
        "\n",
        "    return history, model"
      ],
      "execution_count": 41,
      "outputs": []
    },
    {
      "cell_type": "markdown",
      "metadata": {
        "id": "4jTnHo089K9R"
      },
      "source": [
        "We'll use the function to test out several different sets of parameters, stored in a dictionary as shown below."
      ]
    },
    {
      "cell_type": "code",
      "metadata": {
        "id": "e6QqNu9vI5Bb"
      },
      "source": [
        "model2_params = {'activation 1': 'relu',\n",
        "                 'activation 2': 'softmax',\n",
        "                 'activation 3': 'softmax',\n",
        "                 'opt': keras.optimizers.Adam(learning_rate=0.0001),\n",
        "                 'loss': 'categorical_crossentropy',\n",
        "                 'epochs': 75,\n",
        "                 'batch_size': 16,\n",
        "                 }"
      ],
      "execution_count": 42,
      "outputs": []
    },
    {
      "cell_type": "code",
      "metadata": {
        "colab": {
          "base_uri": "https://localhost:8080/",
          "height": 1000
        },
        "id": "qznZkA3tKeWi",
        "outputId": "5cc80164-07fb-46e5-9b69-07d452a204bf"
      },
      "source": [
        "model2_history, model2 = create_model(train, label_train, test, label_test, model2_params)"
      ],
      "execution_count": 43,
      "outputs": [
        {
          "output_type": "stream",
          "name": "stdout",
          "text": [
            "Epoch 1/75\n",
            "573/573 [==============================] - 6s 7ms/step - loss: 2.5323 - acc: 0.4723 - val_loss: 2.4442 - val_acc: 0.5113\n",
            "Epoch 2/75\n",
            "573/573 [==============================] - 2s 4ms/step - loss: 2.3399 - acc: 0.5170 - val_loss: 2.2389 - val_acc: 0.5113\n",
            "Epoch 3/75\n",
            "573/573 [==============================] - 2s 4ms/step - loss: 2.1589 - acc: 0.5170 - val_loss: 2.0853 - val_acc: 0.5113\n",
            "Epoch 4/75\n",
            "573/573 [==============================] - 2s 4ms/step - loss: 2.0160 - acc: 0.5170 - val_loss: 1.9502 - val_acc: 0.5113\n",
            "Epoch 5/75\n",
            "573/573 [==============================] - 3s 5ms/step - loss: 1.8838 - acc: 0.5170 - val_loss: 1.8240 - val_acc: 0.5113\n",
            "Epoch 6/75\n",
            "573/573 [==============================] - 4s 7ms/step - loss: 1.7639 - acc: 0.5170 - val_loss: 1.7108 - val_acc: 0.5113\n",
            "Epoch 7/75\n",
            "573/573 [==============================] - 3s 5ms/step - loss: 1.6571 - acc: 0.5170 - val_loss: 1.6098 - val_acc: 0.5113\n",
            "Epoch 8/75\n",
            "573/573 [==============================] - 2s 4ms/step - loss: 1.5628 - acc: 0.5170 - val_loss: 1.5208 - val_acc: 0.5113\n",
            "Epoch 9/75\n",
            "573/573 [==============================] - 2s 4ms/step - loss: 1.4797 - acc: 0.6324 - val_loss: 1.4414 - val_acc: 0.7007\n",
            "Epoch 10/75\n",
            "573/573 [==============================] - 2s 4ms/step - loss: 1.4054 - acc: 0.6848 - val_loss: 1.3700 - val_acc: 0.7051\n",
            "Epoch 11/75\n",
            "573/573 [==============================] - 3s 5ms/step - loss: 1.3382 - acc: 0.6890 - val_loss: 1.3047 - val_acc: 0.7077\n",
            "Epoch 12/75\n",
            "573/573 [==============================] - 3s 6ms/step - loss: 1.2763 - acc: 0.6890 - val_loss: 1.2444 - val_acc: 0.7077\n",
            "Epoch 13/75\n",
            "573/573 [==============================] - 2s 4ms/step - loss: 1.2182 - acc: 0.6897 - val_loss: 1.1865 - val_acc: 0.7099\n",
            "Epoch 14/75\n",
            "573/573 [==============================] - 2s 4ms/step - loss: 1.1591 - acc: 0.6935 - val_loss: 1.1262 - val_acc: 0.7251\n",
            "Epoch 15/75\n",
            "573/573 [==============================] - 2s 4ms/step - loss: 1.0985 - acc: 0.7250 - val_loss: 1.0676 - val_acc: 0.7888\n",
            "Epoch 16/75\n",
            "573/573 [==============================] - 2s 4ms/step - loss: 1.0401 - acc: 0.7933 - val_loss: 1.0112 - val_acc: 0.8146\n",
            "Epoch 17/75\n",
            "573/573 [==============================] - 3s 5ms/step - loss: 0.9846 - acc: 0.8135 - val_loss: 0.9578 - val_acc: 0.8242\n",
            "Epoch 18/75\n",
            "573/573 [==============================] - 4s 7ms/step - loss: 0.9327 - acc: 0.8205 - val_loss: 0.9081 - val_acc: 0.8259\n",
            "Epoch 19/75\n",
            "573/573 [==============================] - 2s 4ms/step - loss: 0.8847 - acc: 0.8391 - val_loss: 0.8624 - val_acc: 0.8621\n",
            "Epoch 20/75\n",
            "573/573 [==============================] - 2s 4ms/step - loss: 0.8406 - acc: 0.8594 - val_loss: 0.8203 - val_acc: 0.8652\n",
            "Epoch 21/75\n",
            "573/573 [==============================] - 2s 4ms/step - loss: 0.7999 - acc: 0.8638 - val_loss: 0.7816 - val_acc: 0.8826\n",
            "Epoch 22/75\n",
            "573/573 [==============================] - 2s 4ms/step - loss: 0.7625 - acc: 0.8759 - val_loss: 0.7461 - val_acc: 0.8866\n",
            "Epoch 23/75\n",
            "573/573 [==============================] - 4s 6ms/step - loss: 0.7280 - acc: 0.8788 - val_loss: 0.7133 - val_acc: 0.8896\n",
            "Epoch 24/75\n",
            "573/573 [==============================] - 3s 6ms/step - loss: 0.6961 - acc: 0.8814 - val_loss: 0.6829 - val_acc: 0.8957\n",
            "Epoch 25/75\n",
            "573/573 [==============================] - 2s 4ms/step - loss: 0.6665 - acc: 0.9125 - val_loss: 0.6548 - val_acc: 0.9140\n",
            "Epoch 26/75\n",
            "573/573 [==============================] - 2s 4ms/step - loss: 0.6389 - acc: 0.9162 - val_loss: 0.6283 - val_acc: 0.9136\n",
            "Epoch 27/75\n",
            "573/573 [==============================] - 2s 4ms/step - loss: 0.6130 - acc: 0.9157 - val_loss: 0.6036 - val_acc: 0.9119\n",
            "Epoch 28/75\n",
            "573/573 [==============================] - 2s 4ms/step - loss: 0.5887 - acc: 0.9148 - val_loss: 0.5805 - val_acc: 0.9114\n",
            "Epoch 29/75\n",
            "573/573 [==============================] - 3s 6ms/step - loss: 0.5657 - acc: 0.9144 - val_loss: 0.5587 - val_acc: 0.9119\n",
            "Epoch 30/75\n",
            "573/573 [==============================] - 3s 6ms/step - loss: 0.5438 - acc: 0.9147 - val_loss: 0.5380 - val_acc: 0.9123\n",
            "Epoch 31/75\n",
            "573/573 [==============================] - 2s 4ms/step - loss: 0.5230 - acc: 0.9158 - val_loss: 0.5182 - val_acc: 0.9123\n",
            "Epoch 32/75\n",
            "573/573 [==============================] - 2s 4ms/step - loss: 0.5030 - acc: 0.9173 - val_loss: 0.4994 - val_acc: 0.9123\n",
            "Epoch 33/75\n",
            "573/573 [==============================] - 2s 4ms/step - loss: 0.4840 - acc: 0.9175 - val_loss: 0.4815 - val_acc: 0.9140\n",
            "Epoch 34/75\n",
            "573/573 [==============================] - 3s 5ms/step - loss: 0.4658 - acc: 0.9179 - val_loss: 0.4645 - val_acc: 0.9132\n",
            "Epoch 35/75\n",
            "573/573 [==============================] - 4s 7ms/step - loss: 0.4488 - acc: 0.9176 - val_loss: 0.4484 - val_acc: 0.9132\n",
            "Epoch 36/75\n",
            "573/573 [==============================] - 3s 5ms/step - loss: 0.4327 - acc: 0.9176 - val_loss: 0.4334 - val_acc: 0.9132\n",
            "Epoch 37/75\n",
            "573/573 [==============================] - 2s 4ms/step - loss: 0.4176 - acc: 0.9178 - val_loss: 0.4194 - val_acc: 0.9132\n",
            "Epoch 38/75\n",
            "573/573 [==============================] - 2s 4ms/step - loss: 0.4033 - acc: 0.9180 - val_loss: 0.4062 - val_acc: 0.9132\n",
            "Epoch 39/75\n",
            "573/573 [==============================] - 2s 4ms/step - loss: 0.3898 - acc: 0.9182 - val_loss: 0.3936 - val_acc: 0.9136\n",
            "Epoch 40/75\n",
            "573/573 [==============================] - 3s 5ms/step - loss: 0.3771 - acc: 0.9182 - val_loss: 0.3819 - val_acc: 0.9136\n",
            "Epoch 41/75\n",
            "573/573 [==============================] - 4s 6ms/step - loss: 0.3652 - acc: 0.9182 - val_loss: 0.3708 - val_acc: 0.9136\n",
            "Epoch 42/75\n",
            "573/573 [==============================] - 2s 4ms/step - loss: 0.3539 - acc: 0.9181 - val_loss: 0.3603 - val_acc: 0.9136\n",
            "Epoch 43/75\n",
            "573/573 [==============================] - 2s 4ms/step - loss: 0.3434 - acc: 0.9182 - val_loss: 0.3505 - val_acc: 0.9136\n",
            "Epoch 44/75\n",
            "573/573 [==============================] - 2s 4ms/step - loss: 0.3335 - acc: 0.9183 - val_loss: 0.3413 - val_acc: 0.9136\n",
            "Epoch 45/75\n",
            "573/573 [==============================] - 2s 4ms/step - loss: 0.3241 - acc: 0.9182 - val_loss: 0.3326 - val_acc: 0.9140\n",
            "Epoch 46/75\n",
            "573/573 [==============================] - 4s 6ms/step - loss: 0.3153 - acc: 0.9182 - val_loss: 0.3241 - val_acc: 0.9140\n",
            "Epoch 47/75\n",
            "573/573 [==============================] - 3s 6ms/step - loss: 0.3069 - acc: 0.9181 - val_loss: 0.3158 - val_acc: 0.9140\n",
            "Epoch 48/75\n",
            "573/573 [==============================] - 2s 4ms/step - loss: 0.2989 - acc: 0.9182 - val_loss: 0.3078 - val_acc: 0.9140\n",
            "Epoch 49/75\n",
            "573/573 [==============================] - 2s 4ms/step - loss: 0.2913 - acc: 0.9184 - val_loss: 0.3005 - val_acc: 0.9140\n",
            "Epoch 50/75\n",
            "573/573 [==============================] - 2s 4ms/step - loss: 0.2841 - acc: 0.9185 - val_loss: 0.2937 - val_acc: 0.9149\n",
            "Epoch 51/75\n",
            "573/573 [==============================] - 3s 4ms/step - loss: 0.2774 - acc: 0.9191 - val_loss: 0.2877 - val_acc: 0.9149\n",
            "Epoch 52/75\n",
            "573/573 [==============================] - 4s 7ms/step - loss: 0.2710 - acc: 0.9190 - val_loss: 0.2816 - val_acc: 0.9149\n",
            "Epoch 53/75\n",
            "573/573 [==============================] - 3s 5ms/step - loss: 0.2650 - acc: 0.9212 - val_loss: 0.2759 - val_acc: 0.9158\n",
            "Epoch 54/75\n",
            "573/573 [==============================] - 3s 5ms/step - loss: 0.2593 - acc: 0.9327 - val_loss: 0.2706 - val_acc: 0.9350\n",
            "Epoch 55/75\n",
            "573/573 [==============================] - 3s 4ms/step - loss: 0.2538 - acc: 0.9426 - val_loss: 0.2660 - val_acc: 0.9315\n",
            "Epoch 56/75\n",
            "573/573 [==============================] - 2s 4ms/step - loss: 0.2487 - acc: 0.9433 - val_loss: 0.2611 - val_acc: 0.9363\n",
            "Epoch 57/75\n",
            "573/573 [==============================] - 3s 6ms/step - loss: 0.2438 - acc: 0.9448 - val_loss: 0.2564 - val_acc: 0.9367\n",
            "Epoch 58/75\n",
            "573/573 [==============================] - 3s 6ms/step - loss: 0.2392 - acc: 0.9449 - val_loss: 0.2522 - val_acc: 0.9363\n",
            "Epoch 59/75\n",
            "573/573 [==============================] - 2s 4ms/step - loss: 0.2348 - acc: 0.9449 - val_loss: 0.2486 - val_acc: 0.9367\n",
            "Epoch 60/75\n",
            "573/573 [==============================] - 2s 4ms/step - loss: 0.2306 - acc: 0.9450 - val_loss: 0.2443 - val_acc: 0.9367\n",
            "Epoch 61/75\n",
            "573/573 [==============================] - 3s 4ms/step - loss: 0.2266 - acc: 0.9451 - val_loss: 0.2408 - val_acc: 0.9372\n",
            "Epoch 62/75\n",
            "573/573 [==============================] - 2s 4ms/step - loss: 0.2228 - acc: 0.9450 - val_loss: 0.2373 - val_acc: 0.9376\n",
            "Epoch 63/75\n",
            "573/573 [==============================] - 3s 6ms/step - loss: 0.2191 - acc: 0.9451 - val_loss: 0.2337 - val_acc: 0.9376\n",
            "Epoch 64/75\n",
            "573/573 [==============================] - 3s 5ms/step - loss: 0.2156 - acc: 0.9452 - val_loss: 0.2309 - val_acc: 0.9376\n",
            "Epoch 65/75\n",
            "573/573 [==============================] - 2s 4ms/step - loss: 0.2123 - acc: 0.9452 - val_loss: 0.2277 - val_acc: 0.9376\n",
            "Epoch 66/75\n",
            "573/573 [==============================] - 2s 4ms/step - loss: 0.2091 - acc: 0.9452 - val_loss: 0.2250 - val_acc: 0.9380\n",
            "Epoch 67/75\n",
            "573/573 [==============================] - 2s 4ms/step - loss: 0.2061 - acc: 0.9452 - val_loss: 0.2223 - val_acc: 0.9380\n",
            "Epoch 68/75\n",
            "573/573 [==============================] - 3s 5ms/step - loss: 0.2031 - acc: 0.9452 - val_loss: 0.2189 - val_acc: 0.9380\n",
            "Epoch 69/75\n",
            "573/573 [==============================] - 4s 7ms/step - loss: 0.2004 - acc: 0.9452 - val_loss: 0.2167 - val_acc: 0.9380\n",
            "Epoch 70/75\n",
            "573/573 [==============================] - 3s 5ms/step - loss: 0.1977 - acc: 0.9452 - val_loss: 0.2142 - val_acc: 0.9380\n",
            "Epoch 71/75\n",
            "573/573 [==============================] - 3s 4ms/step - loss: 0.1951 - acc: 0.9452 - val_loss: 0.2122 - val_acc: 0.9380\n",
            "Epoch 72/75\n",
            "573/573 [==============================] - 2s 4ms/step - loss: 0.1927 - acc: 0.9452 - val_loss: 0.2094 - val_acc: 0.9380\n",
            "Epoch 73/75\n",
            "573/573 [==============================] - 2s 4ms/step - loss: 0.1902 - acc: 0.9452 - val_loss: 0.2078 - val_acc: 0.9380\n",
            "Epoch 74/75\n",
            "573/573 [==============================] - 4s 6ms/step - loss: 0.1880 - acc: 0.9452 - val_loss: 0.2051 - val_acc: 0.9380\n",
            "Epoch 75/75\n",
            "573/573 [==============================] - 3s 6ms/step - loss: 0.1857 - acc: 0.9455 - val_loss: 0.2027 - val_acc: 0.9380\n",
            "<bound method Model.summary of <keras.src.engine.sequential.Sequential object at 0x7ef8d43dbb20>>\n",
            "Test Accuracy:\n",
            "6446/6446 [==============================] - 20s 3ms/step - loss: 0.2143 - acc: 0.9362\n",
            "Random Sample Accuracy:\n",
            "94/94 [==============================] - 0s 3ms/step - loss: 1.8954 - acc: 0.6073\n"
          ]
        },
        {
          "output_type": "display_data",
          "data": {
            "text/html": [
              "<html>\n",
              "<head><meta charset=\"utf-8\" /></head>\n",
              "<body>\n",
              "    <div>            <script src=\"https://cdnjs.cloudflare.com/ajax/libs/mathjax/2.7.5/MathJax.js?config=TeX-AMS-MML_SVG\"></script><script type=\"text/javascript\">if (window.MathJax && window.MathJax.Hub && window.MathJax.Hub.Config) {window.MathJax.Hub.Config({SVG: {font: \"STIX-Web\"}});}</script>                <script type=\"text/javascript\">window.PlotlyConfig = {MathJaxConfig: 'local'};</script>\n",
              "        <script charset=\"utf-8\" src=\"https://cdn.plot.ly/plotly-2.24.1.min.js\"></script>                <div id=\"a8fa8757-0140-4645-bbbf-2284c9a35842\" class=\"plotly-graph-div\" style=\"height:525px; width:100%;\"></div>            <script type=\"text/javascript\">                                    window.PLOTLYENV=window.PLOTLYENV || {};                                    if (document.getElementById(\"a8fa8757-0140-4645-bbbf-2284c9a35842\")) {                    Plotly.newPlot(                        \"a8fa8757-0140-4645-bbbf-2284c9a35842\",                        [{\"line\":{\"color\":\"#D8A7B1\",\"width\":3},\"mode\":\"lines\",\"name\":\"Train Accuracy\",\"x\":[1,2,3,4,5,6,7,8,9,10,11,12,13,14,15,16,17,18,19,20,21,22,23,24,25,26,27,28,29,30,31,32,33,34,35,36,37,38,39,40,41,42,43,44,45,46,47,48,49,50,51,52,53,54,55,56,57,58,59,60,61,62,63,64,65,66,67,68,69,70,71,72,73,74,75],\"y\":[0.4722949266433716,0.5170156955718994,0.5170156955718994,0.5170156955718994,0.5170156955718994,0.5170156955718994,0.5170156955718994,0.5170156955718994,0.6324170827865601,0.6847731471061707,0.6890270709991455,0.6890270709991455,0.6896815299987793,0.6934991478919983,0.7250218391418457,0.7933027744293213,0.8134816884994507,0.8204624652862549,0.8391143083572388,0.8594022393226624,0.863765299320221,0.8758726119995117,0.878817617893219,0.8814354538917542,0.9125218391418457,0.9162303805351257,0.9156849980354309,0.9148123860359192,0.9143760800361633,0.9147033095359802,0.9157940745353699,0.9173211455345154,0.9175392389297485,0.9178664684295654,0.9176483154296875,0.9176483154296875,0.9177573919296265,0.9179755449295044,0.9181936979293823,0.9181936979293823,0.9181936979293823,0.9180846214294434,0.9181936979293823,0.9183027744293213,0.9181936979293823,0.9181936979293823,0.9180846214294434,0.9181936979293823,0.9184118509292603,0.9185209274291992,0.919066309928894,0.9189572334289551,0.9212478399276733,0.9327006936073303,0.9426265358924866,0.9432809948921204,0.9448080062866211,0.9449170827865601,0.9449170827865601,0.945026159286499,0.945135235786438,0.945026159286499,0.945135235786438,0.945244312286377,0.945244312286377,0.945244312286377,0.945244312286377,0.945244312286377,0.945244312286377,0.945244312286377,0.945244312286377,0.945244312286377,0.945244312286377,0.945244312286377,0.9454624652862549],\"type\":\"scatter\"},{\"line\":{\"color\":\"#05234C\",\"width\":3},\"mode\":\"lines\",\"name\":\"Validation Accuracy\",\"x\":[1,2,3,4,5,6,7,8,9,10,11,12,13,14,15,16,17,18,19,20,21,22,23,24,25,26,27,28,29,30,31,32,33,34,35,36,37,38,39,40,41,42,43,44,45,46,47,48,49,50,51,52,53,54,55,56,57,58,59,60,61,62,63,64,65,66,67,68,69,70,71,72,73,74,75],\"y\":[0.511343777179718,0.511343777179718,0.511343777179718,0.511343777179718,0.511343777179718,0.511343777179718,0.511343777179718,0.511343777179718,0.7006980776786804,0.7050610780715942,0.7076788544654846,0.7076788544654846,0.7098603844642639,0.7251309156417847,0.7888306975364685,0.8145724534988403,0.8241710066795349,0.8259162306785583,0.8621291518211365,0.8651832342147827,0.882635235786438,0.886561930179596,0.889616072177887,0.8957242369651794,0.9140488505363464,0.9136125445365906,0.9118673801422119,0.911431074142456,0.9118673801422119,0.9123036861419678,0.9123036861419678,0.9123036861419678,0.9140488505363464,0.9131762385368347,0.9131762385368347,0.9131762385368347,0.9131762385368347,0.9131762385368347,0.9136125445365906,0.9136125445365906,0.9136125445365906,0.9136125445365906,0.9136125445365906,0.9136125445365906,0.9140488505363464,0.9140488505363464,0.9140488505363464,0.9140488505363464,0.9140488505363464,0.9149214625358582,0.9149214625358582,0.9149214625358582,0.9157940745353699,0.9349913001060486,0.9315008521080017,0.9363001585006714,0.9367364645004272,0.9363001585006714,0.9367364645004272,0.9367364645004272,0.9371727705001831,0.937609076499939,0.937609076499939,0.937609076499939,0.937609076499939,0.9380453824996948,0.9380453824996948,0.9380453824996948,0.9380453824996948,0.9380453824996948,0.9380453824996948,0.9380453824996948,0.9380453824996948,0.9380453824996948,0.9380453824996948],\"type\":\"scatter\"},{\"line\":{\"color\":\"#D8A7B1\",\"dash\":\"dash\",\"width\":3},\"mode\":\"lines\",\"name\":\"Train Loss\",\"x\":[1,2,3,4,5,6,7,8,9,10,11,12,13,14,15,16,17,18,19,20,21,22,23,24,25,26,27,28,29,30,31,32,33,34,35,36,37,38,39,40,41,42,43,44,45,46,47,48,49,50,51,52,53,54,55,56,57,58,59,60,61,62,63,64,65,66,67,68,69,70,71,72,73,74,75],\"y\":[2.5323173999786377,2.3399152755737305,2.1588854789733887,2.0160183906555176,1.8837649822235107,1.7638834714889526,1.6571038961410522,1.562827706336975,1.4796736240386963,1.4053820371627808,1.3381574153900146,1.276304006576538,1.2181994915008545,1.1590574979782104,1.0984772443771362,1.0401368141174316,0.984563410282135,0.9326547980308533,0.8847041130065918,0.8405885100364685,0.7999314069747925,0.7624930739402771,0.7280181646347046,0.6961166858673096,0.6664912700653076,0.6388790607452393,0.6130194664001465,0.5886885523796082,0.5656967759132385,0.5438330173492432,0.5229601263999939,0.5030269622802734,0.48396244645118713,0.4658282399177551,0.4487591087818146,0.43270358443260193,0.417582631111145,0.4033026695251465,0.389813631772995,0.3771076202392578,0.36515486240386963,0.3539485037326813,0.34340035915374756,0.3334755003452301,0.3241138458251953,0.3152933418750763,0.30689534544944763,0.2988567650318146,0.291271835565567,0.2841202914714813,0.27737340331077576,0.27098605036735535,0.2649952173233032,0.2592514753341675,0.2538219690322876,0.24870292842388153,0.24379126727581024,0.23917776346206665,0.23475545644760132,0.2306198924779892,0.2266140878200531,0.22278530895709991,0.21911995112895966,0.2156158983707428,0.2123330533504486,0.20912551879882812,0.20608225464820862,0.20308096706867218,0.20043601095676422,0.19770607352256775,0.1950656771659851,0.19267620146274567,0.19019529223442078,0.18802142143249512,0.1857178807258606],\"type\":\"scatter\"},{\"line\":{\"color\":\"#05234C\",\"dash\":\"dash\",\"width\":3},\"mode\":\"lines\",\"name\":\"Validation Loss\",\"x\":[1,2,3,4,5,6,7,8,9,10,11,12,13,14,15,16,17,18,19,20,21,22,23,24,25,26,27,28,29,30,31,32,33,34,35,36,37,38,39,40,41,42,43,44,45,46,47,48,49,50,51,52,53,54,55,56,57,58,59,60,61,62,63,64,65,66,67,68,69,70,71,72,73,74,75],\"y\":[2.4441542625427246,2.238933801651001,2.0853142738342285,1.9501957893371582,1.823958396911621,1.7108418941497803,1.6098096370697021,1.5207836627960205,1.4413557052612305,1.3699785470962524,1.304729700088501,1.2444185018539429,1.1864949464797974,1.126240849494934,1.067644476890564,1.0112091302871704,0.9578099250793457,0.9080718159675598,0.8623800277709961,0.8202781677246094,0.7815808057785034,0.7460757493972778,0.7132912874221802,0.6828820705413818,0.6547573208808899,0.6283427476882935,0.603630542755127,0.580514132976532,0.5586883425712585,0.5379737615585327,0.5182097554206848,0.4993872046470642,0.481464684009552,0.4644729197025299,0.4484197497367859,0.4334335923194885,0.4193834364414215,0.40622231364250183,0.39360669255256653,0.38186660408973694,0.37083789706230164,0.3603343665599823,0.3505244553089142,0.34131941199302673,0.332594633102417,0.324116587638855,0.3157714903354645,0.30780383944511414,0.30053460597991943,0.2937168776988983,0.2876848578453064,0.2815698981285095,0.27585339546203613,0.2706301212310791,0.2660314738750458,0.2610921859741211,0.2563817799091339,0.25223490595817566,0.2486395388841629,0.24426499009132385,0.2408018261194229,0.23725922405719757,0.2337280809879303,0.23090188205242157,0.2277289777994156,0.22497977316379547,0.22232383489608765,0.2188657522201538,0.216705784201622,0.2142101228237152,0.2122112214565277,0.20941565930843353,0.2078390270471573,0.2050919085741043,0.20266053080558777],\"type\":\"scatter\"}],                        {\"template\":{\"data\":{\"barpolar\":[{\"marker\":{\"line\":{\"color\":\"white\",\"width\":0.5},\"pattern\":{\"fillmode\":\"overlay\",\"size\":10,\"solidity\":0.2}},\"type\":\"barpolar\"}],\"bar\":[{\"error_x\":{\"color\":\"#2a3f5f\"},\"error_y\":{\"color\":\"#2a3f5f\"},\"marker\":{\"line\":{\"color\":\"white\",\"width\":0.5},\"pattern\":{\"fillmode\":\"overlay\",\"size\":10,\"solidity\":0.2}},\"type\":\"bar\"}],\"carpet\":[{\"aaxis\":{\"endlinecolor\":\"#2a3f5f\",\"gridcolor\":\"#C8D4E3\",\"linecolor\":\"#C8D4E3\",\"minorgridcolor\":\"#C8D4E3\",\"startlinecolor\":\"#2a3f5f\"},\"baxis\":{\"endlinecolor\":\"#2a3f5f\",\"gridcolor\":\"#C8D4E3\",\"linecolor\":\"#C8D4E3\",\"minorgridcolor\":\"#C8D4E3\",\"startlinecolor\":\"#2a3f5f\"},\"type\":\"carpet\"}],\"choropleth\":[{\"colorbar\":{\"outlinewidth\":0,\"ticks\":\"\"},\"type\":\"choropleth\"}],\"contourcarpet\":[{\"colorbar\":{\"outlinewidth\":0,\"ticks\":\"\"},\"type\":\"contourcarpet\"}],\"contour\":[{\"colorbar\":{\"outlinewidth\":0,\"ticks\":\"\"},\"colorscale\":[[0.0,\"#0d0887\"],[0.1111111111111111,\"#46039f\"],[0.2222222222222222,\"#7201a8\"],[0.3333333333333333,\"#9c179e\"],[0.4444444444444444,\"#bd3786\"],[0.5555555555555556,\"#d8576b\"],[0.6666666666666666,\"#ed7953\"],[0.7777777777777778,\"#fb9f3a\"],[0.8888888888888888,\"#fdca26\"],[1.0,\"#f0f921\"]],\"type\":\"contour\"}],\"heatmapgl\":[{\"colorbar\":{\"outlinewidth\":0,\"ticks\":\"\"},\"colorscale\":[[0.0,\"#0d0887\"],[0.1111111111111111,\"#46039f\"],[0.2222222222222222,\"#7201a8\"],[0.3333333333333333,\"#9c179e\"],[0.4444444444444444,\"#bd3786\"],[0.5555555555555556,\"#d8576b\"],[0.6666666666666666,\"#ed7953\"],[0.7777777777777778,\"#fb9f3a\"],[0.8888888888888888,\"#fdca26\"],[1.0,\"#f0f921\"]],\"type\":\"heatmapgl\"}],\"heatmap\":[{\"colorbar\":{\"outlinewidth\":0,\"ticks\":\"\"},\"colorscale\":[[0.0,\"#0d0887\"],[0.1111111111111111,\"#46039f\"],[0.2222222222222222,\"#7201a8\"],[0.3333333333333333,\"#9c179e\"],[0.4444444444444444,\"#bd3786\"],[0.5555555555555556,\"#d8576b\"],[0.6666666666666666,\"#ed7953\"],[0.7777777777777778,\"#fb9f3a\"],[0.8888888888888888,\"#fdca26\"],[1.0,\"#f0f921\"]],\"type\":\"heatmap\"}],\"histogram2dcontour\":[{\"colorbar\":{\"outlinewidth\":0,\"ticks\":\"\"},\"colorscale\":[[0.0,\"#0d0887\"],[0.1111111111111111,\"#46039f\"],[0.2222222222222222,\"#7201a8\"],[0.3333333333333333,\"#9c179e\"],[0.4444444444444444,\"#bd3786\"],[0.5555555555555556,\"#d8576b\"],[0.6666666666666666,\"#ed7953\"],[0.7777777777777778,\"#fb9f3a\"],[0.8888888888888888,\"#fdca26\"],[1.0,\"#f0f921\"]],\"type\":\"histogram2dcontour\"}],\"histogram2d\":[{\"colorbar\":{\"outlinewidth\":0,\"ticks\":\"\"},\"colorscale\":[[0.0,\"#0d0887\"],[0.1111111111111111,\"#46039f\"],[0.2222222222222222,\"#7201a8\"],[0.3333333333333333,\"#9c179e\"],[0.4444444444444444,\"#bd3786\"],[0.5555555555555556,\"#d8576b\"],[0.6666666666666666,\"#ed7953\"],[0.7777777777777778,\"#fb9f3a\"],[0.8888888888888888,\"#fdca26\"],[1.0,\"#f0f921\"]],\"type\":\"histogram2d\"}],\"histogram\":[{\"marker\":{\"pattern\":{\"fillmode\":\"overlay\",\"size\":10,\"solidity\":0.2}},\"type\":\"histogram\"}],\"mesh3d\":[{\"colorbar\":{\"outlinewidth\":0,\"ticks\":\"\"},\"type\":\"mesh3d\"}],\"parcoords\":[{\"line\":{\"colorbar\":{\"outlinewidth\":0,\"ticks\":\"\"}},\"type\":\"parcoords\"}],\"pie\":[{\"automargin\":true,\"type\":\"pie\"}],\"scatter3d\":[{\"line\":{\"colorbar\":{\"outlinewidth\":0,\"ticks\":\"\"}},\"marker\":{\"colorbar\":{\"outlinewidth\":0,\"ticks\":\"\"}},\"type\":\"scatter3d\"}],\"scattercarpet\":[{\"marker\":{\"colorbar\":{\"outlinewidth\":0,\"ticks\":\"\"}},\"type\":\"scattercarpet\"}],\"scattergeo\":[{\"marker\":{\"colorbar\":{\"outlinewidth\":0,\"ticks\":\"\"}},\"type\":\"scattergeo\"}],\"scattergl\":[{\"marker\":{\"colorbar\":{\"outlinewidth\":0,\"ticks\":\"\"}},\"type\":\"scattergl\"}],\"scattermapbox\":[{\"marker\":{\"colorbar\":{\"outlinewidth\":0,\"ticks\":\"\"}},\"type\":\"scattermapbox\"}],\"scatterpolargl\":[{\"marker\":{\"colorbar\":{\"outlinewidth\":0,\"ticks\":\"\"}},\"type\":\"scatterpolargl\"}],\"scatterpolar\":[{\"marker\":{\"colorbar\":{\"outlinewidth\":0,\"ticks\":\"\"}},\"type\":\"scatterpolar\"}],\"scatter\":[{\"fillpattern\":{\"fillmode\":\"overlay\",\"size\":10,\"solidity\":0.2},\"type\":\"scatter\"}],\"scatterternary\":[{\"marker\":{\"colorbar\":{\"outlinewidth\":0,\"ticks\":\"\"}},\"type\":\"scatterternary\"}],\"surface\":[{\"colorbar\":{\"outlinewidth\":0,\"ticks\":\"\"},\"colorscale\":[[0.0,\"#0d0887\"],[0.1111111111111111,\"#46039f\"],[0.2222222222222222,\"#7201a8\"],[0.3333333333333333,\"#9c179e\"],[0.4444444444444444,\"#bd3786\"],[0.5555555555555556,\"#d8576b\"],[0.6666666666666666,\"#ed7953\"],[0.7777777777777778,\"#fb9f3a\"],[0.8888888888888888,\"#fdca26\"],[1.0,\"#f0f921\"]],\"type\":\"surface\"}],\"table\":[{\"cells\":{\"fill\":{\"color\":\"#EBF0F8\"},\"line\":{\"color\":\"white\"}},\"header\":{\"fill\":{\"color\":\"#C8D4E3\"},\"line\":{\"color\":\"white\"}},\"type\":\"table\"}]},\"layout\":{\"annotationdefaults\":{\"arrowcolor\":\"#2a3f5f\",\"arrowhead\":0,\"arrowwidth\":1},\"autotypenumbers\":\"strict\",\"coloraxis\":{\"colorbar\":{\"outlinewidth\":0,\"ticks\":\"\"}},\"colorscale\":{\"diverging\":[[0,\"#8e0152\"],[0.1,\"#c51b7d\"],[0.2,\"#de77ae\"],[0.3,\"#f1b6da\"],[0.4,\"#fde0ef\"],[0.5,\"#f7f7f7\"],[0.6,\"#e6f5d0\"],[0.7,\"#b8e186\"],[0.8,\"#7fbc41\"],[0.9,\"#4d9221\"],[1,\"#276419\"]],\"sequential\":[[0.0,\"#0d0887\"],[0.1111111111111111,\"#46039f\"],[0.2222222222222222,\"#7201a8\"],[0.3333333333333333,\"#9c179e\"],[0.4444444444444444,\"#bd3786\"],[0.5555555555555556,\"#d8576b\"],[0.6666666666666666,\"#ed7953\"],[0.7777777777777778,\"#fb9f3a\"],[0.8888888888888888,\"#fdca26\"],[1.0,\"#f0f921\"]],\"sequentialminus\":[[0.0,\"#0d0887\"],[0.1111111111111111,\"#46039f\"],[0.2222222222222222,\"#7201a8\"],[0.3333333333333333,\"#9c179e\"],[0.4444444444444444,\"#bd3786\"],[0.5555555555555556,\"#d8576b\"],[0.6666666666666666,\"#ed7953\"],[0.7777777777777778,\"#fb9f3a\"],[0.8888888888888888,\"#fdca26\"],[1.0,\"#f0f921\"]]},\"colorway\":[\"#636efa\",\"#EF553B\",\"#00cc96\",\"#ab63fa\",\"#FFA15A\",\"#19d3f3\",\"#FF6692\",\"#B6E880\",\"#FF97FF\",\"#FECB52\"],\"font\":{\"color\":\"#2a3f5f\"},\"geo\":{\"bgcolor\":\"white\",\"lakecolor\":\"white\",\"landcolor\":\"white\",\"showlakes\":true,\"showland\":true,\"subunitcolor\":\"#C8D4E3\"},\"hoverlabel\":{\"align\":\"left\"},\"hovermode\":\"closest\",\"mapbox\":{\"style\":\"light\"},\"paper_bgcolor\":\"white\",\"plot_bgcolor\":\"white\",\"polar\":{\"angularaxis\":{\"gridcolor\":\"#EBF0F8\",\"linecolor\":\"#EBF0F8\",\"ticks\":\"\"},\"bgcolor\":\"white\",\"radialaxis\":{\"gridcolor\":\"#EBF0F8\",\"linecolor\":\"#EBF0F8\",\"ticks\":\"\"}},\"scene\":{\"xaxis\":{\"backgroundcolor\":\"white\",\"gridcolor\":\"#DFE8F3\",\"gridwidth\":2,\"linecolor\":\"#EBF0F8\",\"showbackground\":true,\"ticks\":\"\",\"zerolinecolor\":\"#EBF0F8\"},\"yaxis\":{\"backgroundcolor\":\"white\",\"gridcolor\":\"#DFE8F3\",\"gridwidth\":2,\"linecolor\":\"#EBF0F8\",\"showbackground\":true,\"ticks\":\"\",\"zerolinecolor\":\"#EBF0F8\"},\"zaxis\":{\"backgroundcolor\":\"white\",\"gridcolor\":\"#DFE8F3\",\"gridwidth\":2,\"linecolor\":\"#EBF0F8\",\"showbackground\":true,\"ticks\":\"\",\"zerolinecolor\":\"#EBF0F8\"}},\"shapedefaults\":{\"line\":{\"color\":\"#2a3f5f\"}},\"ternary\":{\"aaxis\":{\"gridcolor\":\"#DFE8F3\",\"linecolor\":\"#A2B1C6\",\"ticks\":\"\"},\"baxis\":{\"gridcolor\":\"#DFE8F3\",\"linecolor\":\"#A2B1C6\",\"ticks\":\"\"},\"bgcolor\":\"white\",\"caxis\":{\"gridcolor\":\"#DFE8F3\",\"linecolor\":\"#A2B1C6\",\"ticks\":\"\"}},\"title\":{\"x\":0.05},\"xaxis\":{\"automargin\":true,\"gridcolor\":\"#EBF0F8\",\"linecolor\":\"#EBF0F8\",\"ticks\":\"\",\"title\":{\"standoff\":15},\"zerolinecolor\":\"#EBF0F8\",\"zerolinewidth\":2},\"yaxis\":{\"automargin\":true,\"gridcolor\":\"#EBF0F8\",\"linecolor\":\"#EBF0F8\",\"ticks\":\"\",\"title\":{\"standoff\":15},\"zerolinecolor\":\"#EBF0F8\",\"zerolinewidth\":2}}},\"legend\":{\"x\":0.75,\"y\":0.9},\"title\":{\"text\":\"Model Training Metrics\"},\"xaxis\":{\"title\":{\"text\":\"Number of epochs\"}},\"yaxis\":{\"title\":{\"text\":\"Metric Value\"}}},                        {\"responsive\": true}                    ).then(function(){\n",
              "                            \n",
              "var gd = document.getElementById('a8fa8757-0140-4645-bbbf-2284c9a35842');\n",
              "var x = new MutationObserver(function (mutations, observer) {{\n",
              "        var display = window.getComputedStyle(gd).display;\n",
              "        if (!display || display === 'none') {{\n",
              "            console.log([gd, 'removed!']);\n",
              "            Plotly.purge(gd);\n",
              "            observer.disconnect();\n",
              "        }}\n",
              "}});\n",
              "\n",
              "// Listen for the removal of the full notebook cells\n",
              "var notebookContainer = gd.closest('#notebook-container');\n",
              "if (notebookContainer) {{\n",
              "    x.observe(notebookContainer, {childList: true});\n",
              "}}\n",
              "\n",
              "// Listen for the clearing of the current output cell\n",
              "var outputEl = gd.closest('.output');\n",
              "if (outputEl) {{\n",
              "    x.observe(outputEl, {childList: true});\n",
              "}}\n",
              "\n",
              "                        })                };                            </script>        </div>\n",
              "</body>\n",
              "</html>"
            ]
          },
          "metadata": {}
        }
      ]
    },
    {
      "cell_type": "code",
      "metadata": {
        "id": "8CO8w3uTnjxr"
      },
      "source": [
        "model3_params = {'activation 1': 'relu',\n",
        "                 'activation 2': 'relu',\n",
        "                 'activation 3': 'softmax',\n",
        "                 'opt': tf.keras.optimizers.SGD(learning_rate=0.01),\n",
        "                 'loss': 'categorical_crossentropy',\n",
        "                 'epochs': 45,\n",
        "                 'batch_size': 16,\n",
        "                 }"
      ],
      "execution_count": 44,
      "outputs": []
    },
    {
      "cell_type": "code",
      "metadata": {
        "colab": {
          "base_uri": "https://localhost:8080/",
          "height": 1000
        },
        "id": "Rd_DRvv2n3jX",
        "outputId": "84c3bef8-2551-4beb-9c6d-f09f6696dcaf"
      },
      "source": [
        "model3_history, model3 = create_model(train, label_train, test, label_test, model3_params)"
      ],
      "execution_count": 45,
      "outputs": [
        {
          "output_type": "stream",
          "name": "stdout",
          "text": [
            "Epoch 1/45\n",
            "573/573 [==============================] - 5s 7ms/step - loss: 1.6772 - acc: 0.5085 - val_loss: 1.3897 - val_acc: 0.5113\n",
            "Epoch 2/45\n",
            "573/573 [==============================] - 2s 4ms/step - loss: 1.2276 - acc: 0.5648 - val_loss: 1.0720 - val_acc: 0.6553\n",
            "Epoch 3/45\n",
            "573/573 [==============================] - 2s 4ms/step - loss: 0.9607 - acc: 0.7139 - val_loss: 0.8718 - val_acc: 0.7579\n",
            "Epoch 4/45\n",
            "573/573 [==============================] - 2s 4ms/step - loss: 0.7885 - acc: 0.7826 - val_loss: 0.7216 - val_acc: 0.8106\n",
            "Epoch 5/45\n",
            "573/573 [==============================] - 2s 4ms/step - loss: 0.6438 - acc: 0.8332 - val_loss: 0.5922 - val_acc: 0.8525\n",
            "Epoch 6/45\n",
            "573/573 [==============================] - 3s 6ms/step - loss: 0.5263 - acc: 0.8644 - val_loss: 0.4930 - val_acc: 0.8748\n",
            "Epoch 7/45\n",
            "573/573 [==============================] - 4s 6ms/step - loss: 0.4391 - acc: 0.8847 - val_loss: 0.4196 - val_acc: 0.8935\n",
            "Epoch 8/45\n",
            "573/573 [==============================] - 2s 4ms/step - loss: 0.3756 - acc: 0.9101 - val_loss: 0.3655 - val_acc: 0.9193\n",
            "Epoch 9/45\n",
            "573/573 [==============================] - 3s 5ms/step - loss: 0.3275 - acc: 0.9279 - val_loss: 0.3236 - val_acc: 0.9250\n",
            "Epoch 10/45\n",
            "573/573 [==============================] - 2s 4ms/step - loss: 0.2895 - acc: 0.9370 - val_loss: 0.2920 - val_acc: 0.9341\n",
            "Epoch 11/45\n",
            "573/573 [==============================] - 2s 4ms/step - loss: 0.2590 - acc: 0.9432 - val_loss: 0.2625 - val_acc: 0.9380\n",
            "Epoch 12/45\n",
            "573/573 [==============================] - 4s 6ms/step - loss: 0.2337 - acc: 0.9487 - val_loss: 0.2409 - val_acc: 0.9437\n",
            "Epoch 13/45\n",
            "573/573 [==============================] - 3s 5ms/step - loss: 0.2125 - acc: 0.9521 - val_loss: 0.2208 - val_acc: 0.9463\n",
            "Epoch 14/45\n",
            "573/573 [==============================] - 2s 4ms/step - loss: 0.1944 - acc: 0.9557 - val_loss: 0.2050 - val_acc: 0.9476\n",
            "Epoch 15/45\n",
            "573/573 [==============================] - 2s 4ms/step - loss: 0.1789 - acc: 0.9576 - val_loss: 0.1902 - val_acc: 0.9516\n",
            "Epoch 16/45\n",
            "573/573 [==============================] - 3s 6ms/step - loss: 0.1652 - acc: 0.9600 - val_loss: 0.1778 - val_acc: 0.9546\n",
            "Epoch 17/45\n",
            "573/573 [==============================] - 4s 7ms/step - loss: 0.1531 - acc: 0.9679 - val_loss: 0.1669 - val_acc: 0.9664\n",
            "Epoch 18/45\n",
            "573/573 [==============================] - 4s 7ms/step - loss: 0.1424 - acc: 0.9731 - val_loss: 0.1572 - val_acc: 0.9690\n",
            "Epoch 19/45\n",
            "573/573 [==============================] - 3s 5ms/step - loss: 0.1330 - acc: 0.9744 - val_loss: 0.1479 - val_acc: 0.9690\n",
            "Epoch 20/45\n",
            "573/573 [==============================] - 3s 5ms/step - loss: 0.1245 - acc: 0.9759 - val_loss: 0.1395 - val_acc: 0.9677\n",
            "Epoch 21/45\n",
            "573/573 [==============================] - 3s 5ms/step - loss: 0.1169 - acc: 0.9753 - val_loss: 0.1324 - val_acc: 0.9699\n",
            "Epoch 22/45\n",
            "573/573 [==============================] - 2s 4ms/step - loss: 0.1100 - acc: 0.9757 - val_loss: 0.1259 - val_acc: 0.9695\n",
            "Epoch 23/45\n",
            "573/573 [==============================] - 3s 6ms/step - loss: 0.1038 - acc: 0.9767 - val_loss: 0.1202 - val_acc: 0.9699\n",
            "Epoch 24/45\n",
            "573/573 [==============================] - 3s 6ms/step - loss: 0.0983 - acc: 0.9772 - val_loss: 0.1151 - val_acc: 0.9699\n",
            "Epoch 25/45\n",
            "573/573 [==============================] - 2s 4ms/step - loss: 0.0932 - acc: 0.9781 - val_loss: 0.1102 - val_acc: 0.9725\n",
            "Epoch 26/45\n",
            "573/573 [==============================] - 3s 5ms/step - loss: 0.0887 - acc: 0.9787 - val_loss: 0.1057 - val_acc: 0.9734\n",
            "Epoch 27/45\n",
            "573/573 [==============================] - 2s 4ms/step - loss: 0.0845 - acc: 0.9789 - val_loss: 0.1018 - val_acc: 0.9751\n",
            "Epoch 28/45\n",
            "573/573 [==============================] - 3s 5ms/step - loss: 0.0808 - acc: 0.9812 - val_loss: 0.0978 - val_acc: 0.9777\n",
            "Epoch 29/45\n",
            "573/573 [==============================] - 3s 6ms/step - loss: 0.0773 - acc: 0.9819 - val_loss: 0.0944 - val_acc: 0.9791\n",
            "Epoch 30/45\n",
            "573/573 [==============================] - 3s 5ms/step - loss: 0.0740 - acc: 0.9823 - val_loss: 0.0914 - val_acc: 0.9795\n",
            "Epoch 31/45\n",
            "573/573 [==============================] - 2s 4ms/step - loss: 0.0712 - acc: 0.9836 - val_loss: 0.0884 - val_acc: 0.9808\n",
            "Epoch 32/45\n",
            "573/573 [==============================] - 2s 4ms/step - loss: 0.0682 - acc: 0.9847 - val_loss: 0.0862 - val_acc: 0.9799\n",
            "Epoch 33/45\n",
            "573/573 [==============================] - 2s 4ms/step - loss: 0.0659 - acc: 0.9856 - val_loss: 0.0841 - val_acc: 0.9817\n",
            "Epoch 34/45\n",
            "573/573 [==============================] - 2s 4ms/step - loss: 0.0636 - acc: 0.9856 - val_loss: 0.0818 - val_acc: 0.9817\n",
            "Epoch 35/45\n",
            "573/573 [==============================] - 3s 6ms/step - loss: 0.0615 - acc: 0.9866 - val_loss: 0.0793 - val_acc: 0.9812\n",
            "Epoch 36/45\n",
            "573/573 [==============================] - 3s 5ms/step - loss: 0.0594 - acc: 0.9873 - val_loss: 0.0774 - val_acc: 0.9821\n",
            "Epoch 37/45\n",
            "573/573 [==============================] - 2s 4ms/step - loss: 0.0575 - acc: 0.9877 - val_loss: 0.0754 - val_acc: 0.9817\n",
            "Epoch 38/45\n",
            "573/573 [==============================] - 2s 4ms/step - loss: 0.0559 - acc: 0.9884 - val_loss: 0.0749 - val_acc: 0.9821\n",
            "Epoch 39/45\n",
            "573/573 [==============================] - 2s 4ms/step - loss: 0.0542 - acc: 0.9884 - val_loss: 0.0730 - val_acc: 0.9817\n",
            "Epoch 40/45\n",
            "573/573 [==============================] - 2s 4ms/step - loss: 0.0526 - acc: 0.9885 - val_loss: 0.0710 - val_acc: 0.9830\n",
            "Epoch 41/45\n",
            "573/573 [==============================] - 3s 6ms/step - loss: 0.0513 - acc: 0.9893 - val_loss: 0.0697 - val_acc: 0.9830\n",
            "Epoch 42/45\n",
            "573/573 [==============================] - 3s 5ms/step - loss: 0.0494 - acc: 0.9900 - val_loss: 0.0694 - val_acc: 0.9830\n",
            "Epoch 43/45\n",
            "573/573 [==============================] - 2s 4ms/step - loss: 0.0485 - acc: 0.9905 - val_loss: 0.0686 - val_acc: 0.9830\n",
            "Epoch 44/45\n",
            "573/573 [==============================] - 2s 4ms/step - loss: 0.0475 - acc: 0.9904 - val_loss: 0.0666 - val_acc: 0.9821\n",
            "Epoch 45/45\n",
            "573/573 [==============================] - 2s 4ms/step - loss: 0.0462 - acc: 0.9905 - val_loss: 0.0658 - val_acc: 0.9839\n",
            "<bound method Model.summary of <keras.src.engine.sequential.Sequential object at 0x7ef8d43dba90>>\n",
            "Test Accuracy:\n",
            "6446/6446 [==============================] - 21s 3ms/step - loss: 0.0738 - acc: 0.9820\n",
            "Random Sample Accuracy:\n",
            "94/94 [==============================] - 0s 4ms/step - loss: 1.9023 - acc: 0.6313\n"
          ]
        },
        {
          "output_type": "display_data",
          "data": {
            "text/html": [
              "<html>\n",
              "<head><meta charset=\"utf-8\" /></head>\n",
              "<body>\n",
              "    <div>            <script src=\"https://cdnjs.cloudflare.com/ajax/libs/mathjax/2.7.5/MathJax.js?config=TeX-AMS-MML_SVG\"></script><script type=\"text/javascript\">if (window.MathJax && window.MathJax.Hub && window.MathJax.Hub.Config) {window.MathJax.Hub.Config({SVG: {font: \"STIX-Web\"}});}</script>                <script type=\"text/javascript\">window.PlotlyConfig = {MathJaxConfig: 'local'};</script>\n",
              "        <script charset=\"utf-8\" src=\"https://cdn.plot.ly/plotly-2.24.1.min.js\"></script>                <div id=\"6a5e123a-7637-4f73-857a-e62450da4278\" class=\"plotly-graph-div\" style=\"height:525px; width:100%;\"></div>            <script type=\"text/javascript\">                                    window.PLOTLYENV=window.PLOTLYENV || {};                                    if (document.getElementById(\"6a5e123a-7637-4f73-857a-e62450da4278\")) {                    Plotly.newPlot(                        \"6a5e123a-7637-4f73-857a-e62450da4278\",                        [{\"line\":{\"color\":\"#D8A7B1\",\"width\":3},\"mode\":\"lines\",\"name\":\"Train Accuracy\",\"x\":[1,2,3,4,5,6,7,8,9,10,11,12,13,14,15,16,17,18,19,20,21,22,23,24,25,26,27,28,29,30,31,32,33,34,35,36,37,38,39,40,41,42,43,44,45],\"y\":[0.5085078477859497,0.5647905468940735,0.7138961553573608,0.7826134562492371,0.8332242369651794,0.86441969871521,0.8847076892852783,0.9101221561431885,0.9279013872146606,0.9369546175003052,0.9431719183921814,0.948734700679779,0.952116072177887,0.955715537071228,0.9575698375701904,0.9599694609642029,0.9679319262504578,0.9730584621429443,0.9743673801422119,0.9758943915367126,0.9753490686416626,0.9756762385368347,0.9766579270362854,0.9772033095359802,0.9780759215354919,0.9787303805351257,0.9789485335350037,0.9812390804290771,0.9818935394287109,0.9823298454284668,0.9836387634277344,0.9847294688224792,0.985602080821991,0.985602080821991,0.9865837693214417,0.9873473048210144,0.9876745343208313,0.988438069820404,0.988438069820404,0.988547146320343,0.989310622215271,0.9899650812149048,0.9905104637145996,0.9904013872146606,0.9905104637145996],\"type\":\"scatter\"},{\"line\":{\"color\":\"#05234C\",\"width\":3},\"mode\":\"lines\",\"name\":\"Validation Accuracy\",\"x\":[1,2,3,4,5,6,7,8,9,10,11,12,13,14,15,16,17,18,19,20,21,22,23,24,25,26,27,28,29,30,31,32,33,34,35,36,37,38,39,40,41,42,43,44,45],\"y\":[0.511343777179718,0.6553228497505188,0.7578533887863159,0.8106456995010376,0.8525305390357971,0.8747818470001221,0.8935427665710449,0.919284462928772,0.9249563813209534,0.9341186881065369,0.9380453824996948,0.9437173008918762,0.9463350772857666,0.9476439952850342,0.9515706896781921,0.9546247720718384,0.966404914855957,0.9690226912498474,0.9690226912498474,0.9677137732505798,0.9698953032493591,0.9694589972496033,0.9698953032493591,0.9698953032493591,0.9725130796432495,0.9733856916427612,0.9751309156417847,0.977748692035675,0.9790576100349426,0.9794939160346985,0.9808027744293213,0.9799301624298096,0.981675386428833,0.981675386428833,0.9812390804290771,0.9821116924285889,0.981675386428833,0.9821116924285889,0.981675386428833,0.9829843044281006,0.9829843044281006,0.9829843044281006,0.9829843044281006,0.9821116924285889,0.9838569164276123],\"type\":\"scatter\"},{\"line\":{\"color\":\"#D8A7B1\",\"dash\":\"dash\",\"width\":3},\"mode\":\"lines\",\"name\":\"Train Loss\",\"x\":[1,2,3,4,5,6,7,8,9,10,11,12,13,14,15,16,17,18,19,20,21,22,23,24,25,26,27,28,29,30,31,32,33,34,35,36,37,38,39,40,41,42,43,44,45],\"y\":[1.677185297012329,1.2276076078414917,0.960686981678009,0.788529098033905,0.6437841057777405,0.5262764096260071,0.4390853941440582,0.3755689263343811,0.32749295234680176,0.28952714800834656,0.25903233885765076,0.23365427553653717,0.2125370055437088,0.19442155957221985,0.1788591891527176,0.16522905230522156,0.15310920774936676,0.1423887461423874,0.13302232325077057,0.12449117749929428,0.11694110929965973,0.10998833924531937,0.10376565903425217,0.09833396226167679,0.09321099519729614,0.0887417197227478,0.08453043550252914,0.08077386766672134,0.07726822793483734,0.07400292158126831,0.07120998203754425,0.06817097216844559,0.0659407526254654,0.0636148601770401,0.061500195413827896,0.05941333621740341,0.05753439664840698,0.05588465556502342,0.05419923737645149,0.05257827043533325,0.05132931470870972,0.04944697767496109,0.04853956028819084,0.047469865530729294,0.04619918391108513],\"type\":\"scatter\"},{\"line\":{\"color\":\"#05234C\",\"dash\":\"dash\",\"width\":3},\"mode\":\"lines\",\"name\":\"Validation Loss\",\"x\":[1,2,3,4,5,6,7,8,9,10,11,12,13,14,15,16,17,18,19,20,21,22,23,24,25,26,27,28,29,30,31,32,33,34,35,36,37,38,39,40,41,42,43,44,45],\"y\":[1.3897074460983276,1.072016954421997,0.8717665672302246,0.7216019034385681,0.5921503305435181,0.4930267035961151,0.41963350772857666,0.365470826625824,0.32360023260116577,0.292036235332489,0.2625212073326111,0.24088925123214722,0.22080248594284058,0.2049671858549118,0.19024452567100525,0.17784355580806732,0.1668636053800583,0.1572081297636032,0.14788222312927246,0.13952311873435974,0.13244442641735077,0.12588587403297424,0.12021378427743912,0.11505018919706345,0.11020084470510483,0.10566533356904984,0.10184572637081146,0.09779193997383118,0.09440366923809052,0.09141618013381958,0.08844546228647232,0.08623475581407547,0.08409261703491211,0.08176825940608978,0.0792558416724205,0.07737421244382858,0.07535839080810547,0.07490773499011993,0.0729825347661972,0.0710403248667717,0.06969854980707169,0.06940266489982605,0.06859588623046875,0.06656946986913681,0.06575563549995422],\"type\":\"scatter\"}],                        {\"template\":{\"data\":{\"barpolar\":[{\"marker\":{\"line\":{\"color\":\"white\",\"width\":0.5},\"pattern\":{\"fillmode\":\"overlay\",\"size\":10,\"solidity\":0.2}},\"type\":\"barpolar\"}],\"bar\":[{\"error_x\":{\"color\":\"#2a3f5f\"},\"error_y\":{\"color\":\"#2a3f5f\"},\"marker\":{\"line\":{\"color\":\"white\",\"width\":0.5},\"pattern\":{\"fillmode\":\"overlay\",\"size\":10,\"solidity\":0.2}},\"type\":\"bar\"}],\"carpet\":[{\"aaxis\":{\"endlinecolor\":\"#2a3f5f\",\"gridcolor\":\"#C8D4E3\",\"linecolor\":\"#C8D4E3\",\"minorgridcolor\":\"#C8D4E3\",\"startlinecolor\":\"#2a3f5f\"},\"baxis\":{\"endlinecolor\":\"#2a3f5f\",\"gridcolor\":\"#C8D4E3\",\"linecolor\":\"#C8D4E3\",\"minorgridcolor\":\"#C8D4E3\",\"startlinecolor\":\"#2a3f5f\"},\"type\":\"carpet\"}],\"choropleth\":[{\"colorbar\":{\"outlinewidth\":0,\"ticks\":\"\"},\"type\":\"choropleth\"}],\"contourcarpet\":[{\"colorbar\":{\"outlinewidth\":0,\"ticks\":\"\"},\"type\":\"contourcarpet\"}],\"contour\":[{\"colorbar\":{\"outlinewidth\":0,\"ticks\":\"\"},\"colorscale\":[[0.0,\"#0d0887\"],[0.1111111111111111,\"#46039f\"],[0.2222222222222222,\"#7201a8\"],[0.3333333333333333,\"#9c179e\"],[0.4444444444444444,\"#bd3786\"],[0.5555555555555556,\"#d8576b\"],[0.6666666666666666,\"#ed7953\"],[0.7777777777777778,\"#fb9f3a\"],[0.8888888888888888,\"#fdca26\"],[1.0,\"#f0f921\"]],\"type\":\"contour\"}],\"heatmapgl\":[{\"colorbar\":{\"outlinewidth\":0,\"ticks\":\"\"},\"colorscale\":[[0.0,\"#0d0887\"],[0.1111111111111111,\"#46039f\"],[0.2222222222222222,\"#7201a8\"],[0.3333333333333333,\"#9c179e\"],[0.4444444444444444,\"#bd3786\"],[0.5555555555555556,\"#d8576b\"],[0.6666666666666666,\"#ed7953\"],[0.7777777777777778,\"#fb9f3a\"],[0.8888888888888888,\"#fdca26\"],[1.0,\"#f0f921\"]],\"type\":\"heatmapgl\"}],\"heatmap\":[{\"colorbar\":{\"outlinewidth\":0,\"ticks\":\"\"},\"colorscale\":[[0.0,\"#0d0887\"],[0.1111111111111111,\"#46039f\"],[0.2222222222222222,\"#7201a8\"],[0.3333333333333333,\"#9c179e\"],[0.4444444444444444,\"#bd3786\"],[0.5555555555555556,\"#d8576b\"],[0.6666666666666666,\"#ed7953\"],[0.7777777777777778,\"#fb9f3a\"],[0.8888888888888888,\"#fdca26\"],[1.0,\"#f0f921\"]],\"type\":\"heatmap\"}],\"histogram2dcontour\":[{\"colorbar\":{\"outlinewidth\":0,\"ticks\":\"\"},\"colorscale\":[[0.0,\"#0d0887\"],[0.1111111111111111,\"#46039f\"],[0.2222222222222222,\"#7201a8\"],[0.3333333333333333,\"#9c179e\"],[0.4444444444444444,\"#bd3786\"],[0.5555555555555556,\"#d8576b\"],[0.6666666666666666,\"#ed7953\"],[0.7777777777777778,\"#fb9f3a\"],[0.8888888888888888,\"#fdca26\"],[1.0,\"#f0f921\"]],\"type\":\"histogram2dcontour\"}],\"histogram2d\":[{\"colorbar\":{\"outlinewidth\":0,\"ticks\":\"\"},\"colorscale\":[[0.0,\"#0d0887\"],[0.1111111111111111,\"#46039f\"],[0.2222222222222222,\"#7201a8\"],[0.3333333333333333,\"#9c179e\"],[0.4444444444444444,\"#bd3786\"],[0.5555555555555556,\"#d8576b\"],[0.6666666666666666,\"#ed7953\"],[0.7777777777777778,\"#fb9f3a\"],[0.8888888888888888,\"#fdca26\"],[1.0,\"#f0f921\"]],\"type\":\"histogram2d\"}],\"histogram\":[{\"marker\":{\"pattern\":{\"fillmode\":\"overlay\",\"size\":10,\"solidity\":0.2}},\"type\":\"histogram\"}],\"mesh3d\":[{\"colorbar\":{\"outlinewidth\":0,\"ticks\":\"\"},\"type\":\"mesh3d\"}],\"parcoords\":[{\"line\":{\"colorbar\":{\"outlinewidth\":0,\"ticks\":\"\"}},\"type\":\"parcoords\"}],\"pie\":[{\"automargin\":true,\"type\":\"pie\"}],\"scatter3d\":[{\"line\":{\"colorbar\":{\"outlinewidth\":0,\"ticks\":\"\"}},\"marker\":{\"colorbar\":{\"outlinewidth\":0,\"ticks\":\"\"}},\"type\":\"scatter3d\"}],\"scattercarpet\":[{\"marker\":{\"colorbar\":{\"outlinewidth\":0,\"ticks\":\"\"}},\"type\":\"scattercarpet\"}],\"scattergeo\":[{\"marker\":{\"colorbar\":{\"outlinewidth\":0,\"ticks\":\"\"}},\"type\":\"scattergeo\"}],\"scattergl\":[{\"marker\":{\"colorbar\":{\"outlinewidth\":0,\"ticks\":\"\"}},\"type\":\"scattergl\"}],\"scattermapbox\":[{\"marker\":{\"colorbar\":{\"outlinewidth\":0,\"ticks\":\"\"}},\"type\":\"scattermapbox\"}],\"scatterpolargl\":[{\"marker\":{\"colorbar\":{\"outlinewidth\":0,\"ticks\":\"\"}},\"type\":\"scatterpolargl\"}],\"scatterpolar\":[{\"marker\":{\"colorbar\":{\"outlinewidth\":0,\"ticks\":\"\"}},\"type\":\"scatterpolar\"}],\"scatter\":[{\"fillpattern\":{\"fillmode\":\"overlay\",\"size\":10,\"solidity\":0.2},\"type\":\"scatter\"}],\"scatterternary\":[{\"marker\":{\"colorbar\":{\"outlinewidth\":0,\"ticks\":\"\"}},\"type\":\"scatterternary\"}],\"surface\":[{\"colorbar\":{\"outlinewidth\":0,\"ticks\":\"\"},\"colorscale\":[[0.0,\"#0d0887\"],[0.1111111111111111,\"#46039f\"],[0.2222222222222222,\"#7201a8\"],[0.3333333333333333,\"#9c179e\"],[0.4444444444444444,\"#bd3786\"],[0.5555555555555556,\"#d8576b\"],[0.6666666666666666,\"#ed7953\"],[0.7777777777777778,\"#fb9f3a\"],[0.8888888888888888,\"#fdca26\"],[1.0,\"#f0f921\"]],\"type\":\"surface\"}],\"table\":[{\"cells\":{\"fill\":{\"color\":\"#EBF0F8\"},\"line\":{\"color\":\"white\"}},\"header\":{\"fill\":{\"color\":\"#C8D4E3\"},\"line\":{\"color\":\"white\"}},\"type\":\"table\"}]},\"layout\":{\"annotationdefaults\":{\"arrowcolor\":\"#2a3f5f\",\"arrowhead\":0,\"arrowwidth\":1},\"autotypenumbers\":\"strict\",\"coloraxis\":{\"colorbar\":{\"outlinewidth\":0,\"ticks\":\"\"}},\"colorscale\":{\"diverging\":[[0,\"#8e0152\"],[0.1,\"#c51b7d\"],[0.2,\"#de77ae\"],[0.3,\"#f1b6da\"],[0.4,\"#fde0ef\"],[0.5,\"#f7f7f7\"],[0.6,\"#e6f5d0\"],[0.7,\"#b8e186\"],[0.8,\"#7fbc41\"],[0.9,\"#4d9221\"],[1,\"#276419\"]],\"sequential\":[[0.0,\"#0d0887\"],[0.1111111111111111,\"#46039f\"],[0.2222222222222222,\"#7201a8\"],[0.3333333333333333,\"#9c179e\"],[0.4444444444444444,\"#bd3786\"],[0.5555555555555556,\"#d8576b\"],[0.6666666666666666,\"#ed7953\"],[0.7777777777777778,\"#fb9f3a\"],[0.8888888888888888,\"#fdca26\"],[1.0,\"#f0f921\"]],\"sequentialminus\":[[0.0,\"#0d0887\"],[0.1111111111111111,\"#46039f\"],[0.2222222222222222,\"#7201a8\"],[0.3333333333333333,\"#9c179e\"],[0.4444444444444444,\"#bd3786\"],[0.5555555555555556,\"#d8576b\"],[0.6666666666666666,\"#ed7953\"],[0.7777777777777778,\"#fb9f3a\"],[0.8888888888888888,\"#fdca26\"],[1.0,\"#f0f921\"]]},\"colorway\":[\"#636efa\",\"#EF553B\",\"#00cc96\",\"#ab63fa\",\"#FFA15A\",\"#19d3f3\",\"#FF6692\",\"#B6E880\",\"#FF97FF\",\"#FECB52\"],\"font\":{\"color\":\"#2a3f5f\"},\"geo\":{\"bgcolor\":\"white\",\"lakecolor\":\"white\",\"landcolor\":\"white\",\"showlakes\":true,\"showland\":true,\"subunitcolor\":\"#C8D4E3\"},\"hoverlabel\":{\"align\":\"left\"},\"hovermode\":\"closest\",\"mapbox\":{\"style\":\"light\"},\"paper_bgcolor\":\"white\",\"plot_bgcolor\":\"white\",\"polar\":{\"angularaxis\":{\"gridcolor\":\"#EBF0F8\",\"linecolor\":\"#EBF0F8\",\"ticks\":\"\"},\"bgcolor\":\"white\",\"radialaxis\":{\"gridcolor\":\"#EBF0F8\",\"linecolor\":\"#EBF0F8\",\"ticks\":\"\"}},\"scene\":{\"xaxis\":{\"backgroundcolor\":\"white\",\"gridcolor\":\"#DFE8F3\",\"gridwidth\":2,\"linecolor\":\"#EBF0F8\",\"showbackground\":true,\"ticks\":\"\",\"zerolinecolor\":\"#EBF0F8\"},\"yaxis\":{\"backgroundcolor\":\"white\",\"gridcolor\":\"#DFE8F3\",\"gridwidth\":2,\"linecolor\":\"#EBF0F8\",\"showbackground\":true,\"ticks\":\"\",\"zerolinecolor\":\"#EBF0F8\"},\"zaxis\":{\"backgroundcolor\":\"white\",\"gridcolor\":\"#DFE8F3\",\"gridwidth\":2,\"linecolor\":\"#EBF0F8\",\"showbackground\":true,\"ticks\":\"\",\"zerolinecolor\":\"#EBF0F8\"}},\"shapedefaults\":{\"line\":{\"color\":\"#2a3f5f\"}},\"ternary\":{\"aaxis\":{\"gridcolor\":\"#DFE8F3\",\"linecolor\":\"#A2B1C6\",\"ticks\":\"\"},\"baxis\":{\"gridcolor\":\"#DFE8F3\",\"linecolor\":\"#A2B1C6\",\"ticks\":\"\"},\"bgcolor\":\"white\",\"caxis\":{\"gridcolor\":\"#DFE8F3\",\"linecolor\":\"#A2B1C6\",\"ticks\":\"\"}},\"title\":{\"x\":0.05},\"xaxis\":{\"automargin\":true,\"gridcolor\":\"#EBF0F8\",\"linecolor\":\"#EBF0F8\",\"ticks\":\"\",\"title\":{\"standoff\":15},\"zerolinecolor\":\"#EBF0F8\",\"zerolinewidth\":2},\"yaxis\":{\"automargin\":true,\"gridcolor\":\"#EBF0F8\",\"linecolor\":\"#EBF0F8\",\"ticks\":\"\",\"title\":{\"standoff\":15},\"zerolinecolor\":\"#EBF0F8\",\"zerolinewidth\":2}}},\"legend\":{\"x\":0.75,\"y\":0.9},\"title\":{\"text\":\"Model Training Metrics\"},\"xaxis\":{\"title\":{\"text\":\"Number of epochs\"}},\"yaxis\":{\"title\":{\"text\":\"Metric Value\"}}},                        {\"responsive\": true}                    ).then(function(){\n",
              "                            \n",
              "var gd = document.getElementById('6a5e123a-7637-4f73-857a-e62450da4278');\n",
              "var x = new MutationObserver(function (mutations, observer) {{\n",
              "        var display = window.getComputedStyle(gd).display;\n",
              "        if (!display || display === 'none') {{\n",
              "            console.log([gd, 'removed!']);\n",
              "            Plotly.purge(gd);\n",
              "            observer.disconnect();\n",
              "        }}\n",
              "}});\n",
              "\n",
              "// Listen for the removal of the full notebook cells\n",
              "var notebookContainer = gd.closest('#notebook-container');\n",
              "if (notebookContainer) {{\n",
              "    x.observe(notebookContainer, {childList: true});\n",
              "}}\n",
              "\n",
              "// Listen for the clearing of the current output cell\n",
              "var outputEl = gd.closest('.output');\n",
              "if (outputEl) {{\n",
              "    x.observe(outputEl, {childList: true});\n",
              "}}\n",
              "\n",
              "                        })                };                            </script>        </div>\n",
              "</body>\n",
              "</html>"
            ]
          },
          "metadata": {}
        }
      ]
    },
    {
      "cell_type": "code",
      "metadata": {
        "id": "Tr_uT5YW6wBu"
      },
      "source": [
        "model4_params = {'activation 1': 'relu',\n",
        "                 'activation 2': 'relu',\n",
        "                 'activation 3': 'softmax',\n",
        "                 'opt': tf.keras.optimizers.SGD(learning_rate=0.001),\n",
        "                 'loss': 'categorical_crossentropy',\n",
        "                 'epochs': 250,\n",
        "                 'batch_size': 50,\n",
        "                 }"
      ],
      "execution_count": 46,
      "outputs": []
    },
    {
      "cell_type": "code",
      "metadata": {
        "colab": {
          "base_uri": "https://localhost:8080/",
          "height": 1000
        },
        "id": "nKzymFb26_kD",
        "outputId": "0958e154-2db3-49e2-d396-e25d5c928994"
      },
      "source": [
        "model4_history, model4 = create_model(train, label_train, test, label_test, model4_params)"
      ],
      "execution_count": 47,
      "outputs": [
        {
          "output_type": "stream",
          "name": "stdout",
          "text": [
            "Epoch 1/250\n",
            "184/184 [==============================] - 2s 6ms/step - loss: 2.6095 - acc: 0.2813 - val_loss: 2.5658 - val_acc: 0.5092\n",
            "Epoch 2/250\n",
            "184/184 [==============================] - 1s 5ms/step - loss: 2.5215 - acc: 0.5167 - val_loss: 2.4812 - val_acc: 0.5113\n",
            "Epoch 3/250\n",
            "184/184 [==============================] - 1s 5ms/step - loss: 2.4356 - acc: 0.5170 - val_loss: 2.3950 - val_acc: 0.5113\n",
            "Epoch 4/250\n",
            "184/184 [==============================] - 1s 5ms/step - loss: 2.3453 - acc: 0.5170 - val_loss: 2.3049 - val_acc: 0.5113\n",
            "Epoch 5/250\n",
            "184/184 [==============================] - 1s 5ms/step - loss: 2.2554 - acc: 0.5170 - val_loss: 2.2163 - val_acc: 0.5113\n",
            "Epoch 6/250\n",
            "184/184 [==============================] - 1s 5ms/step - loss: 2.1636 - acc: 0.5170 - val_loss: 2.1231 - val_acc: 0.5113\n",
            "Epoch 7/250\n",
            "184/184 [==============================] - 1s 5ms/step - loss: 2.0682 - acc: 0.5170 - val_loss: 2.0293 - val_acc: 0.5113\n",
            "Epoch 8/250\n",
            "184/184 [==============================] - 1s 4ms/step - loss: 1.9760 - acc: 0.5170 - val_loss: 1.9421 - val_acc: 0.5113\n",
            "Epoch 9/250\n",
            "184/184 [==============================] - 1s 5ms/step - loss: 1.8934 - acc: 0.5170 - val_loss: 1.8668 - val_acc: 0.5113\n",
            "Epoch 10/250\n",
            "184/184 [==============================] - 1s 4ms/step - loss: 1.8242 - acc: 0.5170 - val_loss: 1.8058 - val_acc: 0.5113\n",
            "Epoch 11/250\n",
            "184/184 [==============================] - 1s 7ms/step - loss: 1.7696 - acc: 0.5170 - val_loss: 1.7583 - val_acc: 0.5113\n",
            "Epoch 12/250\n",
            "184/184 [==============================] - 1s 7ms/step - loss: 1.7271 - acc: 0.5170 - val_loss: 1.7209 - val_acc: 0.5113\n",
            "Epoch 13/250\n",
            "184/184 [==============================] - 1s 6ms/step - loss: 1.6936 - acc: 0.5170 - val_loss: 1.6908 - val_acc: 0.5113\n",
            "Epoch 14/250\n",
            "184/184 [==============================] - 1s 7ms/step - loss: 1.6661 - acc: 0.5170 - val_loss: 1.6652 - val_acc: 0.5113\n",
            "Epoch 15/250\n",
            "184/184 [==============================] - 1s 6ms/step - loss: 1.6423 - acc: 0.5170 - val_loss: 1.6421 - val_acc: 0.5113\n",
            "Epoch 16/250\n",
            "184/184 [==============================] - 1s 4ms/step - loss: 1.6206 - acc: 0.5170 - val_loss: 1.6208 - val_acc: 0.5113\n",
            "Epoch 17/250\n",
            "184/184 [==============================] - 1s 4ms/step - loss: 1.6005 - acc: 0.5170 - val_loss: 1.6005 - val_acc: 0.5113\n",
            "Epoch 18/250\n",
            "184/184 [==============================] - 1s 4ms/step - loss: 1.5812 - acc: 0.5170 - val_loss: 1.5810 - val_acc: 0.5113\n",
            "Epoch 19/250\n",
            "184/184 [==============================] - 1s 4ms/step - loss: 1.5629 - acc: 0.5170 - val_loss: 1.5624 - val_acc: 0.5113\n",
            "Epoch 20/250\n",
            "184/184 [==============================] - 1s 4ms/step - loss: 1.5451 - acc: 0.5170 - val_loss: 1.5441 - val_acc: 0.5113\n",
            "Epoch 21/250\n",
            "184/184 [==============================] - 1s 4ms/step - loss: 1.5274 - acc: 0.5170 - val_loss: 1.5255 - val_acc: 0.5113\n",
            "Epoch 22/250\n",
            "184/184 [==============================] - 1s 4ms/step - loss: 1.5094 - acc: 0.5170 - val_loss: 1.5071 - val_acc: 0.5113\n",
            "Epoch 23/250\n",
            "184/184 [==============================] - 1s 4ms/step - loss: 1.4917 - acc: 0.5170 - val_loss: 1.4891 - val_acc: 0.5113\n",
            "Epoch 24/250\n",
            "184/184 [==============================] - 1s 4ms/step - loss: 1.4743 - acc: 0.5170 - val_loss: 1.4716 - val_acc: 0.5113\n",
            "Epoch 25/250\n",
            "184/184 [==============================] - 1s 4ms/step - loss: 1.4576 - acc: 0.5170 - val_loss: 1.4549 - val_acc: 0.5113\n",
            "Epoch 26/250\n",
            "184/184 [==============================] - 1s 4ms/step - loss: 1.4418 - acc: 0.5170 - val_loss: 1.4393 - val_acc: 0.5113\n",
            "Epoch 27/250\n",
            "184/184 [==============================] - 1s 4ms/step - loss: 1.4268 - acc: 0.5170 - val_loss: 1.4242 - val_acc: 0.5113\n",
            "Epoch 28/250\n",
            "184/184 [==============================] - 1s 6ms/step - loss: 1.4122 - acc: 0.5170 - val_loss: 1.4095 - val_acc: 0.5113\n",
            "Epoch 29/250\n",
            "184/184 [==============================] - 1s 6ms/step - loss: 1.3980 - acc: 0.5170 - val_loss: 1.3952 - val_acc: 0.5113\n",
            "Epoch 30/250\n",
            "184/184 [==============================] - 1s 7ms/step - loss: 1.3841 - acc: 0.5170 - val_loss: 1.3813 - val_acc: 0.5113\n",
            "Epoch 31/250\n",
            "184/184 [==============================] - 1s 6ms/step - loss: 1.3706 - acc: 0.5170 - val_loss: 1.3677 - val_acc: 0.5113\n",
            "Epoch 32/250\n",
            "184/184 [==============================] - 1s 5ms/step - loss: 1.3573 - acc: 0.5170 - val_loss: 1.3544 - val_acc: 0.5113\n",
            "Epoch 33/250\n",
            "184/184 [==============================] - 1s 4ms/step - loss: 1.3444 - acc: 0.5170 - val_loss: 1.3414 - val_acc: 0.5113\n",
            "Epoch 34/250\n",
            "184/184 [==============================] - 1s 4ms/step - loss: 1.3317 - acc: 0.5170 - val_loss: 1.3289 - val_acc: 0.5113\n",
            "Epoch 35/250\n",
            "184/184 [==============================] - 1s 4ms/step - loss: 1.3194 - acc: 0.5170 - val_loss: 1.3167 - val_acc: 0.5113\n",
            "Epoch 36/250\n",
            "184/184 [==============================] - 1s 4ms/step - loss: 1.3075 - acc: 0.5170 - val_loss: 1.3049 - val_acc: 0.5113\n",
            "Epoch 37/250\n",
            "184/184 [==============================] - 1s 4ms/step - loss: 1.2958 - acc: 0.5170 - val_loss: 1.2933 - val_acc: 0.5113\n",
            "Epoch 38/250\n",
            "184/184 [==============================] - 1s 4ms/step - loss: 1.2842 - acc: 0.5170 - val_loss: 1.2819 - val_acc: 0.5113\n",
            "Epoch 39/250\n",
            "184/184 [==============================] - 1s 4ms/step - loss: 1.2729 - acc: 0.5356 - val_loss: 1.2707 - val_acc: 0.5336\n",
            "Epoch 40/250\n",
            "184/184 [==============================] - 1s 4ms/step - loss: 1.2618 - acc: 0.5388 - val_loss: 1.2597 - val_acc: 0.5384\n",
            "Epoch 41/250\n",
            "184/184 [==============================] - 1s 4ms/step - loss: 1.2509 - acc: 0.5417 - val_loss: 1.2490 - val_acc: 0.5384\n",
            "Epoch 42/250\n",
            "184/184 [==============================] - 1s 4ms/step - loss: 1.2402 - acc: 0.5663 - val_loss: 1.2383 - val_acc: 0.5624\n",
            "Epoch 43/250\n",
            "184/184 [==============================] - 1s 4ms/step - loss: 1.2297 - acc: 0.5741 - val_loss: 1.2280 - val_acc: 0.5755\n",
            "Epoch 44/250\n",
            "184/184 [==============================] - 1s 4ms/step - loss: 1.2194 - acc: 0.5770 - val_loss: 1.2178 - val_acc: 0.5755\n",
            "Epoch 45/250\n",
            "184/184 [==============================] - 1s 5ms/step - loss: 1.2093 - acc: 0.5845 - val_loss: 1.2078 - val_acc: 0.5881\n",
            "Epoch 46/250\n",
            "184/184 [==============================] - 1s 6ms/step - loss: 1.1994 - acc: 0.5855 - val_loss: 1.1980 - val_acc: 0.5881\n",
            "Epoch 47/250\n",
            "184/184 [==============================] - 1s 7ms/step - loss: 1.1896 - acc: 0.5863 - val_loss: 1.1884 - val_acc: 0.5886\n",
            "Epoch 48/250\n",
            "184/184 [==============================] - 1s 7ms/step - loss: 1.1801 - acc: 0.5863 - val_loss: 1.1790 - val_acc: 0.5886\n",
            "Epoch 49/250\n",
            "184/184 [==============================] - 1s 6ms/step - loss: 1.1708 - acc: 0.5920 - val_loss: 1.1697 - val_acc: 0.6126\n",
            "Epoch 50/250\n",
            "184/184 [==============================] - 1s 4ms/step - loss: 1.1616 - acc: 0.6171 - val_loss: 1.1606 - val_acc: 0.6405\n",
            "Epoch 51/250\n",
            "184/184 [==============================] - 1s 4ms/step - loss: 1.1526 - acc: 0.6310 - val_loss: 1.1517 - val_acc: 0.6418\n",
            "Epoch 52/250\n",
            "184/184 [==============================] - 1s 4ms/step - loss: 1.1437 - acc: 0.6327 - val_loss: 1.1430 - val_acc: 0.6501\n",
            "Epoch 53/250\n",
            "184/184 [==============================] - 1s 5ms/step - loss: 1.1351 - acc: 0.6362 - val_loss: 1.1344 - val_acc: 0.6575\n",
            "Epoch 54/250\n",
            "184/184 [==============================] - 1s 5ms/step - loss: 1.1266 - acc: 0.6477 - val_loss: 1.1260 - val_acc: 0.6623\n",
            "Epoch 55/250\n",
            "184/184 [==============================] - 1s 5ms/step - loss: 1.1182 - acc: 0.6531 - val_loss: 1.1178 - val_acc: 0.6667\n",
            "Epoch 56/250\n",
            "184/184 [==============================] - 1s 4ms/step - loss: 1.1099 - acc: 0.6534 - val_loss: 1.1097 - val_acc: 0.6649\n",
            "Epoch 57/250\n",
            "184/184 [==============================] - 1s 4ms/step - loss: 1.1018 - acc: 0.6551 - val_loss: 1.1017 - val_acc: 0.6675\n",
            "Epoch 58/250\n",
            "184/184 [==============================] - 1s 4ms/step - loss: 1.0938 - acc: 0.6560 - val_loss: 1.0940 - val_acc: 0.6684\n",
            "Epoch 59/250\n",
            "184/184 [==============================] - 1s 4ms/step - loss: 1.0860 - acc: 0.6669 - val_loss: 1.0863 - val_acc: 0.6907\n",
            "Epoch 60/250\n",
            "184/184 [==============================] - 1s 4ms/step - loss: 1.0784 - acc: 0.6747 - val_loss: 1.0788 - val_acc: 0.6907\n",
            "Epoch 61/250\n",
            "184/184 [==============================] - 1s 4ms/step - loss: 1.0709 - acc: 0.6748 - val_loss: 1.0715 - val_acc: 0.6920\n",
            "Epoch 62/250\n",
            "184/184 [==============================] - 1s 6ms/step - loss: 1.0635 - acc: 0.6765 - val_loss: 1.0643 - val_acc: 0.6963\n",
            "Epoch 63/250\n",
            "184/184 [==============================] - 1s 6ms/step - loss: 1.0563 - acc: 0.6770 - val_loss: 1.0572 - val_acc: 0.6985\n",
            "Epoch 64/250\n",
            "184/184 [==============================] - 1s 7ms/step - loss: 1.0493 - acc: 0.6771 - val_loss: 1.0503 - val_acc: 0.6976\n",
            "Epoch 65/250\n",
            "184/184 [==============================] - 1s 6ms/step - loss: 1.0423 - acc: 0.6791 - val_loss: 1.0434 - val_acc: 0.6985\n",
            "Epoch 66/250\n",
            "184/184 [==============================] - 1s 5ms/step - loss: 1.0354 - acc: 0.6794 - val_loss: 1.0367 - val_acc: 0.6985\n",
            "Epoch 67/250\n",
            "184/184 [==============================] - 1s 4ms/step - loss: 1.0287 - acc: 0.6791 - val_loss: 1.0301 - val_acc: 0.6985\n",
            "Epoch 68/250\n",
            "184/184 [==============================] - 1s 4ms/step - loss: 1.0221 - acc: 0.6789 - val_loss: 1.0237 - val_acc: 0.6985\n",
            "Epoch 69/250\n",
            "184/184 [==============================] - 1s 4ms/step - loss: 1.0156 - acc: 0.6783 - val_loss: 1.0173 - val_acc: 0.6985\n",
            "Epoch 70/250\n",
            "184/184 [==============================] - 1s 4ms/step - loss: 1.0092 - acc: 0.6787 - val_loss: 1.0110 - val_acc: 0.6998\n",
            "Epoch 71/250\n",
            "184/184 [==============================] - 1s 4ms/step - loss: 1.0028 - acc: 0.6791 - val_loss: 1.0048 - val_acc: 0.6981\n",
            "Epoch 72/250\n",
            "184/184 [==============================] - 1s 4ms/step - loss: 0.9966 - acc: 0.6771 - val_loss: 0.9987 - val_acc: 0.6981\n",
            "Epoch 73/250\n",
            "184/184 [==============================] - 1s 4ms/step - loss: 0.9904 - acc: 0.6771 - val_loss: 0.9927 - val_acc: 0.6981\n",
            "Epoch 74/250\n",
            "184/184 [==============================] - 1s 4ms/step - loss: 0.9844 - acc: 0.6771 - val_loss: 0.9867 - val_acc: 0.6981\n",
            "Epoch 75/250\n",
            "184/184 [==============================] - 1s 4ms/step - loss: 0.9783 - acc: 0.6771 - val_loss: 0.9808 - val_acc: 0.6981\n",
            "Epoch 76/250\n",
            "184/184 [==============================] - 1s 4ms/step - loss: 0.9724 - acc: 0.6771 - val_loss: 0.9750 - val_acc: 0.6981\n",
            "Epoch 77/250\n",
            "184/184 [==============================] - 1s 4ms/step - loss: 0.9666 - acc: 0.6771 - val_loss: 0.9694 - val_acc: 0.6981\n",
            "Epoch 78/250\n",
            "184/184 [==============================] - 1s 4ms/step - loss: 0.9609 - acc: 0.6771 - val_loss: 0.9638 - val_acc: 0.6981\n",
            "Epoch 79/250\n",
            "184/184 [==============================] - 1s 4ms/step - loss: 0.9552 - acc: 0.6771 - val_loss: 0.9583 - val_acc: 0.6981\n",
            "Epoch 80/250\n",
            "184/184 [==============================] - 1s 6ms/step - loss: 0.9497 - acc: 0.6771 - val_loss: 0.9528 - val_acc: 0.6981\n",
            "Epoch 81/250\n",
            "184/184 [==============================] - 1s 6ms/step - loss: 0.9441 - acc: 0.6771 - val_loss: 0.9475 - val_acc: 0.6981\n",
            "Epoch 82/250\n",
            "184/184 [==============================] - 1s 6ms/step - loss: 0.9387 - acc: 0.6771 - val_loss: 0.9421 - val_acc: 0.6981\n",
            "Epoch 83/250\n",
            "184/184 [==============================] - 1s 6ms/step - loss: 0.9332 - acc: 0.6771 - val_loss: 0.9368 - val_acc: 0.6981\n",
            "Epoch 84/250\n",
            "184/184 [==============================] - 1s 6ms/step - loss: 0.9278 - acc: 0.6771 - val_loss: 0.9316 - val_acc: 0.6981\n",
            "Epoch 85/250\n",
            "184/184 [==============================] - 1s 4ms/step - loss: 0.9225 - acc: 0.6795 - val_loss: 0.9265 - val_acc: 0.7024\n",
            "Epoch 86/250\n",
            "184/184 [==============================] - 1s 4ms/step - loss: 0.9172 - acc: 0.6814 - val_loss: 0.9213 - val_acc: 0.7033\n",
            "Epoch 87/250\n",
            "184/184 [==============================] - 1s 4ms/step - loss: 0.9119 - acc: 0.6819 - val_loss: 0.9161 - val_acc: 0.7033\n",
            "Epoch 88/250\n",
            "184/184 [==============================] - 1s 4ms/step - loss: 0.9066 - acc: 0.6819 - val_loss: 0.9110 - val_acc: 0.7033\n",
            "Epoch 89/250\n",
            "184/184 [==============================] - 1s 4ms/step - loss: 0.9014 - acc: 0.6822 - val_loss: 0.9060 - val_acc: 0.7046\n",
            "Epoch 90/250\n",
            "184/184 [==============================] - 1s 4ms/step - loss: 0.8962 - acc: 0.6908 - val_loss: 0.9010 - val_acc: 0.7151\n",
            "Epoch 91/250\n",
            "184/184 [==============================] - 1s 4ms/step - loss: 0.8911 - acc: 0.6954 - val_loss: 0.8960 - val_acc: 0.7151\n",
            "Epoch 92/250\n",
            "184/184 [==============================] - 1s 4ms/step - loss: 0.8860 - acc: 0.6963 - val_loss: 0.8910 - val_acc: 0.7160\n",
            "Epoch 93/250\n",
            "184/184 [==============================] - 1s 4ms/step - loss: 0.8809 - acc: 0.7024 - val_loss: 0.8862 - val_acc: 0.7413\n",
            "Epoch 94/250\n",
            "184/184 [==============================] - 1s 4ms/step - loss: 0.8758 - acc: 0.7291 - val_loss: 0.8812 - val_acc: 0.7448\n",
            "Epoch 95/250\n",
            "184/184 [==============================] - 1s 4ms/step - loss: 0.8707 - acc: 0.7328 - val_loss: 0.8763 - val_acc: 0.7448\n",
            "Epoch 96/250\n",
            "184/184 [==============================] - 1s 4ms/step - loss: 0.8657 - acc: 0.7329 - val_loss: 0.8714 - val_acc: 0.7448\n",
            "Epoch 97/250\n",
            "184/184 [==============================] - 1s 4ms/step - loss: 0.8607 - acc: 0.7356 - val_loss: 0.8666 - val_acc: 0.7531\n",
            "Epoch 98/250\n",
            "184/184 [==============================] - 1s 6ms/step - loss: 0.8556 - acc: 0.7500 - val_loss: 0.8617 - val_acc: 0.7666\n",
            "Epoch 99/250\n",
            "184/184 [==============================] - 1s 6ms/step - loss: 0.8506 - acc: 0.7592 - val_loss: 0.8568 - val_acc: 0.7666\n",
            "Epoch 100/250\n",
            "184/184 [==============================] - 1s 6ms/step - loss: 0.8455 - acc: 0.7621 - val_loss: 0.8519 - val_acc: 0.7731\n",
            "Epoch 101/250\n",
            "184/184 [==============================] - 1s 6ms/step - loss: 0.8405 - acc: 0.7657 - val_loss: 0.8470 - val_acc: 0.7740\n",
            "Epoch 102/250\n",
            "184/184 [==============================] - 1s 6ms/step - loss: 0.8354 - acc: 0.7713 - val_loss: 0.8421 - val_acc: 0.7805\n",
            "Epoch 103/250\n",
            "184/184 [==============================] - 1s 4ms/step - loss: 0.8304 - acc: 0.7757 - val_loss: 0.8373 - val_acc: 0.7810\n",
            "Epoch 104/250\n",
            "184/184 [==============================] - 1s 4ms/step - loss: 0.8254 - acc: 0.7759 - val_loss: 0.8325 - val_acc: 0.7810\n",
            "Epoch 105/250\n",
            "184/184 [==============================] - 1s 4ms/step - loss: 0.8204 - acc: 0.7762 - val_loss: 0.8276 - val_acc: 0.7827\n",
            "Epoch 106/250\n",
            "184/184 [==============================] - 1s 4ms/step - loss: 0.8155 - acc: 0.7808 - val_loss: 0.8228 - val_acc: 0.7888\n",
            "Epoch 107/250\n",
            "184/184 [==============================] - 1s 4ms/step - loss: 0.8105 - acc: 0.7848 - val_loss: 0.8180 - val_acc: 0.7910\n",
            "Epoch 108/250\n",
            "184/184 [==============================] - 1s 4ms/step - loss: 0.8055 - acc: 0.7892 - val_loss: 0.8132 - val_acc: 0.8015\n",
            "Epoch 109/250\n",
            "184/184 [==============================] - 1s 4ms/step - loss: 0.8005 - acc: 0.7970 - val_loss: 0.8084 - val_acc: 0.8050\n",
            "Epoch 110/250\n",
            "184/184 [==============================] - 1s 4ms/step - loss: 0.7956 - acc: 0.7973 - val_loss: 0.8036 - val_acc: 0.8050\n",
            "Epoch 111/250\n",
            "184/184 [==============================] - 1s 4ms/step - loss: 0.7907 - acc: 0.7973 - val_loss: 0.7989 - val_acc: 0.8054\n",
            "Epoch 112/250\n",
            "184/184 [==============================] - 1s 4ms/step - loss: 0.7857 - acc: 0.8015 - val_loss: 0.7941 - val_acc: 0.8111\n",
            "Epoch 113/250\n",
            "184/184 [==============================] - 1s 4ms/step - loss: 0.7808 - acc: 0.8038 - val_loss: 0.7893 - val_acc: 0.8115\n",
            "Epoch 114/250\n",
            "184/184 [==============================] - 1s 4ms/step - loss: 0.7759 - acc: 0.8048 - val_loss: 0.7846 - val_acc: 0.8120\n",
            "Epoch 115/250\n",
            "184/184 [==============================] - 1s 4ms/step - loss: 0.7709 - acc: 0.8057 - val_loss: 0.7798 - val_acc: 0.8120\n",
            "Epoch 116/250\n",
            "184/184 [==============================] - 1s 7ms/step - loss: 0.7660 - acc: 0.8088 - val_loss: 0.7750 - val_acc: 0.8141\n",
            "Epoch 117/250\n",
            "184/184 [==============================] - 1s 6ms/step - loss: 0.7610 - acc: 0.8103 - val_loss: 0.7703 - val_acc: 0.8141\n",
            "Epoch 118/250\n",
            "184/184 [==============================] - 1s 6ms/step - loss: 0.7561 - acc: 0.8104 - val_loss: 0.7655 - val_acc: 0.8150\n",
            "Epoch 119/250\n",
            "184/184 [==============================] - 1s 6ms/step - loss: 0.7511 - acc: 0.8113 - val_loss: 0.7608 - val_acc: 0.8172\n",
            "Epoch 120/250\n",
            "184/184 [==============================] - 1s 6ms/step - loss: 0.7462 - acc: 0.8147 - val_loss: 0.7560 - val_acc: 0.8198\n",
            "Epoch 121/250\n",
            "184/184 [==============================] - 1s 4ms/step - loss: 0.7412 - acc: 0.8166 - val_loss: 0.7512 - val_acc: 0.8211\n",
            "Epoch 122/250\n",
            "184/184 [==============================] - 1s 4ms/step - loss: 0.7363 - acc: 0.8199 - val_loss: 0.7464 - val_acc: 0.8216\n",
            "Epoch 123/250\n",
            "184/184 [==============================] - 1s 4ms/step - loss: 0.7314 - acc: 0.8206 - val_loss: 0.7416 - val_acc: 0.8220\n",
            "Epoch 124/250\n",
            "184/184 [==============================] - 1s 4ms/step - loss: 0.7264 - acc: 0.8211 - val_loss: 0.7369 - val_acc: 0.8220\n",
            "Epoch 125/250\n",
            "184/184 [==============================] - 1s 4ms/step - loss: 0.7215 - acc: 0.8216 - val_loss: 0.7322 - val_acc: 0.8224\n",
            "Epoch 126/250\n",
            "184/184 [==============================] - 1s 4ms/step - loss: 0.7166 - acc: 0.8216 - val_loss: 0.7274 - val_acc: 0.8224\n",
            "Epoch 127/250\n",
            "184/184 [==============================] - 1s 4ms/step - loss: 0.7117 - acc: 0.8217 - val_loss: 0.7228 - val_acc: 0.8229\n",
            "Epoch 128/250\n",
            "184/184 [==============================] - 1s 4ms/step - loss: 0.7068 - acc: 0.8217 - val_loss: 0.7180 - val_acc: 0.8229\n",
            "Epoch 129/250\n",
            "184/184 [==============================] - 1s 4ms/step - loss: 0.7019 - acc: 0.8244 - val_loss: 0.7133 - val_acc: 0.8277\n",
            "Epoch 130/250\n",
            "184/184 [==============================] - 1s 4ms/step - loss: 0.6970 - acc: 0.8281 - val_loss: 0.7086 - val_acc: 0.8277\n",
            "Epoch 131/250\n",
            "184/184 [==============================] - 1s 4ms/step - loss: 0.6922 - acc: 0.8301 - val_loss: 0.7039 - val_acc: 0.8307\n",
            "Epoch 132/250\n",
            "184/184 [==============================] - 1s 4ms/step - loss: 0.6873 - acc: 0.8324 - val_loss: 0.6992 - val_acc: 0.8312\n",
            "Epoch 133/250\n",
            "184/184 [==============================] - 1s 4ms/step - loss: 0.6825 - acc: 0.8326 - val_loss: 0.6946 - val_acc: 0.8312\n",
            "Epoch 134/250\n",
            "184/184 [==============================] - 1s 6ms/step - loss: 0.6777 - acc: 0.8334 - val_loss: 0.6900 - val_acc: 0.8351\n",
            "Epoch 135/250\n",
            "184/184 [==============================] - 1s 6ms/step - loss: 0.6729 - acc: 0.8354 - val_loss: 0.6853 - val_acc: 0.8351\n",
            "Epoch 136/250\n",
            "184/184 [==============================] - 1s 7ms/step - loss: 0.6681 - acc: 0.8356 - val_loss: 0.6807 - val_acc: 0.8377\n",
            "Epoch 137/250\n",
            "184/184 [==============================] - 1s 6ms/step - loss: 0.6634 - acc: 0.8396 - val_loss: 0.6761 - val_acc: 0.8416\n",
            "Epoch 138/250\n",
            "184/184 [==============================] - 1s 5ms/step - loss: 0.6587 - acc: 0.8420 - val_loss: 0.6715 - val_acc: 0.8421\n",
            "Epoch 139/250\n",
            "184/184 [==============================] - 1s 4ms/step - loss: 0.6540 - acc: 0.8428 - val_loss: 0.6670 - val_acc: 0.8434\n",
            "Epoch 140/250\n",
            "184/184 [==============================] - 1s 4ms/step - loss: 0.6493 - acc: 0.8436 - val_loss: 0.6624 - val_acc: 0.8434\n",
            "Epoch 141/250\n",
            "184/184 [==============================] - 1s 4ms/step - loss: 0.6447 - acc: 0.8436 - val_loss: 0.6579 - val_acc: 0.8434\n",
            "Epoch 142/250\n",
            "184/184 [==============================] - 1s 4ms/step - loss: 0.6400 - acc: 0.8436 - val_loss: 0.6535 - val_acc: 0.8451\n",
            "Epoch 143/250\n",
            "184/184 [==============================] - 1s 4ms/step - loss: 0.6355 - acc: 0.8441 - val_loss: 0.6490 - val_acc: 0.8451\n",
            "Epoch 144/250\n",
            "184/184 [==============================] - 1s 4ms/step - loss: 0.6309 - acc: 0.8445 - val_loss: 0.6447 - val_acc: 0.8451\n",
            "Epoch 145/250\n",
            "184/184 [==============================] - 1s 4ms/step - loss: 0.6264 - acc: 0.8448 - val_loss: 0.6403 - val_acc: 0.8451\n",
            "Epoch 146/250\n",
            "184/184 [==============================] - 1s 4ms/step - loss: 0.6219 - acc: 0.8475 - val_loss: 0.6359 - val_acc: 0.8490\n",
            "Epoch 147/250\n",
            "184/184 [==============================] - 1s 4ms/step - loss: 0.6174 - acc: 0.8485 - val_loss: 0.6315 - val_acc: 0.8490\n",
            "Epoch 148/250\n",
            "184/184 [==============================] - 1s 4ms/step - loss: 0.6130 - acc: 0.8487 - val_loss: 0.6273 - val_acc: 0.8495\n",
            "Epoch 149/250\n",
            "184/184 [==============================] - 1s 4ms/step - loss: 0.6087 - acc: 0.8489 - val_loss: 0.6230 - val_acc: 0.8495\n",
            "Epoch 150/250\n",
            "184/184 [==============================] - 1s 4ms/step - loss: 0.6043 - acc: 0.8491 - val_loss: 0.6188 - val_acc: 0.8503\n",
            "Epoch 151/250\n",
            "184/184 [==============================] - 1s 6ms/step - loss: 0.6000 - acc: 0.8499 - val_loss: 0.6146 - val_acc: 0.8503\n",
            "Epoch 152/250\n",
            "184/184 [==============================] - 1s 7ms/step - loss: 0.5957 - acc: 0.8499 - val_loss: 0.6105 - val_acc: 0.8521\n",
            "Epoch 153/250\n",
            "184/184 [==============================] - 1s 6ms/step - loss: 0.5915 - acc: 0.8509 - val_loss: 0.6064 - val_acc: 0.8521\n",
            "Epoch 154/250\n",
            "184/184 [==============================] - 1s 7ms/step - loss: 0.5873 - acc: 0.8522 - val_loss: 0.6022 - val_acc: 0.8521\n",
            "Epoch 155/250\n",
            "184/184 [==============================] - 1s 6ms/step - loss: 0.5832 - acc: 0.8525 - val_loss: 0.5981 - val_acc: 0.8521\n",
            "Epoch 156/250\n",
            "184/184 [==============================] - 1s 4ms/step - loss: 0.5790 - acc: 0.8539 - val_loss: 0.5941 - val_acc: 0.8530\n",
            "Epoch 157/250\n",
            "184/184 [==============================] - 1s 4ms/step - loss: 0.5749 - acc: 0.8546 - val_loss: 0.5901 - val_acc: 0.8530\n",
            "Epoch 158/250\n",
            "184/184 [==============================] - 1s 4ms/step - loss: 0.5709 - acc: 0.8546 - val_loss: 0.5861 - val_acc: 0.8530\n",
            "Epoch 159/250\n",
            "184/184 [==============================] - 1s 4ms/step - loss: 0.5669 - acc: 0.8546 - val_loss: 0.5823 - val_acc: 0.8530\n",
            "Epoch 160/250\n",
            "184/184 [==============================] - 1s 4ms/step - loss: 0.5630 - acc: 0.8547 - val_loss: 0.5784 - val_acc: 0.8530\n",
            "Epoch 161/250\n",
            "184/184 [==============================] - 1s 4ms/step - loss: 0.5591 - acc: 0.8549 - val_loss: 0.5746 - val_acc: 0.8534\n",
            "Epoch 162/250\n",
            "184/184 [==============================] - 1s 4ms/step - loss: 0.5552 - acc: 0.8556 - val_loss: 0.5708 - val_acc: 0.8534\n",
            "Epoch 163/250\n",
            "184/184 [==============================] - 1s 4ms/step - loss: 0.5514 - acc: 0.8556 - val_loss: 0.5671 - val_acc: 0.8534\n",
            "Epoch 164/250\n",
            "184/184 [==============================] - 1s 4ms/step - loss: 0.5476 - acc: 0.8556 - val_loss: 0.5634 - val_acc: 0.8543\n",
            "Epoch 165/250\n",
            "184/184 [==============================] - 1s 4ms/step - loss: 0.5439 - acc: 0.8558 - val_loss: 0.5598 - val_acc: 0.8543\n",
            "Epoch 166/250\n",
            "184/184 [==============================] - 1s 4ms/step - loss: 0.5402 - acc: 0.8559 - val_loss: 0.5562 - val_acc: 0.8556\n",
            "Epoch 167/250\n",
            "184/184 [==============================] - 1s 4ms/step - loss: 0.5365 - acc: 0.8596 - val_loss: 0.5526 - val_acc: 0.8599\n",
            "Epoch 168/250\n",
            "184/184 [==============================] - 1s 4ms/step - loss: 0.5329 - acc: 0.8625 - val_loss: 0.5490 - val_acc: 0.8599\n",
            "Epoch 169/250\n",
            "184/184 [==============================] - 1s 7ms/step - loss: 0.5294 - acc: 0.8628 - val_loss: 0.5456 - val_acc: 0.8599\n",
            "Epoch 170/250\n",
            "184/184 [==============================] - 1s 6ms/step - loss: 0.5259 - acc: 0.8628 - val_loss: 0.5422 - val_acc: 0.8599\n",
            "Epoch 171/250\n",
            "184/184 [==============================] - 1s 6ms/step - loss: 0.5224 - acc: 0.8629 - val_loss: 0.5387 - val_acc: 0.8599\n",
            "Epoch 172/250\n",
            "184/184 [==============================] - 1s 5ms/step - loss: 0.5190 - acc: 0.8631 - val_loss: 0.5354 - val_acc: 0.8599\n",
            "Epoch 173/250\n",
            "184/184 [==============================] - 1s 6ms/step - loss: 0.5156 - acc: 0.8631 - val_loss: 0.5320 - val_acc: 0.8599\n",
            "Epoch 174/250\n",
            "184/184 [==============================] - 1s 4ms/step - loss: 0.5122 - acc: 0.8631 - val_loss: 0.5288 - val_acc: 0.8599\n",
            "Epoch 175/250\n",
            "184/184 [==============================] - 1s 4ms/step - loss: 0.5089 - acc: 0.8632 - val_loss: 0.5255 - val_acc: 0.8599\n",
            "Epoch 176/250\n",
            "184/184 [==============================] - 1s 4ms/step - loss: 0.5056 - acc: 0.8650 - val_loss: 0.5223 - val_acc: 0.8617\n",
            "Epoch 177/250\n",
            "184/184 [==============================] - 1s 4ms/step - loss: 0.5024 - acc: 0.8673 - val_loss: 0.5191 - val_acc: 0.8617\n",
            "Epoch 178/250\n",
            "184/184 [==============================] - 1s 4ms/step - loss: 0.4992 - acc: 0.8674 - val_loss: 0.5160 - val_acc: 0.8617\n",
            "Epoch 179/250\n",
            "184/184 [==============================] - 1s 4ms/step - loss: 0.4960 - acc: 0.8701 - val_loss: 0.5129 - val_acc: 0.8674\n",
            "Epoch 180/250\n",
            "184/184 [==============================] - 1s 4ms/step - loss: 0.4929 - acc: 0.8723 - val_loss: 0.5098 - val_acc: 0.8674\n",
            "Epoch 181/250\n",
            "184/184 [==============================] - 1s 4ms/step - loss: 0.4898 - acc: 0.8729 - val_loss: 0.5068 - val_acc: 0.8674\n",
            "Epoch 182/250\n",
            "184/184 [==============================] - 1s 4ms/step - loss: 0.4867 - acc: 0.8729 - val_loss: 0.5038 - val_acc: 0.8674\n",
            "Epoch 183/250\n",
            "184/184 [==============================] - 1s 4ms/step - loss: 0.4837 - acc: 0.8742 - val_loss: 0.5009 - val_acc: 0.8691\n",
            "Epoch 184/250\n",
            "184/184 [==============================] - 1s 4ms/step - loss: 0.4807 - acc: 0.8762 - val_loss: 0.4980 - val_acc: 0.8709\n",
            "Epoch 185/250\n",
            "184/184 [==============================] - 1s 4ms/step - loss: 0.4778 - acc: 0.8764 - val_loss: 0.4951 - val_acc: 0.8717\n",
            "Epoch 186/250\n",
            "184/184 [==============================] - 1s 4ms/step - loss: 0.4749 - acc: 0.8774 - val_loss: 0.4923 - val_acc: 0.8717\n",
            "Epoch 187/250\n",
            "184/184 [==============================] - 1s 6ms/step - loss: 0.4720 - acc: 0.8773 - val_loss: 0.4895 - val_acc: 0.8757\n",
            "Epoch 188/250\n",
            "184/184 [==============================] - 1s 7ms/step - loss: 0.4692 - acc: 0.8796 - val_loss: 0.4867 - val_acc: 0.8757\n",
            "Epoch 189/250\n",
            "184/184 [==============================] - 1s 7ms/step - loss: 0.4664 - acc: 0.8798 - val_loss: 0.4839 - val_acc: 0.8757\n",
            "Epoch 190/250\n",
            "184/184 [==============================] - 1s 7ms/step - loss: 0.4636 - acc: 0.8798 - val_loss: 0.4812 - val_acc: 0.8757\n",
            "Epoch 191/250\n",
            "184/184 [==============================] - 1s 5ms/step - loss: 0.4609 - acc: 0.8798 - val_loss: 0.4786 - val_acc: 0.8757\n",
            "Epoch 192/250\n",
            "184/184 [==============================] - 1s 4ms/step - loss: 0.4582 - acc: 0.8798 - val_loss: 0.4759 - val_acc: 0.8757\n",
            "Epoch 193/250\n",
            "184/184 [==============================] - 1s 4ms/step - loss: 0.4556 - acc: 0.8799 - val_loss: 0.4733 - val_acc: 0.8757\n",
            "Epoch 194/250\n",
            "184/184 [==============================] - 1s 4ms/step - loss: 0.4529 - acc: 0.8799 - val_loss: 0.4707 - val_acc: 0.8757\n",
            "Epoch 195/250\n",
            "184/184 [==============================] - 1s 4ms/step - loss: 0.4503 - acc: 0.8799 - val_loss: 0.4681 - val_acc: 0.8757\n",
            "Epoch 196/250\n",
            "184/184 [==============================] - 1s 4ms/step - loss: 0.4477 - acc: 0.8799 - val_loss: 0.4655 - val_acc: 0.8757\n",
            "Epoch 197/250\n",
            "184/184 [==============================] - 1s 4ms/step - loss: 0.4452 - acc: 0.8799 - val_loss: 0.4630 - val_acc: 0.8757\n",
            "Epoch 198/250\n",
            "184/184 [==============================] - 1s 4ms/step - loss: 0.4426 - acc: 0.8800 - val_loss: 0.4606 - val_acc: 0.8757\n",
            "Epoch 199/250\n",
            "184/184 [==============================] - 1s 4ms/step - loss: 0.4401 - acc: 0.8802 - val_loss: 0.4581 - val_acc: 0.8757\n",
            "Epoch 200/250\n",
            "184/184 [==============================] - 1s 4ms/step - loss: 0.4377 - acc: 0.8803 - val_loss: 0.4556 - val_acc: 0.8757\n",
            "Epoch 201/250\n",
            "184/184 [==============================] - 1s 5ms/step - loss: 0.4352 - acc: 0.8803 - val_loss: 0.4532 - val_acc: 0.8757\n",
            "Epoch 202/250\n",
            "184/184 [==============================] - 1s 5ms/step - loss: 0.4328 - acc: 0.8803 - val_loss: 0.4508 - val_acc: 0.8757\n",
            "Epoch 203/250\n",
            "184/184 [==============================] - 1s 4ms/step - loss: 0.4304 - acc: 0.8803 - val_loss: 0.4485 - val_acc: 0.8757\n",
            "Epoch 204/250\n",
            "184/184 [==============================] - 1s 6ms/step - loss: 0.4281 - acc: 0.8803 - val_loss: 0.4462 - val_acc: 0.8757\n",
            "Epoch 205/250\n",
            "184/184 [==============================] - 1s 6ms/step - loss: 0.4258 - acc: 0.8806 - val_loss: 0.4439 - val_acc: 0.8774\n",
            "Epoch 206/250\n",
            "184/184 [==============================] - 1s 6ms/step - loss: 0.4234 - acc: 0.8822 - val_loss: 0.4417 - val_acc: 0.8791\n",
            "Epoch 207/250\n",
            "184/184 [==============================] - 1s 7ms/step - loss: 0.4212 - acc: 0.8835 - val_loss: 0.4393 - val_acc: 0.8791\n",
            "Epoch 208/250\n",
            "184/184 [==============================] - 1s 6ms/step - loss: 0.4189 - acc: 0.8836 - val_loss: 0.4371 - val_acc: 0.8791\n",
            "Epoch 209/250\n",
            "184/184 [==============================] - 1s 4ms/step - loss: 0.4167 - acc: 0.8838 - val_loss: 0.4349 - val_acc: 0.8791\n",
            "Epoch 210/250\n",
            "184/184 [==============================] - 1s 5ms/step - loss: 0.4145 - acc: 0.8842 - val_loss: 0.4328 - val_acc: 0.8791\n",
            "Epoch 211/250\n",
            "184/184 [==============================] - 1s 5ms/step - loss: 0.4123 - acc: 0.8842 - val_loss: 0.4306 - val_acc: 0.8791\n",
            "Epoch 212/250\n",
            "184/184 [==============================] - 1s 4ms/step - loss: 0.4101 - acc: 0.8848 - val_loss: 0.4284 - val_acc: 0.8805\n",
            "Epoch 213/250\n",
            "184/184 [==============================] - 1s 5ms/step - loss: 0.4080 - acc: 0.8860 - val_loss: 0.4264 - val_acc: 0.8831\n",
            "Epoch 214/250\n",
            "184/184 [==============================] - 1s 5ms/step - loss: 0.4059 - acc: 0.8895 - val_loss: 0.4243 - val_acc: 0.8866\n",
            "Epoch 215/250\n",
            "184/184 [==============================] - 1s 5ms/step - loss: 0.4038 - acc: 0.8949 - val_loss: 0.4222 - val_acc: 0.8874\n",
            "Epoch 216/250\n",
            "184/184 [==============================] - 1s 5ms/step - loss: 0.4017 - acc: 0.8977 - val_loss: 0.4201 - val_acc: 0.8992\n",
            "Epoch 217/250\n",
            "184/184 [==============================] - 1s 5ms/step - loss: 0.3996 - acc: 0.9053 - val_loss: 0.4181 - val_acc: 0.9010\n",
            "Epoch 218/250\n",
            "184/184 [==============================] - 1s 5ms/step - loss: 0.3976 - acc: 0.9058 - val_loss: 0.4161 - val_acc: 0.9010\n",
            "Epoch 219/250\n",
            "184/184 [==============================] - 1s 5ms/step - loss: 0.3956 - acc: 0.9059 - val_loss: 0.4141 - val_acc: 0.9010\n",
            "Epoch 220/250\n",
            "184/184 [==============================] - 1s 7ms/step - loss: 0.3936 - acc: 0.9064 - val_loss: 0.4121 - val_acc: 0.9010\n",
            "Epoch 221/250\n",
            "184/184 [==============================] - 1s 7ms/step - loss: 0.3916 - acc: 0.9078 - val_loss: 0.4101 - val_acc: 0.9040\n",
            "Epoch 222/250\n",
            "184/184 [==============================] - 1s 6ms/step - loss: 0.3897 - acc: 0.9084 - val_loss: 0.4082 - val_acc: 0.9040\n",
            "Epoch 223/250\n",
            "184/184 [==============================] - 1s 8ms/step - loss: 0.3877 - acc: 0.9092 - val_loss: 0.4063 - val_acc: 0.9049\n",
            "Epoch 224/250\n",
            "184/184 [==============================] - 1s 6ms/step - loss: 0.3858 - acc: 0.9097 - val_loss: 0.4043 - val_acc: 0.9049\n",
            "Epoch 225/250\n",
            "184/184 [==============================] - 1s 5ms/step - loss: 0.3839 - acc: 0.9106 - val_loss: 0.4025 - val_acc: 0.9075\n",
            "Epoch 226/250\n",
            "184/184 [==============================] - 1s 4ms/step - loss: 0.3821 - acc: 0.9152 - val_loss: 0.4007 - val_acc: 0.9088\n",
            "Epoch 227/250\n",
            "184/184 [==============================] - 1s 5ms/step - loss: 0.3802 - acc: 0.9166 - val_loss: 0.3988 - val_acc: 0.9088\n",
            "Epoch 228/250\n",
            "184/184 [==============================] - 1s 5ms/step - loss: 0.3784 - acc: 0.9168 - val_loss: 0.3970 - val_acc: 0.9088\n",
            "Epoch 229/250\n",
            "184/184 [==============================] - 1s 5ms/step - loss: 0.3765 - acc: 0.9169 - val_loss: 0.3951 - val_acc: 0.9088\n",
            "Epoch 230/250\n",
            "184/184 [==============================] - 1s 5ms/step - loss: 0.3747 - acc: 0.9171 - val_loss: 0.3934 - val_acc: 0.9088\n",
            "Epoch 231/250\n",
            "184/184 [==============================] - 1s 5ms/step - loss: 0.3729 - acc: 0.9180 - val_loss: 0.3916 - val_acc: 0.9140\n",
            "Epoch 232/250\n",
            "184/184 [==============================] - 1s 5ms/step - loss: 0.3711 - acc: 0.9202 - val_loss: 0.3898 - val_acc: 0.9158\n",
            "Epoch 233/250\n",
            "184/184 [==============================] - 1s 5ms/step - loss: 0.3694 - acc: 0.9205 - val_loss: 0.3880 - val_acc: 0.9158\n",
            "Epoch 234/250\n",
            "184/184 [==============================] - 1s 5ms/step - loss: 0.3676 - acc: 0.9204 - val_loss: 0.3863 - val_acc: 0.9158\n",
            "Epoch 235/250\n",
            "184/184 [==============================] - 1s 6ms/step - loss: 0.3659 - acc: 0.9204 - val_loss: 0.3846 - val_acc: 0.9158\n",
            "Epoch 236/250\n",
            "184/184 [==============================] - 1s 7ms/step - loss: 0.3642 - acc: 0.9204 - val_loss: 0.3829 - val_acc: 0.9158\n",
            "Epoch 237/250\n",
            "184/184 [==============================] - 1s 8ms/step - loss: 0.3625 - acc: 0.9204 - val_loss: 0.3812 - val_acc: 0.9158\n",
            "Epoch 238/250\n",
            "184/184 [==============================] - 1s 8ms/step - loss: 0.3608 - acc: 0.9214 - val_loss: 0.3795 - val_acc: 0.9197\n",
            "Epoch 239/250\n",
            "184/184 [==============================] - 1s 6ms/step - loss: 0.3591 - acc: 0.9245 - val_loss: 0.3779 - val_acc: 0.9223\n",
            "Epoch 240/250\n",
            "184/184 [==============================] - 1s 5ms/step - loss: 0.3575 - acc: 0.9245 - val_loss: 0.3762 - val_acc: 0.9223\n",
            "Epoch 241/250\n",
            "184/184 [==============================] - 1s 5ms/step - loss: 0.3558 - acc: 0.9245 - val_loss: 0.3746 - val_acc: 0.9223\n",
            "Epoch 242/250\n",
            "184/184 [==============================] - 1s 5ms/step - loss: 0.3542 - acc: 0.9245 - val_loss: 0.3730 - val_acc: 0.9223\n",
            "Epoch 243/250\n",
            "184/184 [==============================] - 1s 5ms/step - loss: 0.3526 - acc: 0.9247 - val_loss: 0.3714 - val_acc: 0.9228\n",
            "Epoch 244/250\n",
            "184/184 [==============================] - 1s 4ms/step - loss: 0.3510 - acc: 0.9248 - val_loss: 0.3698 - val_acc: 0.9228\n",
            "Epoch 245/250\n",
            "184/184 [==============================] - 1s 4ms/step - loss: 0.3494 - acc: 0.9248 - val_loss: 0.3682 - val_acc: 0.9228\n",
            "Epoch 246/250\n",
            "184/184 [==============================] - 1s 5ms/step - loss: 0.3478 - acc: 0.9250 - val_loss: 0.3666 - val_acc: 0.9228\n",
            "Epoch 247/250\n",
            "184/184 [==============================] - 1s 5ms/step - loss: 0.3463 - acc: 0.9253 - val_loss: 0.3651 - val_acc: 0.9236\n",
            "Epoch 248/250\n",
            "184/184 [==============================] - 1s 5ms/step - loss: 0.3447 - acc: 0.9259 - val_loss: 0.3636 - val_acc: 0.9236\n",
            "Epoch 249/250\n",
            "184/184 [==============================] - 1s 5ms/step - loss: 0.3432 - acc: 0.9259 - val_loss: 0.3621 - val_acc: 0.9236\n",
            "Epoch 250/250\n",
            "184/184 [==============================] - 1s 4ms/step - loss: 0.3417 - acc: 0.9263 - val_loss: 0.3606 - val_acc: 0.9236\n",
            "<bound method Model.summary of <keras.src.engine.sequential.Sequential object at 0x7ef8a6e15240>>\n",
            "Test Accuracy:\n",
            "2063/2063 [==============================] - 7s 4ms/step - loss: 0.3661 - acc: 0.9187\n",
            "Random Sample Accuracy:\n",
            "30/30 [==============================] - 0s 3ms/step - loss: 1.0854 - acc: 0.6400\n"
          ]
        },
        {
          "output_type": "display_data",
          "data": {
            "text/html": [
              "<html>\n",
              "<head><meta charset=\"utf-8\" /></head>\n",
              "<body>\n",
              "    <div>            <script src=\"https://cdnjs.cloudflare.com/ajax/libs/mathjax/2.7.5/MathJax.js?config=TeX-AMS-MML_SVG\"></script><script type=\"text/javascript\">if (window.MathJax && window.MathJax.Hub && window.MathJax.Hub.Config) {window.MathJax.Hub.Config({SVG: {font: \"STIX-Web\"}});}</script>                <script type=\"text/javascript\">window.PlotlyConfig = {MathJaxConfig: 'local'};</script>\n",
              "        <script charset=\"utf-8\" src=\"https://cdn.plot.ly/plotly-2.24.1.min.js\"></script>                <div id=\"b98ec183-8359-4d3b-93db-1d656da44c51\" class=\"plotly-graph-div\" style=\"height:525px; width:100%;\"></div>            <script type=\"text/javascript\">                                    window.PLOTLYENV=window.PLOTLYENV || {};                                    if (document.getElementById(\"b98ec183-8359-4d3b-93db-1d656da44c51\")) {                    Plotly.newPlot(                        \"b98ec183-8359-4d3b-93db-1d656da44c51\",                        [{\"line\":{\"color\":\"#D8A7B1\",\"width\":3},\"mode\":\"lines\",\"name\":\"Train Accuracy\",\"x\":[1,2,3,4,5,6,7,8,9,10,11,12,13,14,15,16,17,18,19,20,21,22,23,24,25,26,27,28,29,30,31,32,33,34,35,36,37,38,39,40,41,42,43,44,45,46,47,48,49,50,51,52,53,54,55,56,57,58,59,60,61,62,63,64,65,66,67,68,69,70,71,72,73,74,75,76,77,78,79,80,81,82,83,84,85,86,87,88,89,90,91,92,93,94,95,96,97,98,99,100,101,102,103,104,105,106,107,108,109,110,111,112,113,114,115,116,117,118,119,120,121,122,123,124,125,126,127,128,129,130,131,132,133,134,135,136,137,138,139,140,141,142,143,144,145,146,147,148,149,150,151,152,153,154,155,156,157,158,159,160,161,162,163,164,165,166,167,168,169,170,171,172,173,174,175,176,177,178,179,180,181,182,183,184,185,186,187,188,189,190,191,192,193,194,195,196,197,198,199,200,201,202,203,204,205,206,207,208,209,210,211,212,213,214,215,216,217,218,219,220,221,222,223,224,225,226,227,228,229,230,231,232,233,234,235,236,237,238,239,240,241,242,243,244,245,246,247,248,249,250],\"y\":[0.2813045382499695,0.5166884660720825,0.5170156955718994,0.5170156955718994,0.5170156955718994,0.5170156955718994,0.5170156955718994,0.5170156955718994,0.5170156955718994,0.5170156955718994,0.5170156955718994,0.5170156955718994,0.5170156955718994,0.5170156955718994,0.5170156955718994,0.5170156955718994,0.5170156955718994,0.5170156955718994,0.5170156955718994,0.5170156955718994,0.5170156955718994,0.5170156955718994,0.5170156955718994,0.5170156955718994,0.5170156955718994,0.5170156955718994,0.5170156955718994,0.5170156955718994,0.5170156955718994,0.5170156955718994,0.5170156955718994,0.5170156955718994,0.5170156955718994,0.5170156955718994,0.5170156955718994,0.5170156955718994,0.5170156955718994,0.5170156955718994,0.5355584621429443,0.5388306975364685,0.5416666865348816,0.566317617893219,0.574061930179596,0.577006995677948,0.584533154964447,0.5855148434638977,0.5862783789634705,0.5862783789634705,0.5919502377510071,0.6171466112136841,0.6309991478919983,0.632744312286377,0.636234700679779,0.6476876139640808,0.6531413793563843,0.6533595323562622,0.6551046967506409,0.6559773087501526,0.6668848395347595,0.6747382283210754,0.6748473048210144,0.6764833927154541,0.6770287752151489,0.6771378517150879,0.6791012287139893,0.6794284582138062,0.6791012287139893,0.6788830757141113,0.6783376932144165,0.6786649227142334,0.6791012287139893,0.6771378517150879,0.6771378517150879,0.6771378517150879,0.6771378517150879,0.6771378517150879,0.6771378517150879,0.6771378517150879,0.6771378517150879,0.6771378517150879,0.6771378517150879,0.6771378517150879,0.6771378517150879,0.6771378517150879,0.6795375347137451,0.6813917756080627,0.6819371581077576,0.6819371581077576,0.6821553111076355,0.6907722353935242,0.6953533887863159,0.6963350772857666,0.7024433016777039,0.7290576100349426,0.7327661514282227,0.7328752279281616,0.735602080821991,0.75,0.7591623067855835,0.7621073126792908,0.7657067775726318,0.7712696194648743,0.775741696357727,0.775850772857666,0.7761780023574829,0.7807591557502747,0.7847949266433716,0.7891579270362854,0.7970113158226013,0.7973385453224182,0.7973385453224182,0.8014833927154541,0.8037739992141724,0.804755687713623,0.8057373762130737,0.80879145860672,0.8103184700012207,0.8104275465011597,0.8113001585006714,0.8146815299987793,0.8166448473930359,0.8199170827865601,0.8205715417861938,0.8211169242858887,0.8215532302856445,0.8215532302856445,0.8216623067855835,0.8216623067855835,0.8243891596794128,0.8280977606773376,0.8300610780715942,0.8323516845703125,0.8325698375701904,0.8334423899650574,0.8354057669639587,0.8356239199638367,0.8395506143569946,0.8419502377510071,0.8428228497505188,0.8435863852500916,0.8435863852500916,0.8435863852500916,0.8441317677497864,0.8444589972496033,0.8447862267494202,0.8475130796432495,0.8484947681427002,0.8487129211425781,0.848931074142456,0.849149227142334,0.8499127626419067,0.8499127626419067,0.8508943915367126,0.8522033095359802,0.8525305390357971,0.8539485335350037,0.8546029925346375,0.8546029925346375,0.8546029925346375,0.8547120690345764,0.8549301624298096,0.8555846214294434,0.8555846214294434,0.8555846214294434,0.8558027744293213,0.8559118509292603,0.8596203923225403,0.8624563813209534,0.8627836108207703,0.8627836108207703,0.8628926873207092,0.8631108403205872,0.8631108403205872,0.8631108403205872,0.8632199168205261,0.8649650812149048,0.867255687713623,0.867364764213562,0.8700916171073914,0.8722731471061707,0.8729275465011597,0.8729275465011597,0.8742364645004272,0.8761998414993286,0.8764179944992065,0.8773996233940125,0.8772905468940735,0.8795811533927917,0.8797993063926697,0.8797993063926697,0.8797993063926697,0.8797993063926697,0.8799083828926086,0.8799083828926086,0.8799083828926086,0.8799083828926086,0.8799083828926086,0.8800174593925476,0.8802356123924255,0.8803446888923645,0.8803446888923645,0.8803446888923645,0.8803446888923645,0.8803446888923645,0.8805628418922424,0.8821989297866821,0.8835078477859497,0.8836169242858887,0.8838350772857666,0.8841623067855835,0.8841623067855835,0.8848167657852173,0.8860166072845459,0.889506995677948,0.8948516845703125,0.8976876139640808,0.9053228497505188,0.9057591557502747,0.9058682322502136,0.9064136147499084,0.907831609249115,0.9083769917488098,0.9092495441436768,0.9096858501434326,0.9105584621429443,0.915248692035675,0.9165576100349426,0.9167757630348206,0.9168848395347595,0.9171029925346375,0.9179755449295044,0.9201570749282837,0.9204843044281006,0.9203752279281616,0.9203752279281616,0.9203752279281616,0.9203752279281616,0.9213569164276123,0.9245200753211975,0.9245200753211975,0.9245200753211975,0.9245200753211975,0.9247382283210754,0.9248473048210144,0.9248473048210144,0.9249563813209534,0.9252836108207703,0.925938069820404,0.925938069820404,0.926265299320221],\"type\":\"scatter\"},{\"line\":{\"color\":\"#05234C\",\"width\":3},\"mode\":\"lines\",\"name\":\"Validation Accuracy\",\"x\":[1,2,3,4,5,6,7,8,9,10,11,12,13,14,15,16,17,18,19,20,21,22,23,24,25,26,27,28,29,30,31,32,33,34,35,36,37,38,39,40,41,42,43,44,45,46,47,48,49,50,51,52,53,54,55,56,57,58,59,60,61,62,63,64,65,66,67,68,69,70,71,72,73,74,75,76,77,78,79,80,81,82,83,84,85,86,87,88,89,90,91,92,93,94,95,96,97,98,99,100,101,102,103,104,105,106,107,108,109,110,111,112,113,114,115,116,117,118,119,120,121,122,123,124,125,126,127,128,129,130,131,132,133,134,135,136,137,138,139,140,141,142,143,144,145,146,147,148,149,150,151,152,153,154,155,156,157,158,159,160,161,162,163,164,165,166,167,168,169,170,171,172,173,174,175,176,177,178,179,180,181,182,183,184,185,186,187,188,189,190,191,192,193,194,195,196,197,198,199,200,201,202,203,204,205,206,207,208,209,210,211,212,213,214,215,216,217,218,219,220,221,222,223,224,225,226,227,228,229,230,231,232,233,234,235,236,237,238,239,240,241,242,243,244,245,246,247,248,249,250],\"y\":[0.5091623067855835,0.511343777179718,0.511343777179718,0.511343777179718,0.511343777179718,0.511343777179718,0.511343777179718,0.511343777179718,0.511343777179718,0.511343777179718,0.511343777179718,0.511343777179718,0.511343777179718,0.511343777179718,0.511343777179718,0.511343777179718,0.511343777179718,0.511343777179718,0.511343777179718,0.511343777179718,0.511343777179718,0.511343777179718,0.511343777179718,0.511343777179718,0.511343777179718,0.511343777179718,0.511343777179718,0.511343777179718,0.511343777179718,0.511343777179718,0.511343777179718,0.511343777179718,0.511343777179718,0.511343777179718,0.511343777179718,0.511343777179718,0.511343777179718,0.511343777179718,0.533595085144043,0.5383943915367126,0.5383943915367126,0.562390923500061,0.5754799246788025,0.5754799246788025,0.5881326198577881,0.5881326198577881,0.588568925857544,0.588568925857544,0.6125654578208923,0.6404886841773987,0.6417975425720215,0.6500872373580933,0.6575043797492981,0.6623036861419678,0.6666666865348816,0.6649214625358582,0.6675392389297485,0.6684118509292603,0.6906631588935852,0.6906631588935852,0.6919720768928528,0.6963350772857666,0.6985166072845459,0.6976439952850342,0.6985166072845459,0.6985166072845459,0.6985166072845459,0.6985166072845459,0.6985166072845459,0.6998254656791687,0.69808030128479,0.69808030128479,0.69808030128479,0.69808030128479,0.69808030128479,0.69808030128479,0.69808030128479,0.69808030128479,0.69808030128479,0.69808030128479,0.69808030128479,0.69808030128479,0.69808030128479,0.69808030128479,0.7024433016777039,0.7033158540725708,0.7033158540725708,0.7033158540725708,0.7046247720718384,0.7150959968566895,0.7150959968566895,0.7159686088562012,0.7412739992141724,0.7447643876075745,0.7447643876075745,0.7447643876075745,0.7530540823936462,0.7665793895721436,0.7665793895721436,0.7731239199638367,0.7739965319633484,0.7805410027503967,0.7809773087501526,0.7809773087501526,0.782722532749176,0.7888306975364685,0.7910122275352478,0.8014833927154541,0.804973840713501,0.804973840713501,0.8054101467132568,0.8110820055007935,0.8115183115005493,0.8119546175003052,0.8119546175003052,0.8141361474990845,0.8141361474990845,0.8150086998939514,0.8171902298927307,0.8198080062866211,0.8211169242858887,0.8215532302856445,0.8219895362854004,0.8219895362854004,0.8224258422851562,0.8224258422851562,0.8228621482849121,0.8228621482849121,0.8276614546775818,0.8276614546775818,0.830715537071228,0.8311518430709839,0.8311518430709839,0.8350785374641418,0.8350785374641418,0.8376963138580322,0.8416230082511902,0.842059314250946,0.8433682322502136,0.8433682322502136,0.8433682322502136,0.8451134562492371,0.8451134562492371,0.8451134562492371,0.8451134562492371,0.849040150642395,0.849040150642395,0.8494764566421509,0.8494764566421509,0.8503490686416626,0.8503490686416626,0.8520942330360413,0.8520942330360413,0.8520942330360413,0.8520942330360413,0.852966845035553,0.852966845035553,0.852966845035553,0.852966845035553,0.852966845035553,0.8534031510353088,0.8534031510353088,0.8534031510353088,0.8542757630348206,0.8542757630348206,0.8555846214294434,0.8599476218223572,0.8599476218223572,0.8599476218223572,0.8599476218223572,0.8599476218223572,0.8599476218223572,0.8599476218223572,0.8599476218223572,0.8599476218223572,0.8616928458213806,0.8616928458213806,0.8616928458213806,0.867364764213562,0.867364764213562,0.867364764213562,0.867364764213562,0.8691099286079407,0.8708551526069641,0.8717277646064758,0.8717277646064758,0.8756544589996338,0.8756544589996338,0.8756544589996338,0.8756544589996338,0.8756544589996338,0.8756544589996338,0.8756544589996338,0.8756544589996338,0.8756544589996338,0.8756544589996338,0.8756544589996338,0.8756544589996338,0.8756544589996338,0.8756544589996338,0.8756544589996338,0.8756544589996338,0.8756544589996338,0.8756544589996338,0.8773996233940125,0.8791448473930359,0.8791448473930359,0.8791448473930359,0.8791448473930359,0.8791448473930359,0.8791448473930359,0.8804537653923035,0.8830715417861938,0.886561930179596,0.8874345421791077,0.8992146849632263,0.900959849357605,0.900959849357605,0.900959849357605,0.900959849357605,0.904013991355896,0.904013991355896,0.9048865437507629,0.9048865437507629,0.9075043797492981,0.9088132381439209,0.9088132381439209,0.9088132381439209,0.9088132381439209,0.9088132381439209,0.9140488505363464,0.9157940745353699,0.9157940745353699,0.9157940745353699,0.9157940745353699,0.9157940745353699,0.9157940745353699,0.9197207689285278,0.9223385453224182,0.9223385453224182,0.9223385453224182,0.9223385453224182,0.9227748513221741,0.9227748513221741,0.9227748513221741,0.9227748513221741,0.9236474633216858,0.9236474633216858,0.9236474633216858,0.9236474633216858],\"type\":\"scatter\"},{\"line\":{\"color\":\"#D8A7B1\",\"dash\":\"dash\",\"width\":3},\"mode\":\"lines\",\"name\":\"Train Loss\",\"x\":[1,2,3,4,5,6,7,8,9,10,11,12,13,14,15,16,17,18,19,20,21,22,23,24,25,26,27,28,29,30,31,32,33,34,35,36,37,38,39,40,41,42,43,44,45,46,47,48,49,50,51,52,53,54,55,56,57,58,59,60,61,62,63,64,65,66,67,68,69,70,71,72,73,74,75,76,77,78,79,80,81,82,83,84,85,86,87,88,89,90,91,92,93,94,95,96,97,98,99,100,101,102,103,104,105,106,107,108,109,110,111,112,113,114,115,116,117,118,119,120,121,122,123,124,125,126,127,128,129,130,131,132,133,134,135,136,137,138,139,140,141,142,143,144,145,146,147,148,149,150,151,152,153,154,155,156,157,158,159,160,161,162,163,164,165,166,167,168,169,170,171,172,173,174,175,176,177,178,179,180,181,182,183,184,185,186,187,188,189,190,191,192,193,194,195,196,197,198,199,200,201,202,203,204,205,206,207,208,209,210,211,212,213,214,215,216,217,218,219,220,221,222,223,224,225,226,227,228,229,230,231,232,233,234,235,236,237,238,239,240,241,242,243,244,245,246,247,248,249,250],\"y\":[2.6094655990600586,2.521488904953003,2.4356110095977783,2.345310688018799,2.255363941192627,2.16363525390625,2.068225860595703,1.9760005474090576,1.8933722972869873,1.824242353439331,1.769559621810913,1.7271406650543213,1.6936335563659668,1.6661112308502197,1.6422685384750366,1.620583176612854,1.6004515886306763,1.5811996459960938,1.5628596544265747,1.545094609260559,1.5273538827896118,1.5093969106674194,1.4916659593582153,1.4743057489395142,1.457646131515503,1.4418257474899292,1.4267873764038086,1.4122151136398315,1.3979970216751099,1.384109377861023,1.3705838918685913,1.3573405742645264,1.3443691730499268,1.3317285776138306,1.3194407224655151,1.3074696063995361,1.295758843421936,1.284240484237671,1.272900938987732,1.2617639303207397,1.2508946657180786,1.2402042150497437,1.2296658754348755,1.2193946838378906,1.2093092203140259,1.199376106262207,1.1896475553512573,1.1801187992095947,1.1707704067230225,1.1615830659866333,1.1525744199752808,1.1437374353408813,1.135083794593811,1.1265513896942139,1.118152379989624,1.1098898649215698,1.101767897605896,1.093821406364441,1.0860289335250854,1.0783771276474,1.0708755254745483,1.0635308027267456,1.0563369989395142,1.0492535829544067,1.0422829389572144,1.0354282855987549,1.0286978483200073,1.0220905542373657,1.0155943632125854,1.009181261062622,1.0028481483459473,0.9965967535972595,0.9904335737228394,0.9843584895133972,0.9783475399017334,0.9724113345146179,0.9666023850440979,0.9608815908432007,0.9552440643310547,0.9496599435806274,0.944133996963501,0.9386549592018127,0.9332208037376404,0.9278348088264465,0.9225000739097595,0.9171879887580872,0.9118940234184265,0.9066105484962463,0.9013895392417908,0.8962122201919556,0.8910680413246155,0.8859604597091675,0.8808666467666626,0.8757985234260559,0.8707370758056641,0.8656886219978333,0.8606575727462769,0.855639636516571,0.850596010684967,0.845529317855835,0.8404848575592041,0.8354443907737732,0.8304330706596375,0.8254367113113403,0.8204439282417297,0.8154616951942444,0.8104805946350098,0.8055064678192139,0.8005470633506775,0.7956128716468811,0.7906723022460938,0.7857253551483154,0.7807829976081848,0.7758576273918152,0.7709182500839233,0.7659693360328674,0.7610287070274353,0.7560818791389465,0.7511188983917236,0.7461674213409424,0.7412230968475342,0.7362803220748901,0.7313609719276428,0.7264198064804077,0.7215101718902588,0.7165853977203369,0.7116734981536865,0.7067793607711792,0.7019035816192627,0.6970419883728027,0.6921777725219727,0.6873438358306885,0.6825129985809326,0.6777123808860779,0.6729089617729187,0.6681328415870667,0.6633956432342529,0.6586681604385376,0.6539769768714905,0.6493095755577087,0.6446590423583984,0.6400372385978699,0.6354552507400513,0.6308965682983398,0.6263827085494995,0.6218928694725037,0.6174458265304565,0.6130339503288269,0.6086695194244385,0.6043266654014587,0.6000237464904785,0.5957474112510681,0.5915125012397766,0.5873256325721741,0.5831614136695862,0.5790281295776367,0.5749430060386658,0.5709146857261658,0.5669248700141907,0.5629708170890808,0.5590633153915405,0.5551923513412476,0.5513794422149658,0.5475959181785583,0.5438600182533264,0.5401838421821594,0.5365344882011414,0.532941460609436,0.5293842554092407,0.5258647799491882,0.5223946571350098,0.5189521312713623,0.5155525803565979,0.5121954083442688,0.5088733434677124,0.5055974721908569,0.5023650527000427,0.4991678297519684,0.49599507451057434,0.49285706877708435,0.48977571725845337,0.48672160506248474,0.48370712995529175,0.4807392656803131,0.4777984321117401,0.4749033749103546,0.4720326364040375,0.46920087933540344,0.4664050042629242,0.46364977955818176,0.4609202444553375,0.4582245349884033,0.455568790435791,0.45293688774108887,0.45032280683517456,0.4477314352989197,0.4451756179332733,0.44264718890190125,0.4401485025882721,0.4376767873764038,0.43524420261383057,0.43282151222229004,0.4304375648498535,0.42807555198669434,0.4257517158985138,0.42344215512275696,0.42116543650627136,0.41891416907310486,0.41668805480003357,0.414476603269577,0.4122956097126007,0.4101291000843048,0.4079851806163788,0.4058721959590912,0.4037727117538452,0.4016985595226288,0.3996468484401703,0.3976116180419922,0.3956061899662018,0.3936034142971039,0.39163047075271606,0.38967302441596985,0.38774195313453674,0.38582414388656616,0.383927583694458,0.38205647468566895,0.3801959156990051,0.3783505856990814,0.3765125572681427,0.37471213936805725,0.3729279041290283,0.37114161252975464,0.36937448382377625,0.3676256835460663,0.3658970892429352,0.3641795217990875,0.36247488856315613,0.3608008921146393,0.35913002490997314,0.3574729561805725,0.3558306396007538,0.3541988432407379,0.35258808732032776,0.35098814964294434,0.3493974208831787,0.34782662987709045,0.346271812915802,0.3447243273258209,0.3431919515132904,0.3416784405708313],\"type\":\"scatter\"},{\"line\":{\"color\":\"#05234C\",\"dash\":\"dash\",\"width\":3},\"mode\":\"lines\",\"name\":\"Validation Loss\",\"x\":[1,2,3,4,5,6,7,8,9,10,11,12,13,14,15,16,17,18,19,20,21,22,23,24,25,26,27,28,29,30,31,32,33,34,35,36,37,38,39,40,41,42,43,44,45,46,47,48,49,50,51,52,53,54,55,56,57,58,59,60,61,62,63,64,65,66,67,68,69,70,71,72,73,74,75,76,77,78,79,80,81,82,83,84,85,86,87,88,89,90,91,92,93,94,95,96,97,98,99,100,101,102,103,104,105,106,107,108,109,110,111,112,113,114,115,116,117,118,119,120,121,122,123,124,125,126,127,128,129,130,131,132,133,134,135,136,137,138,139,140,141,142,143,144,145,146,147,148,149,150,151,152,153,154,155,156,157,158,159,160,161,162,163,164,165,166,167,168,169,170,171,172,173,174,175,176,177,178,179,180,181,182,183,184,185,186,187,188,189,190,191,192,193,194,195,196,197,198,199,200,201,202,203,204,205,206,207,208,209,210,211,212,213,214,215,216,217,218,219,220,221,222,223,224,225,226,227,228,229,230,231,232,233,234,235,236,237,238,239,240,241,242,243,244,245,246,247,248,249,250],\"y\":[2.5657505989074707,2.4811642169952393,2.394972562789917,2.3049378395080566,2.216320514678955,2.1230950355529785,2.0293350219726562,1.94209623336792,1.8667560815811157,1.805800437927246,1.7582648992538452,1.7209022045135498,1.6908022165298462,1.6651595830917358,1.6421005725860596,1.6207759380340576,1.6005311012268066,1.5810492038726807,1.562437653541565,1.5441004037857056,1.5255483388900757,1.5071278810501099,1.4891022443771362,1.4715665578842163,1.4549306631088257,1.4392608404159546,1.4241796731948853,1.409508228302002,1.3951694965362549,1.3812659978866577,1.3676707744598389,1.354377269744873,1.3414311408996582,1.3289250135421753,1.3167331218719482,1.3049153089523315,1.2933204174041748,1.281923770904541,1.2706809043884277,1.259738564491272,1.2489850521087646,1.2383391857147217,1.2279711961746216,1.2178083658218384,1.2078003883361816,1.19803786277771,1.1884117126464844,1.17897629737854,1.1697036027908325,1.1606254577636719,1.151734709739685,1.142988920211792,1.1344425678253174,1.1260230541229248,1.1177657842636108,1.109655499458313,1.1016991138458252,1.093959927558899,1.086326241493225,1.0788419246673584,1.0714547634124756,1.0642831325531006,1.0571964979171753,1.0502666234970093,1.0433931350708008,1.0367109775543213,1.0301438570022583,1.023672342300415,1.017301321029663,1.0110059976577759,1.0047776699066162,0.9986910223960876,0.9926819801330566,0.9867032766342163,0.9808014035224915,0.9750465154647827,0.9693573713302612,0.9637718796730042,0.9582679271697998,0.952824056148529,0.9474737644195557,0.9421368837356567,0.9368377923965454,0.931601881980896,0.9264576435089111,0.9212918281555176,0.9161211848258972,0.9110479354858398,0.9060094952583313,0.9009621143341064,0.8959978818893433,0.8910447955131531,0.8861851096153259,0.8812187910079956,0.8762974739074707,0.8714337944984436,0.8665672540664673,0.8617075681686401,0.8568264842033386,0.8519222736358643,0.8469990491867065,0.8421248197555542,0.8373479843139648,0.8324882984161377,0.8276098966598511,0.8227795958518982,0.8179976940155029,0.8131590485572815,0.8083759546279907,0.8036237359046936,0.7988713383674622,0.7940676808357239,0.7893115282058716,0.7845505475997925,0.7798383235931396,0.7750422954559326,0.7702762484550476,0.7655077576637268,0.7608028650283813,0.7559822201728821,0.7511979341506958,0.7464084625244141,0.7416362166404724,0.7369140982627869,0.7321979999542236,0.7274414896965027,0.7227541208267212,0.7179927229881287,0.7133107781410217,0.7086136341094971,0.7039252519607544,0.699228048324585,0.694614827632904,0.6899532079696655,0.6852920055389404,0.6807441711425781,0.6761248111724854,0.6714894771575928,0.6669968366622925,0.662387490272522,0.6579267382621765,0.653462827205658,0.6490247249603271,0.6446574926376343,0.6402940154075623,0.6358708143234253,0.6315202713012695,0.6273425221443176,0.6229825019836426,0.6188088059425354,0.6145559549331665,0.6105263233184814,0.6063908338546753,0.6021994948387146,0.598119854927063,0.594139575958252,0.5901016592979431,0.5861279964447021,0.5822702646255493,0.5784094333648682,0.5745646953582764,0.5708211660385132,0.5670889019966125,0.5633910298347473,0.5597764253616333,0.5561612844467163,0.5526102781295776,0.5490325689315796,0.5455514788627625,0.5421500205993652,0.5386995077133179,0.5353606939315796,0.5320284366607666,0.5287787914276123,0.5254737138748169,0.5223414897918701,0.5191282033920288,0.5159909129142761,0.5128886103630066,0.5098075270652771,0.5068073868751526,0.5038460493087769,0.5008741021156311,0.4979719817638397,0.49514445662498474,0.4922613203525543,0.4894997775554657,0.4867226183414459,0.48387083411216736,0.4811878502368927,0.4785540699958801,0.4758799374103546,0.4732653796672821,0.4706566333770752,0.4680836796760559,0.4655160903930664,0.46302101016044617,0.4605635702610016,0.4580683708190918,0.455618292093277,0.4532334506511688,0.45084571838378906,0.448488712310791,0.44618844985961914,0.44389402866363525,0.4416859745979309,0.4393375515937805,0.43709442019462585,0.43491899967193604,0.43277570605278015,0.4306093752384186,0.42843666672706604,0.42635995149612427,0.424255907535553,0.42219215631484985,0.42013195157051086,0.41809865832328796,0.41612231731414795,0.4140547215938568,0.4120545983314514,0.41011321544647217,0.40816348791122437,0.4062674939632416,0.40432024002075195,0.40249836444854736,0.4006662666797638,0.39880236983299255,0.39700770378112793,0.39509549736976624,0.3933757245540619,0.39161568880081177,0.3897813558578491,0.3880324363708496,0.38631191849708557,0.38455134630203247,0.3829238712787628,0.38117480278015137,0.3795078694820404,0.3778500556945801,0.3762269914150238,0.3746154308319092,0.37295907735824585,0.37137478590011597,0.3697763681411743,0.36822471022605896,0.36664971709251404,0.3651149570941925,0.36358925700187683,0.36211034655570984,0.3605557680130005],\"type\":\"scatter\"}],                        {\"template\":{\"data\":{\"barpolar\":[{\"marker\":{\"line\":{\"color\":\"white\",\"width\":0.5},\"pattern\":{\"fillmode\":\"overlay\",\"size\":10,\"solidity\":0.2}},\"type\":\"barpolar\"}],\"bar\":[{\"error_x\":{\"color\":\"#2a3f5f\"},\"error_y\":{\"color\":\"#2a3f5f\"},\"marker\":{\"line\":{\"color\":\"white\",\"width\":0.5},\"pattern\":{\"fillmode\":\"overlay\",\"size\":10,\"solidity\":0.2}},\"type\":\"bar\"}],\"carpet\":[{\"aaxis\":{\"endlinecolor\":\"#2a3f5f\",\"gridcolor\":\"#C8D4E3\",\"linecolor\":\"#C8D4E3\",\"minorgridcolor\":\"#C8D4E3\",\"startlinecolor\":\"#2a3f5f\"},\"baxis\":{\"endlinecolor\":\"#2a3f5f\",\"gridcolor\":\"#C8D4E3\",\"linecolor\":\"#C8D4E3\",\"minorgridcolor\":\"#C8D4E3\",\"startlinecolor\":\"#2a3f5f\"},\"type\":\"carpet\"}],\"choropleth\":[{\"colorbar\":{\"outlinewidth\":0,\"ticks\":\"\"},\"type\":\"choropleth\"}],\"contourcarpet\":[{\"colorbar\":{\"outlinewidth\":0,\"ticks\":\"\"},\"type\":\"contourcarpet\"}],\"contour\":[{\"colorbar\":{\"outlinewidth\":0,\"ticks\":\"\"},\"colorscale\":[[0.0,\"#0d0887\"],[0.1111111111111111,\"#46039f\"],[0.2222222222222222,\"#7201a8\"],[0.3333333333333333,\"#9c179e\"],[0.4444444444444444,\"#bd3786\"],[0.5555555555555556,\"#d8576b\"],[0.6666666666666666,\"#ed7953\"],[0.7777777777777778,\"#fb9f3a\"],[0.8888888888888888,\"#fdca26\"],[1.0,\"#f0f921\"]],\"type\":\"contour\"}],\"heatmapgl\":[{\"colorbar\":{\"outlinewidth\":0,\"ticks\":\"\"},\"colorscale\":[[0.0,\"#0d0887\"],[0.1111111111111111,\"#46039f\"],[0.2222222222222222,\"#7201a8\"],[0.3333333333333333,\"#9c179e\"],[0.4444444444444444,\"#bd3786\"],[0.5555555555555556,\"#d8576b\"],[0.6666666666666666,\"#ed7953\"],[0.7777777777777778,\"#fb9f3a\"],[0.8888888888888888,\"#fdca26\"],[1.0,\"#f0f921\"]],\"type\":\"heatmapgl\"}],\"heatmap\":[{\"colorbar\":{\"outlinewidth\":0,\"ticks\":\"\"},\"colorscale\":[[0.0,\"#0d0887\"],[0.1111111111111111,\"#46039f\"],[0.2222222222222222,\"#7201a8\"],[0.3333333333333333,\"#9c179e\"],[0.4444444444444444,\"#bd3786\"],[0.5555555555555556,\"#d8576b\"],[0.6666666666666666,\"#ed7953\"],[0.7777777777777778,\"#fb9f3a\"],[0.8888888888888888,\"#fdca26\"],[1.0,\"#f0f921\"]],\"type\":\"heatmap\"}],\"histogram2dcontour\":[{\"colorbar\":{\"outlinewidth\":0,\"ticks\":\"\"},\"colorscale\":[[0.0,\"#0d0887\"],[0.1111111111111111,\"#46039f\"],[0.2222222222222222,\"#7201a8\"],[0.3333333333333333,\"#9c179e\"],[0.4444444444444444,\"#bd3786\"],[0.5555555555555556,\"#d8576b\"],[0.6666666666666666,\"#ed7953\"],[0.7777777777777778,\"#fb9f3a\"],[0.8888888888888888,\"#fdca26\"],[1.0,\"#f0f921\"]],\"type\":\"histogram2dcontour\"}],\"histogram2d\":[{\"colorbar\":{\"outlinewidth\":0,\"ticks\":\"\"},\"colorscale\":[[0.0,\"#0d0887\"],[0.1111111111111111,\"#46039f\"],[0.2222222222222222,\"#7201a8\"],[0.3333333333333333,\"#9c179e\"],[0.4444444444444444,\"#bd3786\"],[0.5555555555555556,\"#d8576b\"],[0.6666666666666666,\"#ed7953\"],[0.7777777777777778,\"#fb9f3a\"],[0.8888888888888888,\"#fdca26\"],[1.0,\"#f0f921\"]],\"type\":\"histogram2d\"}],\"histogram\":[{\"marker\":{\"pattern\":{\"fillmode\":\"overlay\",\"size\":10,\"solidity\":0.2}},\"type\":\"histogram\"}],\"mesh3d\":[{\"colorbar\":{\"outlinewidth\":0,\"ticks\":\"\"},\"type\":\"mesh3d\"}],\"parcoords\":[{\"line\":{\"colorbar\":{\"outlinewidth\":0,\"ticks\":\"\"}},\"type\":\"parcoords\"}],\"pie\":[{\"automargin\":true,\"type\":\"pie\"}],\"scatter3d\":[{\"line\":{\"colorbar\":{\"outlinewidth\":0,\"ticks\":\"\"}},\"marker\":{\"colorbar\":{\"outlinewidth\":0,\"ticks\":\"\"}},\"type\":\"scatter3d\"}],\"scattercarpet\":[{\"marker\":{\"colorbar\":{\"outlinewidth\":0,\"ticks\":\"\"}},\"type\":\"scattercarpet\"}],\"scattergeo\":[{\"marker\":{\"colorbar\":{\"outlinewidth\":0,\"ticks\":\"\"}},\"type\":\"scattergeo\"}],\"scattergl\":[{\"marker\":{\"colorbar\":{\"outlinewidth\":0,\"ticks\":\"\"}},\"type\":\"scattergl\"}],\"scattermapbox\":[{\"marker\":{\"colorbar\":{\"outlinewidth\":0,\"ticks\":\"\"}},\"type\":\"scattermapbox\"}],\"scatterpolargl\":[{\"marker\":{\"colorbar\":{\"outlinewidth\":0,\"ticks\":\"\"}},\"type\":\"scatterpolargl\"}],\"scatterpolar\":[{\"marker\":{\"colorbar\":{\"outlinewidth\":0,\"ticks\":\"\"}},\"type\":\"scatterpolar\"}],\"scatter\":[{\"fillpattern\":{\"fillmode\":\"overlay\",\"size\":10,\"solidity\":0.2},\"type\":\"scatter\"}],\"scatterternary\":[{\"marker\":{\"colorbar\":{\"outlinewidth\":0,\"ticks\":\"\"}},\"type\":\"scatterternary\"}],\"surface\":[{\"colorbar\":{\"outlinewidth\":0,\"ticks\":\"\"},\"colorscale\":[[0.0,\"#0d0887\"],[0.1111111111111111,\"#46039f\"],[0.2222222222222222,\"#7201a8\"],[0.3333333333333333,\"#9c179e\"],[0.4444444444444444,\"#bd3786\"],[0.5555555555555556,\"#d8576b\"],[0.6666666666666666,\"#ed7953\"],[0.7777777777777778,\"#fb9f3a\"],[0.8888888888888888,\"#fdca26\"],[1.0,\"#f0f921\"]],\"type\":\"surface\"}],\"table\":[{\"cells\":{\"fill\":{\"color\":\"#EBF0F8\"},\"line\":{\"color\":\"white\"}},\"header\":{\"fill\":{\"color\":\"#C8D4E3\"},\"line\":{\"color\":\"white\"}},\"type\":\"table\"}]},\"layout\":{\"annotationdefaults\":{\"arrowcolor\":\"#2a3f5f\",\"arrowhead\":0,\"arrowwidth\":1},\"autotypenumbers\":\"strict\",\"coloraxis\":{\"colorbar\":{\"outlinewidth\":0,\"ticks\":\"\"}},\"colorscale\":{\"diverging\":[[0,\"#8e0152\"],[0.1,\"#c51b7d\"],[0.2,\"#de77ae\"],[0.3,\"#f1b6da\"],[0.4,\"#fde0ef\"],[0.5,\"#f7f7f7\"],[0.6,\"#e6f5d0\"],[0.7,\"#b8e186\"],[0.8,\"#7fbc41\"],[0.9,\"#4d9221\"],[1,\"#276419\"]],\"sequential\":[[0.0,\"#0d0887\"],[0.1111111111111111,\"#46039f\"],[0.2222222222222222,\"#7201a8\"],[0.3333333333333333,\"#9c179e\"],[0.4444444444444444,\"#bd3786\"],[0.5555555555555556,\"#d8576b\"],[0.6666666666666666,\"#ed7953\"],[0.7777777777777778,\"#fb9f3a\"],[0.8888888888888888,\"#fdca26\"],[1.0,\"#f0f921\"]],\"sequentialminus\":[[0.0,\"#0d0887\"],[0.1111111111111111,\"#46039f\"],[0.2222222222222222,\"#7201a8\"],[0.3333333333333333,\"#9c179e\"],[0.4444444444444444,\"#bd3786\"],[0.5555555555555556,\"#d8576b\"],[0.6666666666666666,\"#ed7953\"],[0.7777777777777778,\"#fb9f3a\"],[0.8888888888888888,\"#fdca26\"],[1.0,\"#f0f921\"]]},\"colorway\":[\"#636efa\",\"#EF553B\",\"#00cc96\",\"#ab63fa\",\"#FFA15A\",\"#19d3f3\",\"#FF6692\",\"#B6E880\",\"#FF97FF\",\"#FECB52\"],\"font\":{\"color\":\"#2a3f5f\"},\"geo\":{\"bgcolor\":\"white\",\"lakecolor\":\"white\",\"landcolor\":\"white\",\"showlakes\":true,\"showland\":true,\"subunitcolor\":\"#C8D4E3\"},\"hoverlabel\":{\"align\":\"left\"},\"hovermode\":\"closest\",\"mapbox\":{\"style\":\"light\"},\"paper_bgcolor\":\"white\",\"plot_bgcolor\":\"white\",\"polar\":{\"angularaxis\":{\"gridcolor\":\"#EBF0F8\",\"linecolor\":\"#EBF0F8\",\"ticks\":\"\"},\"bgcolor\":\"white\",\"radialaxis\":{\"gridcolor\":\"#EBF0F8\",\"linecolor\":\"#EBF0F8\",\"ticks\":\"\"}},\"scene\":{\"xaxis\":{\"backgroundcolor\":\"white\",\"gridcolor\":\"#DFE8F3\",\"gridwidth\":2,\"linecolor\":\"#EBF0F8\",\"showbackground\":true,\"ticks\":\"\",\"zerolinecolor\":\"#EBF0F8\"},\"yaxis\":{\"backgroundcolor\":\"white\",\"gridcolor\":\"#DFE8F3\",\"gridwidth\":2,\"linecolor\":\"#EBF0F8\",\"showbackground\":true,\"ticks\":\"\",\"zerolinecolor\":\"#EBF0F8\"},\"zaxis\":{\"backgroundcolor\":\"white\",\"gridcolor\":\"#DFE8F3\",\"gridwidth\":2,\"linecolor\":\"#EBF0F8\",\"showbackground\":true,\"ticks\":\"\",\"zerolinecolor\":\"#EBF0F8\"}},\"shapedefaults\":{\"line\":{\"color\":\"#2a3f5f\"}},\"ternary\":{\"aaxis\":{\"gridcolor\":\"#DFE8F3\",\"linecolor\":\"#A2B1C6\",\"ticks\":\"\"},\"baxis\":{\"gridcolor\":\"#DFE8F3\",\"linecolor\":\"#A2B1C6\",\"ticks\":\"\"},\"bgcolor\":\"white\",\"caxis\":{\"gridcolor\":\"#DFE8F3\",\"linecolor\":\"#A2B1C6\",\"ticks\":\"\"}},\"title\":{\"x\":0.05},\"xaxis\":{\"automargin\":true,\"gridcolor\":\"#EBF0F8\",\"linecolor\":\"#EBF0F8\",\"ticks\":\"\",\"title\":{\"standoff\":15},\"zerolinecolor\":\"#EBF0F8\",\"zerolinewidth\":2},\"yaxis\":{\"automargin\":true,\"gridcolor\":\"#EBF0F8\",\"linecolor\":\"#EBF0F8\",\"ticks\":\"\",\"title\":{\"standoff\":15},\"zerolinecolor\":\"#EBF0F8\",\"zerolinewidth\":2}}},\"legend\":{\"x\":0.75,\"y\":0.9},\"title\":{\"text\":\"Model Training Metrics\"},\"xaxis\":{\"title\":{\"text\":\"Number of epochs\"}},\"yaxis\":{\"title\":{\"text\":\"Metric Value\"}}},                        {\"responsive\": true}                    ).then(function(){\n",
              "                            \n",
              "var gd = document.getElementById('b98ec183-8359-4d3b-93db-1d656da44c51');\n",
              "var x = new MutationObserver(function (mutations, observer) {{\n",
              "        var display = window.getComputedStyle(gd).display;\n",
              "        if (!display || display === 'none') {{\n",
              "            console.log([gd, 'removed!']);\n",
              "            Plotly.purge(gd);\n",
              "            observer.disconnect();\n",
              "        }}\n",
              "}});\n",
              "\n",
              "// Listen for the removal of the full notebook cells\n",
              "var notebookContainer = gd.closest('#notebook-container');\n",
              "if (notebookContainer) {{\n",
              "    x.observe(notebookContainer, {childList: true});\n",
              "}}\n",
              "\n",
              "// Listen for the clearing of the current output cell\n",
              "var outputEl = gd.closest('.output');\n",
              "if (outputEl) {{\n",
              "    x.observe(outputEl, {childList: true});\n",
              "}}\n",
              "\n",
              "                        })                };                            </script>        </div>\n",
              "</body>\n",
              "</html>"
            ]
          },
          "metadata": {}
        }
      ]
    },
    {
      "cell_type": "code",
      "metadata": {
        "id": "H843Nzhp68kH"
      },
      "source": [
        "model5_params = {'activation 1': 'relu',\n",
        "                 'activation 2': 'relu',\n",
        "                 'activation 3': 'softmax',\n",
        "                 'opt': tf.keras.optimizers.SGD(learning_rate=0.001),\n",
        "                 'loss': 'categorical_crossentropy',\n",
        "                 'epochs': 270,\n",
        "                 'batch_size': 40,\n",
        "                 }"
      ],
      "execution_count": 48,
      "outputs": []
    },
    {
      "cell_type": "code",
      "metadata": {
        "colab": {
          "base_uri": "https://localhost:8080/",
          "height": 1000
        },
        "id": "zx-thXl37FTR",
        "outputId": "05ac920d-7776-4be7-fa6d-ccd038d8f46e"
      },
      "source": [
        "model5_history, model5 = create_model(train, label_train, test, label_test, model5_params)"
      ],
      "execution_count": 49,
      "outputs": [
        {
          "output_type": "stream",
          "name": "stdout",
          "text": [
            "Epoch 1/270\n",
            "230/230 [==============================] - 2s 5ms/step - loss: 2.5807 - acc: 0.3881 - val_loss: 2.5285 - val_acc: 0.5039\n",
            "Epoch 2/270\n",
            "230/230 [==============================] - 1s 5ms/step - loss: 2.4800 - acc: 0.5156 - val_loss: 2.4289 - val_acc: 0.5113\n",
            "Epoch 3/270\n",
            "230/230 [==============================] - 1s 5ms/step - loss: 2.3805 - acc: 0.5170 - val_loss: 2.3285 - val_acc: 0.5113\n",
            "Epoch 4/270\n",
            "230/230 [==============================] - 1s 5ms/step - loss: 2.2772 - acc: 0.5170 - val_loss: 2.2215 - val_acc: 0.5113\n",
            "Epoch 5/270\n",
            "230/230 [==============================] - 1s 6ms/step - loss: 2.1676 - acc: 0.5170 - val_loss: 2.1106 - val_acc: 0.5113\n",
            "Epoch 6/270\n",
            "230/230 [==============================] - 2s 8ms/step - loss: 2.0567 - acc: 0.5170 - val_loss: 2.0010 - val_acc: 0.5113\n",
            "Epoch 7/270\n",
            "230/230 [==============================] - 2s 7ms/step - loss: 1.9497 - acc: 0.5170 - val_loss: 1.8985 - val_acc: 0.5113\n",
            "Epoch 8/270\n",
            "230/230 [==============================] - 1s 6ms/step - loss: 1.8535 - acc: 0.5170 - val_loss: 1.8107 - val_acc: 0.5113\n",
            "Epoch 9/270\n",
            "230/230 [==============================] - 1s 5ms/step - loss: 1.7752 - acc: 0.5170 - val_loss: 1.7427 - val_acc: 0.5113\n",
            "Epoch 10/270\n",
            "230/230 [==============================] - 1s 5ms/step - loss: 1.7166 - acc: 0.5170 - val_loss: 1.6934 - val_acc: 0.5113\n",
            "Epoch 11/270\n",
            "230/230 [==============================] - 1s 5ms/step - loss: 1.6745 - acc: 0.5170 - val_loss: 1.6580 - val_acc: 0.5113\n",
            "Epoch 12/270\n",
            "230/230 [==============================] - 1s 5ms/step - loss: 1.6436 - acc: 0.5170 - val_loss: 1.6309 - val_acc: 0.5113\n",
            "Epoch 13/270\n",
            "230/230 [==============================] - 1s 5ms/step - loss: 1.6192 - acc: 0.5170 - val_loss: 1.6088 - val_acc: 0.5113\n",
            "Epoch 14/270\n",
            "230/230 [==============================] - 1s 4ms/step - loss: 1.5987 - acc: 0.5170 - val_loss: 1.5895 - val_acc: 0.5113\n",
            "Epoch 15/270\n",
            "230/230 [==============================] - 1s 5ms/step - loss: 1.5805 - acc: 0.5170 - val_loss: 1.5720 - val_acc: 0.5113\n",
            "Epoch 16/270\n",
            "230/230 [==============================] - 1s 4ms/step - loss: 1.5637 - acc: 0.5170 - val_loss: 1.5559 - val_acc: 0.5113\n",
            "Epoch 17/270\n",
            "230/230 [==============================] - 1s 4ms/step - loss: 1.5481 - acc: 0.5170 - val_loss: 1.5407 - val_acc: 0.5113\n",
            "Epoch 18/270\n",
            "230/230 [==============================] - 2s 7ms/step - loss: 1.5334 - acc: 0.5170 - val_loss: 1.5264 - val_acc: 0.5113\n",
            "Epoch 19/270\n",
            "230/230 [==============================] - 2s 7ms/step - loss: 1.5193 - acc: 0.5170 - val_loss: 1.5127 - val_acc: 0.5113\n",
            "Epoch 20/270\n",
            "230/230 [==============================] - 1s 6ms/step - loss: 1.5058 - acc: 0.5170 - val_loss: 1.4997 - val_acc: 0.5113\n",
            "Epoch 21/270\n",
            "230/230 [==============================] - 1s 6ms/step - loss: 1.4929 - acc: 0.5170 - val_loss: 1.4872 - val_acc: 0.5113\n",
            "Epoch 22/270\n",
            "230/230 [==============================] - 1s 4ms/step - loss: 1.4804 - acc: 0.5170 - val_loss: 1.4753 - val_acc: 0.5113\n",
            "Epoch 23/270\n",
            "230/230 [==============================] - 1s 5ms/step - loss: 1.4684 - acc: 0.5170 - val_loss: 1.4637 - val_acc: 0.5113\n",
            "Epoch 24/270\n",
            "230/230 [==============================] - 1s 4ms/step - loss: 1.4566 - acc: 0.5170 - val_loss: 1.4524 - val_acc: 0.5113\n",
            "Epoch 25/270\n",
            "230/230 [==============================] - 1s 4ms/step - loss: 1.4451 - acc: 0.5170 - val_loss: 1.4413 - val_acc: 0.5113\n",
            "Epoch 26/270\n",
            "230/230 [==============================] - 1s 4ms/step - loss: 1.4337 - acc: 0.5170 - val_loss: 1.4303 - val_acc: 0.5113\n",
            "Epoch 27/270\n",
            "230/230 [==============================] - 1s 4ms/step - loss: 1.4224 - acc: 0.5170 - val_loss: 1.4195 - val_acc: 0.5113\n",
            "Epoch 28/270\n",
            "230/230 [==============================] - 1s 4ms/step - loss: 1.4112 - acc: 0.5170 - val_loss: 1.4087 - val_acc: 0.5113\n",
            "Epoch 29/270\n",
            "230/230 [==============================] - 1s 4ms/step - loss: 1.4001 - acc: 0.5170 - val_loss: 1.3980 - val_acc: 0.5113\n",
            "Epoch 30/270\n",
            "230/230 [==============================] - 1s 4ms/step - loss: 1.3889 - acc: 0.5170 - val_loss: 1.3871 - val_acc: 0.5113\n",
            "Epoch 31/270\n",
            "230/230 [==============================] - 2s 7ms/step - loss: 1.3777 - acc: 0.5170 - val_loss: 1.3762 - val_acc: 0.5113\n",
            "Epoch 32/270\n",
            "230/230 [==============================] - 2s 7ms/step - loss: 1.3662 - acc: 0.5170 - val_loss: 1.3650 - val_acc: 0.5113\n",
            "Epoch 33/270\n",
            "230/230 [==============================] - 1s 6ms/step - loss: 1.3542 - acc: 0.5170 - val_loss: 1.3535 - val_acc: 0.5113\n",
            "Epoch 34/270\n",
            "230/230 [==============================] - 1s 6ms/step - loss: 1.3421 - acc: 0.5170 - val_loss: 1.3418 - val_acc: 0.5113\n",
            "Epoch 35/270\n",
            "230/230 [==============================] - 1s 4ms/step - loss: 1.3298 - acc: 0.5170 - val_loss: 1.3300 - val_acc: 0.5113\n",
            "Epoch 36/270\n",
            "230/230 [==============================] - 1s 4ms/step - loss: 1.3175 - acc: 0.5170 - val_loss: 1.3181 - val_acc: 0.5113\n",
            "Epoch 37/270\n",
            "230/230 [==============================] - 1s 4ms/step - loss: 1.3051 - acc: 0.5170 - val_loss: 1.3061 - val_acc: 0.5113\n",
            "Epoch 38/270\n",
            "230/230 [==============================] - 1s 4ms/step - loss: 1.2927 - acc: 0.5170 - val_loss: 1.2939 - val_acc: 0.5113\n",
            "Epoch 39/270\n",
            "230/230 [==============================] - 1s 4ms/step - loss: 1.2801 - acc: 0.5170 - val_loss: 1.2816 - val_acc: 0.5113\n",
            "Epoch 40/270\n",
            "230/230 [==============================] - 1s 4ms/step - loss: 1.2676 - acc: 0.5170 - val_loss: 1.2695 - val_acc: 0.5113\n",
            "Epoch 41/270\n",
            "230/230 [==============================] - 1s 4ms/step - loss: 1.2551 - acc: 0.5170 - val_loss: 1.2573 - val_acc: 0.5113\n",
            "Epoch 42/270\n",
            "230/230 [==============================] - 1s 4ms/step - loss: 1.2427 - acc: 0.5170 - val_loss: 1.2451 - val_acc: 0.5113\n",
            "Epoch 43/270\n",
            "230/230 [==============================] - 1s 5ms/step - loss: 1.2303 - acc: 0.5170 - val_loss: 1.2330 - val_acc: 0.5113\n",
            "Epoch 44/270\n",
            "230/230 [==============================] - 1s 6ms/step - loss: 1.2180 - acc: 0.5170 - val_loss: 1.2210 - val_acc: 0.5113\n",
            "Epoch 45/270\n",
            "230/230 [==============================] - 1s 6ms/step - loss: 1.2057 - acc: 0.5170 - val_loss: 1.2090 - val_acc: 0.5113\n",
            "Epoch 46/270\n",
            "230/230 [==============================] - 2s 7ms/step - loss: 1.1935 - acc: 0.5176 - val_loss: 1.1970 - val_acc: 0.5122\n",
            "Epoch 47/270\n",
            "230/230 [==============================] - 1s 6ms/step - loss: 1.1813 - acc: 0.5209 - val_loss: 1.1849 - val_acc: 0.5135\n",
            "Epoch 48/270\n",
            "230/230 [==============================] - 1s 5ms/step - loss: 1.1691 - acc: 0.5231 - val_loss: 1.1729 - val_acc: 0.5153\n",
            "Epoch 49/270\n",
            "230/230 [==============================] - 1s 4ms/step - loss: 1.1570 - acc: 0.5284 - val_loss: 1.1610 - val_acc: 0.5685\n",
            "Epoch 50/270\n",
            "230/230 [==============================] - 1s 5ms/step - loss: 1.1450 - acc: 0.5779 - val_loss: 1.1493 - val_acc: 0.5764\n",
            "Epoch 51/270\n",
            "230/230 [==============================] - 1s 4ms/step - loss: 1.1332 - acc: 0.5971 - val_loss: 1.1376 - val_acc: 0.5990\n",
            "Epoch 52/270\n",
            "230/230 [==============================] - 1s 4ms/step - loss: 1.1213 - acc: 0.6063 - val_loss: 1.1258 - val_acc: 0.6108\n",
            "Epoch 53/270\n",
            "230/230 [==============================] - 1s 4ms/step - loss: 1.1095 - acc: 0.6192 - val_loss: 1.1143 - val_acc: 0.6204\n",
            "Epoch 54/270\n",
            "230/230 [==============================] - 1s 4ms/step - loss: 1.0979 - acc: 0.6405 - val_loss: 1.1029 - val_acc: 0.6645\n",
            "Epoch 55/270\n",
            "230/230 [==============================] - 1s 4ms/step - loss: 1.0864 - acc: 0.6730 - val_loss: 1.0918 - val_acc: 0.6841\n",
            "Epoch 56/270\n",
            "230/230 [==============================] - 1s 4ms/step - loss: 1.0752 - acc: 0.6875 - val_loss: 1.0810 - val_acc: 0.7134\n",
            "Epoch 57/270\n",
            "230/230 [==============================] - 1s 6ms/step - loss: 1.0642 - acc: 0.7185 - val_loss: 1.0704 - val_acc: 0.7304\n",
            "Epoch 58/270\n",
            "230/230 [==============================] - 2s 7ms/step - loss: 1.0535 - acc: 0.7252 - val_loss: 1.0600 - val_acc: 0.7339\n",
            "Epoch 59/270\n",
            "230/230 [==============================] - 2s 7ms/step - loss: 1.0431 - acc: 0.7375 - val_loss: 1.0497 - val_acc: 0.7517\n",
            "Epoch 60/270\n",
            "230/230 [==============================] - 1s 6ms/step - loss: 1.0328 - acc: 0.7462 - val_loss: 1.0397 - val_acc: 0.7557\n",
            "Epoch 61/270\n",
            "230/230 [==============================] - 1s 5ms/step - loss: 1.0228 - acc: 0.7496 - val_loss: 1.0300 - val_acc: 0.7548\n",
            "Epoch 62/270\n",
            "230/230 [==============================] - 1s 4ms/step - loss: 1.0131 - acc: 0.7605 - val_loss: 1.0205 - val_acc: 0.7727\n",
            "Epoch 63/270\n",
            "230/230 [==============================] - 1s 4ms/step - loss: 1.0036 - acc: 0.7671 - val_loss: 1.0112 - val_acc: 0.7727\n",
            "Epoch 64/270\n",
            "230/230 [==============================] - 1s 4ms/step - loss: 0.9943 - acc: 0.7671 - val_loss: 1.0021 - val_acc: 0.7714\n",
            "Epoch 65/270\n",
            "230/230 [==============================] - 1s 4ms/step - loss: 0.9851 - acc: 0.7663 - val_loss: 0.9931 - val_acc: 0.7714\n",
            "Epoch 66/270\n",
            "230/230 [==============================] - 1s 5ms/step - loss: 0.9761 - acc: 0.7692 - val_loss: 0.9844 - val_acc: 0.7775\n",
            "Epoch 67/270\n",
            "230/230 [==============================] - 1s 4ms/step - loss: 0.9673 - acc: 0.7717 - val_loss: 0.9758 - val_acc: 0.7775\n",
            "Epoch 68/270\n",
            "230/230 [==============================] - 1s 4ms/step - loss: 0.9586 - acc: 0.7718 - val_loss: 0.9673 - val_acc: 0.7784\n",
            "Epoch 69/270\n",
            "230/230 [==============================] - 1s 4ms/step - loss: 0.9501 - acc: 0.7727 - val_loss: 0.9590 - val_acc: 0.7818\n",
            "Epoch 70/270\n",
            "230/230 [==============================] - 1s 5ms/step - loss: 0.9417 - acc: 0.7753 - val_loss: 0.9508 - val_acc: 0.7823\n",
            "Epoch 71/270\n",
            "230/230 [==============================] - 1s 6ms/step - loss: 0.9334 - acc: 0.7776 - val_loss: 0.9428 - val_acc: 0.7836\n",
            "Epoch 72/270\n",
            "230/230 [==============================] - 2s 7ms/step - loss: 0.9253 - acc: 0.7797 - val_loss: 0.9350 - val_acc: 0.7845\n",
            "Epoch 73/270\n",
            "230/230 [==============================] - 2s 7ms/step - loss: 0.9174 - acc: 0.7804 - val_loss: 0.9272 - val_acc: 0.7845\n",
            "Epoch 74/270\n",
            "230/230 [==============================] - 1s 5ms/step - loss: 0.9095 - acc: 0.7825 - val_loss: 0.9195 - val_acc: 0.7853\n",
            "Epoch 75/270\n",
            "230/230 [==============================] - 1s 4ms/step - loss: 0.9017 - acc: 0.7833 - val_loss: 0.9120 - val_acc: 0.7893\n",
            "Epoch 76/270\n",
            "230/230 [==============================] - 1s 4ms/step - loss: 0.8941 - acc: 0.7875 - val_loss: 0.9045 - val_acc: 0.7897\n",
            "Epoch 77/270\n",
            "230/230 [==============================] - 1s 4ms/step - loss: 0.8865 - acc: 0.7880 - val_loss: 0.8972 - val_acc: 0.7897\n",
            "Epoch 78/270\n",
            "230/230 [==============================] - 1s 4ms/step - loss: 0.8791 - acc: 0.7901 - val_loss: 0.8899 - val_acc: 0.7906\n",
            "Epoch 79/270\n",
            "230/230 [==============================] - 1s 4ms/step - loss: 0.8717 - acc: 0.7902 - val_loss: 0.8827 - val_acc: 0.7906\n",
            "Epoch 80/270\n",
            "230/230 [==============================] - 1s 5ms/step - loss: 0.8644 - acc: 0.7902 - val_loss: 0.8757 - val_acc: 0.7906\n",
            "Epoch 81/270\n",
            "230/230 [==============================] - 1s 4ms/step - loss: 0.8572 - acc: 0.7902 - val_loss: 0.8687 - val_acc: 0.7906\n",
            "Epoch 82/270\n",
            "230/230 [==============================] - 1s 5ms/step - loss: 0.8501 - acc: 0.7911 - val_loss: 0.8617 - val_acc: 0.7923\n",
            "Epoch 83/270\n",
            "230/230 [==============================] - 1s 5ms/step - loss: 0.8430 - acc: 0.7930 - val_loss: 0.8548 - val_acc: 0.7932\n",
            "Epoch 84/270\n",
            "230/230 [==============================] - 2s 7ms/step - loss: 0.8360 - acc: 0.7938 - val_loss: 0.8480 - val_acc: 0.7932\n",
            "Epoch 85/270\n",
            "230/230 [==============================] - 2s 7ms/step - loss: 0.8291 - acc: 0.7942 - val_loss: 0.8412 - val_acc: 0.7936\n",
            "Epoch 86/270\n",
            "230/230 [==============================] - 1s 6ms/step - loss: 0.8222 - acc: 0.7993 - val_loss: 0.8346 - val_acc: 0.8010\n",
            "Epoch 87/270\n",
            "230/230 [==============================] - 1s 5ms/step - loss: 0.8154 - acc: 0.8038 - val_loss: 0.8279 - val_acc: 0.8032\n",
            "Epoch 88/270\n",
            "230/230 [==============================] - 1s 5ms/step - loss: 0.8086 - acc: 0.8045 - val_loss: 0.8214 - val_acc: 0.8032\n",
            "Epoch 89/270\n",
            "230/230 [==============================] - 1s 4ms/step - loss: 0.8019 - acc: 0.8046 - val_loss: 0.8149 - val_acc: 0.8032\n",
            "Epoch 90/270\n",
            "230/230 [==============================] - 1s 4ms/step - loss: 0.7953 - acc: 0.8056 - val_loss: 0.8083 - val_acc: 0.8050\n",
            "Epoch 91/270\n",
            "230/230 [==============================] - 1s 4ms/step - loss: 0.7887 - acc: 0.8072 - val_loss: 0.8019 - val_acc: 0.8072\n",
            "Epoch 92/270\n",
            "230/230 [==============================] - 1s 4ms/step - loss: 0.7822 - acc: 0.8078 - val_loss: 0.7956 - val_acc: 0.8072\n",
            "Epoch 93/270\n",
            "230/230 [==============================] - 1s 5ms/step - loss: 0.7757 - acc: 0.8085 - val_loss: 0.7894 - val_acc: 0.8093\n",
            "Epoch 94/270\n",
            "230/230 [==============================] - 1s 4ms/step - loss: 0.7693 - acc: 0.8093 - val_loss: 0.7829 - val_acc: 0.8093\n",
            "Epoch 95/270\n",
            "230/230 [==============================] - 1s 4ms/step - loss: 0.7629 - acc: 0.8099 - val_loss: 0.7768 - val_acc: 0.8106\n",
            "Epoch 96/270\n",
            "230/230 [==============================] - 1s 5ms/step - loss: 0.7565 - acc: 0.8112 - val_loss: 0.7706 - val_acc: 0.8106\n",
            "Epoch 97/270\n",
            "230/230 [==============================] - 2s 7ms/step - loss: 0.7502 - acc: 0.8112 - val_loss: 0.7644 - val_acc: 0.8106\n",
            "Epoch 98/270\n",
            "230/230 [==============================] - 2s 7ms/step - loss: 0.7440 - acc: 0.8113 - val_loss: 0.7583 - val_acc: 0.8106\n",
            "Epoch 99/270\n",
            "230/230 [==============================] - 2s 7ms/step - loss: 0.7378 - acc: 0.8113 - val_loss: 0.7523 - val_acc: 0.8106\n",
            "Epoch 100/270\n",
            "230/230 [==============================] - 1s 4ms/step - loss: 0.7316 - acc: 0.8113 - val_loss: 0.7463 - val_acc: 0.8106\n",
            "Epoch 101/270\n",
            "230/230 [==============================] - 1s 5ms/step - loss: 0.7255 - acc: 0.8113 - val_loss: 0.7403 - val_acc: 0.8106\n",
            "Epoch 102/270\n",
            "230/230 [==============================] - 1s 4ms/step - loss: 0.7195 - acc: 0.8116 - val_loss: 0.7344 - val_acc: 0.8106\n",
            "Epoch 103/270\n",
            "230/230 [==============================] - 1s 4ms/step - loss: 0.7135 - acc: 0.8116 - val_loss: 0.7286 - val_acc: 0.8106\n",
            "Epoch 104/270\n",
            "230/230 [==============================] - 1s 4ms/step - loss: 0.7076 - acc: 0.8120 - val_loss: 0.7228 - val_acc: 0.8111\n",
            "Epoch 105/270\n",
            "230/230 [==============================] - 1s 4ms/step - loss: 0.7017 - acc: 0.8128 - val_loss: 0.7171 - val_acc: 0.8124\n",
            "Epoch 106/270\n",
            "230/230 [==============================] - 1s 4ms/step - loss: 0.6959 - acc: 0.8149 - val_loss: 0.7114 - val_acc: 0.8128\n",
            "Epoch 107/270\n",
            "230/230 [==============================] - 1s 4ms/step - loss: 0.6902 - acc: 0.8157 - val_loss: 0.7058 - val_acc: 0.8128\n",
            "Epoch 108/270\n",
            "230/230 [==============================] - 1s 4ms/step - loss: 0.6845 - acc: 0.8158 - val_loss: 0.7001 - val_acc: 0.8128\n",
            "Epoch 109/270\n",
            "230/230 [==============================] - 1s 5ms/step - loss: 0.6788 - acc: 0.8169 - val_loss: 0.6946 - val_acc: 0.8128\n",
            "Epoch 110/270\n",
            "230/230 [==============================] - 2s 7ms/step - loss: 0.6732 - acc: 0.8198 - val_loss: 0.6892 - val_acc: 0.8181\n",
            "Epoch 111/270\n",
            "230/230 [==============================] - 2s 7ms/step - loss: 0.6677 - acc: 0.8225 - val_loss: 0.6838 - val_acc: 0.8185\n",
            "Epoch 112/270\n",
            "230/230 [==============================] - 1s 6ms/step - loss: 0.6622 - acc: 0.8228 - val_loss: 0.6784 - val_acc: 0.8185\n",
            "Epoch 113/270\n",
            "230/230 [==============================] - 1s 5ms/step - loss: 0.6568 - acc: 0.8228 - val_loss: 0.6732 - val_acc: 0.8185\n",
            "Epoch 114/270\n",
            "230/230 [==============================] - 1s 4ms/step - loss: 0.6515 - acc: 0.8228 - val_loss: 0.6679 - val_acc: 0.8185\n",
            "Epoch 115/270\n",
            "230/230 [==============================] - 1s 4ms/step - loss: 0.6462 - acc: 0.8240 - val_loss: 0.6628 - val_acc: 0.8211\n",
            "Epoch 116/270\n",
            "230/230 [==============================] - 1s 4ms/step - loss: 0.6410 - acc: 0.8249 - val_loss: 0.6577 - val_acc: 0.8211\n",
            "Epoch 117/270\n",
            "230/230 [==============================] - 1s 4ms/step - loss: 0.6359 - acc: 0.8256 - val_loss: 0.6526 - val_acc: 0.8216\n",
            "Epoch 118/270\n",
            "230/230 [==============================] - 1s 4ms/step - loss: 0.6308 - acc: 0.8261 - val_loss: 0.6476 - val_acc: 0.8216\n",
            "Epoch 119/270\n",
            "230/230 [==============================] - 1s 4ms/step - loss: 0.6257 - acc: 0.8264 - val_loss: 0.6428 - val_acc: 0.8229\n",
            "Epoch 120/270\n",
            "230/230 [==============================] - 1s 4ms/step - loss: 0.6208 - acc: 0.8282 - val_loss: 0.6378 - val_acc: 0.8233\n",
            "Epoch 121/270\n",
            "230/230 [==============================] - 1s 4ms/step - loss: 0.6158 - acc: 0.8289 - val_loss: 0.6330 - val_acc: 0.8233\n",
            "Epoch 122/270\n",
            "230/230 [==============================] - 1s 5ms/step - loss: 0.6110 - acc: 0.8296 - val_loss: 0.6281 - val_acc: 0.8233\n",
            "Epoch 123/270\n",
            "230/230 [==============================] - 2s 7ms/step - loss: 0.6062 - acc: 0.8312 - val_loss: 0.6234 - val_acc: 0.8294\n",
            "Epoch 124/270\n",
            "230/230 [==============================] - 2s 7ms/step - loss: 0.6015 - acc: 0.8372 - val_loss: 0.6188 - val_acc: 0.8294\n",
            "Epoch 125/270\n",
            "230/230 [==============================] - 2s 7ms/step - loss: 0.5968 - acc: 0.8373 - val_loss: 0.6143 - val_acc: 0.8298\n",
            "Epoch 126/270\n",
            "230/230 [==============================] - 2s 7ms/step - loss: 0.5922 - acc: 0.8375 - val_loss: 0.6097 - val_acc: 0.8298\n",
            "Epoch 127/270\n",
            "230/230 [==============================] - 1s 5ms/step - loss: 0.5876 - acc: 0.8375 - val_loss: 0.6052 - val_acc: 0.8298\n",
            "Epoch 128/270\n",
            "230/230 [==============================] - 1s 5ms/step - loss: 0.5831 - acc: 0.8375 - val_loss: 0.6006 - val_acc: 0.8298\n",
            "Epoch 129/270\n",
            "230/230 [==============================] - 1s 5ms/step - loss: 0.5786 - acc: 0.8384 - val_loss: 0.5963 - val_acc: 0.8364\n",
            "Epoch 130/270\n",
            "230/230 [==============================] - 1s 5ms/step - loss: 0.5742 - acc: 0.8415 - val_loss: 0.5919 - val_acc: 0.8364\n",
            "Epoch 131/270\n",
            "230/230 [==============================] - 1s 5ms/step - loss: 0.5699 - acc: 0.8416 - val_loss: 0.5876 - val_acc: 0.8364\n",
            "Epoch 132/270\n",
            "230/230 [==============================] - 1s 5ms/step - loss: 0.5656 - acc: 0.8422 - val_loss: 0.5834 - val_acc: 0.8364\n",
            "Epoch 133/270\n",
            "230/230 [==============================] - 1s 5ms/step - loss: 0.5613 - acc: 0.8433 - val_loss: 0.5792 - val_acc: 0.8390\n",
            "Epoch 134/270\n",
            "230/230 [==============================] - 1s 5ms/step - loss: 0.5571 - acc: 0.8435 - val_loss: 0.5750 - val_acc: 0.8390\n",
            "Epoch 135/270\n",
            "230/230 [==============================] - 1s 5ms/step - loss: 0.5530 - acc: 0.8451 - val_loss: 0.5708 - val_acc: 0.8429\n",
            "Epoch 136/270\n",
            "230/230 [==============================] - 2s 7ms/step - loss: 0.5489 - acc: 0.8455 - val_loss: 0.5669 - val_acc: 0.8429\n",
            "Epoch 137/270\n",
            "230/230 [==============================] - 2s 7ms/step - loss: 0.5448 - acc: 0.8458 - val_loss: 0.5628 - val_acc: 0.8438\n",
            "Epoch 138/270\n",
            "230/230 [==============================] - 2s 7ms/step - loss: 0.5408 - acc: 0.8484 - val_loss: 0.5588 - val_acc: 0.8442\n",
            "Epoch 139/270\n",
            "230/230 [==============================] - 1s 6ms/step - loss: 0.5368 - acc: 0.8490 - val_loss: 0.5549 - val_acc: 0.8442\n",
            "Epoch 140/270\n",
            "230/230 [==============================] - 1s 4ms/step - loss: 0.5329 - acc: 0.8517 - val_loss: 0.5509 - val_acc: 0.8477\n",
            "Epoch 141/270\n",
            "230/230 [==============================] - 1s 4ms/step - loss: 0.5290 - acc: 0.8570 - val_loss: 0.5470 - val_acc: 0.8543\n",
            "Epoch 142/270\n",
            "230/230 [==============================] - 1s 4ms/step - loss: 0.5252 - acc: 0.8596 - val_loss: 0.5432 - val_acc: 0.8547\n",
            "Epoch 143/270\n",
            "230/230 [==============================] - 1s 4ms/step - loss: 0.5214 - acc: 0.8650 - val_loss: 0.5395 - val_acc: 0.8617\n",
            "Epoch 144/270\n",
            "230/230 [==============================] - 1s 4ms/step - loss: 0.5176 - acc: 0.8653 - val_loss: 0.5357 - val_acc: 0.8617\n",
            "Epoch 145/270\n",
            "230/230 [==============================] - 1s 4ms/step - loss: 0.5139 - acc: 0.8653 - val_loss: 0.5320 - val_acc: 0.8617\n",
            "Epoch 146/270\n",
            "230/230 [==============================] - 1s 5ms/step - loss: 0.5102 - acc: 0.8653 - val_loss: 0.5284 - val_acc: 0.8617\n",
            "Epoch 147/270\n",
            "230/230 [==============================] - 1s 5ms/step - loss: 0.5066 - acc: 0.8661 - val_loss: 0.5247 - val_acc: 0.8621\n",
            "Epoch 148/270\n",
            "230/230 [==============================] - 1s 5ms/step - loss: 0.5030 - acc: 0.8662 - val_loss: 0.5213 - val_acc: 0.8630\n",
            "Epoch 149/270\n",
            "230/230 [==============================] - 2s 7ms/step - loss: 0.4995 - acc: 0.8674 - val_loss: 0.5176 - val_acc: 0.8639\n",
            "Epoch 150/270\n",
            "230/230 [==============================] - 2s 7ms/step - loss: 0.4960 - acc: 0.8676 - val_loss: 0.5142 - val_acc: 0.8643\n",
            "Epoch 151/270\n",
            "230/230 [==============================] - 2s 7ms/step - loss: 0.4925 - acc: 0.8680 - val_loss: 0.5107 - val_acc: 0.8643\n",
            "Epoch 152/270\n",
            "230/230 [==============================] - 2s 8ms/step - loss: 0.4891 - acc: 0.8680 - val_loss: 0.5074 - val_acc: 0.8643\n",
            "Epoch 153/270\n",
            "230/230 [==============================] - 2s 8ms/step - loss: 0.4857 - acc: 0.8680 - val_loss: 0.5040 - val_acc: 0.8643\n",
            "Epoch 154/270\n",
            "230/230 [==============================] - 2s 7ms/step - loss: 0.4824 - acc: 0.8681 - val_loss: 0.5005 - val_acc: 0.8643\n",
            "Epoch 155/270\n",
            "230/230 [==============================] - 2s 7ms/step - loss: 0.4791 - acc: 0.8681 - val_loss: 0.4972 - val_acc: 0.8643\n",
            "Epoch 156/270\n",
            "230/230 [==============================] - 2s 8ms/step - loss: 0.4758 - acc: 0.8691 - val_loss: 0.4940 - val_acc: 0.8674\n",
            "Epoch 157/270\n",
            "230/230 [==============================] - 1s 5ms/step - loss: 0.4726 - acc: 0.8712 - val_loss: 0.4906 - val_acc: 0.8674\n",
            "Epoch 158/270\n",
            "230/230 [==============================] - 1s 5ms/step - loss: 0.4694 - acc: 0.8712 - val_loss: 0.4874 - val_acc: 0.8674\n",
            "Epoch 159/270\n",
            "230/230 [==============================] - 1s 5ms/step - loss: 0.4662 - acc: 0.8712 - val_loss: 0.4843 - val_acc: 0.8674\n",
            "Epoch 160/270\n",
            "230/230 [==============================] - 1s 6ms/step - loss: 0.4631 - acc: 0.8713 - val_loss: 0.4812 - val_acc: 0.8678\n",
            "Epoch 161/270\n",
            "230/230 [==============================] - 2s 7ms/step - loss: 0.4600 - acc: 0.8713 - val_loss: 0.4780 - val_acc: 0.8678\n",
            "Epoch 162/270\n",
            "230/230 [==============================] - 2s 7ms/step - loss: 0.4569 - acc: 0.8722 - val_loss: 0.4749 - val_acc: 0.8691\n",
            "Epoch 163/270\n",
            "230/230 [==============================] - 2s 7ms/step - loss: 0.4539 - acc: 0.8736 - val_loss: 0.4720 - val_acc: 0.8700\n",
            "Epoch 164/270\n",
            "230/230 [==============================] - 1s 4ms/step - loss: 0.4509 - acc: 0.8751 - val_loss: 0.4689 - val_acc: 0.8730\n",
            "Epoch 165/270\n",
            "230/230 [==============================] - 1s 5ms/step - loss: 0.4479 - acc: 0.8781 - val_loss: 0.4660 - val_acc: 0.8730\n",
            "Epoch 166/270\n",
            "230/230 [==============================] - 1s 4ms/step - loss: 0.4450 - acc: 0.8784 - val_loss: 0.4631 - val_acc: 0.8730\n",
            "Epoch 167/270\n",
            "230/230 [==============================] - 1s 4ms/step - loss: 0.4421 - acc: 0.8805 - val_loss: 0.4602 - val_acc: 0.8783\n",
            "Epoch 168/270\n",
            "230/230 [==============================] - 1s 4ms/step - loss: 0.4392 - acc: 0.8808 - val_loss: 0.4572 - val_acc: 0.8783\n",
            "Epoch 169/270\n",
            "230/230 [==============================] - 1s 4ms/step - loss: 0.4364 - acc: 0.8808 - val_loss: 0.4543 - val_acc: 0.8783\n",
            "Epoch 170/270\n",
            "230/230 [==============================] - 1s 4ms/step - loss: 0.4336 - acc: 0.8811 - val_loss: 0.4516 - val_acc: 0.8791\n",
            "Epoch 171/270\n",
            "230/230 [==============================] - 1s 4ms/step - loss: 0.4308 - acc: 0.8818 - val_loss: 0.4487 - val_acc: 0.8791\n",
            "Epoch 172/270\n",
            "230/230 [==============================] - 1s 4ms/step - loss: 0.4280 - acc: 0.8822 - val_loss: 0.4460 - val_acc: 0.8791\n",
            "Epoch 173/270\n",
            "230/230 [==============================] - 1s 5ms/step - loss: 0.4253 - acc: 0.8847 - val_loss: 0.4433 - val_acc: 0.8813\n",
            "Epoch 174/270\n",
            "230/230 [==============================] - 2s 7ms/step - loss: 0.4226 - acc: 0.8857 - val_loss: 0.4406 - val_acc: 0.8813\n",
            "Epoch 175/270\n",
            "230/230 [==============================] - 2s 7ms/step - loss: 0.4200 - acc: 0.8860 - val_loss: 0.4379 - val_acc: 0.8813\n",
            "Epoch 176/270\n",
            "230/230 [==============================] - 2s 7ms/step - loss: 0.4173 - acc: 0.8860 - val_loss: 0.4354 - val_acc: 0.8813\n",
            "Epoch 177/270\n",
            "230/230 [==============================] - 1s 6ms/step - loss: 0.4147 - acc: 0.8860 - val_loss: 0.4327 - val_acc: 0.8813\n",
            "Epoch 178/270\n",
            "230/230 [==============================] - 1s 4ms/step - loss: 0.4121 - acc: 0.8860 - val_loss: 0.4301 - val_acc: 0.8813\n",
            "Epoch 179/270\n",
            "230/230 [==============================] - 1s 4ms/step - loss: 0.4096 - acc: 0.8868 - val_loss: 0.4276 - val_acc: 0.8822\n",
            "Epoch 180/270\n",
            "230/230 [==============================] - 1s 4ms/step - loss: 0.4070 - acc: 0.8934 - val_loss: 0.4250 - val_acc: 0.8940\n",
            "Epoch 181/270\n",
            "230/230 [==============================] - 1s 4ms/step - loss: 0.4045 - acc: 0.8969 - val_loss: 0.4225 - val_acc: 0.8944\n",
            "Epoch 182/270\n",
            "230/230 [==============================] - 1s 4ms/step - loss: 0.4020 - acc: 0.8991 - val_loss: 0.4200 - val_acc: 0.8949\n",
            "Epoch 183/270\n",
            "230/230 [==============================] - 1s 5ms/step - loss: 0.3996 - acc: 0.8991 - val_loss: 0.4176 - val_acc: 0.8949\n",
            "Epoch 184/270\n",
            "230/230 [==============================] - 1s 5ms/step - loss: 0.3971 - acc: 0.8991 - val_loss: 0.4151 - val_acc: 0.8949\n",
            "Epoch 185/270\n",
            "230/230 [==============================] - 1s 4ms/step - loss: 0.3947 - acc: 0.9000 - val_loss: 0.4127 - val_acc: 0.8983\n",
            "Epoch 186/270\n",
            "230/230 [==============================] - 1s 5ms/step - loss: 0.3923 - acc: 0.9058 - val_loss: 0.4103 - val_acc: 0.9045\n",
            "Epoch 187/270\n",
            "230/230 [==============================] - 2s 7ms/step - loss: 0.3900 - acc: 0.9059 - val_loss: 0.4080 - val_acc: 0.9045\n",
            "Epoch 188/270\n",
            "230/230 [==============================] - 2s 7ms/step - loss: 0.3876 - acc: 0.9060 - val_loss: 0.4057 - val_acc: 0.9045\n",
            "Epoch 189/270\n",
            "230/230 [==============================] - 2s 7ms/step - loss: 0.3853 - acc: 0.9063 - val_loss: 0.4033 - val_acc: 0.9053\n",
            "Epoch 190/270\n",
            "230/230 [==============================] - 1s 5ms/step - loss: 0.3830 - acc: 0.9061 - val_loss: 0.4010 - val_acc: 0.9053\n",
            "Epoch 191/270\n",
            "230/230 [==============================] - 1s 5ms/step - loss: 0.3807 - acc: 0.9064 - val_loss: 0.3988 - val_acc: 0.9075\n",
            "Epoch 192/270\n",
            "230/230 [==============================] - 1s 5ms/step - loss: 0.3785 - acc: 0.9108 - val_loss: 0.3965 - val_acc: 0.9075\n",
            "Epoch 193/270\n",
            "230/230 [==============================] - 1s 4ms/step - loss: 0.3763 - acc: 0.9110 - val_loss: 0.3943 - val_acc: 0.9088\n",
            "Epoch 194/270\n",
            "230/230 [==============================] - 1s 5ms/step - loss: 0.3740 - acc: 0.9119 - val_loss: 0.3920 - val_acc: 0.9088\n",
            "Epoch 195/270\n",
            "230/230 [==============================] - 1s 5ms/step - loss: 0.3719 - acc: 0.9115 - val_loss: 0.3899 - val_acc: 0.9106\n",
            "Epoch 196/270\n",
            "230/230 [==============================] - 1s 5ms/step - loss: 0.3697 - acc: 0.9126 - val_loss: 0.3877 - val_acc: 0.9106\n",
            "Epoch 197/270\n",
            "230/230 [==============================] - 1s 5ms/step - loss: 0.3676 - acc: 0.9126 - val_loss: 0.3856 - val_acc: 0.9119\n",
            "Epoch 198/270\n",
            "230/230 [==============================] - 1s 5ms/step - loss: 0.3655 - acc: 0.9155 - val_loss: 0.3835 - val_acc: 0.9154\n",
            "Epoch 199/270\n",
            "230/230 [==============================] - 1s 6ms/step - loss: 0.3634 - acc: 0.9161 - val_loss: 0.3814 - val_acc: 0.9162\n",
            "Epoch 200/270\n",
            "230/230 [==============================] - 1s 6ms/step - loss: 0.3613 - acc: 0.9167 - val_loss: 0.3793 - val_acc: 0.9167\n",
            "Epoch 201/270\n",
            "230/230 [==============================] - 1s 6ms/step - loss: 0.3592 - acc: 0.9170 - val_loss: 0.3773 - val_acc: 0.9167\n",
            "Epoch 202/270\n",
            "230/230 [==============================] - 1s 6ms/step - loss: 0.3572 - acc: 0.9172 - val_loss: 0.3752 - val_acc: 0.9167\n",
            "Epoch 203/270\n",
            "230/230 [==============================] - 1s 5ms/step - loss: 0.3552 - acc: 0.9175 - val_loss: 0.3732 - val_acc: 0.9167\n",
            "Epoch 204/270\n",
            "230/230 [==============================] - 1s 4ms/step - loss: 0.3532 - acc: 0.9174 - val_loss: 0.3712 - val_acc: 0.9167\n",
            "Epoch 205/270\n",
            "230/230 [==============================] - 1s 4ms/step - loss: 0.3512 - acc: 0.9178 - val_loss: 0.3692 - val_acc: 0.9171\n",
            "Epoch 206/270\n",
            "230/230 [==============================] - 1s 4ms/step - loss: 0.3492 - acc: 0.9195 - val_loss: 0.3673 - val_acc: 0.9171\n",
            "Epoch 207/270\n",
            "230/230 [==============================] - 1s 4ms/step - loss: 0.3473 - acc: 0.9209 - val_loss: 0.3654 - val_acc: 0.9180\n",
            "Epoch 208/270\n",
            "230/230 [==============================] - 1s 4ms/step - loss: 0.3453 - acc: 0.9226 - val_loss: 0.3634 - val_acc: 0.9180\n",
            "Epoch 209/270\n",
            "230/230 [==============================] - 1s 4ms/step - loss: 0.3434 - acc: 0.9223 - val_loss: 0.3615 - val_acc: 0.9180\n",
            "Epoch 210/270\n",
            "230/230 [==============================] - 1s 4ms/step - loss: 0.3416 - acc: 0.9226 - val_loss: 0.3597 - val_acc: 0.9180\n",
            "Epoch 211/270\n",
            "230/230 [==============================] - 1s 4ms/step - loss: 0.3397 - acc: 0.9226 - val_loss: 0.3578 - val_acc: 0.9180\n",
            "Epoch 212/270\n",
            "230/230 [==============================] - 1s 4ms/step - loss: 0.3378 - acc: 0.9226 - val_loss: 0.3559 - val_acc: 0.9202\n",
            "Epoch 213/270\n",
            "230/230 [==============================] - 1s 5ms/step - loss: 0.3360 - acc: 0.9238 - val_loss: 0.3541 - val_acc: 0.9206\n",
            "Epoch 214/270\n",
            "230/230 [==============================] - 1s 6ms/step - loss: 0.3342 - acc: 0.9244 - val_loss: 0.3524 - val_acc: 0.9206\n",
            "Epoch 215/270\n",
            "230/230 [==============================] - 2s 7ms/step - loss: 0.3324 - acc: 0.9244 - val_loss: 0.3506 - val_acc: 0.9210\n",
            "Epoch 216/270\n",
            "230/230 [==============================] - 1s 6ms/step - loss: 0.3306 - acc: 0.9246 - val_loss: 0.3488 - val_acc: 0.9223\n",
            "Epoch 217/270\n",
            "230/230 [==============================] - 1s 6ms/step - loss: 0.3289 - acc: 0.9263 - val_loss: 0.3471 - val_acc: 0.9236\n",
            "Epoch 218/270\n",
            "230/230 [==============================] - 1s 5ms/step - loss: 0.3271 - acc: 0.9276 - val_loss: 0.3454 - val_acc: 0.9263\n",
            "Epoch 219/270\n",
            "230/230 [==============================] - 1s 4ms/step - loss: 0.3254 - acc: 0.9302 - val_loss: 0.3436 - val_acc: 0.9263\n",
            "Epoch 220/270\n",
            "230/230 [==============================] - 1s 4ms/step - loss: 0.3237 - acc: 0.9302 - val_loss: 0.3419 - val_acc: 0.9263\n",
            "Epoch 221/270\n",
            "230/230 [==============================] - 1s 4ms/step - loss: 0.3220 - acc: 0.9305 - val_loss: 0.3402 - val_acc: 0.9263\n",
            "Epoch 222/270\n",
            "230/230 [==============================] - 1s 4ms/step - loss: 0.3203 - acc: 0.9310 - val_loss: 0.3385 - val_acc: 0.9263\n",
            "Epoch 223/270\n",
            "230/230 [==============================] - 1s 4ms/step - loss: 0.3187 - acc: 0.9313 - val_loss: 0.3369 - val_acc: 0.9263\n",
            "Epoch 224/270\n",
            "230/230 [==============================] - 1s 4ms/step - loss: 0.3170 - acc: 0.9316 - val_loss: 0.3352 - val_acc: 0.9263\n",
            "Epoch 225/270\n",
            "230/230 [==============================] - 1s 5ms/step - loss: 0.3154 - acc: 0.9317 - val_loss: 0.3337 - val_acc: 0.9267\n",
            "Epoch 226/270\n",
            "230/230 [==============================] - 1s 4ms/step - loss: 0.3138 - acc: 0.9327 - val_loss: 0.3321 - val_acc: 0.9267\n",
            "Epoch 227/270\n",
            "230/230 [==============================] - 1s 4ms/step - loss: 0.3122 - acc: 0.9327 - val_loss: 0.3305 - val_acc: 0.9267\n",
            "Epoch 228/270\n",
            "230/230 [==============================] - 2s 7ms/step - loss: 0.3106 - acc: 0.9331 - val_loss: 0.3290 - val_acc: 0.9267\n",
            "Epoch 229/270\n",
            "230/230 [==============================] - 2s 7ms/step - loss: 0.3090 - acc: 0.9343 - val_loss: 0.3274 - val_acc: 0.9276\n",
            "Epoch 230/270\n",
            "230/230 [==============================] - 1s 6ms/step - loss: 0.3075 - acc: 0.9349 - val_loss: 0.3259 - val_acc: 0.9280\n",
            "Epoch 231/270\n",
            "230/230 [==============================] - 1s 6ms/step - loss: 0.3059 - acc: 0.9353 - val_loss: 0.3244 - val_acc: 0.9280\n",
            "Epoch 232/270\n",
            "230/230 [==============================] - 1s 5ms/step - loss: 0.3044 - acc: 0.9351 - val_loss: 0.3228 - val_acc: 0.9280\n",
            "Epoch 233/270\n",
            "230/230 [==============================] - 1s 5ms/step - loss: 0.3029 - acc: 0.9358 - val_loss: 0.3213 - val_acc: 0.9271\n",
            "Epoch 234/270\n",
            "230/230 [==============================] - 1s 5ms/step - loss: 0.3014 - acc: 0.9356 - val_loss: 0.3198 - val_acc: 0.9276\n",
            "Epoch 235/270\n",
            "230/230 [==============================] - 1s 4ms/step - loss: 0.2999 - acc: 0.9367 - val_loss: 0.3183 - val_acc: 0.9298\n",
            "Epoch 236/270\n",
            "230/230 [==============================] - 1s 4ms/step - loss: 0.2984 - acc: 0.9380 - val_loss: 0.3169 - val_acc: 0.9298\n",
            "Epoch 237/270\n",
            "230/230 [==============================] - 1s 4ms/step - loss: 0.2969 - acc: 0.9378 - val_loss: 0.3154 - val_acc: 0.9298\n",
            "Epoch 238/270\n",
            "230/230 [==============================] - 1s 4ms/step - loss: 0.2955 - acc: 0.9379 - val_loss: 0.3140 - val_acc: 0.9298\n",
            "Epoch 239/270\n",
            "230/230 [==============================] - 1s 4ms/step - loss: 0.2940 - acc: 0.9379 - val_loss: 0.3126 - val_acc: 0.9298\n",
            "Epoch 240/270\n",
            "230/230 [==============================] - 1s 4ms/step - loss: 0.2926 - acc: 0.9380 - val_loss: 0.3112 - val_acc: 0.9298\n",
            "Epoch 241/270\n",
            "230/230 [==============================] - 1s 6ms/step - loss: 0.2912 - acc: 0.9382 - val_loss: 0.3098 - val_acc: 0.9298\n",
            "Epoch 242/270\n",
            "230/230 [==============================] - 1s 6ms/step - loss: 0.2898 - acc: 0.9395 - val_loss: 0.3084 - val_acc: 0.9298\n",
            "Epoch 243/270\n",
            "230/230 [==============================] - 2s 7ms/step - loss: 0.2884 - acc: 0.9394 - val_loss: 0.3071 - val_acc: 0.9298\n",
            "Epoch 244/270\n",
            "230/230 [==============================] - 1s 6ms/step - loss: 0.2871 - acc: 0.9392 - val_loss: 0.3057 - val_acc: 0.9306\n",
            "Epoch 245/270\n",
            "230/230 [==============================] - 1s 4ms/step - loss: 0.2857 - acc: 0.9398 - val_loss: 0.3044 - val_acc: 0.9319\n",
            "Epoch 246/270\n",
            "230/230 [==============================] - 1s 5ms/step - loss: 0.2843 - acc: 0.9402 - val_loss: 0.3031 - val_acc: 0.9319\n",
            "Epoch 247/270\n",
            "230/230 [==============================] - 1s 5ms/step - loss: 0.2830 - acc: 0.9406 - val_loss: 0.3018 - val_acc: 0.9324\n",
            "Epoch 248/270\n",
            "230/230 [==============================] - 1s 5ms/step - loss: 0.2817 - acc: 0.9409 - val_loss: 0.3005 - val_acc: 0.9346\n",
            "Epoch 249/270\n",
            "230/230 [==============================] - 1s 4ms/step - loss: 0.2803 - acc: 0.9416 - val_loss: 0.2992 - val_acc: 0.9346\n",
            "Epoch 250/270\n",
            "230/230 [==============================] - 1s 4ms/step - loss: 0.2790 - acc: 0.9424 - val_loss: 0.2979 - val_acc: 0.9354\n",
            "Epoch 251/270\n",
            "230/230 [==============================] - 1s 4ms/step - loss: 0.2777 - acc: 0.9428 - val_loss: 0.2966 - val_acc: 0.9354\n",
            "Epoch 252/270\n",
            "230/230 [==============================] - 1s 4ms/step - loss: 0.2765 - acc: 0.9428 - val_loss: 0.2954 - val_acc: 0.9354\n",
            "Epoch 253/270\n",
            "230/230 [==============================] - 1s 5ms/step - loss: 0.2752 - acc: 0.9446 - val_loss: 0.2941 - val_acc: 0.9354\n",
            "Epoch 254/270\n",
            "230/230 [==============================] - 1s 6ms/step - loss: 0.2739 - acc: 0.9462 - val_loss: 0.2929 - val_acc: 0.9376\n",
            "Epoch 255/270\n",
            "230/230 [==============================] - 1s 6ms/step - loss: 0.2727 - acc: 0.9462 - val_loss: 0.2916 - val_acc: 0.9376\n",
            "Epoch 256/270\n",
            "230/230 [==============================] - 2s 7ms/step - loss: 0.2714 - acc: 0.9462 - val_loss: 0.2905 - val_acc: 0.9380\n",
            "Epoch 257/270\n",
            "230/230 [==============================] - 2s 7ms/step - loss: 0.2702 - acc: 0.9462 - val_loss: 0.2893 - val_acc: 0.9380\n",
            "Epoch 258/270\n",
            "230/230 [==============================] - 1s 4ms/step - loss: 0.2690 - acc: 0.9462 - val_loss: 0.2881 - val_acc: 0.9385\n",
            "Epoch 259/270\n",
            "230/230 [==============================] - 1s 4ms/step - loss: 0.2678 - acc: 0.9463 - val_loss: 0.2869 - val_acc: 0.9385\n",
            "Epoch 260/270\n",
            "230/230 [==============================] - 1s 4ms/step - loss: 0.2666 - acc: 0.9463 - val_loss: 0.2857 - val_acc: 0.9385\n",
            "Epoch 261/270\n",
            "230/230 [==============================] - 1s 5ms/step - loss: 0.2654 - acc: 0.9466 - val_loss: 0.2846 - val_acc: 0.9394\n",
            "Epoch 262/270\n",
            "230/230 [==============================] - 1s 4ms/step - loss: 0.2642 - acc: 0.9471 - val_loss: 0.2834 - val_acc: 0.9394\n",
            "Epoch 263/270\n",
            "230/230 [==============================] - 1s 4ms/step - loss: 0.2630 - acc: 0.9474 - val_loss: 0.2822 - val_acc: 0.9402\n",
            "Epoch 264/270\n",
            "230/230 [==============================] - 1s 4ms/step - loss: 0.2619 - acc: 0.9481 - val_loss: 0.2811 - val_acc: 0.9402\n",
            "Epoch 265/270\n",
            "230/230 [==============================] - 1s 5ms/step - loss: 0.2607 - acc: 0.9483 - val_loss: 0.2800 - val_acc: 0.9402\n",
            "Epoch 266/270\n",
            "230/230 [==============================] - 1s 5ms/step - loss: 0.2596 - acc: 0.9482 - val_loss: 0.2789 - val_acc: 0.9402\n",
            "Epoch 267/270\n",
            "230/230 [==============================] - 1s 6ms/step - loss: 0.2584 - acc: 0.9483 - val_loss: 0.2778 - val_acc: 0.9402\n",
            "Epoch 268/270\n",
            "230/230 [==============================] - 2s 7ms/step - loss: 0.2573 - acc: 0.9484 - val_loss: 0.2767 - val_acc: 0.9402\n",
            "Epoch 269/270\n",
            "230/230 [==============================] - 2s 7ms/step - loss: 0.2562 - acc: 0.9484 - val_loss: 0.2756 - val_acc: 0.9402\n",
            "Epoch 270/270\n",
            "230/230 [==============================] - 2s 7ms/step - loss: 0.2551 - acc: 0.9484 - val_loss: 0.2745 - val_acc: 0.9402\n",
            "<bound method Model.summary of <keras.src.engine.sequential.Sequential object at 0x7ef8a6e2c7c0>>\n",
            "Test Accuracy:\n",
            "2579/2579 [==============================] - 8s 3ms/step - loss: 0.2800 - acc: 0.9389\n",
            "Random Sample Accuracy:\n",
            "38/38 [==============================] - 0s 3ms/step - loss: 1.1490 - acc: 0.6387\n"
          ]
        },
        {
          "output_type": "display_data",
          "data": {
            "text/html": [
              "<html>\n",
              "<head><meta charset=\"utf-8\" /></head>\n",
              "<body>\n",
              "    <div>            <script src=\"https://cdnjs.cloudflare.com/ajax/libs/mathjax/2.7.5/MathJax.js?config=TeX-AMS-MML_SVG\"></script><script type=\"text/javascript\">if (window.MathJax && window.MathJax.Hub && window.MathJax.Hub.Config) {window.MathJax.Hub.Config({SVG: {font: \"STIX-Web\"}});}</script>                <script type=\"text/javascript\">window.PlotlyConfig = {MathJaxConfig: 'local'};</script>\n",
              "        <script charset=\"utf-8\" src=\"https://cdn.plot.ly/plotly-2.24.1.min.js\"></script>                <div id=\"7fb20c91-9915-4fde-9b30-2ac8f84854e0\" class=\"plotly-graph-div\" style=\"height:525px; width:100%;\"></div>            <script type=\"text/javascript\">                                    window.PLOTLYENV=window.PLOTLYENV || {};                                    if (document.getElementById(\"7fb20c91-9915-4fde-9b30-2ac8f84854e0\")) {                    Plotly.newPlot(                        \"7fb20c91-9915-4fde-9b30-2ac8f84854e0\",                        [{\"line\":{\"color\":\"#D8A7B1\",\"width\":3},\"mode\":\"lines\",\"name\":\"Train Accuracy\",\"x\":[1,2,3,4,5,6,7,8,9,10,11,12,13,14,15,16,17,18,19,20,21,22,23,24,25,26,27,28,29,30,31,32,33,34,35,36,37,38,39,40,41,42,43,44,45,46,47,48,49,50,51,52,53,54,55,56,57,58,59,60,61,62,63,64,65,66,67,68,69,70,71,72,73,74,75,76,77,78,79,80,81,82,83,84,85,86,87,88,89,90,91,92,93,94,95,96,97,98,99,100,101,102,103,104,105,106,107,108,109,110,111,112,113,114,115,116,117,118,119,120,121,122,123,124,125,126,127,128,129,130,131,132,133,134,135,136,137,138,139,140,141,142,143,144,145,146,147,148,149,150,151,152,153,154,155,156,157,158,159,160,161,162,163,164,165,166,167,168,169,170,171,172,173,174,175,176,177,178,179,180,181,182,183,184,185,186,187,188,189,190,191,192,193,194,195,196,197,198,199,200,201,202,203,204,205,206,207,208,209,210,211,212,213,214,215,216,217,218,219,220,221,222,223,224,225,226,227,228,229,230,231,232,233,234,235,236,237,238,239,240,241,242,243,244,245,246,247,248,249,250,251,252,253,254,255,256,257,258,259,260,261,262,263,264,265,266,267,268,269,270],\"y\":[0.38808900117874146,0.5155977606773376,0.5170156955718994,0.5170156955718994,0.5170156955718994,0.5170156955718994,0.5170156955718994,0.5170156955718994,0.5170156955718994,0.5170156955718994,0.5170156955718994,0.5170156955718994,0.5170156955718994,0.5170156955718994,0.5170156955718994,0.5170156955718994,0.5170156955718994,0.5170156955718994,0.5170156955718994,0.5170156955718994,0.5170156955718994,0.5170156955718994,0.5170156955718994,0.5170156955718994,0.5170156955718994,0.5170156955718994,0.5170156955718994,0.5170156955718994,0.5170156955718994,0.5170156955718994,0.5170156955718994,0.5170156955718994,0.5170156955718994,0.5170156955718994,0.5170156955718994,0.5170156955718994,0.5170156955718994,0.5170156955718994,0.5170156955718994,0.5170156955718994,0.5170156955718994,0.5170156955718994,0.5170156955718994,0.5170156955718994,0.5170156955718994,0.5175610780715942,0.5209423899650574,0.5231239199638367,0.5283595323562622,0.5778796076774597,0.5970767736434937,0.6063481569290161,0.6192190051078796,0.6404886841773987,0.672993004322052,0.6875,0.7184773087501526,0.7252399921417236,0.7374563813209534,0.746182382106781,0.7495636940002441,0.7604712247848511,0.7671247720718384,0.7671247720718384,0.7662521600723267,0.7691972255706787,0.7717059254646301,0.7718150019645691,0.7726876139640808,0.7753053903579712,0.7775959968566895,0.779668390750885,0.7804319262504578,0.7825043797492981,0.7832679152488708,0.7875218391418457,0.7879580855369568,0.7901396155357361,0.790248692035675,0.790248692035675,0.790248692035675,0.7911213040351868,0.7929755449295044,0.7938481569290161,0.794175386428833,0.7993019223213196,0.8037739992141724,0.8045375347137451,0.8046466112136841,0.8056282997131348,0.8071553111076355,0.8078097701072693,0.8084642291069031,0.8093368411064148,0.8098822236061096,0.8111910820007324,0.8111910820007324,0.8113001585006714,0.8113001585006714,0.8113001585006714,0.8113001585006714,0.8116273880004883,0.8116273880004883,0.8119546175003052,0.8128272294998169,0.8148996233940125,0.8156631588935852,0.8157722353935242,0.8168630003929138,0.8198080062866211,0.8225349187850952,0.8227530717849731,0.8227530717849731,0.8227530717849731,0.823952853679657,0.8249345421791077,0.8255890011787415,0.8261343836784363,0.8263525366783142,0.8282067775726318,0.8288612365722656,0.8296247720718384,0.8311518430709839,0.8371509313583374,0.8372600078582764,0.8374781608581543,0.8374781608581543,0.8374781608581543,0.838350772857666,0.841513991355896,0.8416230082511902,0.842168390750885,0.8432591557502747,0.8434773087501526,0.8451134562492371,0.8455497622489929,0.8457679152488708,0.8483856916427612,0.849040150642395,0.8516579270362854,0.8570026159286499,0.8596203923225403,0.8649650812149048,0.8652923107147217,0.8652923107147217,0.8652923107147217,0.8660558462142944,0.8661649227142334,0.867364764213562,0.8675829172134399,0.8680192232131958,0.8680192232131958,0.8680192232131958,0.8681282997131348,0.8681282997131348,0.8691099286079407,0.871182382106781,0.871182382106781,0.871182382106781,0.87129145860672,0.87129145860672,0.8721640706062317,0.8735820055007935,0.875109076499939,0.8780540823936462,0.8783813118934631,0.8804537653923035,0.8807809948921204,0.8807809948921204,0.8811082243919373,0.8817626237869263,0.8821989297866821,0.8847076892852783,0.885689377784729,0.8860166072845459,0.8860166072845459,0.8860166072845459,0.8860166072845459,0.8867800831794739,0.893433690071106,0.8969240784645081,0.8991056084632874,0.8991056084632874,0.8991056084632874,0.8999781608581543,0.9057591557502747,0.9058682322502136,0.9059773087501526,0.9063045382499695,0.9060863852500916,0.9064136147499084,0.9107766151428223,0.9109947681427002,0.9118673801422119,0.911540150642395,0.9126309156417847,0.9126309156417847,0.915466845035553,0.9161213040351868,0.9166666865348816,0.9169939160346985,0.9172120690345764,0.9175392389297485,0.9174301624298096,0.9177573919296265,0.9195026159286499,0.9209206104278564,0.9225566983222961,0.9223385453224182,0.9225566983222961,0.9225566983222961,0.9225566983222961,0.9237565398216248,0.9244109988212585,0.9244109988212585,0.9246291518211365,0.926265299320221,0.9275741577148438,0.9301919937133789,0.9301919937133789,0.9305192232131958,0.9309554696083069,0.9312826991081238,0.9316099286079407,0.9317190051078796,0.9327006936073303,0.9327006936073303,0.9331369996070862,0.9343368411064148,0.9348822236061096,0.9353184700012207,0.9351003766059875,0.9357547760009766,0.9356456995010376,0.9367364645004272,0.9380453824996948,0.9378272294998169,0.9379363059997559,0.9379363059997559,0.9380453824996948,0.9381544589996338,0.9394633769989014,0.9393543004989624,0.9392452239990234,0.9397905468940735,0.9402268528938293,0.9405540823936462,0.9408813118934631,0.9416448473930359,0.9424083828926086,0.9428446888923645,0.9428446888923645,0.9445898532867432,0.9462260007858276,0.9462260007858276,0.9462260007858276,0.9462260007858276,0.9462260007858276,0.9463350772857666,0.9463350772857666,0.9465532302856445,0.9470986127853394,0.9474258422851562,0.94808030128479,0.948298454284668,0.948189377784729,0.948298454284668,0.9484075307846069,0.9484075307846069,0.9484075307846069],\"type\":\"scatter\"},{\"line\":{\"color\":\"#05234C\",\"width\":3},\"mode\":\"lines\",\"name\":\"Validation Accuracy\",\"x\":[1,2,3,4,5,6,7,8,9,10,11,12,13,14,15,16,17,18,19,20,21,22,23,24,25,26,27,28,29,30,31,32,33,34,35,36,37,38,39,40,41,42,43,44,45,46,47,48,49,50,51,52,53,54,55,56,57,58,59,60,61,62,63,64,65,66,67,68,69,70,71,72,73,74,75,76,77,78,79,80,81,82,83,84,85,86,87,88,89,90,91,92,93,94,95,96,97,98,99,100,101,102,103,104,105,106,107,108,109,110,111,112,113,114,115,116,117,118,119,120,121,122,123,124,125,126,127,128,129,130,131,132,133,134,135,136,137,138,139,140,141,142,143,144,145,146,147,148,149,150,151,152,153,154,155,156,157,158,159,160,161,162,163,164,165,166,167,168,169,170,171,172,173,174,175,176,177,178,179,180,181,182,183,184,185,186,187,188,189,190,191,192,193,194,195,196,197,198,199,200,201,202,203,204,205,206,207,208,209,210,211,212,213,214,215,216,217,218,219,220,221,222,223,224,225,226,227,228,229,230,231,232,233,234,235,236,237,238,239,240,241,242,243,244,245,246,247,248,249,250,251,252,253,254,255,256,257,258,259,260,261,262,263,264,265,266,267,268,269,270],\"y\":[0.503926694393158,0.511343777179718,0.511343777179718,0.511343777179718,0.511343777179718,0.511343777179718,0.511343777179718,0.511343777179718,0.511343777179718,0.511343777179718,0.511343777179718,0.511343777179718,0.511343777179718,0.511343777179718,0.511343777179718,0.511343777179718,0.511343777179718,0.511343777179718,0.511343777179718,0.511343777179718,0.511343777179718,0.511343777179718,0.511343777179718,0.511343777179718,0.511343777179718,0.511343777179718,0.511343777179718,0.511343777179718,0.511343777179718,0.511343777179718,0.511343777179718,0.511343777179718,0.511343777179718,0.511343777179718,0.511343777179718,0.511343777179718,0.511343777179718,0.511343777179718,0.511343777179718,0.511343777179718,0.511343777179718,0.511343777179718,0.511343777179718,0.511343777179718,0.511343777179718,0.5122163891792297,0.5135253071784973,0.5152705311775208,0.5684991478919983,0.5763525366783142,0.599040150642395,0.6108202338218689,0.6204188466072083,0.6644851565361023,0.6841186881065369,0.713350772857666,0.7303664684295654,0.7338569164276123,0.7517452239990234,0.7556719183921814,0.7547993063926697,0.7726876139640808,0.7726876139640808,0.7713786959648132,0.7713786959648132,0.7774869203567505,0.7774869203567505,0.7783595323562622,0.7818499207496643,0.7822862267494202,0.783595085144043,0.7844676971435547,0.7844676971435547,0.7853403091430664,0.7892670035362244,0.7897033095359802,0.7897033095359802,0.7905759215354919,0.7905759215354919,0.7905759215354919,0.7905759215354919,0.7923211455345154,0.7931936979293823,0.7931936979293823,0.7936300039291382,0.801047146320343,0.8032286167144775,0.8032286167144775,0.8032286167144775,0.804973840713501,0.8071553111076355,0.8071553111076355,0.8093368411064148,0.8093368411064148,0.8106456995010376,0.8106456995010376,0.8106456995010376,0.8106456995010376,0.8106456995010376,0.8106456995010376,0.8106456995010376,0.8106456995010376,0.8106456995010376,0.8110820055007935,0.812390923500061,0.8128272294998169,0.8128272294998169,0.8128272294998169,0.8128272294998169,0.8180628418922424,0.8184991478919983,0.8184991478919983,0.8184991478919983,0.8184991478919983,0.8211169242858887,0.8211169242858887,0.8215532302856445,0.8215532302856445,0.8228621482849121,0.823298454284668,0.823298454284668,0.823298454284668,0.8294066190719604,0.8294066190719604,0.8298429250717163,0.8298429250717163,0.8298429250717163,0.8298429250717163,0.8363874554634094,0.8363874554634094,0.8363874554634094,0.8363874554634094,0.8390052318572998,0.8390052318572998,0.8429319262504578,0.8429319262504578,0.8438045382499695,0.8442408442497253,0.8442408442497253,0.8477312326431274,0.8542757630348206,0.8547120690345764,0.8616928458213806,0.8616928458213806,0.8616928458213806,0.8616928458213806,0.8621291518211365,0.8630017638206482,0.8638743162155151,0.864310622215271,0.864310622215271,0.864310622215271,0.864310622215271,0.864310622215271,0.864310622215271,0.867364764213562,0.867364764213562,0.867364764213562,0.867364764213562,0.8678010702133179,0.8678010702133179,0.8691099286079407,0.8699825406074524,0.8730366230010986,0.8730366230010986,0.8730366230010986,0.8782722353935242,0.8782722353935242,0.8782722353935242,0.8791448473930359,0.8791448473930359,0.8791448473930359,0.8813263773918152,0.8813263773918152,0.8813263773918152,0.8813263773918152,0.8813263773918152,0.8813263773918152,0.8821989297866821,0.8939790725708008,0.8944153785705566,0.8948516845703125,0.8948516845703125,0.8948516845703125,0.8983420729637146,0.9044502377510071,0.9044502377510071,0.9044502377510071,0.9053228497505188,0.9053228497505188,0.9075043797492981,0.9075043797492981,0.9088132381439209,0.9088132381439209,0.9105584621429443,0.9105584621429443,0.9118673801422119,0.915357768535614,0.9162303805351257,0.9166666865348816,0.9166666865348816,0.9166666865348816,0.9166666865348816,0.9166666865348816,0.9171029925346375,0.9171029925346375,0.9179755449295044,0.9179755449295044,0.9179755449295044,0.9179755449295044,0.9179755449295044,0.9201570749282837,0.9205933809280396,0.9205933809280396,0.9210296869277954,0.9223385453224182,0.9236474633216858,0.926265299320221,0.926265299320221,0.926265299320221,0.926265299320221,0.926265299320221,0.926265299320221,0.926265299320221,0.926701545715332,0.926701545715332,0.926701545715332,0.926701545715332,0.9275741577148438,0.9280104637145996,0.9280104637145996,0.9280104637145996,0.9271378517150879,0.9275741577148438,0.929755687713623,0.929755687713623,0.929755687713623,0.929755687713623,0.929755687713623,0.929755687713623,0.929755687713623,0.929755687713623,0.929755687713623,0.9306282997131348,0.9319371581077576,0.9319371581077576,0.9323734641075134,0.9345549941062927,0.9345549941062927,0.9354275465011597,0.9354275465011597,0.9354275465011597,0.9354275465011597,0.937609076499939,0.937609076499939,0.9380453824996948,0.9380453824996948,0.9384816884994507,0.9384816884994507,0.9384816884994507,0.9393543004989624,0.9393543004989624,0.9402268528938293,0.9402268528938293,0.9402268528938293,0.9402268528938293,0.9402268528938293,0.9402268528938293,0.9402268528938293,0.9402268528938293],\"type\":\"scatter\"},{\"line\":{\"color\":\"#D8A7B1\",\"dash\":\"dash\",\"width\":3},\"mode\":\"lines\",\"name\":\"Train Loss\",\"x\":[1,2,3,4,5,6,7,8,9,10,11,12,13,14,15,16,17,18,19,20,21,22,23,24,25,26,27,28,29,30,31,32,33,34,35,36,37,38,39,40,41,42,43,44,45,46,47,48,49,50,51,52,53,54,55,56,57,58,59,60,61,62,63,64,65,66,67,68,69,70,71,72,73,74,75,76,77,78,79,80,81,82,83,84,85,86,87,88,89,90,91,92,93,94,95,96,97,98,99,100,101,102,103,104,105,106,107,108,109,110,111,112,113,114,115,116,117,118,119,120,121,122,123,124,125,126,127,128,129,130,131,132,133,134,135,136,137,138,139,140,141,142,143,144,145,146,147,148,149,150,151,152,153,154,155,156,157,158,159,160,161,162,163,164,165,166,167,168,169,170,171,172,173,174,175,176,177,178,179,180,181,182,183,184,185,186,187,188,189,190,191,192,193,194,195,196,197,198,199,200,201,202,203,204,205,206,207,208,209,210,211,212,213,214,215,216,217,218,219,220,221,222,223,224,225,226,227,228,229,230,231,232,233,234,235,236,237,238,239,240,241,242,243,244,245,246,247,248,249,250,251,252,253,254,255,256,257,258,259,260,261,262,263,264,265,266,267,268,269,270],\"y\":[2.580744504928589,2.4800472259521484,2.3805012702941895,2.2771594524383545,2.167604446411133,2.05669903755188,1.949654459953308,1.8534780740737915,1.775223970413208,1.7166380882263184,1.674512267112732,1.6435819864273071,1.6192103624343872,1.5987330675125122,1.5804688930511475,1.5637197494506836,1.548129677772522,1.5333607196807861,1.5192633867263794,1.50584876537323,1.4929008483886719,1.4804142713546753,1.4683698415756226,1.4566197395324707,1.445106029510498,1.4337117671966553,1.4224227666854858,1.41123628616333,1.4001133441925049,1.388933777809143,1.3776600360870361,1.3661656379699707,1.3542227745056152,1.342083215713501,1.3298277854919434,1.3174995183944702,1.305139183998108,1.2926881313323975,1.28013277053833,1.267565369606018,1.2551041841506958,1.242692470550537,1.2303048372268677,1.2179960012435913,1.205735683441162,1.1935229301452637,1.1812598705291748,1.1690579652786255,1.156962513923645,1.1450077295303345,1.1331501007080078,1.1213089227676392,1.109521746635437,1.0978851318359375,1.0864030122756958,1.0752041339874268,1.0642491579055786,1.0535253286361694,1.0430582761764526,1.032806634902954,1.022810459136963,1.013087272644043,1.0035654306411743,0.9942559599876404,0.9850940108299255,0.97609543800354,0.9672548770904541,0.9585633873939514,0.9500614404678345,0.9416820406913757,0.9334404468536377,0.9253429174423218,0.9173588156700134,0.909493625164032,0.9017201066017151,0.894069254398346,0.8865238428115845,0.8790726065635681,0.8716844320297241,0.8644111752510071,0.8572090864181519,0.8500745892524719,0.8430021405220032,0.8360213041305542,0.8290817141532898,0.8221898078918457,0.8153674006462097,0.8086038827896118,0.8019049763679504,0.7952702045440674,0.7886962890625,0.7821658849716187,0.7756850719451904,0.7692663073539734,0.7628666758537292,0.7565365433692932,0.7502174377441406,0.743961751461029,0.7377797365188599,0.7316265106201172,0.7255358099937439,0.7194979190826416,0.7135118246078491,0.7075924277305603,0.7017183303833008,0.695914089679718,0.6901662349700928,0.6844592690467834,0.678803563117981,0.6732237935066223,0.6676976084709167,0.6622321605682373,0.6568427085876465,0.6515080332756042,0.6462387442588806,0.6410244703292847,0.635880172252655,0.6307793259620667,0.6257416605949402,0.620756208896637,0.6158447265625,0.6109808087348938,0.6062077283859253,0.6014704704284668,0.5967963337898254,0.5921816825866699,0.5875954627990723,0.5830785036087036,0.5786179900169373,0.5742191672325134,0.5698527693748474,0.565554678440094,0.5613067150115967,0.5571152567863464,0.5529699921607971,0.5488580465316772,0.5448001027107239,0.5407693386077881,0.5367957949638367,0.5328717231750488,0.5289981961250305,0.5251604914665222,0.5213589668273926,0.5176028609275818,0.5138949751853943,0.5102343559265137,0.5066214799880981,0.5030389428138733,0.49950307607650757,0.496005117893219,0.49254363775253296,0.4891088604927063,0.4857223629951477,0.4823841154575348,0.47907280921936035,0.4757975935935974,0.4725613296031952,0.4693625867366791,0.4662022888660431,0.46306633949279785,0.4599735140800476,0.4569095969200134,0.45388633012771606,0.4508930742740631,0.447926789522171,0.4449997842311859,0.4420863687992096,0.4392118752002716,0.43637773394584656,0.4335622787475586,0.430791437625885,0.42804357409477234,0.4253194332122803,0.42263275384902954,0.4199599623680115,0.41732093691825867,0.4147149920463562,0.41212162375450134,0.4095556139945984,0.4070146679878235,0.4045071601867676,0.4020146429538727,0.39955636858940125,0.3971128761768341,0.39470139145851135,0.39231282472610474,0.3899506628513336,0.3876016438007355,0.3852844536304474,0.38299474120140076,0.38072434067726135,0.3784755766391754,0.3762517273426056,0.3740428388118744,0.3718677759170532,0.36971402168273926,0.3675719201564789,0.36545783281326294,0.36336132884025574,0.36128056049346924,0.3592314124107361,0.35718631744384766,0.3551594018936157,0.35315707325935364,0.3511742949485779,0.3492087721824646,0.3472645580768585,0.3453425168991089,0.3434479534626007,0.3415506184101105,0.33968549966812134,0.33783501386642456,0.3360072672367096,0.33419713377952576,0.33240875601768494,0.33063387870788574,0.328877717256546,0.3271379768848419,0.3254176676273346,0.3236978054046631,0.32200634479522705,0.32033538818359375,0.3186739385128021,0.3170255422592163,0.3153996467590332,0.3137856423854828,0.31219446659088135,0.31060317158699036,0.30902254581451416,0.30747413635253906,0.30593550205230713,0.3043994605541229,0.3028748333454132,0.3013707101345062,0.2998805046081543,0.29840102791786194,0.29693812131881714,0.29548659920692444,0.2940465807914734,0.2926271855831146,0.29121115803718567,0.28981512784957886,0.2884296774864197,0.28705230355262756,0.285689115524292,0.2843362092971802,0.2829941213130951,0.28166043758392334,0.2803487777709961,0.27904143929481506,0.27774977684020996,0.2764619290828705,0.2751938998699188,0.2739328145980835,0.27267760038375854,0.27144476771354675,0.27021175622940063,0.2689877152442932,0.2677733600139618,0.26657411456108093,0.2653794288635254,0.26419809460639954,0.2630229592323303,0.2618604600429535,0.2607080638408661,0.25955837965011597,0.2584232985973358,0.25729116797447205,0.2561782896518707,0.25506287813186646],\"type\":\"scatter\"},{\"line\":{\"color\":\"#05234C\",\"dash\":\"dash\",\"width\":3},\"mode\":\"lines\",\"name\":\"Validation Loss\",\"x\":[1,2,3,4,5,6,7,8,9,10,11,12,13,14,15,16,17,18,19,20,21,22,23,24,25,26,27,28,29,30,31,32,33,34,35,36,37,38,39,40,41,42,43,44,45,46,47,48,49,50,51,52,53,54,55,56,57,58,59,60,61,62,63,64,65,66,67,68,69,70,71,72,73,74,75,76,77,78,79,80,81,82,83,84,85,86,87,88,89,90,91,92,93,94,95,96,97,98,99,100,101,102,103,104,105,106,107,108,109,110,111,112,113,114,115,116,117,118,119,120,121,122,123,124,125,126,127,128,129,130,131,132,133,134,135,136,137,138,139,140,141,142,143,144,145,146,147,148,149,150,151,152,153,154,155,156,157,158,159,160,161,162,163,164,165,166,167,168,169,170,171,172,173,174,175,176,177,178,179,180,181,182,183,184,185,186,187,188,189,190,191,192,193,194,195,196,197,198,199,200,201,202,203,204,205,206,207,208,209,210,211,212,213,214,215,216,217,218,219,220,221,222,223,224,225,226,227,228,229,230,231,232,233,234,235,236,237,238,239,240,241,242,243,244,245,246,247,248,249,250,251,252,253,254,255,256,257,258,259,260,261,262,263,264,265,266,267,268,269,270],\"y\":[2.5285089015960693,2.428864002227783,2.328521251678467,2.2214608192443848,2.1106488704681396,2.0009562969207764,1.8985090255737305,1.8107426166534424,1.7427089214324951,1.6934298276901245,1.6580194234848022,1.6308600902557373,1.6088000535964966,1.589542031288147,1.5720008611679077,1.5559298992156982,1.5407353639602661,1.526400089263916,1.5127348899841309,1.499712347984314,1.487199306488037,1.4752596616744995,1.4637048244476318,1.4523899555206299,1.4412569999694824,1.430343508720398,1.419484257698059,1.4087315797805786,1.397953748703003,1.3871334791183472,1.376226782798767,1.3649526834487915,1.3534752130508423,1.3417643308639526,1.329996943473816,1.318058729171753,1.3061108589172363,1.2939245700836182,1.281633973121643,1.2694544792175293,1.2572636604309082,1.2450966835021973,1.2330429553985596,1.2209758758544922,1.2089909315109253,1.1969799995422363,1.1849497556686401,1.1728829145431519,1.161015272140503,1.1492633819580078,1.1375856399536133,1.1258491277694702,1.1143227815628052,1.1029374599456787,1.09178626537323,1.081007719039917,1.0703729391098022,1.0599805116653442,1.0497093200683594,1.0396965742111206,1.029994010925293,1.0205023288726807,1.0111874341964722,1.0021389722824097,0.993145763874054,0.9843722581863403,0.9757878184318542,0.967300295829773,0.9589918255805969,0.9508313536643982,0.9428024888038635,0.9349848031997681,0.9272353649139404,0.9195371270179749,0.9119703769683838,0.9045408964157104,0.8972008228302002,0.8899298906326294,0.8827041387557983,0.8756691813468933,0.8686739206314087,0.8616563677787781,0.854809582233429,0.8479615449905396,0.8412485718727112,0.8345661163330078,0.8278994560241699,0.8213590979576111,0.8148697018623352,0.8083487749099731,0.8019393086433411,0.7956031560897827,0.7893741726875305,0.7829366326332092,0.7767501473426819,0.7705630660057068,0.764413058757782,0.7583189010620117,0.7522796988487244,0.746268093585968,0.7402819395065308,0.7343843579292297,0.728645920753479,0.7228376269340515,0.7170838117599487,0.7113699913024902,0.7057814598083496,0.7001418471336365,0.6946203708648682,0.6891635656356812,0.6838223338127136,0.6784460544586182,0.6731997728347778,0.6679060459136963,0.662788987159729,0.6576864123344421,0.6525911688804626,0.6475911736488342,0.6427655220031738,0.6378017663955688,0.6329798698425293,0.6281343102455139,0.6234385967254639,0.6188412308692932,0.614305853843689,0.6096646785736084,0.6051830649375916,0.6006326079368591,0.5962536931037903,0.5919339656829834,0.5876333713531494,0.5833569169044495,0.5792251229286194,0.5750131607055664,0.5708310604095459,0.5668653249740601,0.5627654194831848,0.558771014213562,0.5548752546310425,0.5508690476417542,0.5470238924026489,0.5432415008544922,0.5394914746284485,0.5357031226158142,0.5320286154747009,0.5283845067024231,0.5247251987457275,0.521267294883728,0.5176259279251099,0.5142132639884949,0.5106520056724548,0.5073724389076233,0.5040155053138733,0.5004662275314331,0.49720901250839233,0.49397289752960205,0.4906371831893921,0.48740461468696594,0.4842686951160431,0.4811507761478424,0.478007435798645,0.4749374985694885,0.4719509780406952,0.46894800662994385,0.4659876525402069,0.46305033564567566,0.460153728723526,0.4572020471096039,0.45434996485710144,0.45160406827926636,0.44874346256256104,0.4460318088531494,0.4432685375213623,0.44062596559524536,0.43791133165359497,0.4353683292865753,0.43269747495651245,0.4301193356513977,0.42758113145828247,0.4249937832355499,0.42247068881988525,0.42003366351127625,0.4175575077533722,0.41510921716690063,0.41274985671043396,0.41034260392189026,0.4079873859882355,0.4056799113750458,0.4032605290412903,0.4009972810745239,0.39876314997673035,0.39646676182746887,0.394252747297287,0.3920312523841858,0.3899052143096924,0.3877224326133728,0.38560640811920166,0.38349655270576477,0.38137003779411316,0.3792734146118164,0.37726375460624695,0.37524205446243286,0.3732052147388458,0.37123826146125793,0.36922571063041687,0.36732324957847595,0.36535194516181946,0.3633899390697479,0.36151260137557983,0.3596566915512085,0.3577987551689148,0.35592374205589294,0.3541220426559448,0.3523724675178528,0.35059380531311035,0.3488366901874542,0.3470728397369385,0.34537366032600403,0.3435773551464081,0.3418668210506439,0.3401798903942108,0.3385264575481415,0.33690348267555237,0.335249125957489,0.33371037244796753,0.3321356773376465,0.3305476903915405,0.3289731740951538,0.32736921310424805,0.3258761763572693,0.32437682151794434,0.32282108068466187,0.3212960958480835,0.3198390305042267,0.3183344304561615,0.31690600514411926,0.3154238760471344,0.31399673223495483,0.312603235244751,0.3112180829048157,0.3098340928554535,0.3084298074245453,0.30712389945983887,0.3057287335395813,0.3044002056121826,0.3030814230442047,0.3017570972442627,0.30047670006752014,0.29921314120292664,0.29788389801979065,0.2966439723968506,0.29537585377693176,0.29411202669143677,0.29285240173339844,0.29163941740989685,0.2904793322086334,0.28928592801094055,0.28808048367500305,0.2868621349334717,0.2856884300708771,0.2845628559589386,0.2834048271179199,0.28222617506980896,0.28112319111824036,0.2800109386444092,0.2788614332675934,0.2777523398399353,0.2766695022583008,0.2755666673183441,0.27453675866127014],\"type\":\"scatter\"}],                        {\"template\":{\"data\":{\"barpolar\":[{\"marker\":{\"line\":{\"color\":\"white\",\"width\":0.5},\"pattern\":{\"fillmode\":\"overlay\",\"size\":10,\"solidity\":0.2}},\"type\":\"barpolar\"}],\"bar\":[{\"error_x\":{\"color\":\"#2a3f5f\"},\"error_y\":{\"color\":\"#2a3f5f\"},\"marker\":{\"line\":{\"color\":\"white\",\"width\":0.5},\"pattern\":{\"fillmode\":\"overlay\",\"size\":10,\"solidity\":0.2}},\"type\":\"bar\"}],\"carpet\":[{\"aaxis\":{\"endlinecolor\":\"#2a3f5f\",\"gridcolor\":\"#C8D4E3\",\"linecolor\":\"#C8D4E3\",\"minorgridcolor\":\"#C8D4E3\",\"startlinecolor\":\"#2a3f5f\"},\"baxis\":{\"endlinecolor\":\"#2a3f5f\",\"gridcolor\":\"#C8D4E3\",\"linecolor\":\"#C8D4E3\",\"minorgridcolor\":\"#C8D4E3\",\"startlinecolor\":\"#2a3f5f\"},\"type\":\"carpet\"}],\"choropleth\":[{\"colorbar\":{\"outlinewidth\":0,\"ticks\":\"\"},\"type\":\"choropleth\"}],\"contourcarpet\":[{\"colorbar\":{\"outlinewidth\":0,\"ticks\":\"\"},\"type\":\"contourcarpet\"}],\"contour\":[{\"colorbar\":{\"outlinewidth\":0,\"ticks\":\"\"},\"colorscale\":[[0.0,\"#0d0887\"],[0.1111111111111111,\"#46039f\"],[0.2222222222222222,\"#7201a8\"],[0.3333333333333333,\"#9c179e\"],[0.4444444444444444,\"#bd3786\"],[0.5555555555555556,\"#d8576b\"],[0.6666666666666666,\"#ed7953\"],[0.7777777777777778,\"#fb9f3a\"],[0.8888888888888888,\"#fdca26\"],[1.0,\"#f0f921\"]],\"type\":\"contour\"}],\"heatmapgl\":[{\"colorbar\":{\"outlinewidth\":0,\"ticks\":\"\"},\"colorscale\":[[0.0,\"#0d0887\"],[0.1111111111111111,\"#46039f\"],[0.2222222222222222,\"#7201a8\"],[0.3333333333333333,\"#9c179e\"],[0.4444444444444444,\"#bd3786\"],[0.5555555555555556,\"#d8576b\"],[0.6666666666666666,\"#ed7953\"],[0.7777777777777778,\"#fb9f3a\"],[0.8888888888888888,\"#fdca26\"],[1.0,\"#f0f921\"]],\"type\":\"heatmapgl\"}],\"heatmap\":[{\"colorbar\":{\"outlinewidth\":0,\"ticks\":\"\"},\"colorscale\":[[0.0,\"#0d0887\"],[0.1111111111111111,\"#46039f\"],[0.2222222222222222,\"#7201a8\"],[0.3333333333333333,\"#9c179e\"],[0.4444444444444444,\"#bd3786\"],[0.5555555555555556,\"#d8576b\"],[0.6666666666666666,\"#ed7953\"],[0.7777777777777778,\"#fb9f3a\"],[0.8888888888888888,\"#fdca26\"],[1.0,\"#f0f921\"]],\"type\":\"heatmap\"}],\"histogram2dcontour\":[{\"colorbar\":{\"outlinewidth\":0,\"ticks\":\"\"},\"colorscale\":[[0.0,\"#0d0887\"],[0.1111111111111111,\"#46039f\"],[0.2222222222222222,\"#7201a8\"],[0.3333333333333333,\"#9c179e\"],[0.4444444444444444,\"#bd3786\"],[0.5555555555555556,\"#d8576b\"],[0.6666666666666666,\"#ed7953\"],[0.7777777777777778,\"#fb9f3a\"],[0.8888888888888888,\"#fdca26\"],[1.0,\"#f0f921\"]],\"type\":\"histogram2dcontour\"}],\"histogram2d\":[{\"colorbar\":{\"outlinewidth\":0,\"ticks\":\"\"},\"colorscale\":[[0.0,\"#0d0887\"],[0.1111111111111111,\"#46039f\"],[0.2222222222222222,\"#7201a8\"],[0.3333333333333333,\"#9c179e\"],[0.4444444444444444,\"#bd3786\"],[0.5555555555555556,\"#d8576b\"],[0.6666666666666666,\"#ed7953\"],[0.7777777777777778,\"#fb9f3a\"],[0.8888888888888888,\"#fdca26\"],[1.0,\"#f0f921\"]],\"type\":\"histogram2d\"}],\"histogram\":[{\"marker\":{\"pattern\":{\"fillmode\":\"overlay\",\"size\":10,\"solidity\":0.2}},\"type\":\"histogram\"}],\"mesh3d\":[{\"colorbar\":{\"outlinewidth\":0,\"ticks\":\"\"},\"type\":\"mesh3d\"}],\"parcoords\":[{\"line\":{\"colorbar\":{\"outlinewidth\":0,\"ticks\":\"\"}},\"type\":\"parcoords\"}],\"pie\":[{\"automargin\":true,\"type\":\"pie\"}],\"scatter3d\":[{\"line\":{\"colorbar\":{\"outlinewidth\":0,\"ticks\":\"\"}},\"marker\":{\"colorbar\":{\"outlinewidth\":0,\"ticks\":\"\"}},\"type\":\"scatter3d\"}],\"scattercarpet\":[{\"marker\":{\"colorbar\":{\"outlinewidth\":0,\"ticks\":\"\"}},\"type\":\"scattercarpet\"}],\"scattergeo\":[{\"marker\":{\"colorbar\":{\"outlinewidth\":0,\"ticks\":\"\"}},\"type\":\"scattergeo\"}],\"scattergl\":[{\"marker\":{\"colorbar\":{\"outlinewidth\":0,\"ticks\":\"\"}},\"type\":\"scattergl\"}],\"scattermapbox\":[{\"marker\":{\"colorbar\":{\"outlinewidth\":0,\"ticks\":\"\"}},\"type\":\"scattermapbox\"}],\"scatterpolargl\":[{\"marker\":{\"colorbar\":{\"outlinewidth\":0,\"ticks\":\"\"}},\"type\":\"scatterpolargl\"}],\"scatterpolar\":[{\"marker\":{\"colorbar\":{\"outlinewidth\":0,\"ticks\":\"\"}},\"type\":\"scatterpolar\"}],\"scatter\":[{\"fillpattern\":{\"fillmode\":\"overlay\",\"size\":10,\"solidity\":0.2},\"type\":\"scatter\"}],\"scatterternary\":[{\"marker\":{\"colorbar\":{\"outlinewidth\":0,\"ticks\":\"\"}},\"type\":\"scatterternary\"}],\"surface\":[{\"colorbar\":{\"outlinewidth\":0,\"ticks\":\"\"},\"colorscale\":[[0.0,\"#0d0887\"],[0.1111111111111111,\"#46039f\"],[0.2222222222222222,\"#7201a8\"],[0.3333333333333333,\"#9c179e\"],[0.4444444444444444,\"#bd3786\"],[0.5555555555555556,\"#d8576b\"],[0.6666666666666666,\"#ed7953\"],[0.7777777777777778,\"#fb9f3a\"],[0.8888888888888888,\"#fdca26\"],[1.0,\"#f0f921\"]],\"type\":\"surface\"}],\"table\":[{\"cells\":{\"fill\":{\"color\":\"#EBF0F8\"},\"line\":{\"color\":\"white\"}},\"header\":{\"fill\":{\"color\":\"#C8D4E3\"},\"line\":{\"color\":\"white\"}},\"type\":\"table\"}]},\"layout\":{\"annotationdefaults\":{\"arrowcolor\":\"#2a3f5f\",\"arrowhead\":0,\"arrowwidth\":1},\"autotypenumbers\":\"strict\",\"coloraxis\":{\"colorbar\":{\"outlinewidth\":0,\"ticks\":\"\"}},\"colorscale\":{\"diverging\":[[0,\"#8e0152\"],[0.1,\"#c51b7d\"],[0.2,\"#de77ae\"],[0.3,\"#f1b6da\"],[0.4,\"#fde0ef\"],[0.5,\"#f7f7f7\"],[0.6,\"#e6f5d0\"],[0.7,\"#b8e186\"],[0.8,\"#7fbc41\"],[0.9,\"#4d9221\"],[1,\"#276419\"]],\"sequential\":[[0.0,\"#0d0887\"],[0.1111111111111111,\"#46039f\"],[0.2222222222222222,\"#7201a8\"],[0.3333333333333333,\"#9c179e\"],[0.4444444444444444,\"#bd3786\"],[0.5555555555555556,\"#d8576b\"],[0.6666666666666666,\"#ed7953\"],[0.7777777777777778,\"#fb9f3a\"],[0.8888888888888888,\"#fdca26\"],[1.0,\"#f0f921\"]],\"sequentialminus\":[[0.0,\"#0d0887\"],[0.1111111111111111,\"#46039f\"],[0.2222222222222222,\"#7201a8\"],[0.3333333333333333,\"#9c179e\"],[0.4444444444444444,\"#bd3786\"],[0.5555555555555556,\"#d8576b\"],[0.6666666666666666,\"#ed7953\"],[0.7777777777777778,\"#fb9f3a\"],[0.8888888888888888,\"#fdca26\"],[1.0,\"#f0f921\"]]},\"colorway\":[\"#636efa\",\"#EF553B\",\"#00cc96\",\"#ab63fa\",\"#FFA15A\",\"#19d3f3\",\"#FF6692\",\"#B6E880\",\"#FF97FF\",\"#FECB52\"],\"font\":{\"color\":\"#2a3f5f\"},\"geo\":{\"bgcolor\":\"white\",\"lakecolor\":\"white\",\"landcolor\":\"white\",\"showlakes\":true,\"showland\":true,\"subunitcolor\":\"#C8D4E3\"},\"hoverlabel\":{\"align\":\"left\"},\"hovermode\":\"closest\",\"mapbox\":{\"style\":\"light\"},\"paper_bgcolor\":\"white\",\"plot_bgcolor\":\"white\",\"polar\":{\"angularaxis\":{\"gridcolor\":\"#EBF0F8\",\"linecolor\":\"#EBF0F8\",\"ticks\":\"\"},\"bgcolor\":\"white\",\"radialaxis\":{\"gridcolor\":\"#EBF0F8\",\"linecolor\":\"#EBF0F8\",\"ticks\":\"\"}},\"scene\":{\"xaxis\":{\"backgroundcolor\":\"white\",\"gridcolor\":\"#DFE8F3\",\"gridwidth\":2,\"linecolor\":\"#EBF0F8\",\"showbackground\":true,\"ticks\":\"\",\"zerolinecolor\":\"#EBF0F8\"},\"yaxis\":{\"backgroundcolor\":\"white\",\"gridcolor\":\"#DFE8F3\",\"gridwidth\":2,\"linecolor\":\"#EBF0F8\",\"showbackground\":true,\"ticks\":\"\",\"zerolinecolor\":\"#EBF0F8\"},\"zaxis\":{\"backgroundcolor\":\"white\",\"gridcolor\":\"#DFE8F3\",\"gridwidth\":2,\"linecolor\":\"#EBF0F8\",\"showbackground\":true,\"ticks\":\"\",\"zerolinecolor\":\"#EBF0F8\"}},\"shapedefaults\":{\"line\":{\"color\":\"#2a3f5f\"}},\"ternary\":{\"aaxis\":{\"gridcolor\":\"#DFE8F3\",\"linecolor\":\"#A2B1C6\",\"ticks\":\"\"},\"baxis\":{\"gridcolor\":\"#DFE8F3\",\"linecolor\":\"#A2B1C6\",\"ticks\":\"\"},\"bgcolor\":\"white\",\"caxis\":{\"gridcolor\":\"#DFE8F3\",\"linecolor\":\"#A2B1C6\",\"ticks\":\"\"}},\"title\":{\"x\":0.05},\"xaxis\":{\"automargin\":true,\"gridcolor\":\"#EBF0F8\",\"linecolor\":\"#EBF0F8\",\"ticks\":\"\",\"title\":{\"standoff\":15},\"zerolinecolor\":\"#EBF0F8\",\"zerolinewidth\":2},\"yaxis\":{\"automargin\":true,\"gridcolor\":\"#EBF0F8\",\"linecolor\":\"#EBF0F8\",\"ticks\":\"\",\"title\":{\"standoff\":15},\"zerolinecolor\":\"#EBF0F8\",\"zerolinewidth\":2}}},\"legend\":{\"x\":0.75,\"y\":0.9},\"title\":{\"text\":\"Model Training Metrics\"},\"xaxis\":{\"title\":{\"text\":\"Number of epochs\"}},\"yaxis\":{\"title\":{\"text\":\"Metric Value\"}}},                        {\"responsive\": true}                    ).then(function(){\n",
              "                            \n",
              "var gd = document.getElementById('7fb20c91-9915-4fde-9b30-2ac8f84854e0');\n",
              "var x = new MutationObserver(function (mutations, observer) {{\n",
              "        var display = window.getComputedStyle(gd).display;\n",
              "        if (!display || display === 'none') {{\n",
              "            console.log([gd, 'removed!']);\n",
              "            Plotly.purge(gd);\n",
              "            observer.disconnect();\n",
              "        }}\n",
              "}});\n",
              "\n",
              "// Listen for the removal of the full notebook cells\n",
              "var notebookContainer = gd.closest('#notebook-container');\n",
              "if (notebookContainer) {{\n",
              "    x.observe(notebookContainer, {childList: true});\n",
              "}}\n",
              "\n",
              "// Listen for the clearing of the current output cell\n",
              "var outputEl = gd.closest('.output');\n",
              "if (outputEl) {{\n",
              "    x.observe(outputEl, {childList: true});\n",
              "}}\n",
              "\n",
              "                        })                };                            </script>        </div>\n",
              "</body>\n",
              "</html>"
            ]
          },
          "metadata": {}
        }
      ]
    },
    {
      "cell_type": "code",
      "metadata": {
        "id": "HN_AYIMG7RXp"
      },
      "source": [
        "model6_params = {'activation 1': 'relu',\n",
        "                 'activation 2': 'relu',\n",
        "                 'activation 3': 'softmax',\n",
        "                 'opt': tf.keras.optimizers.SGD(learning_rate=0.001),\n",
        "                 'loss': 'categorical_crossentropy',\n",
        "                 'epochs': 170,\n",
        "                 'batch_size': 30,\n",
        "                 }"
      ],
      "execution_count": 50,
      "outputs": []
    },
    {
      "cell_type": "code",
      "metadata": {
        "colab": {
          "base_uri": "https://localhost:8080/",
          "height": 1000
        },
        "id": "brxftL147ua1",
        "outputId": "795d910e-0db1-4990-9fdd-a1cd62bdfcd8"
      },
      "source": [
        "model6_history, model6 = create_model(train, label_train, test, label_test, model6_params)"
      ],
      "execution_count": 51,
      "outputs": [
        {
          "output_type": "stream",
          "name": "stdout",
          "text": [
            "Epoch 1/170\n",
            "306/306 [==============================] - 3s 7ms/step - loss: 2.5579 - acc: 0.4284 - val_loss: 2.4874 - val_acc: 0.5118\n",
            "Epoch 2/170\n",
            "306/306 [==============================] - 2s 7ms/step - loss: 2.4127 - acc: 0.5170 - val_loss: 2.3374 - val_acc: 0.5113\n",
            "Epoch 3/170\n",
            "306/306 [==============================] - 2s 6ms/step - loss: 2.2570 - acc: 0.5170 - val_loss: 2.1798 - val_acc: 0.5113\n",
            "Epoch 4/170\n",
            "306/306 [==============================] - 2s 5ms/step - loss: 2.0980 - acc: 0.5170 - val_loss: 2.0205 - val_acc: 0.5113\n",
            "Epoch 5/170\n",
            "306/306 [==============================] - 1s 5ms/step - loss: 1.9435 - acc: 0.5170 - val_loss: 1.8771 - val_acc: 0.5113\n",
            "Epoch 6/170\n",
            "306/306 [==============================] - 1s 4ms/step - loss: 1.8169 - acc: 0.5170 - val_loss: 1.7700 - val_acc: 0.5113\n",
            "Epoch 7/170\n",
            "306/306 [==============================] - 1s 5ms/step - loss: 1.7283 - acc: 0.5170 - val_loss: 1.6985 - val_acc: 0.5113\n",
            "Epoch 8/170\n",
            "306/306 [==============================] - 1s 5ms/step - loss: 1.6683 - acc: 0.5170 - val_loss: 1.6473 - val_acc: 0.5113\n",
            "Epoch 9/170\n",
            "306/306 [==============================] - 1s 5ms/step - loss: 1.6223 - acc: 0.5170 - val_loss: 1.6045 - val_acc: 0.5113\n",
            "Epoch 10/170\n",
            "306/306 [==============================] - 1s 5ms/step - loss: 1.5821 - acc: 0.5170 - val_loss: 1.5655 - val_acc: 0.5113\n",
            "Epoch 11/170\n",
            "306/306 [==============================] - 2s 6ms/step - loss: 1.5443 - acc: 0.5170 - val_loss: 1.5279 - val_acc: 0.5113\n",
            "Epoch 12/170\n",
            "306/306 [==============================] - 2s 6ms/step - loss: 1.5084 - acc: 0.5170 - val_loss: 1.4920 - val_acc: 0.5113\n",
            "Epoch 13/170\n",
            "306/306 [==============================] - 2s 6ms/step - loss: 1.4735 - acc: 0.5170 - val_loss: 1.4570 - val_acc: 0.5113\n",
            "Epoch 14/170\n",
            "306/306 [==============================] - 2s 5ms/step - loss: 1.4407 - acc: 0.5170 - val_loss: 1.4251 - val_acc: 0.5113\n",
            "Epoch 15/170\n",
            "306/306 [==============================] - 2s 5ms/step - loss: 1.4107 - acc: 0.5170 - val_loss: 1.3957 - val_acc: 0.5113\n",
            "Epoch 16/170\n",
            "306/306 [==============================] - 1s 5ms/step - loss: 1.3827 - acc: 0.5170 - val_loss: 1.3686 - val_acc: 0.5113\n",
            "Epoch 17/170\n",
            "306/306 [==============================] - 1s 4ms/step - loss: 1.3565 - acc: 0.5170 - val_loss: 1.3432 - val_acc: 0.5113\n",
            "Epoch 18/170\n",
            "306/306 [==============================] - 2s 5ms/step - loss: 1.3319 - acc: 0.5170 - val_loss: 1.3193 - val_acc: 0.5113\n",
            "Epoch 19/170\n",
            "306/306 [==============================] - 2s 5ms/step - loss: 1.3083 - acc: 0.5170 - val_loss: 1.2967 - val_acc: 0.5113\n",
            "Epoch 20/170\n",
            "306/306 [==============================] - 2s 6ms/step - loss: 1.2860 - acc: 0.5220 - val_loss: 1.2753 - val_acc: 0.5353\n",
            "Epoch 21/170\n",
            "306/306 [==============================] - 2s 7ms/step - loss: 1.2646 - acc: 0.5421 - val_loss: 1.2549 - val_acc: 0.5366\n",
            "Epoch 22/170\n",
            "306/306 [==============================] - 2s 7ms/step - loss: 1.2440 - acc: 0.5443 - val_loss: 1.2352 - val_acc: 0.5554\n",
            "Epoch 23/170\n",
            "306/306 [==============================] - 2s 5ms/step - loss: 1.2242 - acc: 0.5606 - val_loss: 1.2165 - val_acc: 0.5637\n",
            "Epoch 24/170\n",
            "306/306 [==============================] - 1s 4ms/step - loss: 1.2051 - acc: 0.5785 - val_loss: 1.1983 - val_acc: 0.5860\n",
            "Epoch 25/170\n",
            "306/306 [==============================] - 2s 5ms/step - loss: 1.1867 - acc: 0.5995 - val_loss: 1.1809 - val_acc: 0.6143\n",
            "Epoch 26/170\n",
            "306/306 [==============================] - 1s 4ms/step - loss: 1.1691 - acc: 0.6165 - val_loss: 1.1642 - val_acc: 0.6261\n",
            "Epoch 27/170\n",
            "306/306 [==============================] - 1s 5ms/step - loss: 1.1522 - acc: 0.6305 - val_loss: 1.1482 - val_acc: 0.6553\n",
            "Epoch 28/170\n",
            "306/306 [==============================] - 1s 5ms/step - loss: 1.1361 - acc: 0.6462 - val_loss: 1.1330 - val_acc: 0.6597\n",
            "Epoch 29/170\n",
            "306/306 [==============================] - 1s 4ms/step - loss: 1.1208 - acc: 0.6551 - val_loss: 1.1186 - val_acc: 0.6828\n",
            "Epoch 30/170\n",
            "306/306 [==============================] - 2s 6ms/step - loss: 1.1063 - acc: 0.6687 - val_loss: 1.1048 - val_acc: 0.6880\n",
            "Epoch 31/170\n",
            "306/306 [==============================] - 2s 6ms/step - loss: 1.0924 - acc: 0.6692 - val_loss: 1.0918 - val_acc: 0.6885\n",
            "Epoch 32/170\n",
            "306/306 [==============================] - 2s 6ms/step - loss: 1.0792 - acc: 0.6728 - val_loss: 1.0793 - val_acc: 0.6968\n",
            "Epoch 33/170\n",
            "306/306 [==============================] - 1s 4ms/step - loss: 1.0667 - acc: 0.6770 - val_loss: 1.0675 - val_acc: 0.6968\n",
            "Epoch 34/170\n",
            "306/306 [==============================] - 1s 4ms/step - loss: 1.0548 - acc: 0.6778 - val_loss: 1.0563 - val_acc: 0.6990\n",
            "Epoch 35/170\n",
            "306/306 [==============================] - 1s 5ms/step - loss: 1.0434 - acc: 0.6784 - val_loss: 1.0455 - val_acc: 0.6994\n",
            "Epoch 36/170\n",
            "306/306 [==============================] - 1s 4ms/step - loss: 1.0325 - acc: 0.6781 - val_loss: 1.0353 - val_acc: 0.6994\n",
            "Epoch 37/170\n",
            "306/306 [==============================] - 1s 5ms/step - loss: 1.0222 - acc: 0.6779 - val_loss: 1.0256 - val_acc: 0.6994\n",
            "Epoch 38/170\n",
            "306/306 [==============================] - 1s 5ms/step - loss: 1.0124 - acc: 0.6779 - val_loss: 1.0164 - val_acc: 0.6994\n",
            "Epoch 39/170\n",
            "306/306 [==============================] - 2s 5ms/step - loss: 1.0030 - acc: 0.6779 - val_loss: 1.0075 - val_acc: 0.7003\n",
            "Epoch 40/170\n",
            "306/306 [==============================] - 2s 7ms/step - loss: 0.9940 - acc: 0.6795 - val_loss: 0.9992 - val_acc: 0.7007\n",
            "Epoch 41/170\n",
            "306/306 [==============================] - 2s 7ms/step - loss: 0.9855 - acc: 0.6799 - val_loss: 0.9912 - val_acc: 0.7007\n",
            "Epoch 42/170\n",
            "306/306 [==============================] - 2s 6ms/step - loss: 0.9773 - acc: 0.6832 - val_loss: 0.9833 - val_acc: 0.7051\n",
            "Epoch 43/170\n",
            "306/306 [==============================] - 1s 5ms/step - loss: 0.9694 - acc: 0.6866 - val_loss: 0.9759 - val_acc: 0.7051\n",
            "Epoch 44/170\n",
            "306/306 [==============================] - 1s 4ms/step - loss: 0.9617 - acc: 0.6868 - val_loss: 0.9688 - val_acc: 0.7072\n",
            "Epoch 45/170\n",
            "306/306 [==============================] - 1s 4ms/step - loss: 0.9544 - acc: 0.6888 - val_loss: 0.9618 - val_acc: 0.7055\n",
            "Epoch 46/170\n",
            "306/306 [==============================] - 1s 5ms/step - loss: 0.9473 - acc: 0.6882 - val_loss: 0.9551 - val_acc: 0.7055\n",
            "Epoch 47/170\n",
            "306/306 [==============================] - 1s 5ms/step - loss: 0.9404 - acc: 0.6902 - val_loss: 0.9485 - val_acc: 0.7059\n",
            "Epoch 48/170\n",
            "306/306 [==============================] - 1s 4ms/step - loss: 0.9336 - acc: 0.6909 - val_loss: 0.9420 - val_acc: 0.7059\n",
            "Epoch 49/170\n",
            "306/306 [==============================] - 2s 5ms/step - loss: 0.9270 - acc: 0.6924 - val_loss: 0.9357 - val_acc: 0.7072\n",
            "Epoch 50/170\n",
            "306/306 [==============================] - 2s 6ms/step - loss: 0.9205 - acc: 0.6998 - val_loss: 0.9296 - val_acc: 0.7286\n",
            "Epoch 51/170\n",
            "306/306 [==============================] - 2s 6ms/step - loss: 0.9142 - acc: 0.7176 - val_loss: 0.9236 - val_acc: 0.7286\n",
            "Epoch 52/170\n",
            "306/306 [==============================] - 2s 6ms/step - loss: 0.9080 - acc: 0.7176 - val_loss: 0.9176 - val_acc: 0.7286\n",
            "Epoch 53/170\n",
            "306/306 [==============================] - 1s 4ms/step - loss: 0.9019 - acc: 0.7176 - val_loss: 0.9118 - val_acc: 0.7286\n",
            "Epoch 54/170\n",
            "306/306 [==============================] - 1s 4ms/step - loss: 0.8959 - acc: 0.7178 - val_loss: 0.9061 - val_acc: 0.7304\n",
            "Epoch 55/170\n",
            "306/306 [==============================] - 1s 5ms/step - loss: 0.8899 - acc: 0.7197 - val_loss: 0.9004 - val_acc: 0.7469\n",
            "Epoch 56/170\n",
            "306/306 [==============================] - 1s 4ms/step - loss: 0.8840 - acc: 0.7406 - val_loss: 0.8948 - val_acc: 0.7491\n",
            "Epoch 57/170\n",
            "306/306 [==============================] - 1s 4ms/step - loss: 0.8781 - acc: 0.7426 - val_loss: 0.8892 - val_acc: 0.7500\n",
            "Epoch 58/170\n",
            "306/306 [==============================] - 1s 4ms/step - loss: 0.8723 - acc: 0.7440 - val_loss: 0.8837 - val_acc: 0.7500\n",
            "Epoch 59/170\n",
            "306/306 [==============================] - 1s 4ms/step - loss: 0.8665 - acc: 0.7440 - val_loss: 0.8781 - val_acc: 0.7500\n",
            "Epoch 60/170\n",
            "306/306 [==============================] - 2s 6ms/step - loss: 0.8607 - acc: 0.7483 - val_loss: 0.8726 - val_acc: 0.7552\n",
            "Epoch 61/170\n",
            "306/306 [==============================] - 2s 6ms/step - loss: 0.8550 - acc: 0.7563 - val_loss: 0.8671 - val_acc: 0.7592\n",
            "Epoch 62/170\n",
            "306/306 [==============================] - 2s 6ms/step - loss: 0.8493 - acc: 0.7568 - val_loss: 0.8616 - val_acc: 0.7592\n",
            "Epoch 63/170\n",
            "306/306 [==============================] - 1s 5ms/step - loss: 0.8435 - acc: 0.7571 - val_loss: 0.8561 - val_acc: 0.7609\n",
            "Epoch 64/170\n",
            "306/306 [==============================] - 1s 4ms/step - loss: 0.8377 - acc: 0.7574 - val_loss: 0.8506 - val_acc: 0.7609\n",
            "Epoch 65/170\n",
            "306/306 [==============================] - 1s 4ms/step - loss: 0.8319 - acc: 0.7585 - val_loss: 0.8450 - val_acc: 0.7627\n",
            "Epoch 66/170\n",
            "306/306 [==============================] - 1s 4ms/step - loss: 0.8261 - acc: 0.7639 - val_loss: 0.8395 - val_acc: 0.7736\n",
            "Epoch 67/170\n",
            "306/306 [==============================] - 1s 4ms/step - loss: 0.8202 - acc: 0.7703 - val_loss: 0.8338 - val_acc: 0.7740\n",
            "Epoch 68/170\n",
            "306/306 [==============================] - 1s 5ms/step - loss: 0.8143 - acc: 0.7756 - val_loss: 0.8281 - val_acc: 0.7784\n",
            "Epoch 69/170\n",
            "306/306 [==============================] - 2s 5ms/step - loss: 0.8082 - acc: 0.7772 - val_loss: 0.8222 - val_acc: 0.7788\n",
            "Epoch 70/170\n",
            "306/306 [==============================] - 2s 6ms/step - loss: 0.8020 - acc: 0.7780 - val_loss: 0.8165 - val_acc: 0.7801\n",
            "Epoch 71/170\n",
            "306/306 [==============================] - 2s 6ms/step - loss: 0.7958 - acc: 0.7788 - val_loss: 0.8107 - val_acc: 0.7801\n",
            "Epoch 72/170\n",
            "306/306 [==============================] - 2s 7ms/step - loss: 0.7896 - acc: 0.7793 - val_loss: 0.8048 - val_acc: 0.7866\n",
            "Epoch 73/170\n",
            "306/306 [==============================] - 2s 5ms/step - loss: 0.7834 - acc: 0.7856 - val_loss: 0.7990 - val_acc: 0.7866\n",
            "Epoch 74/170\n",
            "306/306 [==============================] - 2s 5ms/step - loss: 0.7773 - acc: 0.7866 - val_loss: 0.7929 - val_acc: 0.7875\n",
            "Epoch 75/170\n",
            "306/306 [==============================] - 1s 5ms/step - loss: 0.7712 - acc: 0.7872 - val_loss: 0.7871 - val_acc: 0.7880\n",
            "Epoch 76/170\n",
            "306/306 [==============================] - 2s 5ms/step - loss: 0.7650 - acc: 0.7904 - val_loss: 0.7811 - val_acc: 0.7906\n",
            "Epoch 77/170\n",
            "306/306 [==============================] - 2s 5ms/step - loss: 0.7588 - acc: 0.7918 - val_loss: 0.7751 - val_acc: 0.7919\n",
            "Epoch 78/170\n",
            "306/306 [==============================] - 1s 4ms/step - loss: 0.7527 - acc: 0.7942 - val_loss: 0.7692 - val_acc: 0.7919\n",
            "Epoch 79/170\n",
            "306/306 [==============================] - 2s 6ms/step - loss: 0.7465 - acc: 0.7942 - val_loss: 0.7632 - val_acc: 0.7919\n",
            "Epoch 80/170\n",
            "306/306 [==============================] - 2s 7ms/step - loss: 0.7403 - acc: 0.7942 - val_loss: 0.7573 - val_acc: 0.7919\n",
            "Epoch 81/170\n",
            "306/306 [==============================] - 2s 7ms/step - loss: 0.7341 - acc: 0.7967 - val_loss: 0.7513 - val_acc: 0.7980\n",
            "Epoch 82/170\n",
            "306/306 [==============================] - 1s 5ms/step - loss: 0.7279 - acc: 0.7994 - val_loss: 0.7453 - val_acc: 0.7980\n",
            "Epoch 83/170\n",
            "306/306 [==============================] - 1s 5ms/step - loss: 0.7216 - acc: 0.7994 - val_loss: 0.7393 - val_acc: 0.7980\n",
            "Epoch 84/170\n",
            "306/306 [==============================] - 1s 5ms/step - loss: 0.7154 - acc: 0.8013 - val_loss: 0.7332 - val_acc: 0.7989\n",
            "Epoch 85/170\n",
            "306/306 [==============================] - 1s 5ms/step - loss: 0.7092 - acc: 0.8020 - val_loss: 0.7273 - val_acc: 0.7997\n",
            "Epoch 86/170\n",
            "306/306 [==============================] - 1s 4ms/step - loss: 0.7029 - acc: 0.8031 - val_loss: 0.7212 - val_acc: 0.7997\n",
            "Epoch 87/170\n",
            "306/306 [==============================] - 1s 5ms/step - loss: 0.6967 - acc: 0.8054 - val_loss: 0.7152 - val_acc: 0.8045\n",
            "Epoch 88/170\n",
            "306/306 [==============================] - 1s 5ms/step - loss: 0.6904 - acc: 0.8085 - val_loss: 0.7091 - val_acc: 0.8045\n",
            "Epoch 89/170\n",
            "306/306 [==============================] - 2s 8ms/step - loss: 0.6842 - acc: 0.8098 - val_loss: 0.7031 - val_acc: 0.8045\n",
            "Epoch 90/170\n",
            "306/306 [==============================] - 2s 7ms/step - loss: 0.6779 - acc: 0.8104 - val_loss: 0.6970 - val_acc: 0.8058\n",
            "Epoch 91/170\n",
            "306/306 [==============================] - 2s 6ms/step - loss: 0.6717 - acc: 0.8111 - val_loss: 0.6910 - val_acc: 0.8058\n",
            "Epoch 92/170\n",
            "306/306 [==============================] - 1s 5ms/step - loss: 0.6655 - acc: 0.8116 - val_loss: 0.6851 - val_acc: 0.8072\n",
            "Epoch 93/170\n",
            "306/306 [==============================] - 2s 5ms/step - loss: 0.6594 - acc: 0.8126 - val_loss: 0.6793 - val_acc: 0.8072\n",
            "Epoch 94/170\n",
            "306/306 [==============================] - 2s 5ms/step - loss: 0.6533 - acc: 0.8148 - val_loss: 0.6731 - val_acc: 0.8111\n",
            "Epoch 95/170\n",
            "306/306 [==============================] - 1s 5ms/step - loss: 0.6472 - acc: 0.8160 - val_loss: 0.6672 - val_acc: 0.8111\n",
            "Epoch 96/170\n",
            "306/306 [==============================] - 1s 4ms/step - loss: 0.6411 - acc: 0.8160 - val_loss: 0.6613 - val_acc: 0.8111\n",
            "Epoch 97/170\n",
            "306/306 [==============================] - 1s 4ms/step - loss: 0.6351 - acc: 0.8163 - val_loss: 0.6555 - val_acc: 0.8111\n",
            "Epoch 98/170\n",
            "306/306 [==============================] - 1s 5ms/step - loss: 0.6291 - acc: 0.8164 - val_loss: 0.6496 - val_acc: 0.8111\n",
            "Epoch 99/170\n",
            "306/306 [==============================] - 2s 6ms/step - loss: 0.6230 - acc: 0.8165 - val_loss: 0.6437 - val_acc: 0.8111\n",
            "Epoch 100/170\n",
            "306/306 [==============================] - 2s 6ms/step - loss: 0.6170 - acc: 0.8184 - val_loss: 0.6379 - val_acc: 0.8141\n",
            "Epoch 101/170\n",
            "306/306 [==============================] - 2s 6ms/step - loss: 0.6111 - acc: 0.8207 - val_loss: 0.6321 - val_acc: 0.8141\n",
            "Epoch 102/170\n",
            "306/306 [==============================] - 1s 5ms/step - loss: 0.6053 - acc: 0.8214 - val_loss: 0.6264 - val_acc: 0.8146\n",
            "Epoch 103/170\n",
            "306/306 [==============================] - 1s 5ms/step - loss: 0.5994 - acc: 0.8233 - val_loss: 0.6208 - val_acc: 0.8220\n",
            "Epoch 104/170\n",
            "306/306 [==============================] - 1s 4ms/step - loss: 0.5936 - acc: 0.8277 - val_loss: 0.6151 - val_acc: 0.8229\n",
            "Epoch 105/170\n",
            "306/306 [==============================] - 1s 5ms/step - loss: 0.5878 - acc: 0.8297 - val_loss: 0.6093 - val_acc: 0.8229\n",
            "Epoch 106/170\n",
            "306/306 [==============================] - 1s 4ms/step - loss: 0.5821 - acc: 0.8301 - val_loss: 0.6037 - val_acc: 0.8229\n",
            "Epoch 107/170\n",
            "306/306 [==============================] - 1s 4ms/step - loss: 0.5764 - acc: 0.8300 - val_loss: 0.5982 - val_acc: 0.8229\n",
            "Epoch 108/170\n",
            "306/306 [==============================] - 1s 4ms/step - loss: 0.5709 - acc: 0.8304 - val_loss: 0.5927 - val_acc: 0.8229\n",
            "Epoch 109/170\n",
            "306/306 [==============================] - 2s 6ms/step - loss: 0.5654 - acc: 0.8307 - val_loss: 0.5873 - val_acc: 0.8233\n",
            "Epoch 110/170\n",
            "306/306 [==============================] - 2s 7ms/step - loss: 0.5599 - acc: 0.8324 - val_loss: 0.5819 - val_acc: 0.8272\n",
            "Epoch 111/170\n",
            "306/306 [==============================] - 2s 6ms/step - loss: 0.5546 - acc: 0.8357 - val_loss: 0.5767 - val_acc: 0.8272\n",
            "Epoch 112/170\n",
            "306/306 [==============================] - 1s 4ms/step - loss: 0.5492 - acc: 0.8377 - val_loss: 0.5715 - val_acc: 0.8316\n",
            "Epoch 113/170\n",
            "306/306 [==============================] - 1s 4ms/step - loss: 0.5440 - acc: 0.8410 - val_loss: 0.5663 - val_acc: 0.8333\n",
            "Epoch 114/170\n",
            "306/306 [==============================] - 1s 5ms/step - loss: 0.5388 - acc: 0.8416 - val_loss: 0.5610 - val_acc: 0.8333\n",
            "Epoch 115/170\n",
            "306/306 [==============================] - 1s 5ms/step - loss: 0.5336 - acc: 0.8416 - val_loss: 0.5560 - val_acc: 0.8333\n",
            "Epoch 116/170\n",
            "306/306 [==============================] - 2s 5ms/step - loss: 0.5285 - acc: 0.8416 - val_loss: 0.5508 - val_acc: 0.8333\n",
            "Epoch 117/170\n",
            "306/306 [==============================] - 1s 5ms/step - loss: 0.5234 - acc: 0.8418 - val_loss: 0.5457 - val_acc: 0.8333\n",
            "Epoch 118/170\n",
            "306/306 [==============================] - 2s 5ms/step - loss: 0.5183 - acc: 0.8430 - val_loss: 0.5406 - val_acc: 0.8346\n",
            "Epoch 119/170\n",
            "306/306 [==============================] - 2s 7ms/step - loss: 0.5133 - acc: 0.8436 - val_loss: 0.5357 - val_acc: 0.8346\n",
            "Epoch 120/170\n",
            "306/306 [==============================] - 2s 7ms/step - loss: 0.5084 - acc: 0.8437 - val_loss: 0.5307 - val_acc: 0.8346\n",
            "Epoch 121/170\n",
            "306/306 [==============================] - 2s 7ms/step - loss: 0.5035 - acc: 0.8451 - val_loss: 0.5258 - val_acc: 0.8386\n",
            "Epoch 122/170\n",
            "306/306 [==============================] - 1s 4ms/step - loss: 0.4986 - acc: 0.8482 - val_loss: 0.5208 - val_acc: 0.8425\n",
            "Epoch 123/170\n",
            "306/306 [==============================] - 1s 4ms/step - loss: 0.4938 - acc: 0.8502 - val_loss: 0.5161 - val_acc: 0.8434\n",
            "Epoch 124/170\n",
            "306/306 [==============================] - 1s 4ms/step - loss: 0.4891 - acc: 0.8507 - val_loss: 0.5114 - val_acc: 0.8434\n",
            "Epoch 125/170\n",
            "306/306 [==============================] - 1s 4ms/step - loss: 0.4844 - acc: 0.8507 - val_loss: 0.5068 - val_acc: 0.8434\n",
            "Epoch 126/170\n",
            "306/306 [==============================] - 1s 5ms/step - loss: 0.4798 - acc: 0.8521 - val_loss: 0.5021 - val_acc: 0.8434\n",
            "Epoch 127/170\n",
            "306/306 [==============================] - 1s 5ms/step - loss: 0.4752 - acc: 0.8545 - val_loss: 0.4975 - val_acc: 0.8477\n",
            "Epoch 128/170\n",
            "306/306 [==============================] - 1s 5ms/step - loss: 0.4707 - acc: 0.8567 - val_loss: 0.4930 - val_acc: 0.8551\n",
            "Epoch 129/170\n",
            "306/306 [==============================] - 2s 7ms/step - loss: 0.4662 - acc: 0.8615 - val_loss: 0.4885 - val_acc: 0.8551\n",
            "Epoch 130/170\n",
            "306/306 [==============================] - 2s 7ms/step - loss: 0.4618 - acc: 0.8633 - val_loss: 0.4841 - val_acc: 0.8613\n",
            "Epoch 131/170\n",
            "306/306 [==============================] - 2s 7ms/step - loss: 0.4575 - acc: 0.8675 - val_loss: 0.4797 - val_acc: 0.8613\n",
            "Epoch 132/170\n",
            "306/306 [==============================] - 1s 4ms/step - loss: 0.4532 - acc: 0.8681 - val_loss: 0.4754 - val_acc: 0.8621\n",
            "Epoch 133/170\n",
            "306/306 [==============================] - 2s 5ms/step - loss: 0.4489 - acc: 0.8697 - val_loss: 0.4712 - val_acc: 0.8647\n",
            "Epoch 134/170\n",
            "306/306 [==============================] - 2s 5ms/step - loss: 0.4448 - acc: 0.8729 - val_loss: 0.4669 - val_acc: 0.8665\n",
            "Epoch 135/170\n",
            "306/306 [==============================] - 2s 5ms/step - loss: 0.4406 - acc: 0.8776 - val_loss: 0.4627 - val_acc: 0.8722\n",
            "Epoch 136/170\n",
            "306/306 [==============================] - 1s 5ms/step - loss: 0.4365 - acc: 0.8793 - val_loss: 0.4588 - val_acc: 0.8735\n",
            "Epoch 137/170\n",
            "306/306 [==============================] - 2s 5ms/step - loss: 0.4325 - acc: 0.8811 - val_loss: 0.4547 - val_acc: 0.8735\n",
            "Epoch 138/170\n",
            "306/306 [==============================] - 2s 5ms/step - loss: 0.4286 - acc: 0.8813 - val_loss: 0.4507 - val_acc: 0.8735\n",
            "Epoch 139/170\n",
            "306/306 [==============================] - 2s 7ms/step - loss: 0.4247 - acc: 0.8839 - val_loss: 0.4468 - val_acc: 0.8787\n",
            "Epoch 140/170\n",
            "306/306 [==============================] - 2s 7ms/step - loss: 0.4208 - acc: 0.8849 - val_loss: 0.4429 - val_acc: 0.8787\n",
            "Epoch 141/170\n",
            "306/306 [==============================] - 2s 5ms/step - loss: 0.4170 - acc: 0.8854 - val_loss: 0.4391 - val_acc: 0.8787\n",
            "Epoch 142/170\n",
            "306/306 [==============================] - 2s 5ms/step - loss: 0.4133 - acc: 0.8858 - val_loss: 0.4354 - val_acc: 0.8787\n",
            "Epoch 143/170\n",
            "306/306 [==============================] - 2s 5ms/step - loss: 0.4096 - acc: 0.8858 - val_loss: 0.4317 - val_acc: 0.8787\n",
            "Epoch 144/170\n",
            "306/306 [==============================] - 2s 5ms/step - loss: 0.4060 - acc: 0.8858 - val_loss: 0.4281 - val_acc: 0.8787\n",
            "Epoch 145/170\n",
            "306/306 [==============================] - 2s 5ms/step - loss: 0.4024 - acc: 0.8866 - val_loss: 0.4246 - val_acc: 0.8796\n",
            "Epoch 146/170\n",
            "306/306 [==============================] - 2s 5ms/step - loss: 0.3989 - acc: 0.8870 - val_loss: 0.4210 - val_acc: 0.8800\n",
            "Epoch 147/170\n",
            "306/306 [==============================] - 2s 5ms/step - loss: 0.3954 - acc: 0.8874 - val_loss: 0.4174 - val_acc: 0.8800\n",
            "Epoch 148/170\n",
            "306/306 [==============================] - 2s 6ms/step - loss: 0.3920 - acc: 0.8874 - val_loss: 0.4141 - val_acc: 0.8805\n",
            "Epoch 149/170\n",
            "306/306 [==============================] - 2s 7ms/step - loss: 0.3886 - acc: 0.8883 - val_loss: 0.4106 - val_acc: 0.8818\n",
            "Epoch 150/170\n",
            "306/306 [==============================] - 2s 6ms/step - loss: 0.3853 - acc: 0.8905 - val_loss: 0.4074 - val_acc: 0.8870\n",
            "Epoch 151/170\n",
            "306/306 [==============================] - 1s 5ms/step - loss: 0.3820 - acc: 0.8929 - val_loss: 0.4040 - val_acc: 0.8892\n",
            "Epoch 152/170\n",
            "306/306 [==============================] - 1s 5ms/step - loss: 0.3787 - acc: 0.8951 - val_loss: 0.4009 - val_acc: 0.8918\n",
            "Epoch 153/170\n",
            "306/306 [==============================] - 1s 5ms/step - loss: 0.3755 - acc: 0.8980 - val_loss: 0.3978 - val_acc: 0.8918\n",
            "Epoch 154/170\n",
            "306/306 [==============================] - 2s 5ms/step - loss: 0.3724 - acc: 0.8980 - val_loss: 0.3945 - val_acc: 0.8918\n",
            "Epoch 155/170\n",
            "306/306 [==============================] - 1s 5ms/step - loss: 0.3693 - acc: 0.8980 - val_loss: 0.3915 - val_acc: 0.8931\n",
            "Epoch 156/170\n",
            "306/306 [==============================] - 1s 5ms/step - loss: 0.3663 - acc: 0.8990 - val_loss: 0.3884 - val_acc: 0.8935\n",
            "Epoch 157/170\n",
            "306/306 [==============================] - 2s 6ms/step - loss: 0.3632 - acc: 0.9000 - val_loss: 0.3854 - val_acc: 0.8935\n",
            "Epoch 158/170\n",
            "306/306 [==============================] - 2s 7ms/step - loss: 0.3603 - acc: 0.9000 - val_loss: 0.3825 - val_acc: 0.8935\n",
            "Epoch 159/170\n",
            "306/306 [==============================] - 2s 7ms/step - loss: 0.3573 - acc: 0.9005 - val_loss: 0.3796 - val_acc: 0.8940\n",
            "Epoch 160/170\n",
            "306/306 [==============================] - 2s 5ms/step - loss: 0.3545 - acc: 0.9023 - val_loss: 0.3767 - val_acc: 0.8979\n",
            "Epoch 161/170\n",
            "306/306 [==============================] - 1s 5ms/step - loss: 0.3516 - acc: 0.9035 - val_loss: 0.3739 - val_acc: 0.8979\n",
            "Epoch 162/170\n",
            "306/306 [==============================] - 2s 5ms/step - loss: 0.3488 - acc: 0.9054 - val_loss: 0.3711 - val_acc: 0.9014\n",
            "Epoch 163/170\n",
            "306/306 [==============================] - 1s 5ms/step - loss: 0.3461 - acc: 0.9088 - val_loss: 0.3684 - val_acc: 0.9040\n",
            "Epoch 164/170\n",
            "306/306 [==============================] - 1s 4ms/step - loss: 0.3433 - acc: 0.9090 - val_loss: 0.3657 - val_acc: 0.9045\n",
            "Epoch 165/170\n",
            "306/306 [==============================] - 1s 5ms/step - loss: 0.3406 - acc: 0.9096 - val_loss: 0.3630 - val_acc: 0.9053\n",
            "Epoch 166/170\n",
            "306/306 [==============================] - 1s 5ms/step - loss: 0.3380 - acc: 0.9098 - val_loss: 0.3604 - val_acc: 0.9053\n",
            "Epoch 167/170\n",
            "306/306 [==============================] - 2s 7ms/step - loss: 0.3353 - acc: 0.9102 - val_loss: 0.3578 - val_acc: 0.9058\n",
            "Epoch 168/170\n",
            "306/306 [==============================] - 2s 7ms/step - loss: 0.3327 - acc: 0.9152 - val_loss: 0.3551 - val_acc: 0.9193\n",
            "Epoch 169/170\n",
            "306/306 [==============================] - 2s 7ms/step - loss: 0.3302 - acc: 0.9227 - val_loss: 0.3526 - val_acc: 0.9228\n",
            "Epoch 170/170\n",
            "306/306 [==============================] - 1s 4ms/step - loss: 0.3277 - acc: 0.9256 - val_loss: 0.3502 - val_acc: 0.9232\n",
            "<bound method Model.summary of <keras.src.engine.sequential.Sequential object at 0x7ef8a05a5660>>\n",
            "Test Accuracy:\n",
            "3438/3438 [==============================] - 11s 3ms/step - loss: 0.3514 - acc: 0.9197\n",
            "Random Sample Accuracy:\n",
            "50/50 [==============================] - 0s 4ms/step - loss: 1.1596 - acc: 0.6680\n"
          ]
        },
        {
          "output_type": "display_data",
          "data": {
            "text/html": [
              "<html>\n",
              "<head><meta charset=\"utf-8\" /></head>\n",
              "<body>\n",
              "    <div>            <script src=\"https://cdnjs.cloudflare.com/ajax/libs/mathjax/2.7.5/MathJax.js?config=TeX-AMS-MML_SVG\"></script><script type=\"text/javascript\">if (window.MathJax && window.MathJax.Hub && window.MathJax.Hub.Config) {window.MathJax.Hub.Config({SVG: {font: \"STIX-Web\"}});}</script>                <script type=\"text/javascript\">window.PlotlyConfig = {MathJaxConfig: 'local'};</script>\n",
              "        <script charset=\"utf-8\" src=\"https://cdn.plot.ly/plotly-2.24.1.min.js\"></script>                <div id=\"45afd81f-5a8f-4c31-ac3d-d495aa1f912a\" class=\"plotly-graph-div\" style=\"height:525px; width:100%;\"></div>            <script type=\"text/javascript\">                                    window.PLOTLYENV=window.PLOTLYENV || {};                                    if (document.getElementById(\"45afd81f-5a8f-4c31-ac3d-d495aa1f912a\")) {                    Plotly.newPlot(                        \"45afd81f-5a8f-4c31-ac3d-d495aa1f912a\",                        [{\"line\":{\"color\":\"#D8A7B1\",\"width\":3},\"mode\":\"lines\",\"name\":\"Train Accuracy\",\"x\":[1,2,3,4,5,6,7,8,9,10,11,12,13,14,15,16,17,18,19,20,21,22,23,24,25,26,27,28,29,30,31,32,33,34,35,36,37,38,39,40,41,42,43,44,45,46,47,48,49,50,51,52,53,54,55,56,57,58,59,60,61,62,63,64,65,66,67,68,69,70,71,72,73,74,75,76,77,78,79,80,81,82,83,84,85,86,87,88,89,90,91,92,93,94,95,96,97,98,99,100,101,102,103,104,105,106,107,108,109,110,111,112,113,114,115,116,117,118,119,120,121,122,123,124,125,126,127,128,129,130,131,132,133,134,135,136,137,138,139,140,141,142,143,144,145,146,147,148,149,150,151,152,153,154,155,156,157,158,159,160,161,162,163,164,165,166,167,168,169,170],\"y\":[0.42844676971435547,0.5170156955718994,0.5170156955718994,0.5170156955718994,0.5170156955718994,0.5170156955718994,0.5170156955718994,0.5170156955718994,0.5170156955718994,0.5170156955718994,0.5170156955718994,0.5170156955718994,0.5170156955718994,0.5170156955718994,0.5170156955718994,0.5170156955718994,0.5170156955718994,0.5170156955718994,0.5170156955718994,0.522033154964447,0.5421029925346375,0.544284462928772,0.5606456995010376,0.5785340070724487,0.5994764566421509,0.6164921522140503,0.6304537653923035,0.6461605429649353,0.6551046967506409,0.6687390804290771,0.669175386428833,0.6727748513221741,0.6770287752151489,0.6777923107147217,0.6784467697143555,0.6781195402145386,0.6779013872146606,0.6779013872146606,0.6779013872146606,0.6795375347137451,0.679864764213562,0.6832460761070251,0.6866273880004883,0.6868455410003662,0.6888089179992676,0.6881544589996338,0.6902268528938293,0.6908813118934631,0.6924083828926086,0.6998254656791687,0.7176046967506409,0.7176046967506409,0.7176046967506409,0.7178228497505188,0.7196771502494812,0.7406195402145386,0.7425829172134399,0.7440008521080017,0.7440008521080017,0.7482547760009766,0.7563263773918152,0.7567626237869263,0.7570898532867432,0.7574170827865601,0.7585078477859497,0.7638525366783142,0.7702879309654236,0.7756326198577881,0.7771596908569336,0.7780323028564453,0.7787958383560181,0.7793411612510681,0.7855584621429443,0.786649227142334,0.7871946096420288,0.790357768535614,0.7917757630348206,0.794175386428833,0.794175386428833,0.794175386428833,0.7966841459274292,0.7994109988212585,0.7994109988212585,0.801265299320221,0.8020287752151489,0.8031195402145386,0.8054101467132568,0.8084642291069031,0.8097731471061707,0.8104275465011597,0.8110820055007935,0.8116273880004883,0.812609076499939,0.8147905468940735,0.8159903883934021,0.8159903883934021,0.816317617893219,0.816426694393158,0.8165357708930969,0.8183900713920593,0.8206806182861328,0.8214441537857056,0.823298454284668,0.8276614546775818,0.8297338485717773,0.8300610780715942,0.8299520015716553,0.8303883075714111,0.830715537071228,0.8323516845703125,0.8357329964637756,0.8376963138580322,0.8409686088562012,0.8416230082511902,0.8416230082511902,0.8416230082511902,0.8418411612510681,0.8430410027503967,0.8435863852500916,0.8436954617500305,0.8451134562492371,0.8481675386428833,0.8502399921417236,0.8506762385368347,0.8506762385368347,0.8520942330360413,0.8544939160346985,0.856675386428833,0.8614746928215027,0.8633289933204651,0.867473840713501,0.8681282997131348,0.8696553111076355,0.8729275465011597,0.8776177763938904,0.8792539238929749,0.8811082243919373,0.8813263773918152,0.8839441537857056,0.8849258422851562,0.8853621482849121,0.885798454284668,0.885798454284668,0.885798454284668,0.886561930179596,0.8869982361793518,0.8874345421791077,0.8874345421791077,0.8883071541786194,0.8904886841773987,0.8928883075714111,0.8950698375701904,0.8980148434638977,0.8980148434638977,0.8980148434638977,0.8989965319633484,0.8999781608581543,0.8999781608581543,0.9005235433578491,0.9022687673568726,0.9034686088562012,0.9054319262504578,0.9088132381439209,0.9090313911437988,0.9095767736434937,0.9097949266433716,0.9102312326431274,0.915248692035675,0.9226657748222351,0.9256108403205872],\"type\":\"scatter\"},{\"line\":{\"color\":\"#05234C\",\"width\":3},\"mode\":\"lines\",\"name\":\"Validation Accuracy\",\"x\":[1,2,3,4,5,6,7,8,9,10,11,12,13,14,15,16,17,18,19,20,21,22,23,24,25,26,27,28,29,30,31,32,33,34,35,36,37,38,39,40,41,42,43,44,45,46,47,48,49,50,51,52,53,54,55,56,57,58,59,60,61,62,63,64,65,66,67,68,69,70,71,72,73,74,75,76,77,78,79,80,81,82,83,84,85,86,87,88,89,90,91,92,93,94,95,96,97,98,99,100,101,102,103,104,105,106,107,108,109,110,111,112,113,114,115,116,117,118,119,120,121,122,123,124,125,126,127,128,129,130,131,132,133,134,135,136,137,138,139,140,141,142,143,144,145,146,147,148,149,150,151,152,153,154,155,156,157,158,159,160,161,162,163,164,165,166,167,168,169,170],\"y\":[0.5117800831794739,0.511343777179718,0.511343777179718,0.511343777179718,0.511343777179718,0.511343777179718,0.511343777179718,0.511343777179718,0.511343777179718,0.511343777179718,0.511343777179718,0.511343777179718,0.511343777179718,0.511343777179718,0.511343777179718,0.511343777179718,0.511343777179718,0.511343777179718,0.511343777179718,0.5353403091430664,0.536649227142334,0.5554101467132568,0.5636998414993286,0.5859511494636536,0.614310622215271,0.6260907649993896,0.6553228497505188,0.6596858501434326,0.6828097701072693,0.6880453824996948,0.6884816884994507,0.6967713832855225,0.6967713832855225,0.698952853679657,0.6993891596794128,0.6993891596794128,0.6993891596794128,0.6993891596794128,0.7002617716789246,0.7006980776786804,0.7006980776786804,0.7050610780715942,0.7050610780715942,0.7072426080703735,0.7054973840713501,0.7054973840713501,0.705933690071106,0.705933690071106,0.7072426080703735,0.7286213040351868,0.7286213040351868,0.7286213040351868,0.7286213040351868,0.7303664684295654,0.7469459176063538,0.7491273880004883,0.75,0.75,0.75,0.7552356123924255,0.7591623067855835,0.7591623067855835,0.7609075307846069,0.7609075307846069,0.7626526951789856,0.7735602259635925,0.7739965319633484,0.7783595323562622,0.7787958383560181,0.7801046967506409,0.7801046967506409,0.786649227142334,0.786649227142334,0.7875218391418457,0.7879580855369568,0.7905759215354919,0.7918848395347595,0.7918848395347595,0.7918848395347595,0.7918848395347595,0.797993004322052,0.797993004322052,0.797993004322052,0.7988656163215637,0.7997382283210754,0.7997382283210754,0.8045375347137451,0.8045375347137451,0.8045375347137451,0.8058463931083679,0.8058463931083679,0.8071553111076355,0.8071553111076355,0.8110820055007935,0.8110820055007935,0.8110820055007935,0.8110820055007935,0.8110820055007935,0.8110820055007935,0.8141361474990845,0.8141361474990845,0.8145724534988403,0.8219895362854004,0.8228621482849121,0.8228621482849121,0.8228621482849121,0.8228621482849121,0.8228621482849121,0.823298454284668,0.8272251486778259,0.8272251486778259,0.8315881490707397,0.8333333134651184,0.8333333134651184,0.8333333134651184,0.8333333134651184,0.8333333134651184,0.834642231464386,0.834642231464386,0.834642231464386,0.838568925857544,0.8424956202507019,0.8433682322502136,0.8433682322502136,0.8433682322502136,0.8433682322502136,0.8477312326431274,0.8551483154296875,0.8551483154296875,0.8612565398216248,0.8612565398216248,0.8621291518211365,0.8647469282150269,0.8664921522140503,0.8721640706062317,0.8734729290008545,0.8734729290008545,0.8734729290008545,0.87870854139328,0.87870854139328,0.87870854139328,0.87870854139328,0.87870854139328,0.87870854139328,0.8795811533927917,0.8800174593925476,0.8800174593925476,0.8804537653923035,0.8817626237869263,0.8869982361793518,0.8891797661781311,0.8917975425720215,0.8917975425720215,0.8917975425720215,0.8931064605712891,0.8935427665710449,0.8935427665710449,0.8935427665710449,0.8939790725708008,0.8979057669639587,0.8979057669639587,0.9013961553573608,0.904013991355896,0.9044502377510071,0.9053228497505188,0.9053228497505188,0.9057591557502747,0.919284462928772,0.9227748513221741,0.9232111573219299],\"type\":\"scatter\"},{\"line\":{\"color\":\"#D8A7B1\",\"dash\":\"dash\",\"width\":3},\"mode\":\"lines\",\"name\":\"Train Loss\",\"x\":[1,2,3,4,5,6,7,8,9,10,11,12,13,14,15,16,17,18,19,20,21,22,23,24,25,26,27,28,29,30,31,32,33,34,35,36,37,38,39,40,41,42,43,44,45,46,47,48,49,50,51,52,53,54,55,56,57,58,59,60,61,62,63,64,65,66,67,68,69,70,71,72,73,74,75,76,77,78,79,80,81,82,83,84,85,86,87,88,89,90,91,92,93,94,95,96,97,98,99,100,101,102,103,104,105,106,107,108,109,110,111,112,113,114,115,116,117,118,119,120,121,122,123,124,125,126,127,128,129,130,131,132,133,134,135,136,137,138,139,140,141,142,143,144,145,146,147,148,149,150,151,152,153,154,155,156,157,158,159,160,161,162,163,164,165,166,167,168,169,170],\"y\":[2.5578558444976807,2.4126908779144287,2.2570271492004395,2.0979714393615723,1.9435350894927979,1.816850185394287,1.7283220291137695,1.6682640314102173,1.6222906112670898,1.5820550918579102,1.5443438291549683,1.508415699005127,1.4735220670700073,1.4407453536987305,1.4106770753860474,1.3826650381088257,1.3565443754196167,1.3318591117858887,1.3083475828170776,1.2859606742858887,1.2645708322525024,1.2440228462219238,1.2241863012313843,1.2051174640655518,1.186745047569275,1.1691168546676636,1.152212142944336,1.136132836341858,1.1208322048187256,1.1062699556350708,1.0924277305603027,1.0792467594146729,1.0667005777359009,1.0547523498535156,1.0433660745620728,1.0325138568878174,1.0222135782241821,1.012378215789795,1.0029791593551636,0.9940300583839417,0.9854691624641418,0.9772515892982483,0.9693508744239807,0.9617456793785095,0.9544140100479126,0.9472841620445251,0.9403619170188904,0.9335769414901733,0.9269753098487854,0.9205335974693298,0.9142239689826965,0.9080288410186768,0.9019131064414978,0.8958609104156494,0.8898887038230896,0.8839842081069946,0.8781285285949707,0.8722952604293823,0.8665057420730591,0.8607404828071594,0.8550020456314087,0.849265456199646,0.8435096144676208,0.837742805480957,0.8319136500358582,0.8260583281517029,0.8201778531074524,0.8142591714859009,0.8081522583961487,0.8019942045211792,0.7957900762557983,0.7895936965942383,0.7834380269050598,0.7773095965385437,0.771162748336792,0.7649970054626465,0.758845329284668,0.752701461315155,0.7465242743492126,0.7403286695480347,0.7341029047966003,0.7278825044631958,0.721642792224884,0.7154302000999451,0.7091919183731079,0.702933669090271,0.696660578250885,0.6903955936431885,0.684157133102417,0.6779215931892395,0.6717031002044678,0.6655113697052002,0.6593616008758545,0.6532504558563232,0.6471735239028931,0.6411346197128296,0.6351270079612732,0.6290751695632935,0.6230135560035706,0.6170488595962524,0.6111475229263306,0.6052693724632263,0.5994139909744263,0.5936088562011719,0.5878112316131592,0.5820809006690979,0.5764222145080566,0.5708572864532471,0.5653510689735413,0.5599194169044495,0.5545543432235718,0.5492331981658936,0.5439891815185547,0.5388045907020569,0.5336220860481262,0.5284679532051086,0.5233547687530518,0.5183070302009583,0.5133115649223328,0.5083611607551575,0.5034646987915039,0.4985980987548828,0.4938344955444336,0.4890904128551483,0.48440444469451904,0.4797802269458771,0.47520720958709717,0.4706875681877136,0.46622955799102783,0.4618169665336609,0.4574604630470276,0.45317304134368896,0.4489312469959259,0.444761723279953,0.44063347578048706,0.4365479648113251,0.43254002928733826,0.4285685122013092,0.424666166305542,0.4208173155784607,0.4170391261577606,0.41329771280288696,0.4096011817455292,0.405988484621048,0.4024045467376709,0.3988744914531708,0.39540329575538635,0.39196616411209106,0.3885914087295532,0.3852527141571045,0.38197946548461914,0.3787440359592438,0.37554261088371277,0.37241533398628235,0.36930909752845764,0.3662591576576233,0.3632452189922333,0.36028364300727844,0.35734823346138,0.3544619083404541,0.35162538290023804,0.34880584478378296,0.34605109691619873,0.3433234691619873,0.34061184525489807,0.33797112107276917,0.3353390395641327,0.33273136615753174,0.3301999270915985,0.3276788592338562],\"type\":\"scatter\"},{\"line\":{\"color\":\"#05234C\",\"dash\":\"dash\",\"width\":3},\"mode\":\"lines\",\"name\":\"Validation Loss\",\"x\":[1,2,3,4,5,6,7,8,9,10,11,12,13,14,15,16,17,18,19,20,21,22,23,24,25,26,27,28,29,30,31,32,33,34,35,36,37,38,39,40,41,42,43,44,45,46,47,48,49,50,51,52,53,54,55,56,57,58,59,60,61,62,63,64,65,66,67,68,69,70,71,72,73,74,75,76,77,78,79,80,81,82,83,84,85,86,87,88,89,90,91,92,93,94,95,96,97,98,99,100,101,102,103,104,105,106,107,108,109,110,111,112,113,114,115,116,117,118,119,120,121,122,123,124,125,126,127,128,129,130,131,132,133,134,135,136,137,138,139,140,141,142,143,144,145,146,147,148,149,150,151,152,153,154,155,156,157,158,159,160,161,162,163,164,165,166,167,168,169,170],\"y\":[2.4874417781829834,2.3373899459838867,2.1797945499420166,2.020479679107666,1.877065658569336,1.7700090408325195,1.6985158920288086,1.64734947681427,1.604513168334961,1.5654529333114624,1.5278584957122803,1.4919557571411133,1.4569681882858276,1.4251031875610352,1.3957123756408691,1.3686459064483643,1.3432271480560303,1.3193429708480835,1.2966631650924683,1.2753324508666992,1.2548596858978271,1.235236644744873,1.2164723873138428,1.1982605457305908,1.1808828115463257,1.1642484664916992,1.148165225982666,1.1329865455627441,1.11855149269104,1.1048403978347778,1.091801404953003,1.0793477296829224,1.0675468444824219,1.056274175643921,1.0455137491226196,1.035269021987915,1.025611400604248,1.0163520574569702,1.0075485706329346,0.9992322325706482,0.9912055134773254,0.9833448529243469,0.9759437441825867,0.9687753319740295,0.9618057608604431,0.9550997614860535,0.9484718441963196,0.941997766494751,0.9356605410575867,0.9295624494552612,0.9235523343086243,0.9176459908485413,0.911789059638977,0.90605229139328,0.900384783744812,0.8947886824607849,0.8891928791999817,0.8836794495582581,0.8781126737594604,0.8726057410240173,0.8670571446418762,0.8615798354148865,0.8560530543327332,0.8505746722221375,0.8450081944465637,0.8394712805747986,0.8338387608528137,0.828097403049469,0.8222456574440002,0.8164780139923096,0.8106503486633301,0.8047993779182434,0.7989504337310791,0.7929157614707947,0.7870578169822693,0.7811084985733032,0.7751006484031677,0.7691754102706909,0.7631641030311584,0.7572684288024902,0.7513425946235657,0.7452633380889893,0.7392863035202026,0.7332280874252319,0.727268636226654,0.7212466597557068,0.7151660323143005,0.7091416716575623,0.7031275629997253,0.6970301270484924,0.6910042762756348,0.6851264238357544,0.6792780756950378,0.6731470823287964,0.6672379374504089,0.6613481640815735,0.6554579138755798,0.6495670080184937,0.643731951713562,0.6379228830337524,0.632084310054779,0.6263870596885681,0.6207600831985474,0.6150848865509033,0.6093346476554871,0.6036929488182068,0.5982117056846619,0.5927065014839172,0.5873380899429321,0.5819141268730164,0.5766767263412476,0.571478545665741,0.5662629008293152,0.5610342621803284,0.5559589266777039,0.5508288741111755,0.5456549525260925,0.5406473278999329,0.535737931728363,0.530722975730896,0.5258094072341919,0.5208437442779541,0.5161415934562683,0.5114325881004333,0.5068124532699585,0.5021222829818726,0.49753138422966003,0.49295660853385925,0.4884767532348633,0.484083890914917,0.4796862006187439,0.4753771126270294,0.4711942970752716,0.46688005328178406,0.46270081400871277,0.4587886929512024,0.45468464493751526,0.45069819688796997,0.4467982351779938,0.4429457187652588,0.43909916281700134,0.4353547692298889,0.43174299597740173,0.4281296730041504,0.4245742857456207,0.4209844172000885,0.41744622588157654,0.41414862871170044,0.41063570976257324,0.4073915481567383,0.4040490388870239,0.40092742443084717,0.3977983593940735,0.394496351480484,0.3914775550365448,0.38844960927963257,0.3854270279407501,0.38246825337409973,0.37955281138420105,0.37667688727378845,0.37387511134147644,0.3711070716381073,0.36836811900138855,0.36566102504730225,0.36298826336860657,0.36036279797554016,0.35779860615730286,0.35514557361602783,0.35262078046798706,0.3502027094364166],\"type\":\"scatter\"}],                        {\"template\":{\"data\":{\"barpolar\":[{\"marker\":{\"line\":{\"color\":\"white\",\"width\":0.5},\"pattern\":{\"fillmode\":\"overlay\",\"size\":10,\"solidity\":0.2}},\"type\":\"barpolar\"}],\"bar\":[{\"error_x\":{\"color\":\"#2a3f5f\"},\"error_y\":{\"color\":\"#2a3f5f\"},\"marker\":{\"line\":{\"color\":\"white\",\"width\":0.5},\"pattern\":{\"fillmode\":\"overlay\",\"size\":10,\"solidity\":0.2}},\"type\":\"bar\"}],\"carpet\":[{\"aaxis\":{\"endlinecolor\":\"#2a3f5f\",\"gridcolor\":\"#C8D4E3\",\"linecolor\":\"#C8D4E3\",\"minorgridcolor\":\"#C8D4E3\",\"startlinecolor\":\"#2a3f5f\"},\"baxis\":{\"endlinecolor\":\"#2a3f5f\",\"gridcolor\":\"#C8D4E3\",\"linecolor\":\"#C8D4E3\",\"minorgridcolor\":\"#C8D4E3\",\"startlinecolor\":\"#2a3f5f\"},\"type\":\"carpet\"}],\"choropleth\":[{\"colorbar\":{\"outlinewidth\":0,\"ticks\":\"\"},\"type\":\"choropleth\"}],\"contourcarpet\":[{\"colorbar\":{\"outlinewidth\":0,\"ticks\":\"\"},\"type\":\"contourcarpet\"}],\"contour\":[{\"colorbar\":{\"outlinewidth\":0,\"ticks\":\"\"},\"colorscale\":[[0.0,\"#0d0887\"],[0.1111111111111111,\"#46039f\"],[0.2222222222222222,\"#7201a8\"],[0.3333333333333333,\"#9c179e\"],[0.4444444444444444,\"#bd3786\"],[0.5555555555555556,\"#d8576b\"],[0.6666666666666666,\"#ed7953\"],[0.7777777777777778,\"#fb9f3a\"],[0.8888888888888888,\"#fdca26\"],[1.0,\"#f0f921\"]],\"type\":\"contour\"}],\"heatmapgl\":[{\"colorbar\":{\"outlinewidth\":0,\"ticks\":\"\"},\"colorscale\":[[0.0,\"#0d0887\"],[0.1111111111111111,\"#46039f\"],[0.2222222222222222,\"#7201a8\"],[0.3333333333333333,\"#9c179e\"],[0.4444444444444444,\"#bd3786\"],[0.5555555555555556,\"#d8576b\"],[0.6666666666666666,\"#ed7953\"],[0.7777777777777778,\"#fb9f3a\"],[0.8888888888888888,\"#fdca26\"],[1.0,\"#f0f921\"]],\"type\":\"heatmapgl\"}],\"heatmap\":[{\"colorbar\":{\"outlinewidth\":0,\"ticks\":\"\"},\"colorscale\":[[0.0,\"#0d0887\"],[0.1111111111111111,\"#46039f\"],[0.2222222222222222,\"#7201a8\"],[0.3333333333333333,\"#9c179e\"],[0.4444444444444444,\"#bd3786\"],[0.5555555555555556,\"#d8576b\"],[0.6666666666666666,\"#ed7953\"],[0.7777777777777778,\"#fb9f3a\"],[0.8888888888888888,\"#fdca26\"],[1.0,\"#f0f921\"]],\"type\":\"heatmap\"}],\"histogram2dcontour\":[{\"colorbar\":{\"outlinewidth\":0,\"ticks\":\"\"},\"colorscale\":[[0.0,\"#0d0887\"],[0.1111111111111111,\"#46039f\"],[0.2222222222222222,\"#7201a8\"],[0.3333333333333333,\"#9c179e\"],[0.4444444444444444,\"#bd3786\"],[0.5555555555555556,\"#d8576b\"],[0.6666666666666666,\"#ed7953\"],[0.7777777777777778,\"#fb9f3a\"],[0.8888888888888888,\"#fdca26\"],[1.0,\"#f0f921\"]],\"type\":\"histogram2dcontour\"}],\"histogram2d\":[{\"colorbar\":{\"outlinewidth\":0,\"ticks\":\"\"},\"colorscale\":[[0.0,\"#0d0887\"],[0.1111111111111111,\"#46039f\"],[0.2222222222222222,\"#7201a8\"],[0.3333333333333333,\"#9c179e\"],[0.4444444444444444,\"#bd3786\"],[0.5555555555555556,\"#d8576b\"],[0.6666666666666666,\"#ed7953\"],[0.7777777777777778,\"#fb9f3a\"],[0.8888888888888888,\"#fdca26\"],[1.0,\"#f0f921\"]],\"type\":\"histogram2d\"}],\"histogram\":[{\"marker\":{\"pattern\":{\"fillmode\":\"overlay\",\"size\":10,\"solidity\":0.2}},\"type\":\"histogram\"}],\"mesh3d\":[{\"colorbar\":{\"outlinewidth\":0,\"ticks\":\"\"},\"type\":\"mesh3d\"}],\"parcoords\":[{\"line\":{\"colorbar\":{\"outlinewidth\":0,\"ticks\":\"\"}},\"type\":\"parcoords\"}],\"pie\":[{\"automargin\":true,\"type\":\"pie\"}],\"scatter3d\":[{\"line\":{\"colorbar\":{\"outlinewidth\":0,\"ticks\":\"\"}},\"marker\":{\"colorbar\":{\"outlinewidth\":0,\"ticks\":\"\"}},\"type\":\"scatter3d\"}],\"scattercarpet\":[{\"marker\":{\"colorbar\":{\"outlinewidth\":0,\"ticks\":\"\"}},\"type\":\"scattercarpet\"}],\"scattergeo\":[{\"marker\":{\"colorbar\":{\"outlinewidth\":0,\"ticks\":\"\"}},\"type\":\"scattergeo\"}],\"scattergl\":[{\"marker\":{\"colorbar\":{\"outlinewidth\":0,\"ticks\":\"\"}},\"type\":\"scattergl\"}],\"scattermapbox\":[{\"marker\":{\"colorbar\":{\"outlinewidth\":0,\"ticks\":\"\"}},\"type\":\"scattermapbox\"}],\"scatterpolargl\":[{\"marker\":{\"colorbar\":{\"outlinewidth\":0,\"ticks\":\"\"}},\"type\":\"scatterpolargl\"}],\"scatterpolar\":[{\"marker\":{\"colorbar\":{\"outlinewidth\":0,\"ticks\":\"\"}},\"type\":\"scatterpolar\"}],\"scatter\":[{\"fillpattern\":{\"fillmode\":\"overlay\",\"size\":10,\"solidity\":0.2},\"type\":\"scatter\"}],\"scatterternary\":[{\"marker\":{\"colorbar\":{\"outlinewidth\":0,\"ticks\":\"\"}},\"type\":\"scatterternary\"}],\"surface\":[{\"colorbar\":{\"outlinewidth\":0,\"ticks\":\"\"},\"colorscale\":[[0.0,\"#0d0887\"],[0.1111111111111111,\"#46039f\"],[0.2222222222222222,\"#7201a8\"],[0.3333333333333333,\"#9c179e\"],[0.4444444444444444,\"#bd3786\"],[0.5555555555555556,\"#d8576b\"],[0.6666666666666666,\"#ed7953\"],[0.7777777777777778,\"#fb9f3a\"],[0.8888888888888888,\"#fdca26\"],[1.0,\"#f0f921\"]],\"type\":\"surface\"}],\"table\":[{\"cells\":{\"fill\":{\"color\":\"#EBF0F8\"},\"line\":{\"color\":\"white\"}},\"header\":{\"fill\":{\"color\":\"#C8D4E3\"},\"line\":{\"color\":\"white\"}},\"type\":\"table\"}]},\"layout\":{\"annotationdefaults\":{\"arrowcolor\":\"#2a3f5f\",\"arrowhead\":0,\"arrowwidth\":1},\"autotypenumbers\":\"strict\",\"coloraxis\":{\"colorbar\":{\"outlinewidth\":0,\"ticks\":\"\"}},\"colorscale\":{\"diverging\":[[0,\"#8e0152\"],[0.1,\"#c51b7d\"],[0.2,\"#de77ae\"],[0.3,\"#f1b6da\"],[0.4,\"#fde0ef\"],[0.5,\"#f7f7f7\"],[0.6,\"#e6f5d0\"],[0.7,\"#b8e186\"],[0.8,\"#7fbc41\"],[0.9,\"#4d9221\"],[1,\"#276419\"]],\"sequential\":[[0.0,\"#0d0887\"],[0.1111111111111111,\"#46039f\"],[0.2222222222222222,\"#7201a8\"],[0.3333333333333333,\"#9c179e\"],[0.4444444444444444,\"#bd3786\"],[0.5555555555555556,\"#d8576b\"],[0.6666666666666666,\"#ed7953\"],[0.7777777777777778,\"#fb9f3a\"],[0.8888888888888888,\"#fdca26\"],[1.0,\"#f0f921\"]],\"sequentialminus\":[[0.0,\"#0d0887\"],[0.1111111111111111,\"#46039f\"],[0.2222222222222222,\"#7201a8\"],[0.3333333333333333,\"#9c179e\"],[0.4444444444444444,\"#bd3786\"],[0.5555555555555556,\"#d8576b\"],[0.6666666666666666,\"#ed7953\"],[0.7777777777777778,\"#fb9f3a\"],[0.8888888888888888,\"#fdca26\"],[1.0,\"#f0f921\"]]},\"colorway\":[\"#636efa\",\"#EF553B\",\"#00cc96\",\"#ab63fa\",\"#FFA15A\",\"#19d3f3\",\"#FF6692\",\"#B6E880\",\"#FF97FF\",\"#FECB52\"],\"font\":{\"color\":\"#2a3f5f\"},\"geo\":{\"bgcolor\":\"white\",\"lakecolor\":\"white\",\"landcolor\":\"white\",\"showlakes\":true,\"showland\":true,\"subunitcolor\":\"#C8D4E3\"},\"hoverlabel\":{\"align\":\"left\"},\"hovermode\":\"closest\",\"mapbox\":{\"style\":\"light\"},\"paper_bgcolor\":\"white\",\"plot_bgcolor\":\"white\",\"polar\":{\"angularaxis\":{\"gridcolor\":\"#EBF0F8\",\"linecolor\":\"#EBF0F8\",\"ticks\":\"\"},\"bgcolor\":\"white\",\"radialaxis\":{\"gridcolor\":\"#EBF0F8\",\"linecolor\":\"#EBF0F8\",\"ticks\":\"\"}},\"scene\":{\"xaxis\":{\"backgroundcolor\":\"white\",\"gridcolor\":\"#DFE8F3\",\"gridwidth\":2,\"linecolor\":\"#EBF0F8\",\"showbackground\":true,\"ticks\":\"\",\"zerolinecolor\":\"#EBF0F8\"},\"yaxis\":{\"backgroundcolor\":\"white\",\"gridcolor\":\"#DFE8F3\",\"gridwidth\":2,\"linecolor\":\"#EBF0F8\",\"showbackground\":true,\"ticks\":\"\",\"zerolinecolor\":\"#EBF0F8\"},\"zaxis\":{\"backgroundcolor\":\"white\",\"gridcolor\":\"#DFE8F3\",\"gridwidth\":2,\"linecolor\":\"#EBF0F8\",\"showbackground\":true,\"ticks\":\"\",\"zerolinecolor\":\"#EBF0F8\"}},\"shapedefaults\":{\"line\":{\"color\":\"#2a3f5f\"}},\"ternary\":{\"aaxis\":{\"gridcolor\":\"#DFE8F3\",\"linecolor\":\"#A2B1C6\",\"ticks\":\"\"},\"baxis\":{\"gridcolor\":\"#DFE8F3\",\"linecolor\":\"#A2B1C6\",\"ticks\":\"\"},\"bgcolor\":\"white\",\"caxis\":{\"gridcolor\":\"#DFE8F3\",\"linecolor\":\"#A2B1C6\",\"ticks\":\"\"}},\"title\":{\"x\":0.05},\"xaxis\":{\"automargin\":true,\"gridcolor\":\"#EBF0F8\",\"linecolor\":\"#EBF0F8\",\"ticks\":\"\",\"title\":{\"standoff\":15},\"zerolinecolor\":\"#EBF0F8\",\"zerolinewidth\":2},\"yaxis\":{\"automargin\":true,\"gridcolor\":\"#EBF0F8\",\"linecolor\":\"#EBF0F8\",\"ticks\":\"\",\"title\":{\"standoff\":15},\"zerolinecolor\":\"#EBF0F8\",\"zerolinewidth\":2}}},\"legend\":{\"x\":0.75,\"y\":0.9},\"title\":{\"text\":\"Model Training Metrics\"},\"xaxis\":{\"title\":{\"text\":\"Number of epochs\"}},\"yaxis\":{\"title\":{\"text\":\"Metric Value\"}}},                        {\"responsive\": true}                    ).then(function(){\n",
              "                            \n",
              "var gd = document.getElementById('45afd81f-5a8f-4c31-ac3d-d495aa1f912a');\n",
              "var x = new MutationObserver(function (mutations, observer) {{\n",
              "        var display = window.getComputedStyle(gd).display;\n",
              "        if (!display || display === 'none') {{\n",
              "            console.log([gd, 'removed!']);\n",
              "            Plotly.purge(gd);\n",
              "            observer.disconnect();\n",
              "        }}\n",
              "}});\n",
              "\n",
              "// Listen for the removal of the full notebook cells\n",
              "var notebookContainer = gd.closest('#notebook-container');\n",
              "if (notebookContainer) {{\n",
              "    x.observe(notebookContainer, {childList: true});\n",
              "}}\n",
              "\n",
              "// Listen for the clearing of the current output cell\n",
              "var outputEl = gd.closest('.output');\n",
              "if (outputEl) {{\n",
              "    x.observe(outputEl, {childList: true});\n",
              "}}\n",
              "\n",
              "                        })                };                            </script>        </div>\n",
              "</body>\n",
              "</html>"
            ]
          },
          "metadata": {}
        }
      ]
    },
    {
      "cell_type": "markdown",
      "metadata": {
        "id": "__MpwHll6CmX"
      },
      "source": [
        "Model 6 had the best performance on the random sample, with about 74% accuracy."
      ]
    },
    {
      "cell_type": "code",
      "source": [
        "import numpy as np\n",
        "from keras.utils import to_categorical\n",
        "\n",
        "label_preds_prob = model5.predict(r_descriptor_onehot)\n",
        "label_preds = np.argmax(label_preds_prob, axis=1)\n",
        "label_preds_onehot = to_categorical(label_preds)\n",
        "'''label_preds = model4.predict_classes(r_descriptor_onehot)\n",
        "label_preds_onehot = to_categorical(label_preds)'''"
      ],
      "metadata": {
        "id": "h4KaKzEQr0z0",
        "outputId": "f2a00786-fd66-4037-8b26-8fffd4aae819",
        "colab": {
          "base_uri": "https://localhost:8080/",
          "height": 53
        }
      },
      "execution_count": 52,
      "outputs": [
        {
          "output_type": "stream",
          "name": "stdout",
          "text": [
            "3605/3605 [==============================] - 8s 2ms/step\n"
          ]
        },
        {
          "output_type": "execute_result",
          "data": {
            "text/plain": [
              "'label_preds = model4.predict_classes(r_descriptor_onehot)\\nlabel_preds_onehot = to_categorical(label_preds)'"
            ],
            "application/vnd.google.colaboratory.intrinsic+json": {
              "type": "string"
            }
          },
          "metadata": {},
          "execution_count": 52
        }
      ]
    },
    {
      "cell_type": "code",
      "source": [
        "cf_matrix = confusion_matrix(r_agency_cat, label_preds, normalize='true')"
      ],
      "metadata": {
        "id": "tGBNGoH7r0wH"
      },
      "execution_count": 53,
      "outputs": []
    },
    {
      "cell_type": "code",
      "source": [
        "\n",
        "plt.figure(figsize=(13, 13))\n",
        "plt.title('Confusion Matrix: Predictions on Random Sample',\n",
        "          fontdict={'fontsize': 16, 'family': 'serif', 'color': '#58508d', 'weight': 'bold'})\n",
        "\n",
        "sns.heatmap(cf_matrix, annot=True, xticklabels=le.classes_, yticklabels=le.classes_,\n",
        "            fmt='.2%', cmap='Reds')\n",
        "plt.ylabel('True Agency')\n",
        "plt.xlabel('Predicted Agency')"
      ],
      "metadata": {
        "id": "RU7sWQ8Er0m2",
        "outputId": "dc462a91-6f37-4dc1-a76c-d2416d62ef33",
        "colab": {
          "base_uri": "https://localhost:8080/",
          "height": 1000
        }
      },
      "execution_count": 54,
      "outputs": [
        {
          "output_type": "execute_result",
          "data": {
            "text/plain": [
              "Text(0.5, 113.72222222222219, 'Predicted Agency')"
            ]
          },
          "metadata": {},
          "execution_count": 54
        },
        {
          "output_type": "display_data",
          "data": {
            "text/plain": [
              "<Figure size 1300x1300 with 2 Axes>"
            ],
            "image/png": "[encoded data removed]"
          },
          "metadata": {}
        }
      ]
    },
    {
      "cell_type": "markdown",
      "source": [
        "The model correctly classified 95.51% of NYPD calls, 60.36% of HPD calls, and 15.5% of DOT calls, but still mis-classifies many calls in the minority classes."
      ],
      "metadata": {
        "id": "bbczZV-YqDCE"
      }
    },
    {
      "cell_type": "code",
      "source": [
        "from tensorflow.keras.models import Sequential\n",
        "from tensorflow.keras.layers import Dense, Conv2D, MaxPooling2D, Flatten\n",
        "from tensorflow.keras.utils import plot_model\n",
        "\n",
        "\n",
        "# Plotting the model architecture\n",
        "plot_model(model6, to_file='model_plot.png', show_shapes=True, show_layer_names=True)\n"
      ],
      "metadata": {
        "colab": {
          "base_uri": "https://localhost:8080/",
          "height": 422
        },
        "id": "-KwwDc-2_5n5",
        "outputId": "82953c01-ab59-4b09-c4f5-e67c455cd7a1"
      },
      "execution_count": 66,
      "outputs": [
        {
          "output_type": "execute_result",
          "data": {
            "image/png": "[encoded data removed]",
            "text/plain": [
              "<IPython.core.display.Image object>"
            ]
          },
          "metadata": {},
          "execution_count": 66
        }
      ]
    },
    {
      "cell_type": "markdown",
      "metadata": {
        "id": "lB5-ByaiIYCx"
      },
      "source": [
        "# LSTM Model"
      ]
    },
    {
      "cell_type": "markdown",
      "metadata": {
        "id": "cx6z6lqAbCpk"
      },
      "source": [
        "Long Short Term Memory (LSTM) recurrent neural network models are appropriate when the order of the input data matters. They are especially useful when working with natural language data, given that the order of words in a grouping of words can significantly change their meaning. Most of the 311 call descriptions are short, so there may be limited variation in the order of words within them. For perspective, the longest descriptor has been printed below."
      ]
    },
    {
      "cell_type": "code",
      "metadata": {
        "colab": {
          "base_uri": "https://localhost:8080/"
        },
        "id": "CGv2NyIxdIGp",
        "outputId": "db465423-0c89-4523-cefd-6dc509527e03"
      },
      "source": [
        "#create dictionary and update it with each unique descriptor and its length\n",
        "lengths = {}\n",
        "for descriptor in df.descriptor:\n",
        "  if descriptor not in lengths:\n",
        "    lengths[descriptor] = len(descriptor)\n",
        "\n",
        "#Get descriptor with the highest length value and print it\n",
        "for descriptor, length in lengths.items():\n",
        "  if len(descriptor) == max(lengths.values()):\n",
        "    print('Descriptor:', descriptor)\n",
        "    print('Length:', length)"
      ],
      "execution_count": 55,
      "outputs": [
        {
          "output_type": "stream",
          "name": "stdout",
          "text": [
            "Descriptor: safety netting guard rails  damaged inadequate none  stories  feet or less\n",
            "Length: 74\n"
          ]
        }
      ]
    },
    {
      "cell_type": "markdown",
      "metadata": {
        "id": "oXOEWvZagy8B"
      },
      "source": [
        "The longest descriptor is only 74 characters. If there is little variation in the order of descriptor words due to their short length, we may not see much improvement in an LSTM model, but possible improvement is nonetheless worth investigating."
      ]
    },
    {
      "cell_type": "code",
      "metadata": {
        "id": "H0WgHIoydZxu"
      },
      "source": [
        "descriptors = X\n",
        "tokenizer = Tokenizer()\n",
        "\n",
        "tokenizer.fit_on_texts(descriptors)\n",
        "descriptor_onehot = tokenizer.texts_to_sequences(descriptors)\n",
        "\n",
        "#padding sequences ensures all sequences have the same length\n",
        "descriptor_onehot = pad_sequences(descriptor_onehot)"
      ],
      "execution_count": 56,
      "outputs": []
    },
    {
      "cell_type": "code",
      "metadata": {
        "id": "ULk7tZtHg3KR"
      },
      "source": [
        "#split the test and train data again with new descriptor data\n",
        "test, train, label_test, label_train = train_test_split(descriptor_onehot,\n",
        "                                                        agency_onehot,\n",
        "                                                        test_size=.1,\n",
        "                                                        random_state=6)"
      ],
      "execution_count": 57,
      "outputs": []
    },
    {
      "cell_type": "code",
      "metadata": {
        "id": "0O3OwrVGv9JD"
      },
      "source": [
        "#store the shape in an object that will be used in the model's input dimensions\n",
        "train_shape = train.shape"
      ],
      "execution_count": 58,
      "outputs": []
    },
    {
      "cell_type": "code",
      "metadata": {
        "id": "6PfhxhxrseIe",
        "colab": {
          "base_uri": "https://localhost:8080/"
        },
        "outputId": "bf00381d-51c7-4e49-8e93-802d1eced361"
      },
      "source": [
        "#create a model using an LSTM layer, with dropout to prevent overfitting\n",
        "\n",
        "opt = tf.keras.optimizers.SGD(learning_rate=0.01)\n",
        "model = Sequential()\n",
        "model.add(layers.Embedding(input_dim=train_shape[0], output_dim=100))\n",
        "model.add(layers.LSTM(64, dropout=0.1, activation='relu',return_sequences=True))\n",
        "model.add(layers.GRU(14, recurrent_dropout=0.2, dropout=0.2))\n",
        "model.add(Dropout(.2))\n",
        "model.add(layers.Dense(14, activation='softmax'))\n",
        "model.compile(loss='categorical_crossentropy', optimizer=opt, metrics=['accuracy'])"
      ],
      "execution_count": 59,
      "outputs": [
        {
          "output_type": "stream",
          "name": "stderr",
          "text": [
            "WARNING:tensorflow:Layer lstm will not use cuDNN kernels since it doesn't meet the criteria. It will use a generic GPU kernel as fallback when running on GPU.\n",
            "WARNING:tensorflow:Layer gru will not use cuDNN kernels since it doesn't meet the criteria. It will use a generic GPU kernel as fallback when running on GPU.\n"
          ]
        }
      ]
    },
    {
      "cell_type": "markdown",
      "metadata": {
        "id": "5Qy2fvs51KDo"
      },
      "source": [
        "We'll fit the LSTM model with an early stopping callback. This model has a longer training time than those built in the previous section. Implementing early stopping will ensure that the model does not continue to train after its improvement with each epoch becomes insignificant."
      ]
    },
    {
      "cell_type": "code",
      "metadata": {
        "colab": {
          "base_uri": "https://localhost:8080/"
        },
        "id": "-kRHhCxQvRZp",
        "outputId": "c3e1bc57-7c34-46f3-fecc-f95d1b9b239f"
      },
      "source": [
        "from keras.callbacks import ModelCheckpoint, EarlyStopping\n",
        "early_stopping = EarlyStopping(monitor='val_loss', patience=3)\n",
        "history = model.fit(train, label_train, validation_data=(test, label_test),\n",
        "                    epochs=150, batch_size=30, callbacks=[early_stopping])"
      ],
      "execution_count": 60,
      "outputs": [
        {
          "output_type": "stream",
          "name": "stdout",
          "text": [
            "Epoch 1/150\n",
            "382/382 [==============================] - 63s 151ms/step - loss: 2.0632 - accuracy: 0.5107 - val_loss: 1.7374 - val_accuracy: 0.5110\n",
            "Epoch 2/150\n",
            "382/382 [==============================] - 59s 155ms/step - loss: 1.6988 - accuracy: 0.5121 - val_loss: 1.6461 - val_accuracy: 0.5110\n",
            "Epoch 3/150\n",
            "382/382 [==============================] - 59s 155ms/step - loss: 1.6451 - accuracy: 0.5129 - val_loss: 1.6178 - val_accuracy: 0.5110\n",
            "Epoch 4/150\n",
            "382/382 [==============================] - 46s 121ms/step - loss: 1.6227 - accuracy: 0.5130 - val_loss: 1.5989 - val_accuracy: 0.5110\n",
            "Epoch 5/150\n",
            "382/382 [==============================] - 58s 152ms/step - loss: 1.6039 - accuracy: 0.5148 - val_loss: 1.5776 - val_accuracy: 0.5110\n",
            "Epoch 6/150\n",
            "382/382 [==============================] - 59s 155ms/step - loss: 1.5778 - accuracy: 0.5166 - val_loss: 1.5466 - val_accuracy: 0.5110\n",
            "Epoch 7/150\n",
            "382/382 [==============================] - 44s 117ms/step - loss: 1.5350 - accuracy: 0.5254 - val_loss: 1.4979 - val_accuracy: 0.5110\n",
            "Epoch 8/150\n",
            "382/382 [==============================] - 58s 153ms/step - loss: 1.4754 - accuracy: 0.5546 - val_loss: 1.4205 - val_accuracy: 0.5875\n",
            "Epoch 9/150\n",
            "382/382 [==============================] - 48s 126ms/step - loss: 1.3843 - accuracy: 0.5938 - val_loss: 1.3012 - val_accuracy: 0.6256\n",
            "Epoch 10/150\n",
            "382/382 [==============================] - 58s 153ms/step - loss: 1.2602 - accuracy: 0.6217 - val_loss: 1.1388 - val_accuracy: 0.6541\n",
            "Epoch 11/150\n",
            "382/382 [==============================] - 60s 158ms/step - loss: 1.1027 - accuracy: 0.6530 - val_loss: 0.9735 - val_accuracy: 0.6724\n",
            "Epoch 12/150\n",
            "382/382 [==============================] - 59s 156ms/step - loss: 0.9694 - accuracy: 0.6900 - val_loss: 0.8794 - val_accuracy: 0.7013\n",
            "Epoch 13/150\n",
            "382/382 [==============================] - 58s 152ms/step - loss: 0.8857 - accuracy: 0.7113 - val_loss: 0.8164 - val_accuracy: 0.7168\n",
            "Epoch 14/150\n",
            "382/382 [==============================] - 58s 153ms/step - loss: 0.8375 - accuracy: 0.7216 - val_loss: 0.7952 - val_accuracy: 0.7235\n",
            "Epoch 15/150\n",
            "382/382 [==============================] - 60s 157ms/step - loss: 0.8019 - accuracy: 0.7341 - val_loss: 0.7518 - val_accuracy: 0.7207\n",
            "Epoch 16/150\n",
            "382/382 [==============================] - 58s 153ms/step - loss: 0.7685 - accuracy: 0.7395 - val_loss: 0.7223 - val_accuracy: 0.7269\n",
            "Epoch 17/150\n",
            "382/382 [==============================] - 58s 153ms/step - loss: 0.7401 - accuracy: 0.7490 - val_loss: 0.6887 - val_accuracy: 0.7370\n",
            "Epoch 18/150\n",
            "382/382 [==============================] - 59s 154ms/step - loss: 0.7115 - accuracy: 0.7691 - val_loss: 0.6533 - val_accuracy: 0.8090\n",
            "Epoch 19/150\n",
            "382/382 [==============================] - 59s 155ms/step - loss: 0.6832 - accuracy: 0.7769 - val_loss: 0.6318 - val_accuracy: 0.8136\n",
            "Epoch 20/150\n",
            "382/382 [==============================] - 61s 159ms/step - loss: 0.6563 - accuracy: 0.7944 - val_loss: 0.6187 - val_accuracy: 0.7492\n",
            "Epoch 21/150\n",
            "382/382 [==============================] - 58s 152ms/step - loss: 0.6288 - accuracy: 0.8059 - val_loss: 0.5708 - val_accuracy: 0.8362\n",
            "Epoch 22/150\n",
            "382/382 [==============================] - 59s 154ms/step - loss: 0.6076 - accuracy: 0.8182 - val_loss: 0.5421 - val_accuracy: 0.8447\n",
            "Epoch 23/150\n",
            "382/382 [==============================] - 46s 120ms/step - loss: 0.5882 - accuracy: 0.8219 - val_loss: 0.5278 - val_accuracy: 0.8471\n",
            "Epoch 24/150\n",
            "382/382 [==============================] - 58s 153ms/step - loss: 0.5650 - accuracy: 0.8337 - val_loss: 0.5112 - val_accuracy: 0.8577\n",
            "Epoch 25/150\n",
            "382/382 [==============================] - 58s 152ms/step - loss: 0.5475 - accuracy: 0.8387 - val_loss: 0.4907 - val_accuracy: 0.8602\n",
            "Epoch 26/150\n",
            "382/382 [==============================] - 60s 156ms/step - loss: 0.5302 - accuracy: 0.8429 - val_loss: 0.4905 - val_accuracy: 0.8642\n",
            "Epoch 27/150\n",
            "382/382 [==============================] - 58s 152ms/step - loss: 0.5209 - accuracy: 0.8449 - val_loss: 0.4920 - val_accuracy: 0.8673\n",
            "Epoch 28/150\n",
            "382/382 [==============================] - 45s 118ms/step - loss: 0.5064 - accuracy: 0.8485 - val_loss: 0.4488 - val_accuracy: 0.8743\n",
            "Epoch 29/150\n",
            "382/382 [==============================] - 49s 129ms/step - loss: 0.4890 - accuracy: 0.8547 - val_loss: 0.4357 - val_accuracy: 0.8691\n",
            "Epoch 30/150\n",
            "382/382 [==============================] - 46s 120ms/step - loss: 0.4824 - accuracy: 0.8603 - val_loss: 0.4315 - val_accuracy: 0.8738\n",
            "Epoch 31/150\n",
            "382/382 [==============================] - 58s 152ms/step - loss: 0.4657 - accuracy: 0.8658 - val_loss: 0.4129 - val_accuracy: 0.8792\n",
            "Epoch 32/150\n",
            "382/382 [==============================] - 48s 126ms/step - loss: 0.4575 - accuracy: 0.8660 - val_loss: 0.4010 - val_accuracy: 0.8828\n",
            "Epoch 33/150\n",
            "382/382 [==============================] - 44s 114ms/step - loss: 0.4423 - accuracy: 0.8686 - val_loss: 0.3935 - val_accuracy: 0.8863\n",
            "Epoch 34/150\n",
            "382/382 [==============================] - 58s 152ms/step - loss: 0.4323 - accuracy: 0.8749 - val_loss: 0.3988 - val_accuracy: 0.8833\n",
            "Epoch 35/150\n",
            "382/382 [==============================] - 58s 151ms/step - loss: 0.4224 - accuracy: 0.8764 - val_loss: 0.3725 - val_accuracy: 0.8986\n",
            "Epoch 36/150\n",
            "382/382 [==============================] - 59s 155ms/step - loss: 0.4110 - accuracy: 0.8803 - val_loss: 0.3676 - val_accuracy: 0.8949\n",
            "Epoch 37/150\n",
            "382/382 [==============================] - 58s 152ms/step - loss: 0.4028 - accuracy: 0.8843 - val_loss: 0.3514 - val_accuracy: 0.9009\n",
            "Epoch 38/150\n",
            "382/382 [==============================] - 58s 153ms/step - loss: 0.3948 - accuracy: 0.8882 - val_loss: 0.3358 - val_accuracy: 0.9171\n",
            "Epoch 39/150\n",
            "382/382 [==============================] - 58s 152ms/step - loss: 0.3816 - accuracy: 0.8931 - val_loss: 0.3261 - val_accuracy: 0.9138\n",
            "Epoch 40/150\n",
            "382/382 [==============================] - 42s 110ms/step - loss: 0.3699 - accuracy: 0.8964 - val_loss: 0.3330 - val_accuracy: 0.9096\n",
            "Epoch 41/150\n",
            "382/382 [==============================] - 41s 109ms/step - loss: 0.3636 - accuracy: 0.8961 - val_loss: 0.3255 - val_accuracy: 0.9085\n",
            "Epoch 42/150\n",
            "382/382 [==============================] - 57s 150ms/step - loss: 0.3476 - accuracy: 0.9013 - val_loss: 0.2972 - val_accuracy: 0.9249\n",
            "Epoch 43/150\n",
            "382/382 [==============================] - 57s 149ms/step - loss: 0.3477 - accuracy: 0.9033 - val_loss: 0.2908 - val_accuracy: 0.9249\n",
            "Epoch 44/150\n",
            "382/382 [==============================] - 58s 152ms/step - loss: 0.3339 - accuracy: 0.9091 - val_loss: 0.2805 - val_accuracy: 0.9334\n",
            "Epoch 45/150\n",
            "382/382 [==============================] - 58s 152ms/step - loss: 0.3283 - accuracy: 0.9099 - val_loss: 0.2772 - val_accuracy: 0.9349\n",
            "Epoch 46/150\n",
            "382/382 [==============================] - 58s 153ms/step - loss: 0.3196 - accuracy: 0.9094 - val_loss: 0.2839 - val_accuracy: 0.9298\n",
            "Epoch 47/150\n",
            "382/382 [==============================] - 58s 153ms/step - loss: 0.3112 - accuracy: 0.9143 - val_loss: 0.2762 - val_accuracy: 0.9384\n",
            "Epoch 48/150\n",
            "382/382 [==============================] - 45s 117ms/step - loss: 0.3045 - accuracy: 0.9193 - val_loss: 0.2504 - val_accuracy: 0.9457\n",
            "Epoch 49/150\n",
            "382/382 [==============================] - 62s 161ms/step - loss: 0.2956 - accuracy: 0.9202 - val_loss: 0.2447 - val_accuracy: 0.9474\n",
            "Epoch 50/150\n",
            "382/382 [==============================] - 42s 111ms/step - loss: 0.2904 - accuracy: 0.9237 - val_loss: 0.2390 - val_accuracy: 0.9480\n",
            "Epoch 51/150\n",
            "382/382 [==============================] - 42s 109ms/step - loss: 0.2832 - accuracy: 0.9262 - val_loss: 0.2380 - val_accuracy: 0.9476\n",
            "Epoch 52/150\n",
            "382/382 [==============================] - 56s 148ms/step - loss: 0.2747 - accuracy: 0.9288 - val_loss: 0.2290 - val_accuracy: 0.9484\n",
            "Epoch 53/150\n",
            "382/382 [==============================] - 57s 148ms/step - loss: 0.2691 - accuracy: 0.9307 - val_loss: 0.2317 - val_accuracy: 0.9486\n",
            "Epoch 54/150\n",
            "382/382 [==============================] - 56s 148ms/step - loss: 0.2641 - accuracy: 0.9318 - val_loss: 0.2212 - val_accuracy: 0.9556\n",
            "Epoch 55/150\n",
            "382/382 [==============================] - 57s 150ms/step - loss: 0.2605 - accuracy: 0.9316 - val_loss: 0.2263 - val_accuracy: 0.9483\n",
            "Epoch 56/150\n",
            "382/382 [==============================] - 57s 148ms/step - loss: 0.2481 - accuracy: 0.9352 - val_loss: 0.2126 - val_accuracy: 0.9492\n",
            "Epoch 57/150\n",
            "382/382 [==============================] - 57s 149ms/step - loss: 0.2453 - accuracy: 0.9381 - val_loss: 0.2523 - val_accuracy: 0.9280\n",
            "Epoch 58/150\n",
            "382/382 [==============================] - 57s 150ms/step - loss: 0.2412 - accuracy: 0.9360 - val_loss: 0.1970 - val_accuracy: 0.9593\n",
            "Epoch 59/150\n",
            "382/382 [==============================] - 58s 152ms/step - loss: 0.2370 - accuracy: 0.9388 - val_loss: 0.1922 - val_accuracy: 0.9598\n",
            "Epoch 60/150\n",
            "382/382 [==============================] - 57s 150ms/step - loss: 0.2329 - accuracy: 0.9406 - val_loss: 0.1998 - val_accuracy: 0.9555\n",
            "Epoch 61/150\n",
            "382/382 [==============================] - 57s 149ms/step - loss: 0.2274 - accuracy: 0.9435 - val_loss: 0.1907 - val_accuracy: 0.9592\n",
            "Epoch 62/150\n",
            "382/382 [==============================] - 57s 149ms/step - loss: 0.2195 - accuracy: 0.9459 - val_loss: 0.1798 - val_accuracy: 0.9600\n",
            "Epoch 63/150\n",
            "382/382 [==============================] - 57s 149ms/step - loss: 0.2184 - accuracy: 0.9448 - val_loss: 0.1804 - val_accuracy: 0.9606\n",
            "Epoch 64/150\n",
            "382/382 [==============================] - 56s 148ms/step - loss: 0.2135 - accuracy: 0.9467 - val_loss: 0.1853 - val_accuracy: 0.9572\n",
            "Epoch 65/150\n",
            "382/382 [==============================] - 56s 147ms/step - loss: 0.2086 - accuracy: 0.9478 - val_loss: 0.1688 - val_accuracy: 0.9602\n",
            "Epoch 66/150\n",
            "382/382 [==============================] - 56s 148ms/step - loss: 0.2049 - accuracy: 0.9472 - val_loss: 0.1800 - val_accuracy: 0.9607\n",
            "Epoch 67/150\n",
            "382/382 [==============================] - 57s 148ms/step - loss: 0.2030 - accuracy: 0.9480 - val_loss: 0.1685 - val_accuracy: 0.9596\n",
            "Epoch 68/150\n",
            "382/382 [==============================] - 56s 148ms/step - loss: 0.1962 - accuracy: 0.9515 - val_loss: 0.1650 - val_accuracy: 0.9613\n",
            "Epoch 69/150\n",
            "382/382 [==============================] - 41s 107ms/step - loss: 0.1977 - accuracy: 0.9494 - val_loss: 0.1677 - val_accuracy: 0.9616\n",
            "Epoch 70/150\n",
            "382/382 [==============================] - 57s 149ms/step - loss: 0.1914 - accuracy: 0.9525 - val_loss: 0.1625 - val_accuracy: 0.9610\n",
            "Epoch 71/150\n",
            "382/382 [==============================] - 57s 151ms/step - loss: 0.1880 - accuracy: 0.9521 - val_loss: 0.1773 - val_accuracy: 0.9603\n",
            "Epoch 72/150\n",
            "382/382 [==============================] - 58s 153ms/step - loss: 0.1874 - accuracy: 0.9540 - val_loss: 0.1562 - val_accuracy: 0.9626\n",
            "Epoch 73/150\n",
            "382/382 [==============================] - 57s 149ms/step - loss: 0.1811 - accuracy: 0.9545 - val_loss: 0.1701 - val_accuracy: 0.9574\n",
            "Epoch 74/150\n",
            "382/382 [==============================] - 56s 147ms/step - loss: 0.1809 - accuracy: 0.9549 - val_loss: 0.1658 - val_accuracy: 0.9566\n",
            "Epoch 75/150\n",
            "382/382 [==============================] - 56s 147ms/step - loss: 0.1805 - accuracy: 0.9546 - val_loss: 0.1483 - val_accuracy: 0.9625\n",
            "Epoch 76/150\n",
            "382/382 [==============================] - 41s 108ms/step - loss: 0.1743 - accuracy: 0.9552 - val_loss: 0.1458 - val_accuracy: 0.9630\n",
            "Epoch 77/150\n",
            "382/382 [==============================] - 56s 146ms/step - loss: 0.1723 - accuracy: 0.9563 - val_loss: 0.1429 - val_accuracy: 0.9634\n",
            "Epoch 78/150\n",
            "382/382 [==============================] - 56s 147ms/step - loss: 0.1673 - accuracy: 0.9583 - val_loss: 0.1576 - val_accuracy: 0.9586\n",
            "Epoch 79/150\n",
            "382/382 [==============================] - 56s 146ms/step - loss: 0.1715 - accuracy: 0.9579 - val_loss: 0.1404 - val_accuracy: 0.9636\n",
            "Epoch 80/150\n",
            "382/382 [==============================] - 56s 148ms/step - loss: 0.1691 - accuracy: 0.9581 - val_loss: 0.1384 - val_accuracy: 0.9635\n",
            "Epoch 81/150\n",
            "382/382 [==============================] - 56s 146ms/step - loss: 0.1650 - accuracy: 0.9593 - val_loss: 0.1390 - val_accuracy: 0.9634\n",
            "Epoch 82/150\n",
            "382/382 [==============================] - 55s 145ms/step - loss: 0.1573 - accuracy: 0.9623 - val_loss: 0.1356 - val_accuracy: 0.9636\n",
            "Epoch 83/150\n",
            "382/382 [==============================] - 55s 145ms/step - loss: 0.1573 - accuracy: 0.9616 - val_loss: 0.1332 - val_accuracy: 0.9638\n",
            "Epoch 84/150\n",
            "382/382 [==============================] - 39s 103ms/step - loss: 0.1561 - accuracy: 0.9628 - val_loss: 0.1330 - val_accuracy: 0.9637\n",
            "Epoch 85/150\n",
            "382/382 [==============================] - 39s 103ms/step - loss: 0.1496 - accuracy: 0.9629 - val_loss: 0.1328 - val_accuracy: 0.9637\n",
            "Epoch 86/150\n",
            "382/382 [==============================] - 41s 107ms/step - loss: 0.1543 - accuracy: 0.9604 - val_loss: 0.1274 - val_accuracy: 0.9635\n",
            "Epoch 87/150\n",
            "382/382 [==============================] - 39s 102ms/step - loss: 0.1532 - accuracy: 0.9613 - val_loss: 0.1273 - val_accuracy: 0.9721\n",
            "Epoch 88/150\n",
            "382/382 [==============================] - 39s 103ms/step - loss: 0.1494 - accuracy: 0.9607 - val_loss: 0.1259 - val_accuracy: 0.9718\n",
            "Epoch 89/150\n",
            "382/382 [==============================] - 56s 147ms/step - loss: 0.1492 - accuracy: 0.9619 - val_loss: 0.1254 - val_accuracy: 0.9726\n",
            "Epoch 90/150\n",
            "382/382 [==============================] - 39s 103ms/step - loss: 0.1433 - accuracy: 0.9646 - val_loss: 0.1236 - val_accuracy: 0.9640\n",
            "Epoch 91/150\n",
            "382/382 [==============================] - 56s 146ms/step - loss: 0.1380 - accuracy: 0.9634 - val_loss: 0.1206 - val_accuracy: 0.9724\n",
            "Epoch 92/150\n",
            "382/382 [==============================] - 56s 148ms/step - loss: 0.1391 - accuracy: 0.9667 - val_loss: 0.1204 - val_accuracy: 0.9723\n",
            "Epoch 93/150\n",
            "382/382 [==============================] - 56s 146ms/step - loss: 0.1393 - accuracy: 0.9643 - val_loss: 0.1235 - val_accuracy: 0.9642\n",
            "Epoch 94/150\n",
            "382/382 [==============================] - 57s 150ms/step - loss: 0.1401 - accuracy: 0.9637 - val_loss: 0.1168 - val_accuracy: 0.9727\n",
            "Epoch 95/150\n",
            "382/382 [==============================] - 40s 106ms/step - loss: 0.1363 - accuracy: 0.9667 - val_loss: 0.1195 - val_accuracy: 0.9722\n",
            "Epoch 96/150\n",
            "382/382 [==============================] - 58s 151ms/step - loss: 0.1347 - accuracy: 0.9647 - val_loss: 0.1181 - val_accuracy: 0.9725\n",
            "Epoch 97/150\n",
            "382/382 [==============================] - 56s 146ms/step - loss: 0.1321 - accuracy: 0.9665 - val_loss: 0.1179 - val_accuracy: 0.9725\n"
          ]
        }
      ]
    },
    {
      "cell_type": "markdown",
      "metadata": {
        "id": "eZLVzrZW2yco"
      },
      "source": [
        "With the early stopping callback, the model stopped training after 91 epochs. Below, we use modified code from the `plot_acc_loss()` function to visualize the model's learning history."
      ]
    },
    {
      "cell_type": "code",
      "source": [
        "import plotly.graph_objects as go\n",
        "\n",
        "# Assuming 'history' is your training history object\n",
        "\n",
        "# Create subplots\n",
        "fig = go.Figure()\n",
        "\n",
        "# Define colors\n",
        "color_accuracy_train = '#D8A7B1'\n",
        "color_accuracy_val = '#05234C'\n",
        "color_loss_train = '#D8A7B1'\n",
        "color_loss_val = '#05234C'\n",
        "\n",
        "# Plot Accuracy with dotted line\n",
        "fig.add_trace(go.Scatter(x=list(range(1, len(history.history['accuracy']) + 1)),\n",
        "                         y=history.history['accuracy'],\n",
        "                         mode='lines',\n",
        "                         name='Train Accuracy',\n",
        "                         line=dict(color=color_accuracy_train, width=3, dash='dot')))\n",
        "\n",
        "fig.add_trace(go.Scatter(x=list(range(1, len(history.history['val_accuracy']) + 1)),\n",
        "                         y=history.history['val_accuracy'],\n",
        "                         mode='lines',\n",
        "                         name='Validation Accuracy',\n",
        "                         line=dict(color=color_accuracy_val, width=3, dash='dot')))  # Dotted line for validation accuracy\n",
        "\n",
        "# Set layout for Accuracy subplot\n",
        "fig.update_layout(title='Model Accuracy',\n",
        "                  xaxis=dict(title='Number of epochs'),\n",
        "                  yaxis=dict(title='Accuracy'),\n",
        "                  legend=dict(x=0, y=1, traceorder='normal', orientation='h'))\n",
        "\n",
        "# Plot Loss\n",
        "fig.add_trace(go.Scatter(x=list(range(1, len(history.history['loss']) + 1)),\n",
        "                         y=history.history['loss'],\n",
        "                         mode='lines',\n",
        "                         name='Train Loss',\n",
        "                         line=dict(color=color_loss_train, width=3)))\n",
        "\n",
        "fig.add_trace(go.Scatter(x=list(range(1, len(history.history['val_loss']) + 1)),\n",
        "                         y=history.history['val_loss'],\n",
        "                         mode='lines',\n",
        "                         name='Validation Loss',\n",
        "                         line=dict(color=color_loss_val, width=3)))\n",
        "\n",
        "# Set layout for Loss subplot\n",
        "fig.update_layout(title='Model Evaluation Plot',\n",
        "                  xaxis=dict(title='Number of epochs'),\n",
        "                  yaxis=dict(title='Loss/Accuracy'),\n",
        "                  legend=dict(x=0.75, y=0.9))\n",
        "\n",
        "fig.show()\n"
      ],
      "metadata": {
        "colab": {
          "base_uri": "https://localhost:8080/",
          "height": 542
        },
        "id": "EUxWrI6__Sqi",
        "outputId": "a2962168-8c1f-4b42-a417-181a99c9beaf"
      },
      "execution_count": 61,
      "outputs": [
        {
          "data": {
            "text/html": [
              "<html>\n",
              "<head><meta charset=\"utf-8\" /></head>\n",
              "<body>\n",
              "    <div>            <script src=\"https://cdnjs.cloudflare.com/ajax/libs/mathjax/2.7.5/MathJax.js?config=TeX-AMS-MML_SVG\"></script><script type=\"text/javascript\">if (window.MathJax && window.MathJax.Hub && window.MathJax.Hub.Config) {window.MathJax.Hub.Config({SVG: {font: \"STIX-Web\"}});}</script>                <script type=\"text/javascript\">window.PlotlyConfig = {MathJaxConfig: 'local'};</script>\n",
              "        <script charset=\"utf-8\" src=\"https://cdn.plot.ly/plotly-2.24.1.min.js\"></script>                <div id=\"67ad3cbf-63ee-4104-ba96-7ab23b434620\" class=\"plotly-graph-div\" style=\"height:525px; width:100%;\"></div>            <script type=\"text/javascript\">                                    window.PLOTLYENV=window.PLOTLYENV || {};                                    if (document.getElementById(\"67ad3cbf-63ee-4104-ba96-7ab23b434620\")) {                    Plotly.newPlot(                        \"67ad3cbf-63ee-4104-ba96-7ab23b434620\",                        [{\"line\":{\"color\":\"#D8A7B1\",\"dash\":\"dot\",\"width\":3},\"mode\":\"lines\",\"name\":\"Train Accuracy\",\"x\":[1,2,3,4,5,6,7,8,9,10,11,12,13,14,15,16,17,18,19,20,21,22,23,24,25,26,27,28,29,30,31,32,33,34,35,36,37,38,39,40,41,42,43,44,45,46,47,48,49,50,51,52,53,54,55,56,57,58,59,60,61,62,63,64,65,66,67,68,69,70,71,72,73,74,75,76,77,78,79,80,81,82,83,84,85,86,87,88,89,90,91,92,93,94,95,96,97],\"y\":[0.5107330083847046,0.5121291279792786,0.5129144787788391,0.5130017399787903,0.5148342251777649,0.5165793895721436,0.5253926515579224,0.5546247959136963,0.5938045382499695,0.6217277646064758,0.6529668569564819,0.6899650692939758,0.7112565636634827,0.7215532064437866,0.7341187000274658,0.7395287752151489,0.7489528656005859,0.7691099643707275,0.7768760919570923,0.7944153547286987,0.8059336543083191,0.8182373642921448,0.8219022750854492,0.8336823582649231,0.8386561870574951,0.8429319262504578,0.8449389338493347,0.848516583442688,0.8547120690345764,0.8602966666221619,0.8657940626144409,0.8659685850143433,0.8685863614082336,0.8748691082000732,0.8764398097991943,0.8802792429924011,0.8842931985855103,0.8882198929786682,0.8931064605712891,0.8964223265647888,0.8960732817649841,0.9013088941574097,0.9033159017562866,0.9090750217437744,0.9099476337432861,0.9094240665435791,0.9143106341362,0.919284462928772,0.9202443361282349,0.923734724521637,0.9261780381202698,0.9287958145141602,0.9307155609130859,0.9318498969078064,0.9315881133079529,0.9351658225059509,0.938132643699646,0.9359511137008667,0.9388307332992554,0.940575897693634,0.9434555172920227,0.9458987712860107,0.9447643756866455,0.9466841220855713,0.9478185176849365,0.9472076892852783,0.9479930400848389,0.951483428478241,0.9493891596794128,0.952530562877655,0.9520942568778992,0.9540139436721802,0.954450249671936,0.9548865556716919,0.9546247720718384,0.9552356004714966,0.9562827348709106,0.9582896828651428,0.957853376865387,0.9581151604652405,0.9593368172645569,0.962303638458252,0.9616056084632874,0.962827205657959,0.9629144668579102,0.960383951663971,0.9613438248634338,0.9607329964637756,0.9618673920631409,0.9645724296569824,0.9634380340576172,0.9666666388511658,0.9643106460571289,0.9636998176574707,0.9666666388511658,0.9646596908569336,0.9664921760559082],\"type\":\"scatter\"},{\"line\":{\"color\":\"#05234C\",\"dash\":\"dot\",\"width\":3},\"mode\":\"lines\",\"name\":\"Validation Accuracy\",\"x\":[1,2,3,4,5,6,7,8,9,10,11,12,13,14,15,16,17,18,19,20,21,22,23,24,25,26,27,28,29,30,31,32,33,34,35,36,37,38,39,40,41,42,43,44,45,46,47,48,49,50,51,52,53,54,55,56,57,58,59,60,61,62,63,64,65,66,67,68,69,70,71,72,73,74,75,76,77,78,79,80,81,82,83,84,85,86,87,88,89,90,91,92,93,94,95,96,97],\"y\":[0.5109665393829346,0.5109665393829346,0.5109665393829346,0.5109665393829346,0.5109665393829346,0.5109665393829346,0.5109665393829346,0.5874704122543335,0.6256448030471802,0.6540647149085999,0.6723519563674927,0.7012566328048706,0.7168483138084412,0.723509669303894,0.7206977605819702,0.7269421815872192,0.7370360493659973,0.8089632987976074,0.813578724861145,0.7491855025291443,0.8361808061599731,0.844694197177887,0.8470988869667053,0.8577163219451904,0.860188901424408,0.8641740679740906,0.8673447370529175,0.8743358254432678,0.8690513372421265,0.8738024830818176,0.8792130351066589,0.8828103542327881,0.8862525820732117,0.8832660913467407,0.8986250758171082,0.8949307799339294,0.9008843302726746,0.9170577526092529,0.9138191938400269,0.9095625281333923,0.9084765315055847,0.924902081489563,0.9248729944229126,0.9333669543266296,0.9348504543304443,0.9297890067100525,0.9383896589279175,0.9457297325134277,0.9473587274551392,0.9479889869689941,0.9475526213645935,0.94842529296875,0.9485610723495483,0.9555714726448059,0.9483283758163452,0.9492397904396057,0.9280242919921875,0.9592657685279846,0.9598475694656372,0.9554551243782043,0.9592366814613342,0.9600220918655396,0.9606232643127441,0.9572198987007141,0.9601675271987915,0.9606911540031433,0.9595663547515869,0.9612632393836975,0.9615735411643982,0.9609917402267456,0.9603130221366882,0.9625722169876099,0.9573749899864197,0.9566478133201599,0.9624558687210083,0.9629891514778137,0.963415801525116,0.9586161375045776,0.9636000394821167,0.9635321497917175,0.9633867144584656,0.9636097550392151,0.9638230800628662,0.9636873006820679,0.9636582136154175,0.9634643197059631,0.9720843434333801,0.9717546701431274,0.9726467132568359,0.9640364050865173,0.9723849296569824,0.9722588658332825,0.9641624093055725,0.9726855158805847,0.9722394347190857,0.972540020942688,0.972520649433136],\"type\":\"scatter\"},{\"line\":{\"color\":\"#D8A7B1\",\"width\":3},\"mode\":\"lines\",\"name\":\"Train Loss\",\"x\":[1,2,3,4,5,6,7,8,9,10,11,12,13,14,15,16,17,18,19,20,21,22,23,24,25,26,27,28,29,30,31,32,33,34,35,36,37,38,39,40,41,42,43,44,45,46,47,48,49,50,51,52,53,54,55,56,57,58,59,60,61,62,63,64,65,66,67,68,69,70,71,72,73,74,75,76,77,78,79,80,81,82,83,84,85,86,87,88,89,90,91,92,93,94,95,96,97],\"y\":[2.063159227371216,1.698839545249939,1.6451455354690552,1.6227288246154785,1.6038591861724854,1.5778353214263916,1.5350209474563599,1.4754054546356201,1.384263277053833,1.2602046728134155,1.1026793718338013,0.969356119632721,0.8856796622276306,0.8375343680381775,0.8018633723258972,0.7685441374778748,0.7400917410850525,0.7115120887756348,0.6832263469696045,0.6562798023223877,0.628769040107727,0.6075794696807861,0.5882364511489868,0.5650157332420349,0.5475391149520874,0.53020179271698,0.5209343433380127,0.5063814520835876,0.4890314042568207,0.48235800862312317,0.46568042039871216,0.45745202898979187,0.44227588176727295,0.43231919407844543,0.4223603308200836,0.41100192070007324,0.4027588367462158,0.3948249816894531,0.38157808780670166,0.36985546350479126,0.36362993717193604,0.34755590558052063,0.34769004583358765,0.3339441418647766,0.32826122641563416,0.3195914030075073,0.3111702799797058,0.3044620454311371,0.2955824136734009,0.2904205322265625,0.28324902057647705,0.27466630935668945,0.2690547704696655,0.264139860868454,0.26049262285232544,0.24813078343868256,0.2453298419713974,0.24123692512512207,0.23704993724822998,0.23288515210151672,0.22735874354839325,0.2194562405347824,0.21836231648921967,0.2135498970746994,0.2085697203874588,0.20492182672023773,0.20297713577747345,0.1962386518716812,0.19767998158931732,0.19143477082252502,0.18802796304225922,0.1873503029346466,0.18112412095069885,0.18086986243724823,0.18054552376270294,0.17428509891033173,0.1722700148820877,0.1673429310321808,0.17148566246032715,0.16906091570854187,0.1650165468454361,0.15733693540096283,0.15730224549770355,0.15610827505588531,0.14957040548324585,0.1542750597000122,0.15319573879241943,0.14938199520111084,0.14920265972614288,0.14328229427337646,0.137963205575943,0.13912934064865112,0.13932867348194122,0.14013846218585968,0.13631440699100494,0.13470067083835602,0.1321198046207428],\"type\":\"scatter\"},{\"line\":{\"color\":\"#05234C\",\"width\":3},\"mode\":\"lines\",\"name\":\"Validation Loss\",\"x\":[1,2,3,4,5,6,7,8,9,10,11,12,13,14,15,16,17,18,19,20,21,22,23,24,25,26,27,28,29,30,31,32,33,34,35,36,37,38,39,40,41,42,43,44,45,46,47,48,49,50,51,52,53,54,55,56,57,58,59,60,61,62,63,64,65,66,67,68,69,70,71,72,73,74,75,76,77,78,79,80,81,82,83,84,85,86,87,88,89,90,91,92,93,94,95,96,97],\"y\":[1.7374430894851685,1.6461403369903564,1.617773413658142,1.598893404006958,1.5775586366653442,1.546554684638977,1.4979459047317505,1.4205082654953003,1.3012192249298096,1.138827919960022,0.9734667539596558,0.8794288635253906,0.8164437413215637,0.7952037453651428,0.7518385052680969,0.7223304510116577,0.6886954307556152,0.6532970666885376,0.6318148970603943,0.6186587810516357,0.5707894563674927,0.5420666337013245,0.5278039574623108,0.5111531615257263,0.49066048860549927,0.4904990792274475,0.4919958710670471,0.4487619698047638,0.4357084035873413,0.4314597547054291,0.41285109519958496,0.40099042654037476,0.3934521973133087,0.39882543683052063,0.3725489675998688,0.36762961745262146,0.3514028489589691,0.335779070854187,0.32610127329826355,0.3329702913761139,0.32548847794532776,0.29722651839256287,0.29077720642089844,0.28052470088005066,0.2772192060947418,0.2838956415653229,0.2761640250682831,0.25039422512054443,0.2446518987417221,0.23902307450771332,0.237962007522583,0.2290305495262146,0.23174330592155457,0.22116702795028687,0.2262706309556961,0.21255217492580414,0.25234749913215637,0.196989506483078,0.1922053098678589,0.19979611039161682,0.19067548215389252,0.17981180548667908,0.18040546774864197,0.18527796864509583,0.16875872015953064,0.17995409667491913,0.16853070259094238,0.16502618789672852,0.167720228433609,0.16254504024982452,0.17730015516281128,0.1562201976776123,0.17012661695480347,0.16580185294151306,0.14828217029571533,0.1458207368850708,0.14291246235370636,0.15760521590709686,0.14037959277629852,0.13843335211277008,0.1390175074338913,0.13564100861549377,0.1332341581583023,0.1329718381166458,0.13278406858444214,0.1273651272058487,0.12732060253620148,0.12588995695114136,0.12537628412246704,0.12356661260128021,0.12056399136781693,0.12038139998912811,0.12346968054771423,0.11680766195058823,0.11952019482851028,0.11814117431640625,0.11786916106939316],\"type\":\"scatter\"}],                        {\"template\":{\"data\":{\"histogram2dcontour\":[{\"type\":\"histogram2dcontour\",\"colorbar\":{\"outlinewidth\":0,\"ticks\":\"\"},\"colorscale\":[[0.0,\"#0d0887\"],[0.1111111111111111,\"#46039f\"],[0.2222222222222222,\"#7201a8\"],[0.3333333333333333,\"#9c179e\"],[0.4444444444444444,\"#bd3786\"],[0.5555555555555556,\"#d8576b\"],[0.6666666666666666,\"#ed7953\"],[0.7777777777777778,\"#fb9f3a\"],[0.8888888888888888,\"#fdca26\"],[1.0,\"#f0f921\"]]}],\"choropleth\":[{\"type\":\"choropleth\",\"colorbar\":{\"outlinewidth\":0,\"ticks\":\"\"}}],\"histogram2d\":[{\"type\":\"histogram2d\",\"colorbar\":{\"outlinewidth\":0,\"ticks\":\"\"},\"colorscale\":[[0.0,\"#0d0887\"],[0.1111111111111111,\"#46039f\"],[0.2222222222222222,\"#7201a8\"],[0.3333333333333333,\"#9c179e\"],[0.4444444444444444,\"#bd3786\"],[0.5555555555555556,\"#d8576b\"],[0.6666666666666666,\"#ed7953\"],[0.7777777777777778,\"#fb9f3a\"],[0.8888888888888888,\"#fdca26\"],[1.0,\"#f0f921\"]]}],\"heatmap\":[{\"type\":\"heatmap\",\"colorbar\":{\"outlinewidth\":0,\"ticks\":\"\"},\"colorscale\":[[0.0,\"#0d0887\"],[0.1111111111111111,\"#46039f\"],[0.2222222222222222,\"#7201a8\"],[0.3333333333333333,\"#9c179e\"],[0.4444444444444444,\"#bd3786\"],[0.5555555555555556,\"#d8576b\"],[0.6666666666666666,\"#ed7953\"],[0.7777777777777778,\"#fb9f3a\"],[0.8888888888888888,\"#fdca26\"],[1.0,\"#f0f921\"]]}],\"heatmapgl\":[{\"type\":\"heatmapgl\",\"colorbar\":{\"outlinewidth\":0,\"ticks\":\"\"},\"colorscale\":[[0.0,\"#0d0887\"],[0.1111111111111111,\"#46039f\"],[0.2222222222222222,\"#7201a8\"],[0.3333333333333333,\"#9c179e\"],[0.4444444444444444,\"#bd3786\"],[0.5555555555555556,\"#d8576b\"],[0.6666666666666666,\"#ed7953\"],[0.7777777777777778,\"#fb9f3a\"],[0.8888888888888888,\"#fdca26\"],[1.0,\"#f0f921\"]]}],\"contourcarpet\":[{\"type\":\"contourcarpet\",\"colorbar\":{\"outlinewidth\":0,\"ticks\":\"\"}}],\"contour\":[{\"type\":\"contour\",\"colorbar\":{\"outlinewidth\":0,\"ticks\":\"\"},\"colorscale\":[[0.0,\"#0d0887\"],[0.1111111111111111,\"#46039f\"],[0.2222222222222222,\"#7201a8\"],[0.3333333333333333,\"#9c179e\"],[0.4444444444444444,\"#bd3786\"],[0.5555555555555556,\"#d8576b\"],[0.6666666666666666,\"#ed7953\"],[0.7777777777777778,\"#fb9f3a\"],[0.8888888888888888,\"#fdca26\"],[1.0,\"#f0f921\"]]}],\"surface\":[{\"type\":\"surface\",\"colorbar\":{\"outlinewidth\":0,\"ticks\":\"\"},\"colorscale\":[[0.0,\"#0d0887\"],[0.1111111111111111,\"#46039f\"],[0.2222222222222222,\"#7201a8\"],[0.3333333333333333,\"#9c179e\"],[0.4444444444444444,\"#bd3786\"],[0.5555555555555556,\"#d8576b\"],[0.6666666666666666,\"#ed7953\"],[0.7777777777777778,\"#fb9f3a\"],[0.8888888888888888,\"#fdca26\"],[1.0,\"#f0f921\"]]}],\"mesh3d\":[{\"type\":\"mesh3d\",\"colorbar\":{\"outlinewidth\":0,\"ticks\":\"\"}}],\"scatter\":[{\"fillpattern\":{\"fillmode\":\"overlay\",\"size\":10,\"solidity\":0.2},\"type\":\"scatter\"}],\"parcoords\":[{\"type\":\"parcoords\",\"line\":{\"colorbar\":{\"outlinewidth\":0,\"ticks\":\"\"}}}],\"scatterpolargl\":[{\"type\":\"scatterpolargl\",\"marker\":{\"colorbar\":{\"outlinewidth\":0,\"ticks\":\"\"}}}],\"bar\":[{\"error_x\":{\"color\":\"#2a3f5f\"},\"error_y\":{\"color\":\"#2a3f5f\"},\"marker\":{\"line\":{\"color\":\"#E5ECF6\",\"width\":0.5},\"pattern\":{\"fillmode\":\"overlay\",\"size\":10,\"solidity\":0.2}},\"type\":\"bar\"}],\"scattergeo\":[{\"type\":\"scattergeo\",\"marker\":{\"colorbar\":{\"outlinewidth\":0,\"ticks\":\"\"}}}],\"scatterpolar\":[{\"type\":\"scatterpolar\",\"marker\":{\"colorbar\":{\"outlinewidth\":0,\"ticks\":\"\"}}}],\"histogram\":[{\"marker\":{\"pattern\":{\"fillmode\":\"overlay\",\"size\":10,\"solidity\":0.2}},\"type\":\"histogram\"}],\"scattergl\":[{\"type\":\"scattergl\",\"marker\":{\"colorbar\":{\"outlinewidth\":0,\"ticks\":\"\"}}}],\"scatter3d\":[{\"type\":\"scatter3d\",\"line\":{\"colorbar\":{\"outlinewidth\":0,\"ticks\":\"\"}},\"marker\":{\"colorbar\":{\"outlinewidth\":0,\"ticks\":\"\"}}}],\"scattermapbox\":[{\"type\":\"scattermapbox\",\"marker\":{\"colorbar\":{\"outlinewidth\":0,\"ticks\":\"\"}}}],\"scatterternary\":[{\"type\":\"scatterternary\",\"marker\":{\"colorbar\":{\"outlinewidth\":0,\"ticks\":\"\"}}}],\"scattercarpet\":[{\"type\":\"scattercarpet\",\"marker\":{\"colorbar\":{\"outlinewidth\":0,\"ticks\":\"\"}}}],\"carpet\":[{\"aaxis\":{\"endlinecolor\":\"#2a3f5f\",\"gridcolor\":\"white\",\"linecolor\":\"white\",\"minorgridcolor\":\"white\",\"startlinecolor\":\"#2a3f5f\"},\"baxis\":{\"endlinecolor\":\"#2a3f5f\",\"gridcolor\":\"white\",\"linecolor\":\"white\",\"minorgridcolor\":\"white\",\"startlinecolor\":\"#2a3f5f\"},\"type\":\"carpet\"}],\"table\":[{\"cells\":{\"fill\":{\"color\":\"#EBF0F8\"},\"line\":{\"color\":\"white\"}},\"header\":{\"fill\":{\"color\":\"#C8D4E3\"},\"line\":{\"color\":\"white\"}},\"type\":\"table\"}],\"barpolar\":[{\"marker\":{\"line\":{\"color\":\"#E5ECF6\",\"width\":0.5},\"pattern\":{\"fillmode\":\"overlay\",\"size\":10,\"solidity\":0.2}},\"type\":\"barpolar\"}],\"pie\":[{\"automargin\":true,\"type\":\"pie\"}]},\"layout\":{\"autotypenumbers\":\"strict\",\"colorway\":[\"#636efa\",\"#EF553B\",\"#00cc96\",\"#ab63fa\",\"#FFA15A\",\"#19d3f3\",\"#FF6692\",\"#B6E880\",\"#FF97FF\",\"#FECB52\"],\"font\":{\"color\":\"#2a3f5f\"},\"hovermode\":\"closest\",\"hoverlabel\":{\"align\":\"left\"},\"paper_bgcolor\":\"white\",\"plot_bgcolor\":\"#E5ECF6\",\"polar\":{\"bgcolor\":\"#E5ECF6\",\"angularaxis\":{\"gridcolor\":\"white\",\"linecolor\":\"white\",\"ticks\":\"\"},\"radialaxis\":{\"gridcolor\":\"white\",\"linecolor\":\"white\",\"ticks\":\"\"}},\"ternary\":{\"bgcolor\":\"#E5ECF6\",\"aaxis\":{\"gridcolor\":\"white\",\"linecolor\":\"white\",\"ticks\":\"\"},\"baxis\":{\"gridcolor\":\"white\",\"linecolor\":\"white\",\"ticks\":\"\"},\"caxis\":{\"gridcolor\":\"white\",\"linecolor\":\"white\",\"ticks\":\"\"}},\"coloraxis\":{\"colorbar\":{\"outlinewidth\":0,\"ticks\":\"\"}},\"colorscale\":{\"sequential\":[[0.0,\"#0d0887\"],[0.1111111111111111,\"#46039f\"],[0.2222222222222222,\"#7201a8\"],[0.3333333333333333,\"#9c179e\"],[0.4444444444444444,\"#bd3786\"],[0.5555555555555556,\"#d8576b\"],[0.6666666666666666,\"#ed7953\"],[0.7777777777777778,\"#fb9f3a\"],[0.8888888888888888,\"#fdca26\"],[1.0,\"#f0f921\"]],\"sequentialminus\":[[0.0,\"#0d0887\"],[0.1111111111111111,\"#46039f\"],[0.2222222222222222,\"#7201a8\"],[0.3333333333333333,\"#9c179e\"],[0.4444444444444444,\"#bd3786\"],[0.5555555555555556,\"#d8576b\"],[0.6666666666666666,\"#ed7953\"],[0.7777777777777778,\"#fb9f3a\"],[0.8888888888888888,\"#fdca26\"],[1.0,\"#f0f921\"]],\"diverging\":[[0,\"#8e0152\"],[0.1,\"#c51b7d\"],[0.2,\"#de77ae\"],[0.3,\"#f1b6da\"],[0.4,\"#fde0ef\"],[0.5,\"#f7f7f7\"],[0.6,\"#e6f5d0\"],[0.7,\"#b8e186\"],[0.8,\"#7fbc41\"],[0.9,\"#4d9221\"],[1,\"#276419\"]]},\"xaxis\":{\"gridcolor\":\"white\",\"linecolor\":\"white\",\"ticks\":\"\",\"title\":{\"standoff\":15},\"zerolinecolor\":\"white\",\"automargin\":true,\"zerolinewidth\":2},\"yaxis\":{\"gridcolor\":\"white\",\"linecolor\":\"white\",\"ticks\":\"\",\"title\":{\"standoff\":15},\"zerolinecolor\":\"white\",\"automargin\":true,\"zerolinewidth\":2},\"scene\":{\"xaxis\":{\"backgroundcolor\":\"#E5ECF6\",\"gridcolor\":\"white\",\"linecolor\":\"white\",\"showbackground\":true,\"ticks\":\"\",\"zerolinecolor\":\"white\",\"gridwidth\":2},\"yaxis\":{\"backgroundcolor\":\"#E5ECF6\",\"gridcolor\":\"white\",\"linecolor\":\"white\",\"showbackground\":true,\"ticks\":\"\",\"zerolinecolor\":\"white\",\"gridwidth\":2},\"zaxis\":{\"backgroundcolor\":\"#E5ECF6\",\"gridcolor\":\"white\",\"linecolor\":\"white\",\"showbackground\":true,\"ticks\":\"\",\"zerolinecolor\":\"white\",\"gridwidth\":2}},\"shapedefaults\":{\"line\":{\"color\":\"#2a3f5f\"}},\"annotationdefaults\":{\"arrowcolor\":\"#2a3f5f\",\"arrowhead\":0,\"arrowwidth\":1},\"geo\":{\"bgcolor\":\"white\",\"landcolor\":\"#E5ECF6\",\"subunitcolor\":\"white\",\"showland\":true,\"showlakes\":true,\"lakecolor\":\"white\"},\"title\":{\"x\":0.05},\"mapbox\":{\"style\":\"light\"}}},\"legend\":{\"x\":0.75,\"y\":0.9,\"traceorder\":\"normal\",\"orientation\":\"h\"},\"title\":{\"text\":\"Model Evaluation Plot\"},\"xaxis\":{\"title\":{\"text\":\"Number of epochs\"}},\"yaxis\":{\"title\":{\"text\":\"Loss\\u002fAccuracy\"}}},                        {\"responsive\": true}                    ).then(function(){\n",
              "                            \n",
              "var gd = document.getElementById('67ad3cbf-63ee-4104-ba96-7ab23b434620');\n",
              "var x = new MutationObserver(function (mutations, observer) {{\n",
              "        var display = window.getComputedStyle(gd).display;\n",
              "        if (!display || display === 'none') {{\n",
              "            console.log([gd, 'removed!']);\n",
              "            Plotly.purge(gd);\n",
              "            observer.disconnect();\n",
              "        }}\n",
              "}});\n",
              "\n",
              "// Listen for the removal of the full notebook cells\n",
              "var notebookContainer = gd.closest('#notebook-container');\n",
              "if (notebookContainer) {{\n",
              "    x.observe(notebookContainer, {childList: true});\n",
              "}}\n",
              "\n",
              "// Listen for the clearing of the current output cell\n",
              "var outputEl = gd.closest('.output');\n",
              "if (outputEl) {{\n",
              "    x.observe(outputEl, {childList: true});\n",
              "}}\n",
              "\n",
              "                        })                };                            </script>        </div>\n",
              "</body>\n",
              "</html>"
            ]
          },
          "metadata": {},
          "output_type": "display_data"
        }
      ]
    },
    {
      "cell_type": "markdown",
      "metadata": {
        "id": "6xPrV2ul3dH9"
      },
      "source": [
        "The model's performance on the validation data improved steadily alongside the training data across the 91 epochs. We'll now evaluate its accuracy on the random subset."
      ]
    },
    {
      "cell_type": "code",
      "metadata": {
        "id": "sUtwxrgbrKuT"
      },
      "source": [
        "#create random sample test data with padded sequences\n",
        "tokenizer.fit_on_texts(r_descriptors)\n",
        "LSTM_r_descriptor_onehot = tokenizer.texts_to_sequences(r_descriptors)\n",
        "LSTM_r_descriptor_onehot = pad_sequences(LSTM_r_descriptor_onehot)"
      ],
      "execution_count": 62,
      "outputs": []
    },
    {
      "cell_type": "code",
      "metadata": {
        "colab": {
          "base_uri": "https://localhost:8080/"
        },
        "id": "4Kpfl3z6w6tU",
        "outputId": "d3a395c8-fe66-4264-d13b-e3b6674ddd98"
      },
      "source": [
        "#evaluate accuracy\n",
        "LSTM_random_results = model.evaluate(LSTM_r_descriptor_onehot, r_agency_onehot, batch_size=30)"
      ],
      "execution_count": 63,
      "outputs": [
        {
          "output_type": "stream",
          "name": "stdout",
          "text": [
            "3845/3845 [==============================] - 36s 9ms/step - loss: 1.5501 - accuracy: 0.7390\n"
          ]
        }
      ]
    },
    {
      "cell_type": "markdown",
      "metadata": {
        "id": "teWJLk-I4DF_"
      },
      "source": [
        "In terms of accuracy scores on the random sample, the performance of the fourth model still exceeds that of the LSTM model. Different parameters could be tested on the LSTM model, but this process would be costly given the substantial increase in training time."
      ]
    },
    {
      "cell_type": "markdown",
      "metadata": {
        "id": "nQCkQBCrLMhL"
      },
      "source": [
        "# Interpreting the Results\n",
        "With 94% accuracy on the resampled test data, and 66.18% accuracy on the random subset, the fourth sequential model had the best overall performance.\n",
        "\n",
        "# Conclusion and Recommendations\n",
        "- Similar classification models can be developed to connect individuals with non-emergency government services by directing them to the appropriate responding agency. This potential application would require training on a larger, more varied set of descriptors. The evaluation of future models may also consider metrics other than accuracy to achieve a fuller understanding of their performance.\n",
        "- Agencies should be attentive to how call volume tends to change based on certain temporal, geographic, and environmental factors. Many of these changes are intuitively expected: widespread tree damage following major weather events, noise calls peaking in the middle of the night, and overall call volume remaining consistently high in the most densely populated borough, Manhattan.\n",
        "- Given that the majority of non-emergency requests are responded to by the same agency responsible for emergency requests, local stakeholders may wish to evaluate whether the current division of labor in handling 311 calls is optimal for meeting the needs of city residents. Amid growing concerns that law enforcement officers are over-utilized for intervention in non-emergency situations, this could be a fruitful area for further inquiry.\n"
      ]
    }
  ]
}